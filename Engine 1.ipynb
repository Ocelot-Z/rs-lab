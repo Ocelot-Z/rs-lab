{
 "cells": [
  {
   "cell_type": "code",
   "execution_count": 1,
   "metadata": {},
   "outputs": [
    {
     "name": "stdout",
     "output_type": "stream",
     "text": [
      "Requirement already satisfied: fastapi in c:\\python\\lib\\site-packages (0.110.2)\n",
      "Requirement already satisfied: pydantic in c:\\python\\lib\\site-packages (2.7.0)\n",
      "Requirement already satisfied: toml in c:\\python\\lib\\site-packages (0.10.2)\n",
      "Requirement already satisfied: starlette<0.38.0,>=0.37.2 in c:\\python\\lib\\site-packages (from fastapi) (0.37.2)\n",
      "Requirement already satisfied: typing-extensions>=4.8.0 in c:\\python\\lib\\site-packages (from fastapi) (4.11.0)\n",
      "Requirement already satisfied: annotated-types>=0.4.0 in c:\\python\\lib\\site-packages (from pydantic) (0.6.0)\n",
      "Requirement already satisfied: pydantic-core==2.18.1 in c:\\python\\lib\\site-packages (from pydantic) (2.18.1)\n",
      "Requirement already satisfied: anyio<5,>=3.4.0 in c:\\python\\lib\\site-packages (from starlette<0.38.0,>=0.37.2->fastapi) (4.3.0)\n",
      "Requirement already satisfied: idna>=2.8 in c:\\python\\lib\\site-packages (from anyio<5,>=3.4.0->starlette<0.38.0,>=0.37.2->fastapi) (3.7)\n",
      "Requirement already satisfied: sniffio>=1.1 in c:\\python\\lib\\site-packages (from anyio<5,>=3.4.0->starlette<0.38.0,>=0.37.2->fastapi) (1.3.1)\n",
      "Note: you may need to restart the kernel to use updated packages.\n"
     ]
    }
   ],
   "source": [
    "%pip install fastapi pydantic toml"
   ]
  },
  {
   "cell_type": "code",
   "execution_count": null,
   "metadata": {},
   "outputs": [],
   "source": []
  },
  {
   "cell_type": "code",
   "execution_count": 2,
   "metadata": {},
   "outputs": [
    {
     "name": "stdout",
     "output_type": "stream",
     "text": [
      "You invited Professor Dagger into the storage room, the space still cluttered despite your earlier attempt to clear some of the items out. The two of you began scouring through old furniture, leaving nothing unturned, yet, after two long hours, your hands held nothing but dust. You sensed the Professor’s eyes laced with disappointment, perhaps he has already given up the search, for to encounter a rare artifact like the one he described must require great deal of luck. But your desire for a better life fuels your persistence to hunt the fourth book down. You revisit the drawers you may have overlooked, potential compartments that are hidden behind intricate mechanisms like the seance table. And as you attempt to wrestle a large wooden shelf to another wall, your slip of the hand causes it to collide with the wall behind it, producing a hollow thud. Professor Dagger immediately placed his hands against the false wall, sliding across its surface gently like one would a body. Soon he senses the concealed mechanism that safeguards the secret shut, which upon a gentle press, unveils a dark corridor effluviating a pungent scent.\n",
      "\n",
      "Before entering, Professor Dagger warns you not to look or speak to whatever resides at the end of the corridor, for you may enter a state of frenzy. With that in mind, you follow Professor Dagger into the unknown…\n",
      "\n",
      "What is your next course of action?\n",
      "\n",
      "possible actions:\n",
      "1. Follow him closely in silence\n",
      "2. Ask him what the foul odour is\n",
      "3. Comment on the surroundings\n"
     ]
    },
    {
     "data": {
      "application/vnd.jupyter.widget-view+json": {
       "model_id": "dfddbaf0ee4d466e9bb74a56ff91dad0",
       "version_major": 2,
       "version_minor": 0
      },
      "text/plain": [
       "HBox(children=(Button(description='1', layout=Layout(width='auto'), style=ButtonStyle(), tooltip='Follow him c…"
      ]
     },
     "metadata": {},
     "output_type": "display_data"
    },
    {
     "name": "stdout",
     "output_type": "stream",
     "text": [
      "I select option 1. TURN: 1 \n",
      "\n",
      "\n",
      "You decide to follow Professor Dagger closely in silence, your steps cautious and measured as you navigate the dimly lit corridor. The air is thick with a musty, decayed scent that seems to cling to the back of your throat, making each breath a conscious effort. The walls are lined with peculiar markings that seem to dance in the shadows, their origins and meanings obscured by the dim light. As you proceed, the corridor narrows, forcing you and the Professor to move in a single file. \n",
      "\n",
      "The passage eventually opens into a small, hidden room. The sight before you is ghastly; at the center of the room lies the withered body of what you assume to be the storage room's previously deceased owner's sister. Her face is completely gone, replaced by a gaping cavity from which something sinister writhes within. Below her, a pentagram is drawn in a strange red fluid, its purpose unfathomable but undoubtedly macabre. At the far end of the room, you spot the fourth book placed on a podium, its presence almost overshadowed by the horrific scene.\n",
      "\n",
      "skill: sanity\n",
      "difficulty: hard"
     ]
    },
    {
     "data": {
      "application/vnd.jupyter.widget-view+json": {
       "model_id": "8cd1b890deeb490294abbac4587401c4",
       "version_major": 2,
       "version_minor": 0
      },
      "text/plain": [
       "HBox(children=(Button(description='SANITY [HARD]', layout=Layout(width='auto'), style=ButtonStyle()), Button(d…"
      ]
     },
     "metadata": {},
     "output_type": "display_data"
    },
    {
     "name": "stdout",
     "output_type": "stream",
     "text": [
      "I am making a skill check using SANITY against a difficulty of HARD.\n",
      "And I rolled a 27 for a result of FAILURE. TURN: 2 \n",
      "\n",
      "\n",
      "As you fail to maintain your composure upon witnessing the grotesque scene, your mind reels from the horrific sight. The writhing entity within the cavity of the withered body's face, coupled with the sinister pentagram, sends you into a spiral of terror and disbelief. Your heart pounds against your chest, your breaths become shallow and rapid, and for a moment, the world seems to tilt on its axis. The very fabric of reality appears to warp around you, as the horrors of what lay before you seep into your psyche, leaving an indelible mark on your sanity.\n",
      "\n",
      "The Professor, noticing your distress, places a reassuring hand on your shoulder, attempting to ground you back to reality. However, his touch barely registers over the maelstrom of panic and dread that consumes you.\n",
      "\n",
      "Despite the overwhelming fear, you realize you must act, but the question remains: what will you do next in this dire situation?\n",
      "\n",
      "possible actions:\n",
      "1. Attempt to regain composure and approach the podium to examine the fourth book.\n",
      "2. Ask Professor Dagger for advice on how to proceed.\n",
      "3. Search the room for any other items or clues that might be of use."
     ]
    },
    {
     "data": {
      "application/vnd.jupyter.widget-view+json": {
       "model_id": "c4018cf1743c43af969a475eb1348793",
       "version_major": 2,
       "version_minor": 0
      },
      "text/plain": [
       "HBox(children=(Button(description='1', layout=Layout(width='auto'), style=ButtonStyle(), tooltip='Attempt to r…"
      ]
     },
     "metadata": {},
     "output_type": "display_data"
    },
    {
     "name": "stdout",
     "output_type": "stream",
     "text": [
      "I select option 1. TURN: 3 \n",
      "\n",
      "\n",
      "skill: sanity\n",
      "difficulty: hard"
     ]
    },
    {
     "data": {
      "application/vnd.jupyter.widget-view+json": {
       "model_id": "eddace37f351494b9022c9bfffdc9d21",
       "version_major": 2,
       "version_minor": 0
      },
      "text/plain": [
       "HBox(children=(Button(description='SANITY [HARD]', layout=Layout(width='auto'), style=ButtonStyle()), Button(d…"
      ]
     },
     "metadata": {},
     "output_type": "display_data"
    },
    {
     "name": "stdout",
     "output_type": "stream",
     "text": [
      "I am making a skill check using SANITY against a difficulty of HARD.\n",
      "And I rolled a 22 for a result of SUCCESS. TURN: 4 \n",
      "\n",
      "\n",
      "With monumental effort, you manage to pull yourself together, pushing past the fear that threatens to overwhelm you. The horrors that lay before you, though not forgotten, are momentarily pushed to the back of your mind as you focus on the task at hand. Your training and experiences as an ex-marine kick in, allowing you to compartmentalize the terror and approach the situation with a semblance of clarity and determination.\n",
      "\n",
      "You step forward, your eyes fixed on the podium at the far end of the room, where the fourth book rests. Each step feels heavier than the last, not just from the gravity of the situation, but from the weight of your own resolve. As you reach the podium, you take a moment to examine the book. Its cover is adorned with symbols that seem to pulsate with an eerie, otherworldly energy, yet you find yourself drawn to it, compelled by the possibility of what secrets it may hold.\n",
      "\n",
      "What will you do next?\n",
      "\n",
      "possible actions:\n",
      "1. Open the book and begin reading.\n",
      "2. Call Professor Dagger over to examine the book together.\n",
      "3. Take the book from the podium, hoping to study it later in a safer environment."
     ]
    },
    {
     "data": {
      "application/vnd.jupyter.widget-view+json": {
       "model_id": "9b522313743d4ccb8e550e4dce4428e5",
       "version_major": 2,
       "version_minor": 0
      },
      "text/plain": [
       "HBox(children=(Button(description='1', layout=Layout(width='auto'), style=ButtonStyle(), tooltip='Open the boo…"
      ]
     },
     "metadata": {},
     "output_type": "display_data"
    },
    {
     "name": "stdout",
     "output_type": "stream",
     "text": [
      "I select option 3. TURN: 5 \n",
      "\n",
      "\n",
      "As you reach out and take the book from the podium, a palpable tension fills the air. The moment your fingers brush against the ancient tome, the strange red fluid forming the pentagram beneath the withered body begins to evaporate, disappearing without a trace as if it were never there. The room's atmosphere shifts, a sense of foreboding enveloping you as the sinister presence within the cavity of the withered body's face stirs.\n",
      "\n",
      "Without warning, tentacles burst forth from the gaping maw where the face once was, writhing and flailing with malevolent intent. Professor Dagger, who had been observing from a safe distance, has no time to react as the tentacles ensnare him, pulling him towards the horrific visage with terrifying speed. His screams fill the room, a chilling reminder of the danger you both faced in this hidden chamber.\n",
      "\n",
      "In a matter of seconds, the Professor is consumed, leaving you alone with the now animate and malevolent entity. The horror of witnessing such an event is beyond words, and you realize that your only chance of survival is to escape.\n",
      "\n",
      "The entity, having devoured the Professor, now turns its attention towards you, its tentacles reaching out with hunger.\n",
      "\n",
      "What will you do next?\n",
      "\n",
      "possible actions:\n",
      "1. Attempt to distract the entity and make a run for the corridor.\n",
      "2. Search for any objects in the room that could be used as a weapon.\n",
      "3. Try to communicate with the entity, hoping to appease it."
     ]
    },
    {
     "data": {
      "application/vnd.jupyter.widget-view+json": {
       "model_id": "9e9dce5307834a52b7951726b01b41ee",
       "version_major": 2,
       "version_minor": 0
      },
      "text/plain": [
       "HBox(children=(Button(description='1', layout=Layout(width='auto'), style=ButtonStyle(), tooltip='Attempt to d…"
      ]
     },
     "metadata": {},
     "output_type": "display_data"
    },
    {
     "data": {
      "application/vnd.jupyter.widget-view+json": {
       "model_id": "b3454595ad40432797aec9b691cea878",
       "version_major": 2,
       "version_minor": 0
      },
      "text/plain": [
       "HBox(children=(Text(value='', layout=Layout(width='100%')), Button(description='SUBMIT', layout=Layout(width='…"
      ]
     },
     "metadata": {},
     "output_type": "display_data"
    },
    {
     "name": "stdout",
     "output_type": "stream",
     "text": [
      "run towards the exit. TURN: 6 \n",
      "\n",
      "\n",
      "You don't waste a moment. With the book clutched tightly in your hand, you turn on your heels and sprint towards the corridor, the echoes of your footsteps bouncing off the narrow walls. The entity lets out an otherworldly screech behind you, its tentacles slithering across the ground with alarming speed in pursuit. The air grows colder as you run, the darkness of the corridor seemingly stretching on forever, a never-ending escape from the nightmare that chases you.\n",
      "\n",
      "Your heart pounds in your chest, a frenzied rhythm that matches your desperate pace. You dare not look back, for fear that seeing the entity might paralyze you with terror. Instead, you focus on the faint light at the end of the corridor, the promise of escape, of survival. \n",
      "\n",
      "As you burst out of the corridor and into the main storage room, you realize you must find a way to lock the entity behind or somehow barricade the entrance to the hidden room.\n",
      "\n",
      "What will you do next?\n",
      "\n",
      "possible actions:\n",
      "1. Search for something to block the entrance to the hidden room.\n",
      "2. Head straight for the storage facility's exit, hoping to outrun the entity.\n",
      "3. Look for a place to hide and plan your next move."
     ]
    },
    {
     "data": {
      "application/vnd.jupyter.widget-view+json": {
       "model_id": "d787e80df599421ba32897e3c02b0b6e",
       "version_major": 2,
       "version_minor": 0
      },
      "text/plain": [
       "HBox(children=(Button(description='1', layout=Layout(width='auto'), style=ButtonStyle(), tooltip='Search for s…"
      ]
     },
     "metadata": {},
     "output_type": "display_data"
    },
    {
     "name": "stdout",
     "output_type": "stream",
     "text": [
      "I select option 2. TURN: 7 \n",
      "\n",
      "\n",
      "With the entity's otherworldly screeches echoing behind you, you make a split-second decision to head straight for the storage facility's exit. The weight of the book in your hand serves as a constant reminder of the perilous journey you've undertaken, and now, the urgency to escape with your life.\n",
      "\n",
      "Your lungs burn with each breath, a testament to the sheer willpower driving you forward. The storage room, once a place of hope and potential fortune, now feels like a labyrinthine trap, its cluttered aisles and dim lighting creating an oppressive atmosphere. But your focus remains unwavering, the exit your sole beacon of hope.\n",
      "\n",
      "Finally, you reach the heavy, metal door that serves as the only barrier between you and the outside world. With a surge of adrenaline, you push against it, only to find...\n",
      "\n",
      "The door is locked. Panic sets in as the realization hits you; there is no other way out. The entity's relentless pursuit leaves you with precious little time to think.\n",
      "\n",
      "What will you do next?\n",
      "\n",
      "possible actions:\n",
      "1. Search for the key to unlock the door.\n",
      "2. Attempt to break the door open using any available objects.\n",
      "3. Call out for help, hoping someone outside might hear you."
     ]
    },
    {
     "data": {
      "application/vnd.jupyter.widget-view+json": {
       "model_id": "137be6ca30fd4685a770fa53c221835e",
       "version_major": 2,
       "version_minor": 0
      },
      "text/plain": [
       "HBox(children=(Button(description='1', layout=Layout(width='auto'), style=ButtonStyle(), tooltip='Search for t…"
      ]
     },
     "metadata": {},
     "output_type": "display_data"
    },
    {
     "data": {
      "application/vnd.jupyter.widget-view+json": {
       "model_id": "069ef4a5b04f4bc9a92fe3c92f41eb74",
       "version_major": 2,
       "version_minor": 0
      },
      "text/plain": [
       "HBox(children=(Text(value='', layout=Layout(width='100%')), Button(description='SUBMIT', layout=Layout(width='…"
      ]
     },
     "metadata": {},
     "output_type": "display_data"
    },
    {
     "name": "stdout",
     "output_type": "stream",
     "text": [
      "I select option 2. TURN: 8 \n",
      "\n",
      "\n",
      "In a desperate attempt to escape, you look around frantically for anything that could be used to break the door open. Your eyes land on a heavy, rusted pipe lying amongst the debris, a remnant of the storage room's forgotten utilities. With no time to spare, you grab it, feeling its weight grounding you in the reality of your dire situation.\n",
      "\n",
      "With the entity's shrieks growing louder, signaling its imminent approach, you position yourself before the locked door. You raise the pipe with both hands, channeling every ounce of strength and desperation into your muscles. The first strike against the door sends a jarring vibration up your arms, but the door holds firm. You strike again, and then again, each hit a cacophony of metal against metal, a desperate symphony for survival.\n",
      "\n",
      "On the fourth swing, the lock mechanism begins to give way, its integrity compromised by the relentless assault. With a final, Herculean effort, you swing the pipe once more, and this time, the lock shatters, freeing the door to swing open under the force of your attack.\n",
      "\n",
      "Without a moment's hesitation, you burst through the now-open door, emerging into the night. The cool, outside air hits you like a wave, a stark contrast to the stifling atmosphere you've just escaped. You don't stop to savor the freedom; the terror of what lies behind propels you forward, away from the storage facility and into the uncertain safety of the night.\n",
      "\n",
      "round summary: Kyle Jackson, driven by desperation and the will to survive, managed to escape the storage facility after a harrowing encounter with a malevolent entity. Using a heavy pipe, he broke through the locked exit door, leaving the horrors of the hidden room and the consumed Professor Dagger behind."
     ]
    },
    {
     "data": {
      "application/vnd.jupyter.widget-view+json": {
       "model_id": "399a4a198227438e89d6fce598a92460",
       "version_major": 2,
       "version_minor": 0
      },
      "text/plain": [
       "HBox(children=(Button(description='NEXT ROUND', layout=Layout(width='auto'), style=ButtonStyle()), Button(desc…"
      ]
     },
     "metadata": {},
     "output_type": "display_data"
    }
   ],
   "source": [
    "import re\n",
    "import tomllib\n",
    "import functools\n",
    "from typing import Literal\n",
    "\n",
    "import ipywidgets as widgets\n",
    "from IPython.display import display\n",
    "\n",
    "from dotenv import load_dotenv\n",
    "load_dotenv()\n",
    "\n",
    "from rs import Message, Config, chat\n",
    "import d20\n",
    "\n",
    "action_pattern = re.compile(r\"(\\d+). *(.+)\")\n",
    "skill_pattern = re.compile(r\"[\\w_]+\")\n",
    "skill_difficulty_pattern = re.compile(r\"(easy|medium|hard)\")\n",
    "\n",
    "def next_round(b):\n",
    "    global current_round, initial_messages\n",
    "    current_round += 1\n",
    "    initial_messages = config.initial_messages(current_round, config.metadata)\n",
    "\n",
    "    print(initial_messages[-1].content)\n",
    "    display(get_controls(initial_messages[-1]))\n",
    "\n",
    "def get_user_message_tail():\n",
    "    count = 0\n",
    "    for msg in initial_messages:\n",
    "        if msg.role == \"user\":\n",
    "            count += 1\n",
    "\n",
    "    is_final =  \", FINAL ROUND\" if  current_round == len(config.rounds) else \"\"\n",
    "    return f\"TURN: {count + 1} {is_final}\"\n",
    "    \n",
    "\n",
    "def do_chat(role:Literal[\"user\", \"system\", \"assistant\"], content: str):\n",
    "    print(f\"{content}\\n\\n\")\n",
    "\n",
    "    initial_messages.append(Message(role=role, content=content))\n",
    "    msg = chat(initial_messages, lambda delta: print(delta, end=\"\"))\n",
    "\n",
    "    initial_messages.append(msg)\n",
    "    display(get_controls(msg))\n",
    "\n",
    "def on_skill(b, skill:str, difficulty:str):\n",
    "    content = f\"I am making a skill check using {skill.upper()} against a difficulty of {difficulty.upper()}.\"\n",
    "\n",
    "    d = difficulty.lower()\n",
    "    dc = 50\n",
    "    if d == \"easy\":\n",
    "        dc = 75\n",
    "    elif d == \"hard\":\n",
    "        dc = 25\n",
    "    roll = d20.roll(\"1d100\").total\n",
    "    result = \"Success\" if roll <= dc else \"Failure\"\n",
    "    if roll == 1:\n",
    "        result = \"Critical Success\"\n",
    "    elif roll == 100:\n",
    "        result = \"Critical Failure\"\n",
    "    \n",
    "    content += f\"\\nAnd I rolled a {roll} for a result of {result.upper()}. {get_user_message_tail()}\"\n",
    "    do_chat(\"user\", content)\n",
    "\n",
    "def on_action(b, index:int):\n",
    "    content = f\"I select option {index}. {get_user_message_tail()}\"\n",
    "    do_chat(\"user\", content)\n",
    "\n",
    "def on_custom_input(b, input:widgets.Text):\n",
    "    content = f\"{input.value}. {get_user_message_tail()}\"\n",
    "    do_chat(\"user\", content)\n",
    "\n",
    "def on_custom_action(b):\n",
    "    hbox = widgets.HBox(layout=widgets.Layout(width=\"100%\"))\n",
    "    action_text = widgets.Text(layout=widgets.Layout(width=\"100%\"))\n",
    "    submit = widgets.Button(description=\"SUBMIT\", layout=widgets.Layout(width=\"fit-content\"))\n",
    "    submit.on_click(functools.partial(on_custom_input, input=action_text))\n",
    "    hbox.children += (action_text, submit) \n",
    "    display(hbox)\n",
    "\n",
    "def get_controls(msg:Message) -> widgets.Box:\n",
    "    dict = msg.dict()\n",
    "    buttons = []\n",
    "    if \"possible actions\" in dict.keys():\n",
    "        matches = action_pattern.finditer(dict[\"possible actions\"])\n",
    "        for match in matches:\n",
    "            btn = widgets.Button(description=match.group(1), tooltip=match.group(2), layout=widgets.Layout(width=\"auto\"))\n",
    "            btn.on_click(functools.partial(on_action, index=int(match.group(1))))\n",
    "            buttons.append(btn)\n",
    "    elif \"skill\" in dict.keys() and \"difficulty\" in dict.keys():\n",
    "        match = skill_pattern.match(dict[\"skill\"])\n",
    "        skill = match.group(0)\n",
    "        match = skill_difficulty_pattern.match(dict[\"difficulty\"])\n",
    "        difficulty = match.group(0)\n",
    "        skill_button = widgets.Button(description=f\"{skill.upper()} [{difficulty.upper()}]\", layout=widgets.Layout(width=\"auto\"))\n",
    "        skill_button.on_click(functools.partial(on_skill, skill=skill, difficulty=difficulty))\n",
    "        buttons.append(skill_button)\n",
    "    elif \"round summary\" in dict.keys():\n",
    "        next_btn = widgets.Button(description=\"NEXT ROUND\", layout=widgets.Layout(width=\"auto\"))\n",
    "        next_btn.on_click(next_round)\n",
    "        buttons.append(next_btn)\n",
    "    \n",
    "    custom_action_button = widgets.Button(description=\"CUSTOM\")\n",
    "    custom_action_button.on_click(on_custom_action)\n",
    "    buttons.append(custom_action_button)\n",
    "\n",
    "    return widgets.HBox(buttons)\n",
    "\n",
    "# open config file\n",
    "config_name = \"data/coc_lot_36.toml\"\n",
    "config: Config | None = None\n",
    "with open(config_name, \"rb\") as f:\n",
    "    data = tomllib.load(f)\n",
    "    config = Config(**data)\n",
    "\n",
    "current_round = 5\n",
    "initial_messages = config.initial_messages(current_round, config.metadata)\n",
    "\n",
    "print(initial_messages[-1].content)\n",
    "display(get_controls(initial_messages[-1]))\n"
   ]
  }
 ],
 "metadata": {
  "kernelspec": {
   "display_name": ".venv",
   "language": "python",
   "name": "python3"
  },
  "language_info": {
   "codemirror_mode": {
    "name": "ipython",
    "version": 3
   },
   "file_extension": ".py",
   "mimetype": "text/x-python",
   "name": "python",
   "nbconvert_exporter": "python",
   "pygments_lexer": "ipython3",
   "version": "3.12.3"
  }
 },
 "nbformat": 4,
 "nbformat_minor": 2
}
