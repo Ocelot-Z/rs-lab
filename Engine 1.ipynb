{
 "cells": [
  {
   "cell_type": "code",
   "execution_count": 10,
   "metadata": {},
   "outputs": [
    {
     "name": "stdout",
     "output_type": "stream",
     "text": [
      "Requirement already satisfied: fastapi in c:\\python\\lib\\site-packages (0.110.2)\n",
      "Requirement already satisfied: pydantic in c:\\python\\lib\\site-packages (2.7.0)\n",
      "Requirement already satisfied: toml in c:\\python\\lib\\site-packages (0.10.2)\n",
      "Requirement already satisfied: starlette<0.38.0,>=0.37.2 in c:\\python\\lib\\site-packages (from fastapi) (0.37.2)\n",
      "Requirement already satisfied: typing-extensions>=4.8.0 in c:\\python\\lib\\site-packages (from fastapi) (4.11.0)\n",
      "Requirement already satisfied: annotated-types>=0.4.0 in c:\\python\\lib\\site-packages (from pydantic) (0.6.0)\n",
      "Requirement already satisfied: pydantic-core==2.18.1 in c:\\python\\lib\\site-packages (from pydantic) (2.18.1)\n",
      "Requirement already satisfied: anyio<5,>=3.4.0 in c:\\python\\lib\\site-packages (from starlette<0.38.0,>=0.37.2->fastapi) (4.3.0)\n",
      "Requirement already satisfied: idna>=2.8 in c:\\python\\lib\\site-packages (from anyio<5,>=3.4.0->starlette<0.38.0,>=0.37.2->fastapi) (3.7)\n",
      "Requirement already satisfied: sniffio>=1.1 in c:\\python\\lib\\site-packages (from anyio<5,>=3.4.0->starlette<0.38.0,>=0.37.2->fastapi) (1.3.1)\n",
      "Note: you may need to restart the kernel to use updated packages.\n"
     ]
    }
   ],
   "source": [
    "%pip install fastapi pydantic toml"
   ]
  },
  {
   "cell_type": "code",
   "execution_count": 11,
   "metadata": {},
   "outputs": [],
   "source": [
    "# from rs import skill_check\n",
    "\n",
    "# def test_skill_check(metadata):\n",
    "#     print(skill_check(\"sanity\", None, metadata))\n",
    "\n",
    "# metadata = {\n",
    "#     \"character\": {\"sanity\":30},\n",
    "#     \"symptom\":[\n",
    "#         \"incoherent speech\",\n",
    "#         \"uncontrollable twitching, trembling\",\n",
    "#         \"delusions of persecution\",\n",
    "#         \"strange appetites (dirt, clay, etc...)\",\n",
    "#         \"scratches, punches, and bruises all over the body\"\n",
    "#     ]\n",
    "# }\n",
    "\n",
    "# test_skill_check(metadata)\n",
    "# test_skill_check(metadata)\n",
    "# test_skill_check(metadata)\n",
    "# test_skill_check(metadata)\n",
    "# test_skill_check(metadata)\n",
    "# test_skill_check(metadata)\n",
    "# test_skill_check(metadata)\n",
    "# test_skill_check(metadata)\n",
    "# test_skill_check(metadata)\n",
    "# test_skill_check(metadata)\n",
    "# test_skill_check(metadata)\n",
    "# test_skill_check(metadata)\n",
    "\n",
    "# print(metadata[\"character\"])\n"
   ]
  },
  {
   "cell_type": "code",
   "execution_count": 12,
   "metadata": {},
   "outputs": [
    {
     "name": "stdout",
     "output_type": "stream",
     "text": [
      "The year is 2023, you travelled to some distant mountains and forest in Hokkaido to do some scenic photography in the middle of the week during autumn. You wanted to get away from the city life of Tokyo just so you can make some time for yourself and think about the future and want to do in your life. As you are hiking through the quiet mountain pass, you hear a cry of a girl just in the distance. You quickly made your way towards the sound and found a beautiful young lady on the side of the road, and appears to have accidently injured herself.\n",
      "\n",
      "What is your response?\n",
      "\n",
      "possible actions:\n",
      "1. Introduce yourself and offer assitance\n",
      "2. Say a funny pick up line\n",
      "3. Ignore her and keep walking\n"
     ]
    },
    {
     "data": {
      "application/vnd.jupyter.widget-view+json": {
       "model_id": "4624238e9cec4401a160a684a7d2c4a4",
       "version_major": 2,
       "version_minor": 0
      },
      "text/plain": [
       "HBox(children=(Button(description='1', layout=Layout(width='auto'), style=ButtonStyle(), tooltip='Introduce yo…"
      ]
     },
     "metadata": {},
     "output_type": "display_data"
    },
    {
     "name": "stdout",
     "output_type": "stream",
     "text": [
      "I select option 1. TURN: 1 \n",
      "\n",
      "\n",
      "<start>\n",
      "As you approach the young lady, you notice her trying to stand up, wincing in pain. You introduce yourself, \"Hi, I'm Hikaru Mikami, a photographer. I heard your cry for help. Are you okay? Can I assist you in any way?\"\n",
      "\n",
      "Mitsuha looks up at you, her big brown eyes reflecting a mix of surprise and relief. \"Oh, hello... I'm Mitsuha Tomoe. I was trying to take a shortcut and I think I twisted my ankle. I'm not sure I can walk well on it,\" she responds, her voice soft and timid, yet there's a hint of cheekiness as she tries to lighten the situation despite her evident discomfort.\n",
      "\n",
      "You notice her attempting to stand again, clearly struggling.\n",
      "\n",
      "possible actions:\n",
      "1. Offer to help her stand and see if she can put weight on her ankle.\n",
      "2. Suggest calling for help since she might need professional medical attention.\n",
      "3. Offer to carry her to a safer location or back to her hotel if it's nearby.\n",
      "<end>"
     ]
    },
    {
     "data": {
      "application/vnd.jupyter.widget-view+json": {
       "model_id": "aed8992cdabb4352b76a0e8deabf86fe",
       "version_major": 2,
       "version_minor": 0
      },
      "text/plain": [
       "HBox(children=(Button(description='1', layout=Layout(width='auto'), style=ButtonStyle(), tooltip='Offer to hel…"
      ]
     },
     "metadata": {},
     "output_type": "display_data"
    },
    {
     "name": "stdout",
     "output_type": "stream",
     "text": [
      "I select option 1. TURN: 2 \n",
      "\n",
      "\n",
      "<start>\n",
      "You carefully offer your hand to assist Mitsuha, saying, \"Let's see if you can stand on it, but please be careful. We don't want to make it worse.\" With your support, she slowly gets up, trying to put a little weight on her injured ankle. She winces slightly but manages a small, grateful smile.\n",
      "\n",
      "\"It hurts, but I think I can manage a few steps with some help,\" Mitsuha admits, leaning on you for support. Her cheekiness fades a bit, replaced by a look of determination mixed with a touch of vulnerability.\n",
      "\n",
      "Seeing her in pain but trying to stay strong sparks a protective instinct in you.\n",
      "\n",
      "possible actions:\n",
      "1. Suggest taking a short break to rest her ankle before deciding the next step.\n",
      "2. Offer to support her as she tries to walk a little.\n",
      "3. Insist on carrying her to avoid further injury, as walking might not be the best idea.\n",
      "<end>"
     ]
    },
    {
     "data": {
      "application/vnd.jupyter.widget-view+json": {
       "model_id": "a05d9328bfd549088e58b81d0b070e07",
       "version_major": 2,
       "version_minor": 0
      },
      "text/plain": [
       "HBox(children=(Button(description='1', layout=Layout(width='auto'), style=ButtonStyle(), tooltip='Suggest taki…"
      ]
     },
     "metadata": {},
     "output_type": "display_data"
    },
    {
     "name": "stdout",
     "output_type": "stream",
     "text": [
      "I select option 3. TURN: 3 \n",
      "\n",
      "\n",
      "<start>\n",
      "You look at Mitsuha with a determined expression and say, \"I think it's best if I carry you. We don't want to risk further injury by putting more strain on your ankle.\" Before she can protest, you gently lift her in a bridal style, making sure she's comfortable and not in any pain.\n",
      "\n",
      "Mitsuha's cheeks turn a shade rosier, possibly from the unexpected closeness or the surprise at your decisive action. She wraps her arms lightly around your neck, trying not to impose too much. \"Thank you, Hikaru. I'm sorry for the trouble,\" she says, her voice soft and filled with genuine appreciation.\n",
      "\n",
      "You assure her it's no trouble at all and ask her where she's staying.\n",
      "\n",
      "She tells you about a small hotel in the mountains, not too far from where you found her. It seems she was quite adventurous to wander off the beaten path.\n",
      "\n",
      "possible actions:\n",
      "1. Start heading towards the hotel she mentioned, making small talk to keep her mind off the pain.\n",
      "2. Ask her more about what she was doing before the accident.\n",
      "3. Tell her a bit about yourself and why you're in the mountains, to make her feel more at ease.\n",
      "<end>"
     ]
    },
    {
     "data": {
      "application/vnd.jupyter.widget-view+json": {
       "model_id": "48da0e6cf140460dac8ba5d7f22bbdb4",
       "version_major": 2,
       "version_minor": 0
      },
      "text/plain": [
       "HBox(children=(Button(description='1', layout=Layout(width='auto'), style=ButtonStyle(), tooltip='Start headin…"
      ]
     },
     "metadata": {},
     "output_type": "display_data"
    },
    {
     "name": "stdout",
     "output_type": "stream",
     "text": [
      "I select option 3. TURN: 4 \n",
      "\n",
      "\n",
      "<start>\n",
      "As you carefully navigate the path towards the hotel, you decide to share a bit about yourself to make Mitsuha feel more at ease. \"I'm actually here in Hokkaido for a bit of a personal retreat. I'm a photographer, so I was hoping to capture the autumn scenery. It's a way for me to clear my head and think about the future,\" you explain, your voice calm and reflective.\n",
      "\n",
      "Mitsuha listens intently, her gaze fixed on you. \"That sounds wonderful. I've always admired people who can express themselves through art. It must be nice to connect with nature and find inspiration in its beauty,\" she responds, her voice carrying a note of admiration and a hint of longing. It's clear your passion for photography has piqued her interest, and she seems to momentarily forget about her injury.\n",
      "\n",
      "The conversation flows easily between you two, creating a comfortable atmosphere as you continue your journey to the hotel.\n",
      "\n",
      "possible actions:\n",
      "1. Encourage Mitsuha to share more about herself and her interests.\n",
      "2. Offer to show her some of the photos you've taken so far on your trip.\n",
      "3. Ask her if she has any hobbies or passions she pursues in her own time.\n",
      "<end>"
     ]
    },
    {
     "data": {
      "application/vnd.jupyter.widget-view+json": {
       "model_id": "75c9b5322cf2406f947803624dd77f30",
       "version_major": 2,
       "version_minor": 0
      },
      "text/plain": [
       "HBox(children=(Button(description='1', layout=Layout(width='auto'), style=ButtonStyle(), tooltip='Encourage Mi…"
      ]
     },
     "metadata": {},
     "output_type": "display_data"
    },
    {
     "name": "stdout",
     "output_type": "stream",
     "text": [
      "I select option 1. TURN: 5 \n",
      "\n",
      "\n",
      "<start>\n",
      "Encouraged by the easy flow of conversation, you gently prompt Mitsuha to share more about herself. \"I'd love to hear more about you, Mitsuha. What brings you to the mountains? Any particular interests or hobbies you're passionate about?\" you ask, genuinely interested in knowing more about her.\n",
      "\n",
      "Mitsuha seems to brighten at the question, a soft enthusiasm lighting up her eyes. \"Well, I'm actually here on a short vacation. I work in Tokyo, and sometimes it just gets a bit overwhelming. I love nature, and I've always found the mountains to be particularly calming. As for hobbies, I enjoy reading and I've recently started trying my hand at sketching. It's nothing professional, just a way to capture moments that feel special to me,\" she shares, her voice warm and a bit more animated as she talks about her interests.\n",
      "\n",
      "As you listen to Mitsuha, you find yourself admiring her more—not just for her physical appearance but for her inner world and the simple joys she finds in life.\n",
      "\n",
      "As you finally reach the hotel, Mitsuha thanks you profusely for your help and kindness. \"I don't know how to thank you enough, Hikaru. You've been incredibly kind. Maybe, if you're free tomorrow, would you like to meet for coffee? I'd love to hear more about your photography, and perhaps I could show you some of my sketches,\" she suggests, hopeful.\n",
      "\n",
      "The round ends with you agreeing to meet Mitsuha the next day, both of you looking forward to spending more time together and getting to know each other better.\n",
      "\n",
      "Summary:\n",
      "Hikaru found Mitsuha injured in the mountains and helped her back to her hotel, carrying her to avoid further injury. Along the way, they shared stories about their passions and interests, forming a connection. Mitsuha expressed her gratitude and interest in Hikaru's photography, inviting him for coffee the next day to continue their conversation."
     ]
    },
    {
     "data": {
      "application/vnd.jupyter.widget-view+json": {
       "model_id": "7971503dd73c4c63b3e390b89ce335c8",
       "version_major": 2,
       "version_minor": 0
      },
      "text/plain": [
       "HBox(children=(Button(description='CUSTOM', style=ButtonStyle()),))"
      ]
     },
     "metadata": {},
     "output_type": "display_data"
    }
   ],
   "source": [
    "import re\n",
    "import tomllib\n",
    "import functools\n",
    "from typing import Literal\n",
    "\n",
    "import ipywidgets as widgets\n",
    "from IPython.display import display\n",
    "\n",
    "from dotenv import load_dotenv\n",
    "\n",
    "load_dotenv()\n",
    "\n",
    "from rs import Message, Config, chat, skill_check\n",
    "import d20\n",
    "\n",
    "action_pattern = re.compile(r\"(\\d+). *(.+)\")\n",
    "skill_pattern = re.compile(r\"[\\w_]+\")\n",
    "skill_difficulty_pattern = re.compile(r\"(easy|normal|hard)\")\n",
    "\n",
    "def next_round(b):\n",
    "    global current_round, initial_messages\n",
    "    current_round += 1\n",
    "    initial_messages = config.initial_messages(current_round, config.metadata)\n",
    "\n",
    "    print(initial_messages[-1].content)\n",
    "    display(get_controls(initial_messages[-1]))\n",
    "\n",
    "def get_user_message_tail():\n",
    "    count = 0\n",
    "    for msg in initial_messages:\n",
    "        if msg.role == \"user\":\n",
    "            count += 1\n",
    "\n",
    "    is_final =  \", FINAL ROUND\" if  current_round == len(config.rounds) else \"\"\n",
    "    \n",
    "    # print(config.metadata[\"character\"])\n",
    "    \n",
    "    if \"tags\" in config.metadata[\"character\"] and \"insane\" in config.metadata[\"character\"][\"tags\"]:\n",
    "        return f\"TURN: {count + 1} {is_final} (I'm insane!)\"\n",
    "    \n",
    "    return f\"TURN: {count + 1} {is_final}\"\n",
    "    \n",
    "\n",
    "def do_chat(role:Literal[\"user\", \"system\", \"assistant\"], content: str):\n",
    "    print(f\"{content}\\n\\n\")\n",
    "\n",
    "    initial_messages.append(Message(role=role, content=content))\n",
    "    msg = chat(initial_messages, lambda delta: print(delta, end=\"\"))\n",
    "\n",
    "    initial_messages.append(msg)\n",
    "    display(get_controls(msg))\n",
    "\n",
    "\n",
    "def on_skill(b, skill:str, difficulty:str):\n",
    "    # print(config.metadata[\"character\"])\n",
    "    content = skill_check(skill, difficulty, config.metadata)\n",
    "    content += f\"\\n{get_user_message_tail()}\"\n",
    "    do_chat(\"user\", content)\n",
    "\n",
    "def on_action(b, index:int):\n",
    "    content = f\"I select option {index}. {get_user_message_tail()}\"\n",
    "    do_chat(\"user\", content)\n",
    "\n",
    "def on_custom_input(b, input:widgets.Text):\n",
    "    content = f\"{input.value}. {get_user_message_tail()}\"\n",
    "    do_chat(\"user\", content)\n",
    "\n",
    "def on_custom_action(b):\n",
    "    hbox = widgets.HBox(layout=widgets.Layout(width=\"100%\"))\n",
    "    action_text = widgets.Text(layout=widgets.Layout(width=\"100%\"))\n",
    "    submit = widgets.Button(description=\"SUBMIT\", layout=widgets.Layout(width=\"fit-content\"))\n",
    "    submit.on_click(functools.partial(on_custom_input, input=action_text))\n",
    "    hbox.children += (action_text, submit) \n",
    "    display(hbox)\n",
    "\n",
    "def get_controls(msg:Message) -> widgets.Box:\n",
    "    dict = msg.dict()\n",
    "    buttons = []\n",
    "    if \"possible actions\" in dict.keys():\n",
    "        matches = action_pattern.finditer(dict[\"possible actions\"])\n",
    "        for match in matches:\n",
    "            btn = widgets.Button(description=match.group(1), tooltip=match.group(2), layout=widgets.Layout(width=\"auto\"))\n",
    "            btn.on_click(functools.partial(on_action, index=int(match.group(1))))\n",
    "            buttons.append(btn)\n",
    "    elif \"skill\" in dict.keys() and \"difficulty\" in dict.keys():\n",
    "        match = skill_pattern.match(dict[\"skill\"])\n",
    "        skill = match.group(0)\n",
    "        match = skill_difficulty_pattern.match(dict[\"difficulty\"])\n",
    "        difficulty = match.group(0)\n",
    "        skill_button = widgets.Button(description=f\"{skill.upper()} [{difficulty.upper()}]\", layout=widgets.Layout(width=\"auto\"))\n",
    "        skill_button.on_click(functools.partial(on_skill, skill=skill, difficulty=difficulty))\n",
    "        buttons.append(skill_button)\n",
    "    elif \"summary\" in dict.keys():\n",
    "        # add summary as a memory to the metadata\n",
    "        # it will be used in the next round.\n",
    "        # config.metadata[\"memories\"] = []\n",
    "        config.metadata[\"memories\"].append(dict[\"summary\"])\n",
    "        next_btn = widgets.Button(description=\"NEXT ROUND\", layout=widgets.Layout(width=\"auto\"))\n",
    "        next_btn.on_click(next_round)\n",
    "        buttons.append(next_btn)\n",
    "    \n",
    "    custom_action_button = widgets.Button(description=\"CUSTOM\")\n",
    "    custom_action_button.on_click(on_custom_action)\n",
    "    buttons.append(custom_action_button)\n",
    "\n",
    "    return widgets.HBox(buttons)\n",
    "\n",
    "# open config file\n",
    "config_name = \"data/ai_gf.toml\"\n",
    "config: Config | None = None\n",
    "with open(config_name, \"rb\") as f:\n",
    "    data = tomllib.load(f)\n",
    "    config = Config(**data)\n",
    "\n",
    "current_round = 0\n",
    "initial_messages = config.initial_messages(current_round, config.metadata)\n",
    "\n",
    "print(initial_messages[-1].content)\n",
    "display(get_controls(initial_messages[-1]))"
   ]
  }
 ],
 "metadata": {
  "kernelspec": {
   "display_name": ".venv",
   "language": "python",
   "name": "python3"
  },
  "language_info": {
   "codemirror_mode": {
    "name": "ipython",
    "version": 3
   },
   "file_extension": ".py",
   "mimetype": "text/x-python",
   "name": "python",
   "nbconvert_exporter": "python",
   "pygments_lexer": "ipython3",
   "version": "3.12.3"
  }
 },
 "nbformat": 4,
 "nbformat_minor": 2
}
