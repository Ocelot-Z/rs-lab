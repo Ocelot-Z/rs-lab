{
 "cells": [
  {
   "cell_type": "code",
   "execution_count": 5,
   "metadata": {},
   "outputs": [
    {
     "name": "stdout",
     "output_type": "stream",
     "text": [
      "Requirement already satisfied: fastapi in c:\\python\\lib\\site-packages (0.110.2)\n",
      "Requirement already satisfied: pydantic in c:\\python\\lib\\site-packages (2.7.0)\n",
      "Requirement already satisfied: toml in c:\\python\\lib\\site-packages (0.10.2)\n",
      "Requirement already satisfied: starlette<0.38.0,>=0.37.2 in c:\\python\\lib\\site-packages (from fastapi) (0.37.2)\n",
      "Requirement already satisfied: typing-extensions>=4.8.0 in c:\\python\\lib\\site-packages (from fastapi) (4.11.0)\n",
      "Requirement already satisfied: annotated-types>=0.4.0 in c:\\python\\lib\\site-packages (from pydantic) (0.6.0)\n",
      "Requirement already satisfied: pydantic-core==2.18.1 in c:\\python\\lib\\site-packages (from pydantic) (2.18.1)\n",
      "Requirement already satisfied: anyio<5,>=3.4.0 in c:\\python\\lib\\site-packages (from starlette<0.38.0,>=0.37.2->fastapi) (4.3.0)\n",
      "Requirement already satisfied: idna>=2.8 in c:\\python\\lib\\site-packages (from anyio<5,>=3.4.0->starlette<0.38.0,>=0.37.2->fastapi) (3.7)\n",
      "Requirement already satisfied: sniffio>=1.1 in c:\\python\\lib\\site-packages (from anyio<5,>=3.4.0->starlette<0.38.0,>=0.37.2->fastapi) (1.3.1)\n",
      "Note: you may need to restart the kernel to use updated packages.\n"
     ]
    }
   ],
   "source": [
    "%pip install fastapi pydantic toml"
   ]
  },
  {
   "cell_type": "code",
   "execution_count": null,
   "metadata": {},
   "outputs": [],
   "source": []
  },
  {
   "cell_type": "code",
   "execution_count": 6,
   "metadata": {},
   "outputs": [
    {
     "name": "stdout",
     "output_type": "stream",
     "text": [
      "You invited Professor Dagger into the storage room, the space still cluttered despite your earlier attempt to clear some of the items out. The two of you began scouring through old furniture, leaving nothing unturned, yet, after two long hours, your hands held nothing but dust. You sensed the Professor’s eyes laced with disappointment, perhaps he has already given up the search, for to encounter a rare artifact like the one he described must require great deal of luck. But your desire for a better life fuels your persistence to hunt the fourth book down. You revisit the drawers you may have overlooked, potential compartments that are hidden behind intricate mechanisms like the seance table. And as you attempt to wrestle a large wooden shelf to another wall, your slip of the hand causes it to collide with the wall behind it, producing a hollow thud. Professor Dagger immediately placed his hands against the false wall, sliding across its surface gently like one would a body. Soon he senses the concealed mechanism that safeguards the secret shut, which upon a gentle press, unveils a dark corridor effluviating a pungent scent.\n",
      "\n",
      "Before entering, Professor Dagger warns you not to look or speak to whatever resides at the end of the corridor, for you may enter a state of frenzy. With that in mind, you follow Professor Dagger into the unknown…\n",
      "\n",
      "What is your next course of action?\n",
      "\n",
      "possible actions:\n",
      "1. Follow him closely in silence\n",
      "2. Ask him what the foul odour is\n",
      "3. Comment on the surroundings\n"
     ]
    },
    {
     "data": {
      "application/vnd.jupyter.widget-view+json": {
       "model_id": "7488740fd14f49679200aa45dedbe17b",
       "version_major": 2,
       "version_minor": 0
      },
      "text/plain": [
       "HBox(children=(Button(description='1', layout=Layout(width='auto'), style=ButtonStyle(), tooltip='Follow him c…"
      ]
     },
     "metadata": {},
     "output_type": "display_data"
    },
    {
     "name": "stdout",
     "output_type": "stream",
     "text": [
      "I select option 3. TURN: 1 \n",
      "\n",
      "\n",
      "As you step cautiously through the dark corridor, the air thick with an unidentifiable stench, you can't help but comment on the surroundings. The walls, barely visible in the dim light, seem to pulse as if breathing, and the ground beneath your feet feels unnaturally soft, adding a layer of unease to your already heightened senses. Professor Dagger, a few steps ahead, pauses at your comment, his silhouette barely discernible.\n",
      "\n",
      "\"The walls of reality thin here,\" he whispers back, his voice barely above a murmur, \"This place... it's not just a corridor. It's a threshold.\"\n",
      "\n",
      "The corridor ends abruptly, opening into a wider, cavernous space that reeks of decay and ancient secrets. The sight that unfolds before you is both horrifying and mesmerizing. At the center of the room lies the near-withered body of the storage room's previously deceased owner's sister. Her face, a gaping cavity where something sinister writhes within. Surrounding her is a pentagram drawn in a strange red fluid, its purpose unknown but undoubtedly dark.\n",
      "\n",
      "At the far end of the room, illuminated by an unseen source of light, stands a podium with the fourth book resting upon it. Its cover is adorned with symbols that seem to shift and dance under your gaze.\n",
      "\n",
      "possible actions:\n",
      "1. Approach the podium to examine the book.\n",
      "2. Investigate the withered body and the pentagram.\n",
      "3. Ask Professor Dagger for more information about the room and its contents."
     ]
    },
    {
     "data": {
      "application/vnd.jupyter.widget-view+json": {
       "model_id": "c966a4af825149fa97a1717cb0f98427",
       "version_major": 2,
       "version_minor": 0
      },
      "text/plain": [
       "HBox(children=(Button(description='1', layout=Layout(width='auto'), style=ButtonStyle(), tooltip='Approach the…"
      ]
     },
     "metadata": {},
     "output_type": "display_data"
    },
    {
     "name": "stdout",
     "output_type": "stream",
     "text": [
      "I select option 2. TURN: 2 \n",
      "\n",
      "\n",
      "skill: spot_hidden\n",
      "difficulty: medium"
     ]
    },
    {
     "data": {
      "application/vnd.jupyter.widget-view+json": {
       "model_id": "1340eaffa65f4f1880caad3720a7c8cd",
       "version_major": 2,
       "version_minor": 0
      },
      "text/plain": [
       "HBox(children=(Button(description='SPOT_HIDDEN [MEDIUM]', layout=Layout(width='auto'), style=ButtonStyle()), B…"
      ]
     },
     "metadata": {},
     "output_type": "display_data"
    },
    {
     "name": "stdout",
     "output_type": "stream",
     "text": [
      "I am making a skill check using SPOT_HIDDEN against a difficulty of MEDIUM.\n",
      "And I rolled a 10 for a result of SUCCESS. TURN: 3 \n",
      "\n",
      "\n",
      "Your eyes carefully scan the withered body and the pentagram, your senses heightened by the eerie atmosphere of the hidden room. The success of your spot_hidden skill allows you to notice several key details that were not immediately apparent. The strange red fluid forming the pentagram seems to shimmer with an unnatural glow, suggesting it's not merely blood but something far more eldritch. You also notice that the symbols within the pentagram are of a language not known to the modern world, possibly hinting at ancient rites or summoning rituals.\n",
      "\n",
      "Most disturbingly, as you examine the withered body, you see the writhing mass within the facial cavity more clearly. It's a nest of tentacles, each moving with a purpose, as if waiting for something—or someone—to come close enough. Despite the body's desiccated appearance, this activity within suggests a sinister semblance of life.\n",
      "\n",
      "Professor Dagger, observing your keen investigation, nods in grim acknowledgment. \"This is no ordinary corpse,\" he murmurs, \"and that pentagram... it's a seal of some sort. We must tread carefully.\"\n",
      "\n",
      "possible actions:\n",
      "1. Ask Professor Dagger if he knows how to safely interact with the book.\n",
      "2. Suggest using an object to touch or move the book from the podium.\n",
      "3. Decide to leave the room to avoid disturbing the pentagram and the body further."
     ]
    },
    {
     "data": {
      "application/vnd.jupyter.widget-view+json": {
       "model_id": "2ae86ee192bc471ebf194b5e2da16aeb",
       "version_major": 2,
       "version_minor": 0
      },
      "text/plain": [
       "HBox(children=(Button(description='1', layout=Layout(width='auto'), style=ButtonStyle(), tooltip='Ask Professo…"
      ]
     },
     "metadata": {},
     "output_type": "display_data"
    },
    {
     "data": {
      "application/vnd.jupyter.widget-view+json": {
       "model_id": "390b9abb040a40e098faac5773f807ee",
       "version_major": 2,
       "version_minor": 0
      },
      "text/plain": [
       "HBox(children=(Text(value='', layout=Layout(width='100%')), Button(description='SUBMIT', layout=Layout(width='…"
      ]
     },
     "metadata": {},
     "output_type": "display_data"
    },
    {
     "name": "stdout",
     "output_type": "stream",
     "text": [
      "I select option 2. TURN: 4 \n",
      "\n",
      "\n",
      "\"Perhaps we should use something to touch or move the book from the podium,\" you suggest cautiously, aware of the potential danger that the pentagram and the withered body present. Professor Dagger nods in agreement, his eyes scanning the room for a suitable object.\n",
      "\n",
      "After a brief search, you find a long, rusted iron rod among the debris scattered around the room. It seems sturdy enough to extend your reach without requiring you to step into the pentagram or get too close to the withered body.\n",
      "\n",
      "With the rod in hand, you approach the podium carefully, making sure to maintain a safe distance from the pentagram. Your heart races as you extend the rod towards the book, the ancient tome seemingly emanating a palpable aura of foreboding.\n",
      "\n",
      "possible actions:\n",
      "1. Attempt to flip the book open with the rod.\n",
      "2. Try to push the book off the podium using the rod.\n",
      "3. Call out to the withered body, hoping for a reaction or a sign."
     ]
    },
    {
     "data": {
      "application/vnd.jupyter.widget-view+json": {
       "model_id": "33f4a5d384a14f36bc6feaadc0cd0cca",
       "version_major": 2,
       "version_minor": 0
      },
      "text/plain": [
       "HBox(children=(Button(description='1', layout=Layout(width='auto'), style=ButtonStyle(), tooltip='Attempt to f…"
      ]
     },
     "metadata": {},
     "output_type": "display_data"
    },
    {
     "name": "stdout",
     "output_type": "stream",
     "text": [
      "I select option 1. TURN: 5 \n",
      "\n",
      "\n",
      "skill: dexterity\n",
      "difficulty: medium"
     ]
    },
    {
     "data": {
      "application/vnd.jupyter.widget-view+json": {
       "model_id": "74aa661d3a4e4b86a91ede34c2bdc56b",
       "version_major": 2,
       "version_minor": 0
      },
      "text/plain": [
       "HBox(children=(Button(description='DEXTERITY [MEDIUM]', layout=Layout(width='auto'), style=ButtonStyle()), But…"
      ]
     },
     "metadata": {},
     "output_type": "display_data"
    },
    {
     "name": "stdout",
     "output_type": "stream",
     "text": [
      "I am making a skill check using DEXTERITY against a difficulty of MEDIUM.\n",
      "And I rolled a 46 for a result of SUCCESS. TURN: 6 \n",
      "\n",
      "\n",
      "With a steady hand and focused intent, you carefully manipulate the rusted iron rod, aiming to flip the book open without disturbing its ancient rest. Your dexterity proves sufficient as the rod makes contact with the aged cover, gently lifting it and allowing the book to fall open.\n",
      "\n",
      "The pages, yellowed with age, flutter slightly as if breathing a sigh of relief at being exposed to the air once more. The book opens to a page filled with cryptic symbols and diagrams that defy immediate understanding, yet you can't shake off the feeling that the knowledge contained within is of immense power and danger.\n",
      "\n",
      "As the book opens, a sudden change occurs in the room. The strange red fluid forming the pentagram around the withered body begins to evaporate rapidly, disappearing into thin air as if it were never there. This sudden alteration in the room's dynamics feels like the breaking of a seal, releasing an unseen energy that was held in check.\n",
      "\n",
      "The immediate consequence of your action becomes horrifyingly clear as the withered body begins to convulse violently. The tentacles within the facial cavity burst forth, elongating and reaching out as if seeking something—or someone. Professor Dagger, standing too close in his curiosity, is caught by surprise as the tentacles wrap around him, pulling him towards the gaping cavity with terrifying speed.\n",
      "\n",
      "possible actions:\n",
      "1. Attempt to save Professor Dagger from the withered body.\n",
      "2. Grab the book and run towards the exit.\n",
      "3. Search for a weapon or object to fight the withered body."
     ]
    },
    {
     "data": {
      "application/vnd.jupyter.widget-view+json": {
       "model_id": "fe604cc6a0cb40a28aaca410194eb780",
       "version_major": 2,
       "version_minor": 0
      },
      "text/plain": [
       "HBox(children=(Button(description='1', layout=Layout(width='auto'), style=ButtonStyle(), tooltip='Attempt to s…"
      ]
     },
     "metadata": {},
     "output_type": "display_data"
    },
    {
     "name": "stdout",
     "output_type": "stream",
     "text": [
      "I select option 2. TURN: 7 \n",
      "\n",
      "\n",
      "Without a moment's hesitation, driven by the primal urge to survive, you lunge for the book on the podium. Grasping it firmly in your hands, you turn and sprint towards the entrance of the hidden room, the screams of Professor Dagger echoing hauntingly behind you. The air feels thick, as if the very atmosphere is trying to impede your escape, but the terror of what's unfolding behind you propels you forward with renewed urgency.\n",
      "\n",
      "As you navigate the dark corridor, the light at the end seems impossibly far, yet you push on, the book clutched tightly against your chest. The sounds of the withered body's tentacles slithering across the ground in pursuit send shivers down your spine, urging you to quicken your pace.\n",
      "\n",
      "Reaching the false wall that conceals the entrance to the hidden room, you push through, emerging into the storage room once again. The familiar sight of cluttered furniture and boxes provides a stark contrast to the horrors you've just witnessed.\n",
      "\n",
      "possible actions:\n",
      "1. Look for a place to hide in the storage room.\n",
      "2. Head straight for the storage facility's exit.\n",
      "3. Attempt to barricade the entrance to the hidden room."
     ]
    },
    {
     "data": {
      "application/vnd.jupyter.widget-view+json": {
       "model_id": "0098b90ff2af4fe59fae62e9cddec6f9",
       "version_major": 2,
       "version_minor": 0
      },
      "text/plain": [
       "HBox(children=(Button(description='1', layout=Layout(width='auto'), style=ButtonStyle(), tooltip='Look for a p…"
      ]
     },
     "metadata": {},
     "output_type": "display_data"
    },
    {
     "name": "stdout",
     "output_type": "stream",
     "text": [
      "I select option 2. TURN: 8 \n",
      "\n",
      "\n",
      "With the book still firmly in your grip, you waste no time and dart towards the storage facility's exit. Every second counts, and the adrenaline coursing through your veins sharpens your focus on escape. The storage room, once a place of hopeful scavenging, now feels like a labyrinth of obstacles. You maneuver around boxes and furniture with a desperate agility, the echoes of your footsteps a constant reminder to move faster.\n",
      "\n",
      "As you reach the facility's main hallway, the exit sign glows ominously in the dim light, a beacon of hope amidst the unfolding nightmare. Your heart pounds in your chest as you approach the door, pushing against it with all your might.\n",
      "\n",
      "However, your heart sinks when you realize the door won't budge. Panic sets in as it dawns on you that the exit is locked, trapping you inside with the unspeakable horror that now roams the corridors behind you.\n",
      "\n",
      "possible actions:\n",
      "1. Search for another way out of the facility.\n",
      "2. Try to find the key to unlock the exit.\n",
      "3. Prepare to confront the withered body if it approaches."
     ]
    },
    {
     "data": {
      "application/vnd.jupyter.widget-view+json": {
       "model_id": "b7ed868e28b14963a24ce9dccb2dd823",
       "version_major": 2,
       "version_minor": 0
      },
      "text/plain": [
       "HBox(children=(Button(description='1', layout=Layout(width='auto'), style=ButtonStyle(), tooltip='Search for a…"
      ]
     },
     "metadata": {},
     "output_type": "display_data"
    },
    {
     "name": "stdout",
     "output_type": "stream",
     "text": [
      "I select option 3. TURN: 9 \n",
      "\n",
      "\n",
      "Realizing that escape is not immediately possible and that confrontation might be inevitable, you quickly scan the environment for anything that could be used as a weapon or means of defense against the withered body. The storage facility, with its assortment of abandoned belongings and tools, might just have what you need to stand a chance.\n",
      "\n",
      "Your eyes land on a heavy crowbar leaning against a nearby wall, likely left behind by someone who once rented a storage unit. The crowbar feels solid and reliable in your hands, a comforting weight against the uncertainty of facing the horror that pursues you.\n",
      "\n",
      "You position yourself strategically, making sure you have a clear view of the hallway leading to the hidden room. The eerie silence is punctuated only by your own heavy breathing and the distant, slithering sound of the withered body's approach. You grip the crowbar tighter, preparing for the moment the creature appears.\n",
      "\n",
      "possible actions:\n",
      "1. Call out to the creature to distract it.\n",
      "2. Remain silent and wait for the right moment to strike.\n",
      "3. Look for a place nearby to set up an ambush."
     ]
    },
    {
     "data": {
      "application/vnd.jupyter.widget-view+json": {
       "model_id": "7abaf8c3394c4c3ca98a72772cbebee8",
       "version_major": 2,
       "version_minor": 0
      },
      "text/plain": [
       "HBox(children=(Button(description='1', layout=Layout(width='auto'), style=ButtonStyle(), tooltip='Call out to …"
      ]
     },
     "metadata": {},
     "output_type": "display_data"
    },
    {
     "name": "stdout",
     "output_type": "stream",
     "text": [
      "I select option 1. TURN: 10 \n",
      "\n",
      "\n",
      "skill: fast_talk\n",
      "difficulty: hard"
     ]
    },
    {
     "data": {
      "application/vnd.jupyter.widget-view+json": {
       "model_id": "f9119e6bee714069ba0c2a939316df89",
       "version_major": 2,
       "version_minor": 0
      },
      "text/plain": [
       "HBox(children=(Button(description='FAST_TALK [HARD]', layout=Layout(width='auto'), style=ButtonStyle()), Butto…"
      ]
     },
     "metadata": {},
     "output_type": "display_data"
    },
    {
     "name": "stdout",
     "output_type": "stream",
     "text": [
      "I am making a skill check using FAST_TALK against a difficulty of HARD.\n",
      "And I rolled a 41 for a result of FAILURE. TURN: 11 \n",
      "\n",
      "\n",
      "In a moment of desperation, you call out to the creature, hoping to confuse or distract it with your words. However, the attempt to use fast_talk against such an unnatural being proves futile. The words you utter feel hollow in the oppressive air of the storage facility, and the creature, driven by instincts far removed from human comprehension, does not falter in its advance.\n",
      "\n",
      "The slithering sound grows louder, and you realize that the creature is not only undeterred but possibly even more agitated by your attempt to communicate. It becomes clear that the withered body, with its tentacles flailing in anticipation, recognizes only the desire to pursue and consume.\n",
      "\n",
      "As the creature rounds the corner into view, its horrifying form illuminated by the dim light, you understand that the time for words has passed. The failure of your attempt to distract it leaves you with no option but to confront the creature directly, crowbar in hand, ready to defend yourself with all the strength you can muster.\n",
      "\n",
      "possible actions:\n",
      "1. Swing the crowbar at the creature as it approaches.\n",
      "2. Attempt to dodge past the creature and search for another escape route.\n",
      "3. Use the environment to your advantage in the confrontation."
     ]
    },
    {
     "data": {
      "application/vnd.jupyter.widget-view+json": {
       "model_id": "4113ec7e4ddc46bb90d189036b1047b4",
       "version_major": 2,
       "version_minor": 0
      },
      "text/plain": [
       "HBox(children=(Button(description='1', layout=Layout(width='auto'), style=ButtonStyle(), tooltip='Swing the cr…"
      ]
     },
     "metadata": {},
     "output_type": "display_data"
    },
    {
     "name": "stdout",
     "output_type": "stream",
     "text": [
      "I select option 1. TURN: 12 \n",
      "\n",
      "\n",
      "skill: fighting\n",
      "difficulty: hard"
     ]
    },
    {
     "data": {
      "application/vnd.jupyter.widget-view+json": {
       "model_id": "d69d697bb3444dc980e8223c253b37fa",
       "version_major": 2,
       "version_minor": 0
      },
      "text/plain": [
       "HBox(children=(Button(description='FIGHTING [HARD]', layout=Layout(width='auto'), style=ButtonStyle()), Button…"
      ]
     },
     "metadata": {},
     "output_type": "display_data"
    },
    {
     "name": "stdout",
     "output_type": "stream",
     "text": [
      "I am making a skill check using FIGHTING against a difficulty of HARD.\n",
      "And I rolled a 9 for a result of SUCCESS. TURN: 13 \n",
      "\n",
      "\n",
      "With resolve steeling your nerves, you prepare to confront the monstrous entity head-on. As the withered body, propelled by its grotesque tentacles, lunges towards you, you raise the crowbar with both hands, channeling every ounce of desperation, fear, and determination into a single, decisive strike.\n",
      "\n",
      "The crowbar connects with a sickening thud, the force of your blow directed at the creature's writhing mass. The impact sends shockwaves up your arms, but you hold firm, driven by the primal need to survive. The creature recoils from the strike, its tentacles flailing wildly as if confused and pained by the unexpected resistance.\n",
      "\n",
      "In that moment, you realize the success of your fighting skill has bought you precious time. The creature, momentarily stunned, hesitates in its advance, giving you a critical opportunity to act. Your heart races as you weigh your next move, knowing that each decision could mean the difference between life and death.\n",
      "\n",
      "possible actions:\n",
      "1. Strike the creature again while it's recoiling.\n",
      "2. Take advantage of the creature's momentary confusion to escape.\n",
      "3. Search for something in the environment to use as a trap or barricade."
     ]
    },
    {
     "data": {
      "application/vnd.jupyter.widget-view+json": {
       "model_id": "0135b12cbb854a2f9c97937347e3deca",
       "version_major": 2,
       "version_minor": 0
      },
      "text/plain": [
       "HBox(children=(Button(description='1', layout=Layout(width='auto'), style=ButtonStyle(), tooltip=\"Strike the c…"
      ]
     },
     "metadata": {},
     "output_type": "display_data"
    },
    {
     "name": "stdout",
     "output_type": "stream",
     "text": [
      "I select option 1. TURN: 14 \n",
      "\n",
      "\n",
      "skill: fighting\n",
      "difficulty: hard"
     ]
    },
    {
     "data": {
      "application/vnd.jupyter.widget-view+json": {
       "model_id": "2377a318ab1146c881c447625368b6f4",
       "version_major": 2,
       "version_minor": 0
      },
      "text/plain": [
       "HBox(children=(Button(description='FIGHTING [HARD]', layout=Layout(width='auto'), style=ButtonStyle()), Button…"
      ]
     },
     "metadata": {},
     "output_type": "display_data"
    },
    {
     "name": "stdout",
     "output_type": "stream",
     "text": [
      "I am making a skill check using FIGHTING against a difficulty of HARD.\n",
      "And I rolled a 55 for a result of FAILURE. TURN: 15 \n",
      "\n",
      "\n",
      "Emboldened by your previous success, you attempt to strike the creature again, aiming to incapacitate it or at least fend it off long enough to make your escape. However, this time, as you swing the crowbar with all your might, the creature, seemingly learning from the last encounter, reacts with terrifying speed.\n",
      "\n",
      "Its tentacles lash out, intercepting the crowbar mid-swing, and with a strength that belies its withered appearance, the creature wrenches the weapon from your grasp. The crowbar clatters to the ground, leaving you defenseless.\n",
      "\n",
      "The failure of your attack leaves you exposed and vulnerable as the creature, now enraged, advances with renewed vigor. Its tentacles, moving with a purpose, reach out for you, intent on pulling you into its deadly embrace.\n",
      "\n",
      "In this moment of desperation, with options dwindling and the creature closing in, you realize the gravity of your situation. The storage facility, once a place of potential fortune, has become a labyrinth of horror from which escape seems increasingly unlikely.\n",
      "\n",
      "possible actions:\n",
      "1. Attempt to dodge the creature and retrieve the crowbar.\n",
      "2. Look for a makeshift weapon or object to defend yourself.\n",
      "3. Run, using the storage facility's maze-like layout to your advantage."
     ]
    },
    {
     "data": {
      "application/vnd.jupyter.widget-view+json": {
       "model_id": "56a23a3ba1bc444b84a05fa87589ec53",
       "version_major": 2,
       "version_minor": 0
      },
      "text/plain": [
       "HBox(children=(Button(description='1', layout=Layout(width='auto'), style=ButtonStyle(), tooltip='Attempt to d…"
      ]
     },
     "metadata": {},
     "output_type": "display_data"
    },
    {
     "name": "stdout",
     "output_type": "stream",
     "text": [
      "I select option 1. TURN: 16 \n",
      "\n",
      "\n",
      "skill: dexterity\n",
      "difficulty: hard"
     ]
    },
    {
     "data": {
      "application/vnd.jupyter.widget-view+json": {
       "model_id": "ca1e7edbbf0e4baabd49ebbfd26007c9",
       "version_major": 2,
       "version_minor": 0
      },
      "text/plain": [
       "HBox(children=(Button(description='DEXTERITY [HARD]', layout=Layout(width='auto'), style=ButtonStyle()), Butto…"
      ]
     },
     "metadata": {},
     "output_type": "display_data"
    },
    {
     "name": "stdout",
     "output_type": "stream",
     "text": [
      "I am making a skill check using DEXTERITY against a difficulty of HARD.\n",
      "And I rolled a 52 for a result of FAILURE. TURN: 17 \n",
      "\n",
      "\n",
      "In a desperate bid for survival, you attempt to dodge past the creature to retrieve your only means of defense, the crowbar. However, the creature's tentacles, swift and unyielding, predict and counter your every move. Your attempt to outmaneuver it fails as one of the tentacles wraps around your ankle, pulling you off balance and to the ground with a jarring thud.\n",
      "\n",
      "The cold, hard floor of the storage facility meets your back as you struggle against the creature's grip. The realization that you cannot reach the crowbar, now several feet away, sinks in. The creature looms over you, its tentacles poised to strike or drag you into its nightmarish embrace.\n",
      "\n",
      "With the crowbar out of reach and the creature closing in, your situation appears dire. The failure to retrieve your weapon has left you vulnerable and at the mercy of the horror that now seeks to claim you.\n",
      "\n",
      "possible actions:\n",
      "1. Attempt to kick the creature and free yourself from its grasp.\n",
      "2. Shout for help, hoping against odds that someone might hear you.\n",
      "3. Use whatever is within arm's reach to fend off the creature."
     ]
    },
    {
     "data": {
      "application/vnd.jupyter.widget-view+json": {
       "model_id": "d0c585275e42486aa79e0e4d4ba8e0a4",
       "version_major": 2,
       "version_minor": 0
      },
      "text/plain": [
       "HBox(children=(Button(description='1', layout=Layout(width='auto'), style=ButtonStyle(), tooltip='Attempt to k…"
      ]
     },
     "metadata": {},
     "output_type": "display_data"
    },
    {
     "name": "stdout",
     "output_type": "stream",
     "text": [
      "I select option 1. TURN: 18 \n",
      "\n",
      "\n",
      "skill: fighting\n",
      "difficulty: hard"
     ]
    },
    {
     "data": {
      "application/vnd.jupyter.widget-view+json": {
       "model_id": "112bef5eb9db4604b25e91813b8db97a",
       "version_major": 2,
       "version_minor": 0
      },
      "text/plain": [
       "HBox(children=(Button(description='FIGHTING [HARD]', layout=Layout(width='auto'), style=ButtonStyle()), Button…"
      ]
     },
     "metadata": {},
     "output_type": "display_data"
    },
    {
     "name": "stdout",
     "output_type": "stream",
     "text": [
      "I am making a skill check using FIGHTING against a difficulty of HARD.\n",
      "And I rolled a 40 for a result of FAILURE. TURN: 19 \n",
      "\n",
      "\n",
      "In a final, desperate attempt to fend off the creature, you muster all your strength to kick at the tentacle that has ensnared your ankle. Your foot connects, but the impact feels like striking a mass of tightly coiled steel cables rather than flesh. The creature's grip does not waver; instead, it tightens, the pressure excruciating as it begins to drag you closer to its gaping maw.\n",
      "\n",
      "Your efforts to fight back, to somehow turn the tide in this nightmarish confrontation, falter as the realization sets in: the creature's strength far surpasses your own. The failure of your attempt leaves you lying on the cold floor, breathless and defenseless, as the creature looms over you, its tentacles ready to strike.\n",
      "\n",
      "In these final moments, as the creature prepares to deliver its fatal blow, the harsh reality of your situation becomes painfully clear. The storage facility, with its hidden horrors and dark secrets, will likely be your final resting place, a thought that fills you with a profound sense of despair.\n",
      "\n",
      "As the creature's tentacles descend upon you, the world fades to black, the last thing you remember before succumbing to the darkness.\n",
      "\n",
      "round summary: Kyle Jackson's desperate search for a better life led him to a hidden horror within a storage facility. Despite his efforts to escape and defend himself, he ultimately failed to overcome the monstrous entity that dwelled within. His final moments were marked by terror and desperation, a tragic end to his story."
     ]
    },
    {
     "data": {
      "application/vnd.jupyter.widget-view+json": {
       "model_id": "7f87c7d1d070496982e31cac30f3bc6d",
       "version_major": 2,
       "version_minor": 0
      },
      "text/plain": [
       "HBox(children=(Button(description='NEXT ROUND', layout=Layout(width='auto'), style=ButtonStyle()), Button(desc…"
      ]
     },
     "metadata": {},
     "output_type": "display_data"
    }
   ],
   "source": [
    "import re\n",
    "import tomllib\n",
    "import functools\n",
    "from typing import Literal\n",
    "\n",
    "import ipywidgets as widgets\n",
    "from IPython.display import display\n",
    "\n",
    "from dotenv import load_dotenv\n",
    "load_dotenv()\n",
    "\n",
    "from rs import Message, Config, chat\n",
    "import d20\n",
    "\n",
    "action_pattern = re.compile(r\"(\\d+). *(.+)\")\n",
    "skill_pattern = re.compile(r\"[\\w_]+\")\n",
    "skill_difficulty_pattern = re.compile(r\"(easy|medium|hard)\")\n",
    "\n",
    "def next_round(b):\n",
    "    global current_round, initial_messages\n",
    "    current_round += 1\n",
    "    initial_messages = config.initial_messages(current_round, config.metadata)\n",
    "\n",
    "    print(initial_messages[-1].content)\n",
    "    display(get_controls(initial_messages[-1]))\n",
    "\n",
    "def get_user_message_tail():\n",
    "    count = 0\n",
    "    for msg in initial_messages:\n",
    "        if msg.role == \"user\":\n",
    "            count += 1\n",
    "\n",
    "    is_final =  \", FINAL ROUND\" if  current_round == len(config.rounds) else \"\"\n",
    "    return f\"TURN: {count + 1} {is_final}\"\n",
    "    \n",
    "\n",
    "def do_chat(role:Literal[\"user\", \"system\", \"assistant\"], content: str):\n",
    "    print(f\"{content}\\n\\n\")\n",
    "\n",
    "    initial_messages.append(Message(role=role, content=content))\n",
    "    msg = chat(initial_messages, lambda delta: print(delta, end=\"\"))\n",
    "\n",
    "    initial_messages.append(msg)\n",
    "    display(get_controls(msg))\n",
    "\n",
    "def on_skill(b, skill:str, difficulty:str):\n",
    "    content = f\"I am making a skill check using {skill.upper()} against a difficulty of {difficulty.upper()}.\"\n",
    "\n",
    "    d = difficulty.lower()\n",
    "    dc = 50\n",
    "    if d == \"easy\":\n",
    "        dc = 75\n",
    "    elif d == \"hard\":\n",
    "        dc = 25\n",
    "    roll = d20.roll(\"1d100\").total\n",
    "    result = \"Success\" if roll <= dc else \"Failure\"\n",
    "    if roll == 1:\n",
    "        result = \"Critical Success\"\n",
    "    elif roll == 100:\n",
    "        result = \"Critical Failure\"\n",
    "    \n",
    "    content += f\"\\nAnd I rolled a {roll} for a result of {result.upper()}. {get_user_message_tail()}\"\n",
    "    do_chat(\"user\", content)\n",
    "\n",
    "def on_action(b, index:int):\n",
    "    content = f\"I select option {index}. {get_user_message_tail()}\"\n",
    "    do_chat(\"user\", content)\n",
    "\n",
    "def on_custom_input(b, input:widgets.Text):\n",
    "    content = f\"{input.value}. {get_user_message_tail()}\"\n",
    "    do_chat(\"user\", content)\n",
    "\n",
    "def on_custom_action(b):\n",
    "    hbox = widgets.HBox(layout=widgets.Layout(width=\"100%\"))\n",
    "    action_text = widgets.Text(layout=widgets.Layout(width=\"100%\"))\n",
    "    submit = widgets.Button(description=\"SUBMIT\", layout=widgets.Layout(width=\"fit-content\"))\n",
    "    submit.on_click(functools.partial(on_custom_input, input=action_text))\n",
    "    hbox.children += (action_text, submit) \n",
    "    display(hbox)\n",
    "\n",
    "def get_controls(msg:Message) -> widgets.Box:\n",
    "    dict = msg.dict()\n",
    "    buttons = []\n",
    "    if \"possible actions\" in dict.keys():\n",
    "        matches = action_pattern.finditer(dict[\"possible actions\"])\n",
    "        for match in matches:\n",
    "            btn = widgets.Button(description=match.group(1), tooltip=match.group(2), layout=widgets.Layout(width=\"auto\"))\n",
    "            btn.on_click(functools.partial(on_action, index=int(match.group(1))))\n",
    "            buttons.append(btn)\n",
    "    elif \"skill\" in dict.keys() and \"difficulty\" in dict.keys():\n",
    "        match = skill_pattern.match(dict[\"skill\"])\n",
    "        skill = match.group(0)\n",
    "        match = skill_difficulty_pattern.match(dict[\"difficulty\"])\n",
    "        difficulty = match.group(0)\n",
    "        skill_button = widgets.Button(description=f\"{skill.upper()} [{difficulty.upper()}]\", layout=widgets.Layout(width=\"auto\"))\n",
    "        skill_button.on_click(functools.partial(on_skill, skill=skill, difficulty=difficulty))\n",
    "        buttons.append(skill_button)\n",
    "    elif \"round summary\" in dict.keys():\n",
    "        next_btn = widgets.Button(description=\"NEXT ROUND\", layout=widgets.Layout(width=\"auto\"))\n",
    "        next_btn.on_click(next_round)\n",
    "        buttons.append(next_btn)\n",
    "    \n",
    "    custom_action_button = widgets.Button(description=\"CUSTOM\")\n",
    "    custom_action_button.on_click(on_custom_action)\n",
    "    buttons.append(custom_action_button)\n",
    "\n",
    "    return widgets.HBox(buttons)\n",
    "\n",
    "# open config file\n",
    "config_name = \"data/coc_lot_36.toml\"\n",
    "config: Config | None = None\n",
    "with open(config_name, \"rb\") as f:\n",
    "    data = tomllib.load(f)\n",
    "    config = Config(**data)\n",
    "\n",
    "current_round = 5\n",
    "initial_messages = config.initial_messages(current_round, config.metadata)\n",
    "\n",
    "print(initial_messages[-1].content)\n",
    "display(get_controls(initial_messages[-1]))\n"
   ]
  }
 ],
 "metadata": {
  "kernelspec": {
   "display_name": ".venv",
   "language": "python",
   "name": "python3"
  },
  "language_info": {
   "codemirror_mode": {
    "name": "ipython",
    "version": 3
   },
   "file_extension": ".py",
   "mimetype": "text/x-python",
   "name": "python",
   "nbconvert_exporter": "python",
   "pygments_lexer": "ipython3",
   "version": "3.12.3"
  }
 },
 "nbformat": 4,
 "nbformat_minor": 2
}
