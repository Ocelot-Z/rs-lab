{
 "cells": [
  {
   "cell_type": "code",
   "execution_count": 10,
   "metadata": {},
   "outputs": [
    {
     "name": "stdout",
     "output_type": "stream",
     "text": [
      "Requirement already satisfied: fastapi in c:\\python\\lib\\site-packages (0.110.2)\n",
      "Requirement already satisfied: pydantic in c:\\python\\lib\\site-packages (2.7.0)\n",
      "Requirement already satisfied: toml in c:\\python\\lib\\site-packages (0.10.2)\n",
      "Requirement already satisfied: starlette<0.38.0,>=0.37.2 in c:\\python\\lib\\site-packages (from fastapi) (0.37.2)\n",
      "Requirement already satisfied: typing-extensions>=4.8.0 in c:\\python\\lib\\site-packages (from fastapi) (4.11.0)\n",
      "Requirement already satisfied: annotated-types>=0.4.0 in c:\\python\\lib\\site-packages (from pydantic) (0.6.0)\n",
      "Requirement already satisfied: pydantic-core==2.18.1 in c:\\python\\lib\\site-packages (from pydantic) (2.18.1)\n",
      "Requirement already satisfied: anyio<5,>=3.4.0 in c:\\python\\lib\\site-packages (from starlette<0.38.0,>=0.37.2->fastapi) (4.3.0)\n",
      "Requirement already satisfied: idna>=2.8 in c:\\python\\lib\\site-packages (from anyio<5,>=3.4.0->starlette<0.38.0,>=0.37.2->fastapi) (3.7)\n",
      "Requirement already satisfied: sniffio>=1.1 in c:\\python\\lib\\site-packages (from anyio<5,>=3.4.0->starlette<0.38.0,>=0.37.2->fastapi) (1.3.1)\n",
      "Note: you may need to restart the kernel to use updated packages.\n"
     ]
    }
   ],
   "source": [
    "%pip install fastapi pydantic toml"
   ]
  },
  {
   "cell_type": "code",
   "execution_count": 11,
   "metadata": {},
   "outputs": [],
   "source": [
    "# from rs import skill_check\n",
    "\n",
    "# def test_skill_check(metadata):\n",
    "#     print(skill_check(\"sanity\", None, metadata))\n",
    "\n",
    "# metadata = {\n",
    "#     \"character\": {\"sanity\":30},\n",
    "#     \"symptom\":[\n",
    "#         \"incoherent speech\",\n",
    "#         \"uncontrollable twitching, trembling\",\n",
    "#         \"delusions of persecution\",\n",
    "#         \"strange appetites (dirt, clay, etc...)\",\n",
    "#         \"scratches, punches, and bruises all over the body\"\n",
    "#     ]\n",
    "# }\n",
    "\n",
    "# test_skill_check(metadata)\n",
    "# test_skill_check(metadata)\n",
    "# test_skill_check(metadata)\n",
    "# test_skill_check(metadata)\n",
    "# test_skill_check(metadata)\n",
    "# test_skill_check(metadata)\n",
    "# test_skill_check(metadata)\n",
    "# test_skill_check(metadata)\n",
    "# test_skill_check(metadata)\n",
    "# test_skill_check(metadata)\n",
    "# test_skill_check(metadata)\n",
    "# test_skill_check(metadata)\n",
    "\n",
    "# print(metadata[\"character\"])\n"
   ]
  },
  {
   "cell_type": "code",
   "execution_count": 12,
   "metadata": {},
   "outputs": [
    {
     "name": "stdout",
     "output_type": "stream",
     "text": [
      "The year is 2023, you travelled to some distant mountains and forest in Hokkaido to do some scenic photography in the middle of the week during autumn. You wanted to get away from the city life of Tokyo just so you can make some time for yourself and think about the future and want to do in your life. As you are hiking through the quiet mountain pass, you hear a cry of a girl just in the distance. You quickly made your way towards the sound and found a beautiful young lady on the side of the road, and appears to have accidently injured herself.\n",
      "\n",
      "What is your response?\n",
      "\n",
      "possible actions:\n",
      "1. Offer your assitance and then introduce yourself casually\n",
      "2. Say a funny pick up line\n",
      "3. Ignore her and keep walking\n"
     ]
    },
    {
     "data": {
      "application/vnd.jupyter.widget-view+json": {
       "model_id": "b14b32168af7446e9189619392182598",
       "version_major": 2,
       "version_minor": 0
      },
      "text/plain": [
       "HBox(children=(Button(description='1', layout=Layout(width='auto'), style=ButtonStyle(), tooltip='Offer your a…"
      ]
     },
     "metadata": {},
     "output_type": "display_data"
    },
    {
     "name": "stdout",
     "output_type": "stream",
     "text": [
      "I select option 1. TURN: 1 \n",
      "\n",
      "\n",
      "<start>\n",
      "Rushing over to her side, you quickly assess the situation before speaking, \"Hey, are you okay? That looks painful. Here, let me help you.\" Your tone is warm and concerned, showing genuine care for her well-being. After helping her to a more comfortable position, you extend a hand, introducing yourself, \"I'm Hikaru Mikami. What's your name?\"\n",
      "\n",
      "Mitsuha looks up at you, a mix of surprise and relief flashing across her face. \"Thank you, Hikaru. I'm Mitsuha Tomoe. I wasn't watching where I was going and slipped. It's a bit embarrassing,\" she admits with a sheepish smile. Despite the situation, she seems to appreciate your help and introduction.\n",
      "\n",
      "possible actions:\n",
      "1. Ask her if she needs any medical assistance or if there's someone you can call for her.\n",
      "2. Offer to accompany her to her destination for safety.\n",
      "3. Make a light-hearted joke to ease the tension.\n",
      "<end>"
     ]
    },
    {
     "data": {
      "application/vnd.jupyter.widget-view+json": {
       "model_id": "c9db757a8bb54cccbd4f64e4da0a1b7c",
       "version_major": 2,
       "version_minor": 0
      },
      "text/plain": [
       "HBox(children=(Button(description='1', layout=Layout(width='auto'), style=ButtonStyle(), tooltip=\"Ask her if s…"
      ]
     },
     "metadata": {},
     "output_type": "display_data"
    },
    {
     "data": {
      "application/vnd.jupyter.widget-view+json": {
       "model_id": "a8a9d4778c724f538f46ad1c2cee19ac",
       "version_major": 2,
       "version_minor": 0
      },
      "text/plain": [
       "HBox(children=(Text(value='', layout=Layout(width='100%')), Button(description='SUBMIT', layout=Layout(width='…"
      ]
     },
     "metadata": {},
     "output_type": "display_data"
    },
    {
     "name": "stdout",
     "output_type": "stream",
     "text": [
      "I select option 3. TURN: 2 \n",
      "\n",
      "\n",
      "<start>\n",
      "With a playful grin, you decide to lighten the mood, \"Well, they say every great adventure has its ups and downs. Looks like you've just had a little 'trip' down the adventurous path, huh?\" Your tone is light, aiming to bring a smile to her face.\n",
      "\n",
      "Mitsuha's eyes light up with amusement at your joke, and a gentle laugh escapes her lips. \"That's one way to look at it,\" she responds, her mood visibly lifted by your humor. \"I guess I should be more careful on my adventures. Thanks for making me smile, Hikaru.\"\n",
      "\n",
      "possible actions:\n",
      "1. Offer to help her get back on her feet and see if she can walk.\n",
      "2. Suggest finding a nearby place to rest and assess her injury more thoroughly.\n",
      "3. Ask her what brought her to this remote area all by herself.\n",
      "<end>"
     ]
    },
    {
     "data": {
      "application/vnd.jupyter.widget-view+json": {
       "model_id": "34ca970ef3c2471cb37ce1ce051b62b2",
       "version_major": 2,
       "version_minor": 0
      },
      "text/plain": [
       "HBox(children=(Button(description='1', layout=Layout(width='auto'), style=ButtonStyle(), tooltip='Offer to hel…"
      ]
     },
     "metadata": {},
     "output_type": "display_data"
    },
    {
     "name": "stdout",
     "output_type": "stream",
     "text": [
      "I select option 1. TURN: 3 \n",
      "\n",
      "\n",
      "<start>\n",
      "With a nod, you gently offer your hand to help Mitsuha back to her feet. \"Let's see if you can stand. We'll take it slow,\" you say, ensuring she feels supported and not rushed.\n",
      "\n",
      "Mitsuha gratefully accepts your help, and with your assistance, she carefully stands. Testing her weight on the injured leg, she winces slightly but manages a small smile. \"Looks like I can stand, thanks to you. I might be a bit slow, but I think I can walk.\"\n",
      "\n",
      "possible actions:\n",
      "1. Suggest taking a short break to let her rest before continuing.\n",
      "2. Offer to walk with her at her pace, ensuring she gets to her destination safely.\n",
      "3. Ask her again what brought her to this remote area, now that she seems more comfortable.\n",
      "<end>"
     ]
    },
    {
     "data": {
      "application/vnd.jupyter.widget-view+json": {
       "model_id": "0afdfae3812c48e8bbc62e92442c6c72",
       "version_major": 2,
       "version_minor": 0
      },
      "text/plain": [
       "HBox(children=(Button(description='1', layout=Layout(width='auto'), style=ButtonStyle(), tooltip='Suggest taki…"
      ]
     },
     "metadata": {},
     "output_type": "display_data"
    },
    {
     "name": "stdout",
     "output_type": "stream",
     "text": [
      "I select option 2. TURN: 4 \n",
      "\n",
      "\n",
      "<start>\n",
      "\"It's no trouble at all. I'll walk with you, at your pace. Just let me know if you need to stop or rest,\" you offer warmly, showing your willingness to ensure her safety and comfort.\n",
      "\n",
      "Mitsuha looks genuinely touched by your kindness. \"Thank you, Hikaru. That's very kind of you. I'm staying at a small hotel not too far from here. I was trying to capture some of the autumn scenery when I... well, you know,\" she says with a slight chuckle, referring to her earlier mishap.\n",
      "\n",
      "As you both start walking slowly, the conversation flows more freely, and you find out that you are actually staying at the same hotel. The coincidence seems to amuse Mitsuha, and the atmosphere between you becomes more relaxed and friendly.\n",
      "\n",
      "possible actions:\n",
      "1. Express your surprise and delight at the coincidence, suggesting you could explore the area together.\n",
      "2. Offer to help her with her photography, showing interest in her hobby.\n",
      "3. Share a bit about why you're here, opening up about your own reasons for visiting this remote area.\n",
      "<end>"
     ]
    },
    {
     "data": {
      "application/vnd.jupyter.widget-view+json": {
       "model_id": "cfb75924d1174e07a598c662b4c9c14b",
       "version_major": 2,
       "version_minor": 0
      },
      "text/plain": [
       "HBox(children=(Button(description='1', layout=Layout(width='auto'), style=ButtonStyle(), tooltip='Express your…"
      ]
     },
     "metadata": {},
     "output_type": "display_data"
    },
    {
     "name": "stdout",
     "output_type": "stream",
     "text": [
      "I select option 1. TURN: 5 \n",
      "\n",
      "\n",
      "<start>\n",
      "Discovering you're staying at the same hotel, you can't help but express your surprise and delight. \"What a coincidence! We're both staying at the same place. Maybe the universe is telling us we should explore some of these scenic spots together,\" you suggest with a hopeful tone, intrigued by the idea of sharing the experience with someone as spirited as Mitsuha.\n",
      "\n",
      "Mitsuha's eyes sparkle with excitement at the suggestion. \"That sounds like a wonderful idea, Hikaru! I'd love to have someone to share the adventure with, especially after today's...excitement,\" she says, her voice filled with enthusiasm. \"It's settled then. We'll make plans over dinner at the hotel?\"\n",
      "\n",
      "Your offer not only ensures her safety but also opens the door to a new friendship, or perhaps something more, as you both look forward to exploring the beautiful autumn landscape together.\n",
      "\n",
      "**Summary of the round**: Hikaru found Mitsuha injured on a mountain path and offered his assistance. After helping her up and ensuring she could walk, they discovered they were staying at the same hotel. The round ends with them making plans to explore the area together and have dinner at the hotel, marking the beginning of a potentially beautiful connection.\n",
      "\n",
      "**Triggered events**: When the PLAYER and Mitsuha arrive at the hotel and the owner sees Mitsuha's injury, she attends to it immediately, showing concern and hospitality. This act of kindness from the hotel owner makes Mitsuha feel even more grateful and comfortable with the decision to explore together with Hikaru.\n",
      "\n",
      "**End of Round**"
     ]
    },
    {
     "data": {
      "application/vnd.jupyter.widget-view+json": {
       "model_id": "fdf17a5d34ed4cecb2c0b6b6b1f350e5",
       "version_major": 2,
       "version_minor": 0
      },
      "text/plain": [
       "HBox(children=(Button(description='CUSTOM', style=ButtonStyle()),))"
      ]
     },
     "metadata": {},
     "output_type": "display_data"
    }
   ],
   "source": [
    "import re\n",
    "import tomllib\n",
    "import functools\n",
    "from typing import Literal\n",
    "\n",
    "import ipywidgets as widgets\n",
    "from IPython.display import display\n",
    "\n",
    "from dotenv import load_dotenv\n",
    "\n",
    "load_dotenv()\n",
    "\n",
    "from rs import Message, Config, chat, skill_check\n",
    "import d20\n",
    "\n",
    "action_pattern = re.compile(r\"(\\d+). *(.+)\")\n",
    "skill_pattern = re.compile(r\"[\\w_]+\")\n",
    "skill_difficulty_pattern = re.compile(r\"(easy|normal|hard)\")\n",
    "\n",
    "def next_round(b):\n",
    "    global current_round, initial_messages\n",
    "    current_round += 1\n",
    "    initial_messages = config.initial_messages(current_round, config.metadata)\n",
    "\n",
    "    print(initial_messages[-1].content)\n",
    "    display(get_controls(initial_messages[-1]))\n",
    "\n",
    "def get_user_message_tail():\n",
    "    count = 0\n",
    "    for msg in initial_messages:\n",
    "        if msg.role == \"user\":\n",
    "            count += 1\n",
    "\n",
    "    is_final =  \", FINAL ROUND\" if  current_round == len(config.rounds) else \"\"\n",
    "    \n",
    "    # print(config.metadata[\"character\"])\n",
    "    \n",
    "    if \"tags\" in config.metadata[\"character\"] and \"insane\" in config.metadata[\"character\"][\"tags\"]:\n",
    "        return f\"TURN: {count + 1} {is_final} (I'm insane!)\"\n",
    "    \n",
    "    return f\"TURN: {count + 1} {is_final}\"\n",
    "    \n",
    "\n",
    "def do_chat(role:Literal[\"user\", \"system\", \"assistant\"], content: str):\n",
    "    print(f\"{content}\\n\\n\")\n",
    "\n",
    "    initial_messages.append(Message(role=role, content=content))\n",
    "    msg = chat(initial_messages, lambda delta: print(delta, end=\"\"))\n",
    "\n",
    "    initial_messages.append(msg)\n",
    "    display(get_controls(msg))\n",
    "\n",
    "\n",
    "def on_skill(b, skill:str, difficulty:str):\n",
    "    # print(config.metadata[\"character\"])\n",
    "    content = skill_check(skill, difficulty, config.metadata)\n",
    "    content += f\"\\n{get_user_message_tail()}\"\n",
    "    do_chat(\"user\", content)\n",
    "\n",
    "def on_action(b, index:int):\n",
    "    content = f\"I select option {index}. {get_user_message_tail()}\"\n",
    "    do_chat(\"user\", content)\n",
    "\n",
    "def on_custom_input(b, input:widgets.Text):\n",
    "    content = f\"{input.value}. {get_user_message_tail()}\"\n",
    "    do_chat(\"user\", content)\n",
    "\n",
    "def on_custom_action(b):\n",
    "    hbox = widgets.HBox(layout=widgets.Layout(width=\"100%\"))\n",
    "    action_text = widgets.Text(layout=widgets.Layout(width=\"100%\"))\n",
    "    submit = widgets.Button(description=\"SUBMIT\", layout=widgets.Layout(width=\"fit-content\"))\n",
    "    submit.on_click(functools.partial(on_custom_input, input=action_text))\n",
    "    hbox.children += (action_text, submit) \n",
    "    display(hbox)\n",
    "\n",
    "def get_controls(msg:Message) -> widgets.Box:\n",
    "    dict = msg.dict()\n",
    "    buttons = []\n",
    "    if \"possible actions\" in dict.keys():\n",
    "        matches = action_pattern.finditer(dict[\"possible actions\"])\n",
    "        for match in matches:\n",
    "            btn = widgets.Button(description=match.group(1), tooltip=match.group(2), layout=widgets.Layout(width=\"auto\"))\n",
    "            btn.on_click(functools.partial(on_action, index=int(match.group(1))))\n",
    "            buttons.append(btn)\n",
    "    elif \"skill\" in dict.keys() and \"difficulty\" in dict.keys():\n",
    "        match = skill_pattern.match(dict[\"skill\"])\n",
    "        skill = match.group(0)\n",
    "        match = skill_difficulty_pattern.match(dict[\"difficulty\"])\n",
    "        difficulty = match.group(0)\n",
    "        skill_button = widgets.Button(description=f\"{skill.upper()} [{difficulty.upper()}]\", layout=widgets.Layout(width=\"auto\"))\n",
    "        skill_button.on_click(functools.partial(on_skill, skill=skill, difficulty=difficulty))\n",
    "        buttons.append(skill_button)\n",
    "    elif \"summary\" in dict.keys():\n",
    "        # add summary as a memory to the metadata\n",
    "        # it will be used in the next round.\n",
    "        # config.metadata[\"memories\"] = []\n",
    "        config.metadata[\"memories\"].append(dict[\"round summary\"])\n",
    "        next_btn = widgets.Button(description=\"NEXT ROUND\", layout=widgets.Layout(width=\"auto\"))\n",
    "        next_btn.on_click(next_round)\n",
    "        buttons.append(next_btn)\n",
    "    \n",
    "    custom_action_button = widgets.Button(description=\"CUSTOM\")\n",
    "    custom_action_button.on_click(on_custom_action)\n",
    "    buttons.append(custom_action_button)\n",
    "\n",
    "    return widgets.HBox(buttons)\n",
    "\n",
    "# open config file\n",
    "config_name = \"data/ai_gf.toml\"\n",
    "config: Config | None = None\n",
    "with open(config_name, \"rb\") as f:\n",
    "    data = tomllib.load(f)\n",
    "    config = Config(**data)\n",
    "\n",
    "current_round = 0\n",
    "initial_messages = config.initial_messages(current_round, config.metadata)\n",
    "\n",
    "print(initial_messages[-1].content)\n",
    "display(get_controls(initial_messages[-1]))"
   ]
  }
 ],
 "metadata": {
  "kernelspec": {
   "display_name": ".venv",
   "language": "python",
   "name": "python3"
  },
  "language_info": {
   "codemirror_mode": {
    "name": "ipython",
    "version": 3
   },
   "file_extension": ".py",
   "mimetype": "text/x-python",
   "name": "python",
   "nbconvert_exporter": "python",
   "pygments_lexer": "ipython3",
   "version": "3.12.3"
  }
 },
 "nbformat": 4,
 "nbformat_minor": 2
}
