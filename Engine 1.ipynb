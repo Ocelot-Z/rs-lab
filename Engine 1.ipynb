{
 "cells": [
  {
   "cell_type": "code",
   "execution_count": 1,
   "metadata": {},
   "outputs": [
    {
     "name": "stdout",
     "output_type": "stream",
     "text": [
      "Requirement already satisfied: fastapi in c:\\python\\lib\\site-packages (0.110.2)\n",
      "Requirement already satisfied: pydantic in c:\\python\\lib\\site-packages (2.7.0)\n",
      "Requirement already satisfied: toml in c:\\python\\lib\\site-packages (0.10.2)\n",
      "Requirement already satisfied: starlette<0.38.0,>=0.37.2 in c:\\python\\lib\\site-packages (from fastapi) (0.37.2)\n",
      "Requirement already satisfied: typing-extensions>=4.8.0 in c:\\python\\lib\\site-packages (from fastapi) (4.11.0)\n",
      "Requirement already satisfied: annotated-types>=0.4.0 in c:\\python\\lib\\site-packages (from pydantic) (0.6.0)\n",
      "Requirement already satisfied: pydantic-core==2.18.1 in c:\\python\\lib\\site-packages (from pydantic) (2.18.1)\n",
      "Requirement already satisfied: anyio<5,>=3.4.0 in c:\\python\\lib\\site-packages (from starlette<0.38.0,>=0.37.2->fastapi) (4.3.0)\n",
      "Requirement already satisfied: idna>=2.8 in c:\\python\\lib\\site-packages (from anyio<5,>=3.4.0->starlette<0.38.0,>=0.37.2->fastapi) (3.7)\n",
      "Requirement already satisfied: sniffio>=1.1 in c:\\python\\lib\\site-packages (from anyio<5,>=3.4.0->starlette<0.38.0,>=0.37.2->fastapi) (1.3.1)\n",
      "Note: you may need to restart the kernel to use updated packages.\n"
     ]
    }
   ],
   "source": [
    "%pip install fastapi pydantic toml"
   ]
  },
  {
   "cell_type": "code",
   "execution_count": 2,
   "metadata": {},
   "outputs": [],
   "source": [
    "# from rs import skill_check\n",
    "\n",
    "# def test_skill_check(metadata):\n",
    "#     print(skill_check(\"sanity\", None, metadata))\n",
    "\n",
    "# metadata = {\n",
    "#     \"character\": {\"sanity\":30},\n",
    "#     \"symptom\":[\n",
    "#         \"incoherent speech\",\n",
    "#         \"uncontrollable twitching, trembling\",\n",
    "#         \"delusions of persecution\",\n",
    "#         \"strange appetites (dirt, clay, etc...)\",\n",
    "#         \"scratches, punches, and bruises all over the body\"\n",
    "#     ]\n",
    "# }\n",
    "\n",
    "# test_skill_check(metadata)\n",
    "# test_skill_check(metadata)\n",
    "# test_skill_check(metadata)\n",
    "# test_skill_check(metadata)\n",
    "# test_skill_check(metadata)\n",
    "# test_skill_check(metadata)\n",
    "# test_skill_check(metadata)\n",
    "# test_skill_check(metadata)\n",
    "# test_skill_check(metadata)\n",
    "# test_skill_check(metadata)\n",
    "# test_skill_check(metadata)\n",
    "# test_skill_check(metadata)\n",
    "\n",
    "# print(metadata[\"character\"])\n"
   ]
  },
  {
   "cell_type": "code",
   "execution_count": 3,
   "metadata": {},
   "outputs": [
    {
     "name": "stdout",
     "output_type": "stream",
     "text": [
      "The year is 2023, you travelled to some distant mountains and forest in Hokkaido to do some scenic photography in the middle of the week during autumn. You wanted to get away from the city life of Tokyo just so you can make some time for yourself and think about the future and want to do in your life. As you are hiking through the quiet mountain pass, you hear a cry of a girl just in the distance. You quickly made your way towards the sound and found a beautiful young lady on the side of the road, and appears to have accidently injured herself.\n",
      "\n",
      "What is your response?\n",
      "\n",
      "possible actions:\n",
      "1. Offer your assitance and then introduce yourself casually\n",
      "2. Say a funny pick up line\n",
      "3. Ignore her and keep walking\n"
     ]
    },
    {
     "data": {
      "application/vnd.jupyter.widget-view+json": {
       "model_id": "bd318d511de14af1a2c0de3a6e634f09",
       "version_major": 2,
       "version_minor": 0
      },
      "text/plain": [
       "HBox(children=(Button(description='1', layout=Layout(width='auto'), style=ButtonStyle(), tooltip='Offer your a…"
      ]
     },
     "metadata": {},
     "output_type": "display_data"
    },
    {
     "name": "stdout",
     "output_type": "stream",
     "text": [
      "I select option 1. TURN: 1 \n",
      "\n",
      "\n",
      "Rushing to her side, you quickly assess the situation before offering your assistance. \"Hey, are you okay? That looks painful,\" you say with genuine concern in your voice. After helping her to a safer spot, you introduce yourself, \"I'm Hikaru, by the way. I was just hiking around here. Can I help you with that injury?\"\n",
      "\n",
      "Mitsuha looks up at you, surprise and relief washing over her features. \"Oh, thank you so much! I'm Mitsuha. I was trying to take a shortcut and slipped. I think I twisted my ankle,\" she explains, attempting to stand but winces in pain.\n",
      "\n",
      "You notice the injury seems minor but definitely needs some attention. \"Let's get that ankle looked at. Do you need support walking? The hotel I'm staying at isn't too far from here; they might have a first-aid kit,\" you suggest, ready to lend a shoulder for her to lean on.\n",
      "\n",
      "Mitsuha nods gratefully, \"That would be amazing. Thank you, Hikaru. I'm actually staying at the same hotel, I think. What a coincidence!\"\n",
      "\n",
      "As you both slowly make your way to the hotel with Mitsuha leaning on you for support, the conversation flows easily. Despite the unfortunate circumstances, you find Mitsuha's company quite pleasant. Her cheeky and free-spirited nature shines through her casual way of speaking, and you can't help but feel drawn to her quirky personality.\n",
      "\n",
      "Upon arriving at the hotel, the middle-aged owner quickly notices Mitsuha's condition and rushes over, concern evident on her face. \"Oh dear, what happened here?\" she exclaims, immediately guiding Mitsuha to a seat and fetching the first-aid kit.\n",
      "\n",
      "While the hotel owner attends to Mitsuha's injury, you stand by, watching the scene unfold. It's clear that Mitsuha is in good hands, and the warmth of the small hotel envelops you, making you feel at home.\n",
      "\n",
      "Mitsuha catches your eye and gives you a thankful smile, \"I really owe you one, Hikaru. How can I ever thank you?\"\n",
      "\n",
      "possible actions:\n",
      "1. Suggest having dinner together at the hotel as a way to celebrate her speedy recovery.\n",
      "2. Tell her she doesn't owe you anything; you were just happy to help.\n",
      "3. Jokingly say she can make it up to you by showing you around the area since you're both staying at the same hotel."
     ]
    },
    {
     "data": {
      "application/vnd.jupyter.widget-view+json": {
       "model_id": "9514962711d6437aa01a620418e47f60",
       "version_major": 2,
       "version_minor": 0
      },
      "text/plain": [
       "HBox(children=(Button(description='1', layout=Layout(width='auto'), style=ButtonStyle(), tooltip='Suggest havi…"
      ]
     },
     "metadata": {},
     "output_type": "display_data"
    },
    {
     "name": "stdout",
     "output_type": "stream",
     "text": [
      "I select option 3. TURN: 2 \n",
      "\n",
      "\n",
      "With a light-hearted tone, you respond, \"Well, since we're both staying at the same hotel and I'm somewhat new to the area, you can make it up to me by showing me around. I could use a good tour guide.\"\n",
      "\n",
      "Mitsuha's eyes light up at the suggestion, and she chuckles, \"That sounds like a fair deal! I'd be happy to show you around once this ankle gets better. There are some beautiful spots around here that are definitely worth visiting.\"\n",
      "\n",
      "The hotel owner finishes bandaging Mitsuha's ankle and advises her to rest it for the evening. \"You should be good as new by tomorrow if you take it easy tonight,\" she says with a warm smile.\n",
      "\n",
      "Mitsuha nods and turns to you, \"Looks like our tour will have to wait until tomorrow. But, how about dinner tonight? The hotel's restaurant has some amazing local dishes. It's the least I can do to thank you for your help today.\"\n",
      "\n",
      "You're pleasantly surprised by her offer and the chance to spend more time with her. \"Dinner sounds great,\" you agree, \"I've been wanting to try some local cuisine. It's a date then.\"\n",
      "\n",
      "Mitsuha smiles brightly, \"It's a date. Let's meet in the lobby around 7? I'll probably be the one hobbling down the stairs,\" she jokes, lightening the mood.\n",
      "\n",
      "As you both agree on the time and place for dinner, you can't help but feel that this unexpected encounter might lead to something more interesting. You part ways for now, allowing Mitsuha some time to rest and recover before the evening.\n",
      "\n",
      "As you head to your room to freshen up, you reflect on the day's events. Meeting Mitsuha, an intriguing and spirited individual, has definitely added an unexpected but welcome twist to your trip. You're looking forward to dinner and the chance to get to know her better.\n",
      "\n",
      "The round ends with both of you making plans for dinner at the hotel, looking forward to an evening of good food and conversation."
     ]
    },
    {
     "data": {
      "application/vnd.jupyter.widget-view+json": {
       "model_id": "55d3d7c8f8e44b8c89f37e7019f1b96b",
       "version_major": 2,
       "version_minor": 0
      },
      "text/plain": [
       "HBox(children=(Button(description='CUSTOM', style=ButtonStyle()),))"
      ]
     },
     "metadata": {},
     "output_type": "display_data"
    }
   ],
   "source": [
    "import re\n",
    "import tomllib\n",
    "import functools\n",
    "from typing import Literal\n",
    "\n",
    "import ipywidgets as widgets\n",
    "from IPython.display import display\n",
    "\n",
    "from dotenv import load_dotenv\n",
    "\n",
    "load_dotenv()\n",
    "\n",
    "from rs import Message, Config, chat, skill_check\n",
    "import d20\n",
    "\n",
    "action_pattern = re.compile(r\"(\\d+). *(.+)\")\n",
    "skill_pattern = re.compile(r\"[\\w_]+\")\n",
    "skill_difficulty_pattern = re.compile(r\"(easy|normal|hard)\")\n",
    "\n",
    "def next_round(b):\n",
    "    global current_round, initial_messages\n",
    "    current_round += 1\n",
    "    initial_messages = config.initial_messages(current_round, config.metadata)\n",
    "\n",
    "    print(initial_messages[-1].content)\n",
    "    display(get_controls(initial_messages[-1]))\n",
    "\n",
    "def get_user_message_tail():\n",
    "    count = 0\n",
    "    for msg in initial_messages:\n",
    "        if msg.role == \"user\":\n",
    "            count += 1\n",
    "\n",
    "    is_final =  \", FINAL ROUND\" if  current_round == len(config.rounds) else \"\"\n",
    "    \n",
    "    # print(config.metadata[\"character\"])\n",
    "    \n",
    "    if \"tags\" in config.metadata[\"character\"] and \"insane\" in config.metadata[\"character\"][\"tags\"]:\n",
    "        return f\"TURN: {count + 1} {is_final} (I'm insane!)\"\n",
    "    \n",
    "    return f\"TURN: {count + 1} {is_final}\"\n",
    "    \n",
    "\n",
    "def do_chat(role:Literal[\"user\", \"system\", \"assistant\"], content: str):\n",
    "    print(f\"{content}\\n\\n\")\n",
    "\n",
    "    initial_messages.append(Message(role=role, content=content))\n",
    "    msg = chat(initial_messages, lambda delta: print(delta, end=\"\"))\n",
    "\n",
    "    initial_messages.append(msg)\n",
    "    display(get_controls(msg))\n",
    "\n",
    "\n",
    "def on_skill(b, skill:str, difficulty:str):\n",
    "    # print(config.metadata[\"character\"])\n",
    "    content = skill_check(skill, difficulty, config.metadata)\n",
    "    content += f\"\\n{get_user_message_tail()}\"\n",
    "    do_chat(\"user\", content)\n",
    "\n",
    "def on_action(b, index:int):\n",
    "    content = f\"I select option {index}. {get_user_message_tail()}\"\n",
    "    do_chat(\"user\", content)\n",
    "\n",
    "def on_custom_input(b, input:widgets.Text):\n",
    "    content = f\"{input.value}. {get_user_message_tail()}\"\n",
    "    do_chat(\"user\", content)\n",
    "\n",
    "def on_custom_action(b):\n",
    "    hbox = widgets.HBox(layout=widgets.Layout(width=\"100%\"))\n",
    "    action_text = widgets.Text(layout=widgets.Layout(width=\"100%\"))\n",
    "    submit = widgets.Button(description=\"SUBMIT\", layout=widgets.Layout(width=\"fit-content\"))\n",
    "    submit.on_click(functools.partial(on_custom_input, input=action_text))\n",
    "    hbox.children += (action_text, submit) \n",
    "    display(hbox)\n",
    "\n",
    "def get_controls(msg:Message) -> widgets.Box:\n",
    "    dict = msg.dict()\n",
    "    buttons = []\n",
    "    if \"possible actions\" in dict.keys():\n",
    "        matches = action_pattern.finditer(dict[\"possible actions\"])\n",
    "        for match in matches:\n",
    "            btn = widgets.Button(description=match.group(1), tooltip=match.group(2), layout=widgets.Layout(width=\"auto\"))\n",
    "            btn.on_click(functools.partial(on_action, index=int(match.group(1))))\n",
    "            buttons.append(btn)\n",
    "    elif \"skill\" in dict.keys() and \"difficulty\" in dict.keys():\n",
    "        match = skill_pattern.match(dict[\"skill\"])\n",
    "        skill = match.group(0)\n",
    "        match = skill_difficulty_pattern.match(dict[\"difficulty\"])\n",
    "        difficulty = match.group(0)\n",
    "        skill_button = widgets.Button(description=f\"{skill.upper()} [{difficulty.upper()}]\", layout=widgets.Layout(width=\"auto\"))\n",
    "        skill_button.on_click(functools.partial(on_skill, skill=skill, difficulty=difficulty))\n",
    "        buttons.append(skill_button)\n",
    "    elif \"summary\" in dict.keys():\n",
    "        # add summary as a memory to the metadata\n",
    "        # it will be used in the next round.\n",
    "        # config.metadata[\"memories\"] = []\n",
    "        config.metadata[\"memories\"].append(dict[\"round summary\"])\n",
    "        next_btn = widgets.Button(description=\"NEXT ROUND\", layout=widgets.Layout(width=\"auto\"))\n",
    "        next_btn.on_click(next_round)\n",
    "        buttons.append(next_btn)\n",
    "    \n",
    "    custom_action_button = widgets.Button(description=\"CUSTOM\")\n",
    "    custom_action_button.on_click(on_custom_action)\n",
    "    buttons.append(custom_action_button)\n",
    "\n",
    "    return widgets.HBox(buttons)\n",
    "\n",
    "# open config file\n",
    "config_name = \"data/ai_gf.toml\"\n",
    "config: Config | None = None\n",
    "with open(config_name, \"rb\") as f:\n",
    "    data = tomllib.load(f)\n",
    "    config = Config(**data)\n",
    "\n",
    "current_round = 0\n",
    "initial_messages = config.initial_messages(current_round, config.metadata)\n",
    "\n",
    "print(initial_messages[-1].content)\n",
    "display(get_controls(initial_messages[-1]))"
   ]
  }
 ],
 "metadata": {
  "kernelspec": {
   "display_name": ".venv",
   "language": "python",
   "name": "python3"
  },
  "language_info": {
   "codemirror_mode": {
    "name": "ipython",
    "version": 3
   },
   "file_extension": ".py",
   "mimetype": "text/x-python",
   "name": "python",
   "nbconvert_exporter": "python",
   "pygments_lexer": "ipython3",
   "version": "3.12.3"
  }
 },
 "nbformat": 4,
 "nbformat_minor": 2
}
