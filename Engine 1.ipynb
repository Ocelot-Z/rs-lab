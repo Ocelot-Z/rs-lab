{
 "cells": [
  {
   "cell_type": "code",
   "execution_count": 4,
   "metadata": {},
   "outputs": [
    {
     "name": "stdout",
     "output_type": "stream",
     "text": [
      "Requirement already satisfied: fastapi in c:\\python\\lib\\site-packages (0.110.2)\n",
      "Requirement already satisfied: pydantic in c:\\python\\lib\\site-packages (2.7.0)\n",
      "Requirement already satisfied: toml in c:\\python\\lib\\site-packages (0.10.2)\n",
      "Requirement already satisfied: starlette<0.38.0,>=0.37.2 in c:\\python\\lib\\site-packages (from fastapi) (0.37.2)\n",
      "Requirement already satisfied: typing-extensions>=4.8.0 in c:\\python\\lib\\site-packages (from fastapi) (4.11.0)\n",
      "Requirement already satisfied: annotated-types>=0.4.0 in c:\\python\\lib\\site-packages (from pydantic) (0.6.0)\n",
      "Requirement already satisfied: pydantic-core==2.18.1 in c:\\python\\lib\\site-packages (from pydantic) (2.18.1)\n",
      "Requirement already satisfied: anyio<5,>=3.4.0 in c:\\python\\lib\\site-packages (from starlette<0.38.0,>=0.37.2->fastapi) (4.3.0)\n",
      "Requirement already satisfied: idna>=2.8 in c:\\python\\lib\\site-packages (from anyio<5,>=3.4.0->starlette<0.38.0,>=0.37.2->fastapi) (3.7)\n",
      "Requirement already satisfied: sniffio>=1.1 in c:\\python\\lib\\site-packages (from anyio<5,>=3.4.0->starlette<0.38.0,>=0.37.2->fastapi) (1.3.1)\n",
      "Note: you may need to restart the kernel to use updated packages.\n"
     ]
    }
   ],
   "source": [
    "%pip install fastapi pydantic toml"
   ]
  },
  {
   "cell_type": "code",
   "execution_count": 5,
   "metadata": {},
   "outputs": [],
   "source": [
    "# from rs import skill_check\n",
    "\n",
    "# def test_skill_check(metadata):\n",
    "#     print(skill_check(\"sanity\", None, metadata))\n",
    "\n",
    "# metadata = {\n",
    "#     \"character\": {\"sanity\":30},\n",
    "#     \"symptom\":[\n",
    "#         \"incoherent speech\",\n",
    "#         \"uncontrollable twitching, trembling\",\n",
    "#         \"delusions of persecution\",\n",
    "#         \"strange appetites (dirt, clay, etc...)\",\n",
    "#         \"scratches, punches, and bruises all over the body\"\n",
    "#     ]\n",
    "# }\n",
    "\n",
    "# test_skill_check(metadata)\n",
    "# test_skill_check(metadata)\n",
    "# test_skill_check(metadata)\n",
    "# test_skill_check(metadata)\n",
    "# test_skill_check(metadata)\n",
    "# test_skill_check(metadata)\n",
    "# test_skill_check(metadata)\n",
    "# test_skill_check(metadata)\n",
    "# test_skill_check(metadata)\n",
    "# test_skill_check(metadata)\n",
    "# test_skill_check(metadata)\n",
    "# test_skill_check(metadata)\n",
    "\n",
    "# print(metadata[\"character\"])\n"
   ]
  },
  {
   "cell_type": "code",
   "execution_count": 6,
   "metadata": {},
   "outputs": [
    {
     "name": "stdout",
     "output_type": "stream",
     "text": [
      "The year is 2023, you travelled to some distant mountains and forest in Hokkaido to do some scenic photography in the middle of the week during autumn. You wanted to get away from the city life of Tokyo just so you can make some time for yourself and think about the future and want to do in your life. As you are hiking through the quiet mountain pass, you hear a cry of a girl just in the distance. You quickly made your way towards the sound and found a beautiful young lady on the side of the road, and appears to have accidently injured herself.\n",
      "\n",
      "What is your response?\n",
      "\n",
      "possible actions:\n",
      "1. Offer your assitance and then introduce yourself casually\n",
      "2. Say a funny pick up line\n",
      "3. Ignore her and keep walking\n"
     ]
    },
    {
     "data": {
      "application/vnd.jupyter.widget-view+json": {
       "model_id": "86ba479f2cf84abfaf337cf2107a3a96",
       "version_major": 2,
       "version_minor": 0
      },
      "text/plain": [
       "HBox(children=(Button(description='1', layout=Layout(width='auto'), style=ButtonStyle(), tooltip='Offer your a…"
      ]
     },
     "metadata": {},
     "output_type": "display_data"
    },
    {
     "name": "stdout",
     "output_type": "stream",
     "text": [
      "I select option 2. TURN: 1 \n",
      "\n",
      "\n",
      "As you approach the young lady, you decide to lighten the mood with a touch of humor. With a confident smile, you say, \"Did it hurt when you fell from heaven? Because it looks like you've just made a crash landing in my heart.\"\n",
      "\n",
      "Mitsuha looks up at you, a bit surprised by the sudden appearance of a stranger but then giggles at the cheesy line. \"That's one of the oldest ones in the book, but I'll give you points for trying to make me laugh while I'm sitting here feeling quite embarrassed about my little mishap,\" she responds with a cheeky smile, her big brown eyes twinkling with amusement. \"I'm Mitsuha Tomoe. And you are?\"\n",
      "\n",
      "possible actions:\n",
      "1. Tell her your name and ask if she needs help with her injury.\n",
      "2. Joke about being an undercover angel sent to rescue her.\n",
      "3. Ask her what happened and how she ended up getting injured."
     ]
    },
    {
     "data": {
      "application/vnd.jupyter.widget-view+json": {
       "model_id": "71da2fdb3afd44cf9e7b4b6689e86e34",
       "version_major": 2,
       "version_minor": 0
      },
      "text/plain": [
       "HBox(children=(Button(description='1', layout=Layout(width='auto'), style=ButtonStyle(), tooltip='Tell her you…"
      ]
     },
     "metadata": {},
     "output_type": "display_data"
    },
    {
     "name": "stdout",
     "output_type": "stream",
     "text": [
      "I select option 2. TURN: 2 \n",
      "\n",
      "\n",
      "With a playful grin, you lean in slightly and lower your voice as if sharing a secret, \"Actually, I'm an undercover angel sent to rescue you. It seems my timing was impeccable.\"\n",
      "\n",
      "Mitsuha laughs, the sound light and genuine, \"An undercover angel, huh? That's a new one. Well, Mr. Angel, it seems I could use a bit of rescuing. I twisted my ankle when I slipped on that patch of wet leaves over there,\" she says, pointing to a spot on the path. \"I guess I was too caught up in the beauty of this place to watch where I was stepping.\"\n",
      "\n",
      "She attempts to stand up, wincing slightly as she puts weight on her injured ankle. \n",
      "\n",
      "possible actions:\n",
      "1. Offer to help her stand and suggest walking her back to the hotel for proper care.\n",
      "2. Insist on carrying her to make sure she doesn't strain her ankle further.\n",
      "3. Ask if she has anyone she can call for help."
     ]
    },
    {
     "data": {
      "application/vnd.jupyter.widget-view+json": {
       "model_id": "e3cbb373476b45da884c162e55f1b10a",
       "version_major": 2,
       "version_minor": 0
      },
      "text/plain": [
       "HBox(children=(Button(description='1', layout=Layout(width='auto'), style=ButtonStyle(), tooltip='Offer to hel…"
      ]
     },
     "metadata": {},
     "output_type": "display_data"
    },
    {
     "name": "stdout",
     "output_type": "stream",
     "text": [
      "I select option 2. TURN: 3 \n",
      "\n",
      "\n",
      "Seeing Mitsuha in discomfort, you step closer and offer, \"No need to strain yourself further. Allow me to carry you back to the hotel. It's the least I can do as your designated undercover angel.\"\n",
      "\n",
      "Mitsuha looks at you, a mix of surprise and gratitude in her eyes. \"Are you sure? I wouldn't want to trouble you,\" she says, her voice reflecting a hint of concern but also relief at the offer of help.\n",
      "\n",
      "With a reassuring smile, you respond, \"Absolutely sure. It's no trouble at all. Let's make sure you get there safely.\" You carefully lift her up, making sure not to cause any further discomfort to her ankle.\n",
      "\n",
      "As you carry her back towards the hotel, Mitsuha laughs softly, \"Well, this is certainly a first for me. Being carried by a charming stranger who claims to be an angel. I'll have quite the story to tell.\"\n",
      "\n",
      "possible actions:\n",
      "1. Ask her more about herself and why she's in Hokkaido.\n",
      "2. Share a bit about why you decided to visit Hokkaido yourself.\n",
      "3. Make light conversation about the beautiful scenery around you."
     ]
    },
    {
     "data": {
      "application/vnd.jupyter.widget-view+json": {
       "model_id": "73dd238a16774ce7ac18b0ca15061687",
       "version_major": 2,
       "version_minor": 0
      },
      "text/plain": [
       "HBox(children=(Button(description='1', layout=Layout(width='auto'), style=ButtonStyle(), tooltip=\"Ask her more…"
      ]
     },
     "metadata": {},
     "output_type": "display_data"
    },
    {
     "name": "stdout",
     "output_type": "stream",
     "text": [
      "I select option 3. TURN: 4 \n",
      "\n",
      "\n",
      "As you make your way back to the hotel with Mitsuha in your arms, you decide to keep the mood light and engaging. \"Isn't it just breathtaking here? The colors of autumn really make this place look like a painting,\" you comment, gesturing towards the vibrant hues of red, orange, and yellow that adorn the trees lining the path.\n",
      "\n",
      "Mitsuha nods, her gaze following your gesture. \"It truly is beautiful. I've always loved the countryside, especially during autumn. The colors, the air, everything feels so refreshing and... pure,\" she says, her eyes reflecting the admiration she has for the scenery. \"It's moments like these that make me appreciate the simple pleasures in life.\"\n",
      "\n",
      "The conversation flows easily between you two, with occasional laughs and shared observations about the natural beauty surrounding you. The atmosphere is light and comfortable, making the walk back to the hotel seem shorter than it is.\n",
      "\n",
      "possible actions:\n",
      "1. Upon reaching the hotel, offer to have dinner together later as a way to thank her for the enjoyable company.\n",
      "2. Suggest exchanging numbers to share any beautiful photos you both might take during your stay.\n",
      "3. Ask if she'd like to join you for a hike tomorrow, assuming her ankle feels better."
     ]
    },
    {
     "data": {
      "application/vnd.jupyter.widget-view+json": {
       "model_id": "164ccf05dcd54ca0b8bdcd4592d52cb4",
       "version_major": 2,
       "version_minor": 0
      },
      "text/plain": [
       "HBox(children=(Button(description='1', layout=Layout(width='auto'), style=ButtonStyle(), tooltip='Upon reachin…"
      ]
     },
     "metadata": {},
     "output_type": "display_data"
    },
    {
     "name": "stdout",
     "output_type": "stream",
     "text": [
      "I select option 1. TURN: 5 \n",
      "\n",
      "\n",
      "Upon reaching the hotel, you gently set Mitsuha down, ensuring she's steady on her feet before letting go. \"Thank you for the company on the way back. It made the walk back much more enjoyable,\" you say with a warm smile. \"How about we have dinner together later? Consider it a thank you for letting me be your undercover angel today.\"\n",
      "\n",
      "Mitsuha smiles brightly, her eyes lighting up at the suggestion. \"I'd love that. It's the least I can do after you've gone out of your way to help me. Plus, it'll give me a chance to properly thank you,\" she replies, her tone sincere and enthusiastic. \"Let's meet in the hotel's dining area? Say, around 7 PM?\"\n",
      "\n",
      "You nod in agreement, pleased with the plan. \"7 PM it is. I'm looking forward to it,\" you respond, already anticipating the evening ahead.\n",
      "\n",
      "With plans for dinner set, you both head to your respective rooms to freshen up, the promise of a pleasant evening lingering in the air.\n",
      "\n",
      "**Summary of the Round:**\n",
      "During this round, Hikaru Mikami encountered Mitsuha Tomoe, who had injured her ankle on a hiking trail. Opting for a humorous approach, Hikaru successfully lightened the mood and offered his assistance. He carried Mitsuha back to the hotel, engaging in light conversation along the way and appreciating the scenic beauty of Hokkaido. The round concluded with both agreeing to have dinner together later as a way to further enjoy each other's company and for Hikaru to be thanked for his kindness."
     ]
    },
    {
     "data": {
      "application/vnd.jupyter.widget-view+json": {
       "model_id": "8e99d953a9884d9595dc016f179af3a8",
       "version_major": 2,
       "version_minor": 0
      },
      "text/plain": [
       "HBox(children=(Button(description='CUSTOM', style=ButtonStyle()),))"
      ]
     },
     "metadata": {},
     "output_type": "display_data"
    }
   ],
   "source": [
    "import re\n",
    "import tomllib\n",
    "import functools\n",
    "from typing import Literal\n",
    "\n",
    "import ipywidgets as widgets\n",
    "from IPython.display import display\n",
    "\n",
    "from dotenv import load_dotenv\n",
    "\n",
    "load_dotenv()\n",
    "\n",
    "from rs import Message, Config, chat, skill_check\n",
    "import d20\n",
    "\n",
    "action_pattern = re.compile(r\"(\\d+). *(.+)\")\n",
    "skill_pattern = re.compile(r\"[\\w_]+\")\n",
    "skill_difficulty_pattern = re.compile(r\"(easy|normal|hard)\")\n",
    "\n",
    "def next_round(b):\n",
    "    global current_round, initial_messages\n",
    "    current_round += 1\n",
    "    initial_messages = config.initial_messages(current_round, config.metadata)\n",
    "\n",
    "    print(initial_messages[-1].content)\n",
    "    display(get_controls(initial_messages[-1]))\n",
    "\n",
    "def get_user_message_tail():\n",
    "    count = 0\n",
    "    for msg in initial_messages:\n",
    "        if msg.role == \"user\":\n",
    "            count += 1\n",
    "\n",
    "    is_final =  \", FINAL ROUND\" if  current_round == len(config.rounds) else \"\"\n",
    "    \n",
    "    # print(config.metadata[\"character\"])\n",
    "    \n",
    "    if \"tags\" in config.metadata[\"character\"] and \"insane\" in config.metadata[\"character\"][\"tags\"]:\n",
    "        return f\"TURN: {count + 1} {is_final} (I'm insane!)\"\n",
    "    \n",
    "    return f\"TURN: {count + 1} {is_final}\"\n",
    "    \n",
    "\n",
    "def do_chat(role:Literal[\"user\", \"system\", \"assistant\"], content: str):\n",
    "    print(f\"{content}\\n\\n\")\n",
    "\n",
    "    initial_messages.append(Message(role=role, content=content))\n",
    "    msg = chat(initial_messages, lambda delta: print(delta, end=\"\"))\n",
    "\n",
    "    initial_messages.append(msg)\n",
    "    display(get_controls(msg))\n",
    "\n",
    "\n",
    "def on_skill(b, skill:str, difficulty:str):\n",
    "    # print(config.metadata[\"character\"])\n",
    "    content = skill_check(skill, difficulty, config.metadata)\n",
    "    content += f\"\\n{get_user_message_tail()}\"\n",
    "    do_chat(\"user\", content)\n",
    "\n",
    "def on_action(b, index:int):\n",
    "    content = f\"I select option {index}. {get_user_message_tail()}\"\n",
    "    do_chat(\"user\", content)\n",
    "\n",
    "def on_custom_input(b, input:widgets.Text):\n",
    "    content = f\"{input.value}. {get_user_message_tail()}\"\n",
    "    do_chat(\"user\", content)\n",
    "\n",
    "def on_custom_action(b):\n",
    "    hbox = widgets.HBox(layout=widgets.Layout(width=\"100%\"))\n",
    "    action_text = widgets.Text(layout=widgets.Layout(width=\"100%\"))\n",
    "    submit = widgets.Button(description=\"SUBMIT\", layout=widgets.Layout(width=\"fit-content\"))\n",
    "    submit.on_click(functools.partial(on_custom_input, input=action_text))\n",
    "    hbox.children += (action_text, submit) \n",
    "    display(hbox)\n",
    "\n",
    "def get_controls(msg:Message) -> widgets.Box:\n",
    "    dict = msg.dict()\n",
    "    buttons = []\n",
    "    if \"possible actions\" in dict.keys():\n",
    "        matches = action_pattern.finditer(dict[\"possible actions\"])\n",
    "        for match in matches:\n",
    "            btn = widgets.Button(description=match.group(1), tooltip=match.group(2), layout=widgets.Layout(width=\"auto\"))\n",
    "            btn.on_click(functools.partial(on_action, index=int(match.group(1))))\n",
    "            buttons.append(btn)\n",
    "    elif \"skill\" in dict.keys() and \"difficulty\" in dict.keys():\n",
    "        match = skill_pattern.match(dict[\"skill\"])\n",
    "        skill = match.group(0)\n",
    "        match = skill_difficulty_pattern.match(dict[\"difficulty\"])\n",
    "        difficulty = match.group(0)\n",
    "        skill_button = widgets.Button(description=f\"{skill.upper()} [{difficulty.upper()}]\", layout=widgets.Layout(width=\"auto\"))\n",
    "        skill_button.on_click(functools.partial(on_skill, skill=skill, difficulty=difficulty))\n",
    "        buttons.append(skill_button)\n",
    "    elif \"summary\" in dict.keys():\n",
    "        # add summary as a memory to the metadata\n",
    "        # it will be used in the next round.\n",
    "        # config.metadata[\"memories\"] = []\n",
    "        config.metadata[\"memories\"].append(dict[\"round summary\"])\n",
    "        next_btn = widgets.Button(description=\"NEXT ROUND\", layout=widgets.Layout(width=\"auto\"))\n",
    "        next_btn.on_click(next_round)\n",
    "        buttons.append(next_btn)\n",
    "    \n",
    "    custom_action_button = widgets.Button(description=\"CUSTOM\")\n",
    "    custom_action_button.on_click(on_custom_action)\n",
    "    buttons.append(custom_action_button)\n",
    "\n",
    "    return widgets.HBox(buttons)\n",
    "\n",
    "# open config file\n",
    "config_name = \"data/ai_gf.toml\"\n",
    "config: Config | None = None\n",
    "with open(config_name, \"rb\") as f:\n",
    "    data = tomllib.load(f)\n",
    "    config = Config(**data)\n",
    "\n",
    "current_round = 0\n",
    "initial_messages = config.initial_messages(current_round, config.metadata)\n",
    "\n",
    "print(initial_messages[-1].content)\n",
    "display(get_controls(initial_messages[-1]))"
   ]
  }
 ],
 "metadata": {
  "kernelspec": {
   "display_name": ".venv",
   "language": "python",
   "name": "python3"
  },
  "language_info": {
   "codemirror_mode": {
    "name": "ipython",
    "version": 3
   },
   "file_extension": ".py",
   "mimetype": "text/x-python",
   "name": "python",
   "nbconvert_exporter": "python",
   "pygments_lexer": "ipython3",
   "version": "3.12.3"
  }
 },
 "nbformat": 4,
 "nbformat_minor": 2
}
