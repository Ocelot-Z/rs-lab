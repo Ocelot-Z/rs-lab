{
 "cells": [
  {
   "cell_type": "code",
   "execution_count": 7,
   "metadata": {},
   "outputs": [
    {
     "name": "stdout",
     "output_type": "stream",
     "text": [
      "Requirement already satisfied: fastapi in c:\\python\\lib\\site-packages (0.110.2)\n",
      "Requirement already satisfied: pydantic in c:\\python\\lib\\site-packages (2.7.0)\n",
      "Requirement already satisfied: toml in c:\\python\\lib\\site-packages (0.10.2)\n",
      "Requirement already satisfied: starlette<0.38.0,>=0.37.2 in c:\\python\\lib\\site-packages (from fastapi) (0.37.2)\n",
      "Requirement already satisfied: typing-extensions>=4.8.0 in c:\\python\\lib\\site-packages (from fastapi) (4.11.0)\n",
      "Requirement already satisfied: annotated-types>=0.4.0 in c:\\python\\lib\\site-packages (from pydantic) (0.6.0)\n",
      "Requirement already satisfied: pydantic-core==2.18.1 in c:\\python\\lib\\site-packages (from pydantic) (2.18.1)\n",
      "Requirement already satisfied: anyio<5,>=3.4.0 in c:\\python\\lib\\site-packages (from starlette<0.38.0,>=0.37.2->fastapi) (4.3.0)\n",
      "Requirement already satisfied: idna>=2.8 in c:\\python\\lib\\site-packages (from anyio<5,>=3.4.0->starlette<0.38.0,>=0.37.2->fastapi) (3.7)\n",
      "Requirement already satisfied: sniffio>=1.1 in c:\\python\\lib\\site-packages (from anyio<5,>=3.4.0->starlette<0.38.0,>=0.37.2->fastapi) (1.3.1)\n",
      "Note: you may need to restart the kernel to use updated packages.\n"
     ]
    }
   ],
   "source": [
    "%pip install fastapi pydantic toml"
   ]
  },
  {
   "cell_type": "code",
   "execution_count": null,
   "metadata": {},
   "outputs": [],
   "source": []
  },
  {
   "cell_type": "code",
   "execution_count": 8,
   "metadata": {},
   "outputs": [
    {
     "name": "stdout",
     "output_type": "stream",
     "text": [
      "You arrived at an old self-storage facility by invitation from the manager, who has an storage room up for auction due to the death of its owner. It is not your first rodeo with these forms of auctions, like a box of chocolate, no one knows of the potential treasure that hides behind the cold roller shutter. As you and other interested buyers gathered around the auctioneer, a worker carrying a bolt cutter snapped off the rusty lock, unveiling a storage room cluttered with various old furniture and antiquities. Without any opportunity for the bidders to take a clear look, the auctioneer began the bid at $50. \n",
      "\n",
      "What is your bid?\n",
      "\n",
      "possible actions:\n",
      "1. $100.\n",
      "2. $150.\n",
      "3. $200.\n"
     ]
    },
    {
     "data": {
      "application/vnd.jupyter.widget-view+json": {
       "model_id": "103f8186fbcb424ea6115449a5ee2479",
       "version_major": 2,
       "version_minor": 0
      },
      "text/plain": [
       "HBox(children=(Button(description='1', layout=Layout(width='auto'), style=ButtonStyle(), tooltip='$100.'), But…"
      ]
     },
     "metadata": {},
     "output_type": "display_data"
    },
    {
     "name": "stdout",
     "output_type": "stream",
     "text": [
      "I select option 2. TURN: 1 \n",
      "\n",
      "\n",
      "You raise your hand confidently and shout, \"$150!\" Your voice cuts through the murmurs of the crowd, drawing attention to your determined stance. The auctioneer nods in your direction, acknowledging your bid. \n",
      "\n",
      "\"$150, do I hear more?\" the auctioneer calls out, scanning the crowd for any further interest. The tension is palpable as eyes dart around, with some bidders whispering to each other, calculating their next move. \n",
      "\n",
      "possible actions:\n",
      "1. Increase your bid to maintain the lead.\n",
      "2. Hold your bid at $150 and wait to see if anyone else bids higher.\n",
      "3. Examine the storage room from your spot to see if you can spot anything of value or interest."
     ]
    },
    {
     "data": {
      "application/vnd.jupyter.widget-view+json": {
       "model_id": "d825d82003e4498eb8732cdc860386a4",
       "version_major": 2,
       "version_minor": 0
      },
      "text/plain": [
       "HBox(children=(Button(description='1', layout=Layout(width='auto'), style=ButtonStyle(), tooltip='Increase you…"
      ]
     },
     "metadata": {},
     "output_type": "display_data"
    },
    {
     "name": "stdout",
     "output_type": "stream",
     "text": [
      "I select option 1. TURN: 2 \n",
      "\n",
      "\n",
      "Feeling the competitive spirit surge within you, you decide to increase your bid to maintain the lead. With a steady voice, you call out, \"$200!\" ensuring that your presence and determination are felt by everyone around. The auctioneer's eyes light up as he repeats your bid for all to hear, \"$200, we have $200! Do I hear more?\"\n",
      "\n",
      "Your bold move has clearly made some of the other bidders hesitant, as they exchange glances, trying to decide whether to challenge your bid. The air is thick with anticipation, and the murmurs have quieted down, leaving the sound of the auctioneer's voice echoing in the open space.\n",
      "\n",
      "possible actions:\n",
      "1. Keep your bid at $200 and observe the crowd's reaction.\n",
      "2. Prepare to increase your bid if someone else tries to outbid you.\n",
      "3. Use this moment to closely observe the storage room's contents from your position, looking for any signs of hidden treasures."
     ]
    },
    {
     "data": {
      "application/vnd.jupyter.widget-view+json": {
       "model_id": "0c28461badf740c4905409ef6a3a2968",
       "version_major": 2,
       "version_minor": 0
      },
      "text/plain": [
       "HBox(children=(Button(description='1', layout=Layout(width='auto'), style=ButtonStyle(), tooltip=\"Keep your bi…"
      ]
     },
     "metadata": {},
     "output_type": "display_data"
    },
    {
     "name": "stdout",
     "output_type": "stream",
     "text": [
      "I select option 1. TURN: 3 \n",
      "\n",
      "\n",
      "You hold your ground at $200, watching the crowd closely for their reaction. Your assertiveness seems to have made an impact, as the other bidders appear reluctant to challenge your bid immediately. The auctioneer, sensing the hesitation, tries to encourage more bidding, \"We have $200! Can I get $250? Don't miss out on this opportunity, folks!\"\n",
      "\n",
      "As the seconds tick by, the crowd remains silent, with no one stepping forward to outbid you. It seems your gamble might pay off, but the auction isn't over yet. The auctioneer gives it one last try, scanning the crowd for any signs of interest.\n",
      "\n",
      "possible actions:\n",
      "1. Stand firm with your bid at $200, waiting for the auctioneer to call it.\n",
      "2. Consider raising your bid preemptively to discourage any last-minute bids.\n",
      "3. Use the remaining time to try and get a better look at some of the items in the storage room, looking for anything that might justify your bid."
     ]
    },
    {
     "data": {
      "application/vnd.jupyter.widget-view+json": {
       "model_id": "9860a75ae4bf4d51b066ee62031710cf",
       "version_major": 2,
       "version_minor": 0
      },
      "text/plain": [
       "HBox(children=(Button(description='1', layout=Layout(width='auto'), style=ButtonStyle(), tooltip='Stand firm w…"
      ]
     },
     "metadata": {},
     "output_type": "display_data"
    },
    {
     "name": "stdout",
     "output_type": "stream",
     "text": [
      "I select option 1. TURN: 4 \n",
      "\n",
      "\n",
      "You decide to stand firm with your bid at $200, letting the tension in the air build as the auctioneer makes one final appeal for higher bids. \"Last chance, folks! $200 going once, going twice...\"\n",
      "\n",
      "The crowd remains silent, no hands go up, and no voices challenge your bid. It's as if the collective breath of the onlookers is held in suspense, waiting for the final hammer to fall.\n",
      "\n",
      "\"Sold to the gentleman for $200!\" the auctioneer finally declares, pointing in your direction. A mixture of relief and excitement washes over you as you realize you've just secured the contents of the storage room. Now, the real mystery begins - what treasures or secrets might lie within?\n",
      "\n",
      "round summary: Kyle Jackson confidently entered the auction for a mysterious storage room, starting with a bid of $150 and strategically raising it to $200 amidst the competitive atmosphere. His boldness paid off, as no other bidders challenged his final bid, allowing him to win the auction. Now, with the storage room’s contents officially his, Kyle stands on the brink of uncovering whatever hidden gems or eerie secrets might be waiting inside."
     ]
    },
    {
     "data": {
      "application/vnd.jupyter.widget-view+json": {
       "model_id": "5130c4bffef04ce485102da16fe4f20b",
       "version_major": 2,
       "version_minor": 0
      },
      "text/plain": [
       "HBox(children=(Button(description='NEXT ROUND', layout=Layout(width='auto'), style=ButtonStyle()), Button(desc…"
      ]
     },
     "metadata": {},
     "output_type": "display_data"
    },
    {
     "name": "stdout",
     "output_type": "stream",
     "text": [
      "You follow the manager through the myriad hallways to his dimly lit office, where the furnishings and appliances remain unchanged since the 90’s. He often reminds you that the facility is in fact even older, and has been here since the 60’s. You made a quick phone call to Alex, a man you owe money to, and explained to him that you will pay him back in a few days once you have it, to which he responded with distasteful threats. The manager took out an old tin box and placed it on his desk and reached towards you with an open palm, gesturing for you to pay up, which you obliged. Upon handing you a key for your newly owned storage room, he urged you to watch some old security footage.\n",
      "\n",
      "Through his CRT screen, he explains to you that the previous owner visited the storage room every day for as long as he can remember. What’s even stranger is that he would hop 3 times towards the storage before entering, and would always bring a paper bag with him, and it would always be empty when he leaves. \n",
      "\n",
      "Regardless of the strange footage and information, you went to the parking lot to grab your duffle bag so that you may start clearing the storage and look for things valuable to sell. As you are walking back, you are confronted by a middle-aged hispanic women, she requests that you give her access to her lot, which you purchased last time so that she may recover her old family silver locket.\n",
      "\n",
      "What is your next step?\n",
      "\n",
      "possible actions:\n",
      "1. Reject her\n",
      "2. Accept her request but lose out on potential earnings\n",
      "3. Ignore her completely\n"
     ]
    },
    {
     "data": {
      "application/vnd.jupyter.widget-view+json": {
       "model_id": "eceb3f23b0a146848e65c05abe92583d",
       "version_major": 2,
       "version_minor": 0
      },
      "text/plain": [
       "HBox(children=(Button(description='1', layout=Layout(width='auto'), style=ButtonStyle(), tooltip='Reject her')…"
      ]
     },
     "metadata": {},
     "output_type": "display_data"
    },
    {
     "name": "stdout",
     "output_type": "stream",
     "text": [
      "I select option 1. TURN: 1 \n",
      "\n",
      "\n",
      "You decide to reject the woman's request, citing your own pressing financial needs and the potential value that could be hidden within the storage unit. The woman's face falls, a mix of disappointment and desperation etching into her features. She pleads once more, her voice cracking with emotion, but you remain firm in your decision. With a heavy heart, she turns away, her shoulders slumped in defeat.\n",
      "\n",
      "As she walks away, a part of you feels a twinge of guilt for denying her the chance to reclaim a piece of her family's history. However, the pressing weight of your own circumstances hardens your resolve. You remind yourself that survival in this harsh world often requires making tough decisions.\n",
      "\n",
      "With the interaction behind you, you turn your attention back to the storage unit, key in hand, ready to uncover what secrets it may hold.\n",
      "\n",
      "possible actions:\n",
      "1. Enter the storage room and start searching for valuable items.\n",
      "2. Examine the door and lock for any signs of tampering.\n",
      "3. Reflect on the woman's request and reconsider your decision."
     ]
    },
    {
     "data": {
      "application/vnd.jupyter.widget-view+json": {
       "model_id": "3d0d2f7b0da045c79fcf3ab439a8b4c5",
       "version_major": 2,
       "version_minor": 0
      },
      "text/plain": [
       "HBox(children=(Button(description='1', layout=Layout(width='auto'), style=ButtonStyle(), tooltip='Enter the st…"
      ]
     },
     "metadata": {},
     "output_type": "display_data"
    },
    {
     "name": "stdout",
     "output_type": "stream",
     "text": [
      "I select option 1. TURN: 2 \n",
      "\n",
      "\n",
      "You insert the key into the lock, turning it with a satisfying click. The door creaks open, revealing a dimly lit room filled with an assortment of boxes, old furniture, and dust-covered artifacts. The air inside is stale, carrying a faint, musty odor that makes you wrinkle your nose. You step inside, your eyes scanning the room, trying to gauge where the most valuable items might be hidden.\n",
      "\n",
      "The storage seems like a time capsule, untouched for years, with layers of dust blanketing every surface. You notice several boxes stacked against one wall, an old, moth-eaten armchair in another corner, and a peculiar, large trunk with intricate carvings sitting ominously in the center of the room. The previous owner's peculiar habit of visiting this room daily with an empty paper bag suddenly feels even more mysterious.\n",
      "\n",
      "As you take a few steps forward, the floorboards groan under your weight, adding to the eerie atmosphere of the room.\n",
      "\n",
      "possible actions:\n",
      "1. Open the trunk in the center of the room to see what's inside.\n",
      "2. Investigate the boxes stacked against the wall.\n",
      "3. Examine the old armchair for any hidden compartments or items."
     ]
    },
    {
     "data": {
      "application/vnd.jupyter.widget-view+json": {
       "model_id": "d5ebf16d85da4b4ebd526dc12c526c6c",
       "version_major": 2,
       "version_minor": 0
      },
      "text/plain": [
       "HBox(children=(Button(description='1', layout=Layout(width='auto'), style=ButtonStyle(), tooltip=\"Open the tru…"
      ]
     },
     "metadata": {},
     "output_type": "display_data"
    },
    {
     "name": "stdout",
     "output_type": "stream",
     "text": [
      "I select option 2. TURN: 3 \n",
      "\n",
      "\n",
      "You approach the boxes stacked against the wall, curiosity piqued by what they might contain. The boxes are sealed with thick layers of tape, suggesting they haven't been opened in a long time. You select one at random and carefully cut through the tape with a pocket knife you always carry for utility purposes.\n",
      "\n",
      "Inside the first box, you find an assortment of old books, their covers worn and pages yellowed with age. Titles range from esoteric studies in occultism to ancient history and forgotten languages. Among these, a particular book catches your eye. It's bound in what appears to be leather, but upon closer inspection, the cover seems to be made of a material you can't quite identify. The title is in a language you don't recognize, adorned with strange symbols that seem to shift uncomfortably under your gaze.\n",
      "\n",
      "A chill runs down your spine as you handle the book. Its presence here, among the mundane, suggests it was of particular importance to the previous owner.\n",
      "\n",
      "possible actions:\n",
      "1. Open the mysterious book and attempt to read it.\n",
      "2. Search the rest of the boxes for more unusual items.\n",
      "3. Set the book aside and inspect the large trunk in the center of the room."
     ]
    },
    {
     "data": {
      "application/vnd.jupyter.widget-view+json": {
       "model_id": "ac05a045fbb24aff8c69ece69db6012a",
       "version_major": 2,
       "version_minor": 0
      },
      "text/plain": [
       "HBox(children=(Button(description='1', layout=Layout(width='auto'), style=ButtonStyle(), tooltip='Open the mys…"
      ]
     },
     "metadata": {},
     "output_type": "display_data"
    },
    {
     "name": "stdout",
     "output_type": "stream",
     "text": [
      "I select option 1. TURN: 4 \n",
      "\n",
      "\n",
      "skill: language_other (using snake_case, must from the character sheet)\n",
      "difficulty: hard"
     ]
    },
    {
     "data": {
      "application/vnd.jupyter.widget-view+json": {
       "model_id": "b9e46feffcdc47dea24ad49222bb0ce1",
       "version_major": 2,
       "version_minor": 0
      },
      "text/plain": [
       "HBox(children=(Button(description='LANGUAGE_OTHER [HARD]', layout=Layout(width='auto'), style=ButtonStyle()), …"
      ]
     },
     "metadata": {},
     "output_type": "display_data"
    },
    {
     "name": "stdout",
     "output_type": "stream",
     "text": [
      "I am making a skill check using LANGUAGE_OTHER against a difficulty of HARD.\n",
      "And I rolled a 7 for a result of SUCCESS. TURN: 5 \n",
      "\n",
      "\n",
      "As you carefully open the mysterious book, the pages seem to almost turn themselves, stopping on a section that contains illustrations alongside the strange text. Despite the language being beyond your understanding, the illustrations provide some context. They depict rituals, celestial alignments, and creatures that defy the laws of nature and physics as you know them. The images are hauntingly detailed, etched with precision that suggests a deep understanding, or perhaps a warning, of the subjects depicted.\n",
      "\n",
      "Your eyes are drawn to a specific page illustrating a ritual that seems to be focused on communication or summoning. Around this illustration, the book includes diagrams and symbols that resonate with an eerie familiarity, as if you've seen them in your dreams or on the edge of your consciousness.\n",
      "\n",
      "As you delve deeper, a sense of unease grows within you. The air in the storage room feels heavier, charged with an unseen energy. The sensation is not entirely unfamiliar, reminiscent of the inexplicable moments on the battlefield when life and death hung in balance, and the world seemed to thin around you.\n",
      "\n",
      "Then, from the depths of the storage unit, a sound breaks the silence—a soft, almost imperceptible whispering, as if the shadows themselves have begun to speak. The source is not immediately apparent, but it seems to be emanating from the direction of the large trunk in the center of the room.\n",
      "\n",
      "The experience is disorienting, challenging the boundaries of your understanding and belief. The whispering grows louder, urging you towards the trunk.\n",
      "\n",
      "round summary: Kyle Jackson, upon entering the newly acquired storage unit, decided to explore its contents, starting with the boxes against the wall. Inside, he discovered an assortment of old books, including a mysterious tome bound in an unfamiliar material and inscribed with unknown symbols. Succumbing to curiosity, Kyle attempted to read the book, successfully interpreting some of its contents through the illustrations. This act seemed to trigger a strange auditory phenomenon, leading to the discovery of a soft whispering emanating from the large trunk in the center of the room, marking the end of this round."
     ]
    },
    {
     "data": {
      "application/vnd.jupyter.widget-view+json": {
       "model_id": "f1cb42761a144cb093c5cf90e4e62297",
       "version_major": 2,
       "version_minor": 0
      },
      "text/plain": [
       "HBox(children=(Button(description='NEXT ROUND', layout=Layout(width='auto'), style=ButtonStyle()), Button(desc…"
      ]
     },
     "metadata": {},
     "output_type": "display_data"
    },
    {
     "name": "stdout",
     "output_type": "stream",
     "text": [
      "As you continue to rummage through the newly acquired storage room, you come across a peculiar round wooden block with intricate yet strange carvings around the thick edges. One particular feature that stands out among all others is the fine pentagram inlay in the center, coupled with clean carvings of unfamiliar symbols. Even an untrained eye can recognize the quality of craftsmanship and time committed to produce such an object, yet, you have doubts as to how much this table-like wooden block can fetch. \n",
      "\n",
      "You discovered a few more expensive looking objects and placed it inside your duffle bag, then proceeded to carefully load the peculiar wooden block onto your truck. Just as you closed the tailgates, you suddenly found yourself knocked on the hard gravel floor. Your lips, bleeding profusely from a cut, and as you look up, you realize it was Alex.\n",
      "\n",
      "How do you respond?\n",
      "\n",
      "possible actions:\n",
      "1. Get up and tackle him\n",
      "2. Tell him that you will get him his money soon\n",
      "3. Begin verbally assaulting him\n"
     ]
    },
    {
     "data": {
      "application/vnd.jupyter.widget-view+json": {
       "model_id": "f54a0187117e4dd4a0ea230f2f325094",
       "version_major": 2,
       "version_minor": 0
      },
      "text/plain": [
       "HBox(children=(Button(description='1', layout=Layout(width='auto'), style=ButtonStyle(), tooltip='Get up and t…"
      ]
     },
     "metadata": {},
     "output_type": "display_data"
    },
    {
     "name": "stdout",
     "output_type": "stream",
     "text": [
      "I select option 3. TURN: 1 \n",
      "\n",
      "\n",
      "As you choose to confront Alex with a barrage of verbal assaults, your words, sharp and filled with venom, cut through the tense air. However, Alex, unfazed by your attempt to intimidate or dissuade him with words, stands towering over you, his fists clenched, eyes burning with a mix of anger and impatience.\n",
      "\n",
      "possible actions:\n",
      "1. Attempt to calm the situation by offering a partial payment.\n",
      "2. Get up and prepare to defend yourself.\n",
      "3. Try to reason with Alex, mentioning the peculiar wooden block as a potential high-value item."
     ]
    },
    {
     "data": {
      "application/vnd.jupyter.widget-view+json": {
       "model_id": "789fc2c9f163470081f8fae5f0b24826",
       "version_major": 2,
       "version_minor": 0
      },
      "text/plain": [
       "HBox(children=(Button(description='1', layout=Layout(width='auto'), style=ButtonStyle(), tooltip='Attempt to c…"
      ]
     },
     "metadata": {},
     "output_type": "display_data"
    },
    {
     "name": "stdout",
     "output_type": "stream",
     "text": [
      "I select option 2. TURN: 2 \n",
      "\n",
      "\n",
      "Gathering your strength, you push yourself off the ground, standing tall in front of Alex. Your stance is defensive, ready to parry or dodge any incoming attacks. You recall your training from the Marines, focusing on staying alert and prepared for whatever Alex might throw at you.\n",
      "\n",
      "possible actions:\n",
      "1. Throw a punch aiming for Alex's face.\n",
      "2. Attempt a quick maneuver to get behind Alex.\n",
      "3. Keep your position, trying to de-escalate the situation verbally while staying on guard."
     ]
    },
    {
     "data": {
      "application/vnd.jupyter.widget-view+json": {
       "model_id": "69ef593e722343a5b67794b53027f523",
       "version_major": 2,
       "version_minor": 0
      },
      "text/plain": [
       "HBox(children=(Button(description='1', layout=Layout(width='auto'), style=ButtonStyle(), tooltip=\"Throw a punc…"
      ]
     },
     "metadata": {},
     "output_type": "display_data"
    },
    {
     "name": "stdout",
     "output_type": "stream",
     "text": [
      "I select option 1. TURN: 3 \n",
      "\n",
      "\n",
      "With a burst of adrenaline, you launch a swift punch aimed directly at Alex's face, hoping to catch him off guard and maybe knock some sense into him. Your fist cuts through the air, targeting his jaw with precision honed from your military training.\n",
      "\n",
      "skill: fighting\n",
      "difficulty: hard"
     ]
    },
    {
     "data": {
      "application/vnd.jupyter.widget-view+json": {
       "model_id": "bf8ee0eb8a1e464cb20bad4ca09f87ed",
       "version_major": 2,
       "version_minor": 0
      },
      "text/plain": [
       "HBox(children=(Button(description='FIGHTING [HARD]', layout=Layout(width='auto'), style=ButtonStyle()), Button…"
      ]
     },
     "metadata": {},
     "output_type": "display_data"
    },
    {
     "name": "stdout",
     "output_type": "stream",
     "text": [
      "I am making a skill check using FIGHTING against a difficulty of HARD.\n",
      "And I rolled a 33 for a result of FAILURE. TURN: 4 \n",
      "\n",
      "\n",
      "Your punch, though fast and aimed with precision, misses Alex as he steps back just in time, avoiding your strike. The miss leaves you slightly off-balance, and Alex, seizing the opportunity, lands a heavy blow to your side. The impact forces the air out of your lungs, and pain radiates through your ribs. Despite the setback, you manage to stay on your feet, though the pain is a clear reminder of the dire situation.\n",
      "\n",
      "Alex, seeing your resilience, pulls out a handgun from his jacket, his intentions clear. He doesn't aim it at you yet, but the message is unmistakable: he's not messing around, and he's willing to escalate this confrontation to get what he wants.\n",
      "\n",
      "possible actions:\n",
      "1. Try to calm the situation, acknowledging his seriousness.\n",
      "2. Make a strategic retreat, putting some distance between you and the gun.\n",
      "3. Attempt to disarm him, using your close combat training."
     ]
    },
    {
     "data": {
      "application/vnd.jupyter.widget-view+json": {
       "model_id": "ff96aa2e1ddb404c9b29ddf9971506ca",
       "version_major": 2,
       "version_minor": 0
      },
      "text/plain": [
       "HBox(children=(Button(description='1', layout=Layout(width='auto'), style=ButtonStyle(), tooltip='Try to calm …"
      ]
     },
     "metadata": {},
     "output_type": "display_data"
    },
    {
     "name": "stdout",
     "output_type": "stream",
     "text": [
      "I select option 1. TURN: 5 \n",
      "\n",
      "\n",
      "Recognizing the gravity of the situation and the imminent threat posed by the handgun, you raise your hands in a gesture of surrender, your voice steady as you try to calm the escalating tension. \"Alright, Alex, I get it,\" you say, attempting to reason with him and acknowledge the seriousness of his actions. \"You'll get your money, I promise.\"\n",
      "\n",
      "Alex, his expression hardening as he assesses your sincerity, slowly lowers the gun, though his grip remains tight. \"You have until tomorrow,\" he warns, his voice low and menacing. \"Don't make me come looking for you again.\"\n",
      "\n",
      "With that, Alex turns and walks away, leaving you standing there, bruised and shaken, but alive. The encounter leaves you with a newfound urgency to settle your debt with Alex, and the peculiar wooden block in your possession suddenly seems like a key piece in this dangerous puzzle.\n",
      "\n",
      "round summary: Kyle attempted to verbally assault Alex, which escalated the confrontation. Kyle then prepared to defend himself and tried to fight back, but failed to land a punch. Realizing the severity of the situation when Alex drew a handgun, Kyle chose to de-escalate the conflict, promising to pay back the debt by tomorrow. Alex left, but not without issuing a stern warning."
     ]
    },
    {
     "data": {
      "application/vnd.jupyter.widget-view+json": {
       "model_id": "59e0751009f3451a9cd34357dcc07a5b",
       "version_major": 2,
       "version_minor": 0
      },
      "text/plain": [
       "HBox(children=(Button(description='NEXT ROUND', layout=Layout(width='auto'), style=ButtonStyle()), Button(desc…"
      ]
     },
     "metadata": {},
     "output_type": "display_data"
    }
   ],
   "source": [
    "import re\n",
    "import tomllib\n",
    "import functools\n",
    "from typing import Literal\n",
    "\n",
    "import ipywidgets as widgets\n",
    "from IPython.display import display\n",
    "\n",
    "from dotenv import load_dotenv\n",
    "load_dotenv()\n",
    "\n",
    "from rs import Message, Config, chat\n",
    "import d20\n",
    "\n",
    "action_pattern = re.compile(r\"(\\d+). *(.+)\")\n",
    "skill_pattern = re.compile(r\"[\\w_]+\")\n",
    "skill_difficulty_pattern = re.compile(r\"(easy|medium|hard)\")\n",
    "\n",
    "def next_round(b):\n",
    "    global current_round, initial_messages\n",
    "    current_round += 1\n",
    "    initial_messages = config.initial_messages(current_round, config.metadata)\n",
    "\n",
    "    print(initial_messages[-1].content)\n",
    "    display(get_controls(initial_messages[-1]))\n",
    "\n",
    "def get_user_message_tail():\n",
    "    count = 0\n",
    "    for msg in initial_messages:\n",
    "        if msg.role == \"user\":\n",
    "            count += 1\n",
    "\n",
    "    is_final =  \", FINAL ROUND\" if  current_round == len(config.rounds) else \"\"\n",
    "    return f\"TURN: {count + 1} {is_final}\"\n",
    "    \n",
    "\n",
    "def do_chat(role:Literal[\"user\", \"system\", \"assistant\"], content: str):\n",
    "    print(f\"{content}\\n\\n\")\n",
    "\n",
    "    initial_messages.append(Message(role=role, content=content))\n",
    "    msg = chat(initial_messages, lambda delta: print(delta, end=\"\"))\n",
    "\n",
    "    initial_messages.append(msg)\n",
    "    display(get_controls(msg))\n",
    "\n",
    "def on_skill(b, skill:str, difficulty:str):\n",
    "    content = f\"I am making a skill check using {skill.upper()} against a difficulty of {difficulty.upper()}.\"\n",
    "\n",
    "    d = difficulty.lower()\n",
    "    dc = 50\n",
    "    if d == \"easy\":\n",
    "        dc = 75\n",
    "    elif d == \"hard\":\n",
    "        dc = 25\n",
    "    roll = d20.roll(\"1d100\").total\n",
    "    result = \"Success\" if roll <= dc else \"Failure\"\n",
    "    if roll == 1:\n",
    "        result = \"Critical Success\"\n",
    "    elif roll == 100:\n",
    "        result = \"Critical Failure\"\n",
    "    \n",
    "    content += f\"\\nAnd I rolled a {roll} for a result of {result.upper()}. {get_user_message_tail()}\"\n",
    "    do_chat(\"user\", content)\n",
    "\n",
    "def on_action(b, index:int):\n",
    "    content = f\"I select option {index}. {get_user_message_tail()}\"\n",
    "    do_chat(\"user\", content)\n",
    "\n",
    "def on_custom_input(b, input:widgets.Text):\n",
    "    content = f\"{input.value}. {get_user_message_tail()}\"\n",
    "    do_chat(\"user\", content)\n",
    "\n",
    "def on_custom_action(b):\n",
    "    hbox = widgets.HBox(layout=widgets.Layout(width=\"100%\"))\n",
    "    action_text = widgets.Text(layout=widgets.Layout(width=\"100%\"))\n",
    "    submit = widgets.Button(description=\"SUBMIT\", layout=widgets.Layout(width=\"fit-content\"))\n",
    "    submit.on_click(functools.partial(on_custom_input, input=action_text))\n",
    "    hbox.children += (action_text, submit) \n",
    "    display(hbox)\n",
    "\n",
    "def get_controls(msg:Message) -> widgets.Box:\n",
    "    dict = msg.dict()\n",
    "    buttons = []\n",
    "    if \"possible actions\" in dict.keys():\n",
    "        matches = action_pattern.finditer(dict[\"possible actions\"])\n",
    "        for match in matches:\n",
    "            btn = widgets.Button(description=match.group(1), tooltip=match.group(2), layout=widgets.Layout(width=\"auto\"))\n",
    "            btn.on_click(functools.partial(on_action, index=int(match.group(1))))\n",
    "            buttons.append(btn)\n",
    "    elif \"skill\" in dict.keys() and \"difficulty\" in dict.keys():\n",
    "        match = skill_pattern.match(dict[\"skill\"])\n",
    "        skill = match.group(0)\n",
    "        match = skill_difficulty_pattern.match(dict[\"difficulty\"])\n",
    "        difficulty = match.group(0)\n",
    "        skill_button = widgets.Button(description=f\"{skill.upper()} [{difficulty.upper()}]\", layout=widgets.Layout(width=\"auto\"))\n",
    "        skill_button.on_click(functools.partial(on_skill, skill=skill, difficulty=difficulty))\n",
    "        buttons.append(skill_button)\n",
    "    elif \"round summary\" in dict.keys():\n",
    "        next_btn = widgets.Button(description=\"NEXT ROUND\", layout=widgets.Layout(width=\"auto\"))\n",
    "        next_btn.on_click(next_round)\n",
    "        buttons.append(next_btn)\n",
    "    \n",
    "    custom_action_button = widgets.Button(description=\"CUSTOM\")\n",
    "    custom_action_button.on_click(on_custom_action)\n",
    "    buttons.append(custom_action_button)\n",
    "\n",
    "    return widgets.HBox(buttons)\n",
    "\n",
    "# open config file\n",
    "config_name = \"data/coc_lot_36.toml\"\n",
    "config: Config | None = None\n",
    "with open(config_name, \"rb\") as f:\n",
    "    data = tomllib.load(f)\n",
    "    config = Config(**data)\n",
    "\n",
    "current_round = 0\n",
    "initial_messages = config.initial_messages(current_round, config.metadata)\n",
    "\n",
    "print(initial_messages[-1].content)\n",
    "display(get_controls(initial_messages[-1]))\n"
   ]
  }
 ],
 "metadata": {
  "kernelspec": {
   "display_name": ".venv",
   "language": "python",
   "name": "python3"
  },
  "language_info": {
   "codemirror_mode": {
    "name": "ipython",
    "version": 3
   },
   "file_extension": ".py",
   "mimetype": "text/x-python",
   "name": "python",
   "nbconvert_exporter": "python",
   "pygments_lexer": "ipython3",
   "version": "3.12.3"
  }
 },
 "nbformat": 4,
 "nbformat_minor": 2
}
