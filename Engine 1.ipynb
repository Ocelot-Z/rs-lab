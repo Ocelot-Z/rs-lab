{
 "cells": [
  {
   "cell_type": "code",
   "execution_count": 1,
   "metadata": {},
   "outputs": [
    {
     "name": "stdout",
     "output_type": "stream",
     "text": [
      "Requirement already satisfied: fastapi in c:\\python\\lib\\site-packages (0.110.2)\n",
      "Requirement already satisfied: pydantic in c:\\python\\lib\\site-packages (2.7.0)\n",
      "Requirement already satisfied: toml in c:\\python\\lib\\site-packages (0.10.2)\n",
      "Requirement already satisfied: starlette<0.38.0,>=0.37.2 in c:\\python\\lib\\site-packages (from fastapi) (0.37.2)\n",
      "Requirement already satisfied: typing-extensions>=4.8.0 in c:\\python\\lib\\site-packages (from fastapi) (4.11.0)\n",
      "Requirement already satisfied: annotated-types>=0.4.0 in c:\\python\\lib\\site-packages (from pydantic) (0.6.0)\n",
      "Requirement already satisfied: pydantic-core==2.18.1 in c:\\python\\lib\\site-packages (from pydantic) (2.18.1)\n",
      "Requirement already satisfied: anyio<5,>=3.4.0 in c:\\python\\lib\\site-packages (from starlette<0.38.0,>=0.37.2->fastapi) (4.3.0)\n",
      "Requirement already satisfied: idna>=2.8 in c:\\python\\lib\\site-packages (from anyio<5,>=3.4.0->starlette<0.38.0,>=0.37.2->fastapi) (3.7)\n",
      "Requirement already satisfied: sniffio>=1.1 in c:\\python\\lib\\site-packages (from anyio<5,>=3.4.0->starlette<0.38.0,>=0.37.2->fastapi) (1.3.1)\n",
      "Note: you may need to restart the kernel to use updated packages.\n"
     ]
    }
   ],
   "source": [
    "%pip install fastapi pydantic toml"
   ]
  },
  {
   "cell_type": "code",
   "execution_count": 2,
   "metadata": {},
   "outputs": [],
   "source": [
    "# from rs import skill_check\n",
    "\n",
    "# def test_skill_check(metadata):\n",
    "#     print(skill_check(\"sanity\", None, metadata))\n",
    "\n",
    "# metadata = {\n",
    "#     \"character\": {\"sanity\":30},\n",
    "#     \"symptom\":[\n",
    "#         \"incoherent speech\",\n",
    "#         \"uncontrollable twitching, trembling\",\n",
    "#         \"delusions of persecution\",\n",
    "#         \"strange appetites (dirt, clay, etc...)\",\n",
    "#         \"scratches, punches, and bruises all over the body\"\n",
    "#     ]\n",
    "# }\n",
    "\n",
    "# test_skill_check(metadata)\n",
    "# test_skill_check(metadata)\n",
    "# test_skill_check(metadata)\n",
    "# test_skill_check(metadata)\n",
    "# test_skill_check(metadata)\n",
    "# test_skill_check(metadata)\n",
    "# test_skill_check(metadata)\n",
    "# test_skill_check(metadata)\n",
    "# test_skill_check(metadata)\n",
    "# test_skill_check(metadata)\n",
    "# test_skill_check(metadata)\n",
    "# test_skill_check(metadata)\n",
    "\n",
    "# print(metadata[\"character\"])\n"
   ]
  },
  {
   "cell_type": "code",
   "execution_count": 3,
   "metadata": {},
   "outputs": [
    {
     "name": "stdout",
     "output_type": "stream",
     "text": [
      "The year is 2023, you travelled to some distant mountains and forest in Hokkaido to do some scenic photography in the middle of the week during autumn. You wanted to get away from the city life of Tokyo just so you can make some time for yourself and think about the future and want to do in your life. As you are hiking through the quiet mountain pass, you hear a cry of a girl just in the distance. You quickly made your way towards the sound and found a beautiful young lady on the side of the road, and appears to have accidently injured herself.\n",
      "\n",
      "What is your response?\n",
      "\n",
      "possible actions:\n",
      "1. Offer your assitance and then introduce yourself casually\n",
      "2. Say a funny pick up line\n",
      "3. Ignore her and keep walking\n"
     ]
    },
    {
     "data": {
      "application/vnd.jupyter.widget-view+json": {
       "model_id": "a6403595407e4a96a27461d377f7fefb",
       "version_major": 2,
       "version_minor": 0
      },
      "text/plain": [
       "HBox(children=(Button(description='1', layout=Layout(width='auto'), style=ButtonStyle(), tooltip='Offer your a…"
      ]
     },
     "metadata": {},
     "output_type": "display_data"
    },
    {
     "name": "stdout",
     "output_type": "stream",
     "text": [
      "I select option 1. TURN: 1 \n",
      "\n",
      "\n",
      "You approach the young lady with a concerned expression and offer your assistance. After helping her up, you introduce yourself, \"Hi, I'm Hikaru Mikami. Are you okay? That looked like quite a fall.\"\n",
      "\n",
      "Mitsuha looks up at you with gratitude in her big brown eyes. \"Thank you so much! I'm Mitsuha Tomoe. I guess I wasn't watching where I was going. I'm a bit clumsy sometimes,\" she says with a cheeky smile. \n",
      "\n",
      "You both share a light moment, and it seems like she appreciates your help and the casual introduction. \n",
      "\n",
      "What would you like to do next?\n",
      "\n",
      "possible actions:\n",
      "1. Ask her if she needs any medical assistance or help getting back to where she's staying.\n",
      "2. Suggest going to the nearest café or place where she can sit and rest.\n",
      "3. Offer to accompany her for the rest of her hike for safety."
     ]
    },
    {
     "data": {
      "application/vnd.jupyter.widget-view+json": {
       "model_id": "1a394537a667470487d3fb66066a82e9",
       "version_major": 2,
       "version_minor": 0
      },
      "text/plain": [
       "HBox(children=(Button(description='1', layout=Layout(width='auto'), style=ButtonStyle(), tooltip=\"Ask her if s…"
      ]
     },
     "metadata": {},
     "output_type": "display_data"
    },
    {
     "name": "stdout",
     "output_type": "stream",
     "text": [
      "I select option 3. TURN: 2 \n",
      "\n",
      "\n",
      "Mitsuha seems pleasantly surprised by your offer and nods enthusiastically. \"That would be really nice, thank you! I was actually feeling a bit uneasy hiking alone after the fall,\" she admits, her quirky personality shining through as she adjusts her stylish modern mountain gear.\n",
      "\n",
      "As you both continue the hike, the conversation flows easily between you two. Mitsuha shares her passion for art and her recent job with an art curator in Tokyo, while you find yourself opening up about your stressful banking job and your longing for a more fulfilling career path.\n",
      "\n",
      "The hike becomes more enjoyable with Mitsuha's company, and you both seem to connect over shared interests and life aspirations.\n",
      "\n",
      "What would you like to do next?\n",
      "\n",
      "possible actions:\n",
      "1. Share your dream of becoming a concept artist and how you ended up as a banker instead.\n",
      "2. Ask Mitsuha more about her work in the art industry and her future aspirations.\n",
      "3. Suggest taking a break and enjoying the scenic view together."
     ]
    },
    {
     "data": {
      "application/vnd.jupyter.widget-view+json": {
       "model_id": "163e5e179b1a4a398760bf49457c41cd",
       "version_major": 2,
       "version_minor": 0
      },
      "text/plain": [
       "HBox(children=(Button(description='1', layout=Layout(width='auto'), style=ButtonStyle(), tooltip='Share your d…"
      ]
     },
     "metadata": {},
     "output_type": "display_data"
    },
    {
     "name": "stdout",
     "output_type": "stream",
     "text": [
      "I select option 3. TURN: 3 \n",
      "\n",
      "\n",
      "You suggest taking a break to enjoy the scenic view, and Mitsuha agrees with excitement. You both find a comfortable spot with a breathtaking view of the autumn colors blanketing the mountain range. The serene atmosphere and the beauty of nature around you provide a perfect backdrop for a moment of relaxation and connection.\n",
      "\n",
      "As you both sit down, Mitsuha takes out a small sketchbook from her bag and begins to draw the landscape. She seems completely absorbed in her art, her expression one of pure focus and contentment. You watch her for a moment, admiring her passion and talent.\n",
      "\n",
      "After a while, she notices your interest and offers to show you her sketch. \"It's not much, but I love capturing moments like these,\" she says with a modest smile.\n",
      "\n",
      "What would you like to do next?\n",
      "\n",
      "possible actions:\n",
      "1. Compliment her on her sketch and share your own aspirations in art.\n",
      "2. Suggest taking a photo of the view together as a memory of this hike.\n",
      "3. Ask if she would like to share more about her art and what inspires her."
     ]
    },
    {
     "data": {
      "application/vnd.jupyter.widget-view+json": {
       "model_id": "512c429d4acd416ea82d5b89a30162c3",
       "version_major": 2,
       "version_minor": 0
      },
      "text/plain": [
       "HBox(children=(Button(description='1', layout=Layout(width='auto'), style=ButtonStyle(), tooltip='Compliment h…"
      ]
     },
     "metadata": {},
     "output_type": "display_data"
    },
    {
     "name": "stdout",
     "output_type": "stream",
     "text": [
      "I select option 1. TURN: 4 \n",
      "\n",
      "\n",
      "You compliment Mitsuha on her sketch, expressing genuine admiration for her talent. \"This is really beautiful, Mitsuha. You've captured the view perfectly,\" you say, then hesitate for a moment before sharing your own aspirations. \"You know, I've always dreamed of becoming a concept artist. I ended up in banking, but deep down, art is where my heart is.\"\n",
      "\n",
      "Mitsuha looks at you with a newfound interest and nods understandingly. \"That's really amazing, Hikaru. It's never too late to pursue what truly makes you happy,\" she encourages, her eyes reflecting genuine support. \"Art has this incredible power to change lives, don't you think?\"\n",
      "\n",
      "Your conversation deepens as you both share your dreams and the obstacles you've faced. It feels refreshing to talk so openly with someone who understands and shares similar passions.\n",
      "\n",
      "As the sun begins to set, casting a golden hue over the landscape, you realize how much you've enjoyed Mitsuha's company.\n",
      "\n",
      "What would you like to do next?\n",
      "\n",
      "possible actions:\n",
      "1. Suggest heading back to the hotel before it gets too dark.\n",
      "2. Offer to help Mitsuha with her art project as a way to learn more about art.\n",
      "3. Ask if she would like to meet again for another hike or activity."
     ]
    },
    {
     "data": {
      "application/vnd.jupyter.widget-view+json": {
       "model_id": "858ea854463246bea6058fcc67b0423e",
       "version_major": 2,
       "version_minor": 0
      },
      "text/plain": [
       "HBox(children=(Button(description='1', layout=Layout(width='auto'), style=ButtonStyle(), tooltip='Suggest head…"
      ]
     },
     "metadata": {},
     "output_type": "display_data"
    },
    {
     "name": "stdout",
     "output_type": "stream",
     "text": [
      "I select option 1. TURN: 5 \n",
      "\n",
      "\n",
      "You suggest heading back to the hotel before it gets too dark, and Mitsuha agrees, noting how time flew by while you both enjoyed the view and the conversation. \"That sounds like a good idea. It's easy to lose track of time out here,\" she says, packing her sketchbook back into her bag.\n",
      "\n",
      "As you both make your way back to the hotel, the conversation continues to flow naturally. You find out that, coincidentally, you're both staying at the same hotel. This discovery brings a shared excitement and the possibility of spending more time together during your stay.\n",
      "\n",
      "Upon arriving at the hotel, the owner, a middle-aged woman, notices Mitsuha's earlier injury and immediately attends to her, showing warm hospitality. Mitsuha reassures her that it's just a minor scrape and thanks you again for your company and help.\n",
      "\n",
      "Before parting ways to your respective rooms, Mitsuha turns to you with a smile. \"I had a really great time today, Hikaru. Would you like to have dinner together at the hotel tonight?\"\n",
      "\n",
      "summary:\n",
      "During the hike, Hikaru and Mitsuha shared a connection through their mutual love for art and their aspirations. They enjoyed the scenic beauty of the mountains, and Hikaru learned about Mitsuha's talent in sketching. As they returned to the hotel, they discovered they were both staying at the same place, leading to an invitation from Mitsuha for dinner together, marking a promising start to their acquaintance."
     ]
    },
    {
     "data": {
      "application/vnd.jupyter.widget-view+json": {
       "model_id": "39124cce5eb24bafadaa336c5c0f60d1",
       "version_major": 2,
       "version_minor": 0
      },
      "text/plain": [
       "HBox(children=(Button(description='NEXT ROUND', layout=Layout(width='auto'), style=ButtonStyle()), Button(desc…"
      ]
     },
     "metadata": {},
     "output_type": "display_data"
    },
    {
     "name": "stdout",
     "output_type": "stream",
     "text": [
      "\n",
      "Memories:\n",
      "\"\"\"\n",
      "- \n",
      "During the hike, Hikaru and Mitsuha shared a connection through their mutual love for art and their aspirations. They enjoyed the scenic beauty of the mountains, and Hikaru learned about Mitsuha's talent in sketching. As they returned to the hotel, they discovered they were both staying at the same place, leading to an invitation from Mitsuha for dinner together, marking a promising start to their acquaintance.\n",
      "\"\"\"\n",
      "\n",
      "You and Mitsuha arrived at the gorgeous dining hall of the hotel, the washoku meal has already been prepped and placed nicely on the table for the both of you. As you sit down, the owner began describing each dish, how it was prepared and the palce of origin of the ingrediates. When she asks if there is anything else she could do for the both of you, Mitsuha suggested to share a bottle of sake together.\n",
      "\n",
      "What do you say?\n",
      "\n",
      "possible actions:\n",
      "1. Agree to the sake idea\n",
      "2. Deny the sake, informing her that she shouldn't drink if injured\n",
      "3. Make a funny joke about the sake\n"
     ]
    },
    {
     "data": {
      "application/vnd.jupyter.widget-view+json": {
       "model_id": "70c7c4b3cc9141fbabe25f4fe38fe0a7",
       "version_major": 2,
       "version_minor": 0
      },
      "text/plain": [
       "HBox(children=(Button(description='1', layout=Layout(width='auto'), style=ButtonStyle(), tooltip='Agree to the…"
      ]
     },
     "metadata": {},
     "output_type": "display_data"
    },
    {
     "name": "stdout",
     "output_type": "stream",
     "text": [
      "I select option 3. TURN: 1 \n",
      "\n",
      "\n",
      "You need to make a skill check to crack a joke.\n",
      "skill: Fast Talk\n",
      "difficulty: normal"
     ]
    },
    {
     "data": {
      "application/vnd.jupyter.widget-view+json": {
       "model_id": "843397f08d5745f49342497d79ef8e54",
       "version_major": 2,
       "version_minor": 0
      },
      "text/plain": [
       "HBox(children=(Button(description='FAST [NORMAL]', layout=Layout(width='auto'), style=ButtonStyle()), Button(d…"
      ]
     },
     "metadata": {},
     "output_type": "display_data"
    },
    {
     "name": "stdout",
     "output_type": "stream",
     "text": [
      "I am making a skill check using FAST against a difficulty of NORMAL.\n",
      "And I rolled a 57 for a result of FAILURE.\n",
      "TURN: 2 \n",
      "\n",
      "\n",
      "With a chuckle, you attempt to make a light-hearted joke about the sake, saying, \"Maybe we should ask if the sake is strong enough to paint our evening with unforgettable colors, or if it'll just end up blurring the lines of our sketches.\" However, your delivery doesn't land as smoothly as you hoped, and there's a brief awkward silence.\n",
      "\n",
      "Mitsuha, trying to keep the mood light, smiles politely and says, \"Well, I guess there's only one way to find out, right? Let's give it a shot, but maybe just a small one for me. I'm not much of a drinker, and I wouldn't want my sketching hand to start drawing circles by itself.\"\n",
      "\n",
      "The owner, picking up on the attempt to keep things jovial, nods and brings over a small bottle of sake, pouring a modest amount for both of you.\n",
      "\n",
      "As you both sip the sake, Mitsuha's cheeks begin to flush slightly from the alcohol. She seems more relaxed and begins to open up a bit more about her love for art, asking you about your favorite artists and styles.\n",
      "\n",
      "What do you do next?\n",
      "\n",
      "possible actions:\n",
      "1. Share your thoughts on your favorite artists and ask her about hers.\n",
      "2. Steer the conversation towards her work in the art gallery.\n",
      "3. Mention your own aspirations of becoming a concept artist."
     ]
    },
    {
     "data": {
      "application/vnd.jupyter.widget-view+json": {
       "model_id": "94bf5387ae0c411589cbfca5218eb898",
       "version_major": 2,
       "version_minor": 0
      },
      "text/plain": [
       "HBox(children=(Button(description='1', layout=Layout(width='auto'), style=ButtonStyle(), tooltip='Share your t…"
      ]
     },
     "metadata": {},
     "output_type": "display_data"
    },
    {
     "name": "stdout",
     "output_type": "stream",
     "text": [
      "I select option 2. TURN: 3 \n",
      "\n",
      "\n",
      "Curious about her work, you steer the conversation towards her job at the art gallery. \"So, working in an art gallery must be fascinating. You get to be around all these incredible pieces every day. What's that like for you?\"\n",
      "\n",
      "Mitsuha's eyes light up with enthusiasm. \"Oh, it's absolutely thrilling! Each piece tells a story, and being surrounded by so much creativity and expression is incredibly inspiring. I get to meet artists from all walks of life, and sometimes, I even get a behind-the-scenes look at their creative process. It's like being in a constant state of learning and discovery.\"\n",
      "\n",
      "She then leans in a bit closer, her voice taking on a tone of excitement. \"And you know, it's not just about the art on display. It's about the people who come to see it. Everyone interprets art differently, and hearing their perspectives can be just as enlightening as the art itself.\"\n",
      "\n",
      "As the conversation flows, you notice that Mitsuha is genuinely passionate about her work, her eyes sparkling whenever she talks about art. It's clear that her job is more than just a job to her; it's a part of who she is.\n",
      "\n",
      "The dinner progresses with more shared stories about art, and you find yourself more intrigued by Mitsuha's world. The sake, although consumed in moderation, adds a warm glow to the evening.\n",
      "\n",
      "What do you do next?\n",
      "\n",
      "possible actions:\n",
      "1. Open up about your own dream of becoming a concept artist.\n",
      "2. Ask her about the most memorable piece of art she's encountered in her work.\n",
      "3. Change the subject to discuss plans for the next day."
     ]
    },
    {
     "data": {
      "application/vnd.jupyter.widget-view+json": {
       "model_id": "be13e7239a92430d96164b9d954041dc",
       "version_major": 2,
       "version_minor": 0
      },
      "text/plain": [
       "HBox(children=(Button(description='1', layout=Layout(width='auto'), style=ButtonStyle(), tooltip='Open up abou…"
      ]
     },
     "metadata": {},
     "output_type": "display_data"
    },
    {
     "name": "stdout",
     "output_type": "stream",
     "text": [
      "I select option 2. TURN: 4 \n",
      "\n",
      "\n",
      "Eager to dive deeper into her experiences, you ask Mitsuha about the most memorable piece of art she's encountered in her work. \"With all the art you've seen, is there one piece that stands out to you the most?\"\n",
      "\n",
      "Mitsuha pauses for a moment, her gaze drifting off as if sifting through a mental gallery of countless artworks. Then, her face softens with a fond recollection. \"Yes, there was one. It wasn't the most extravagant or famous piece, but it had a profound impact on me. It was a small, intricate painting by a relatively unknown artist. The piece depicted a quiet, serene landscape that seemed almost ethereal. But what struck me the most was the emotion it evoked—this sense of peace and solitude, but also a deep longing. It reminded me that art has the power to touch the soul in unexpected ways.\"\n",
      "\n",
      "She looks back at you, her expression earnest. \"It's moments like that which remind me why I love what I do. Art isn't just about aesthetics; it's about the emotions it stirs within us, the stories it tells.\"\n",
      "\n",
      "The conversation feels intimate and revealing, allowing you to see a side of Mitsuha that's deeply connected to her passions and values. It's clear that her love for art is not just professional but personal, shaping her view of the world around her.\n",
      "\n",
      "As the dinner comes to a close, you both have shared not only a meal but a glimpse into each other's aspirations and dreams.\n",
      "\n",
      "What do you do next?\n",
      "\n",
      "possible actions:\n",
      "1. Share your thoughts on how her story resonated with your own views on art.\n",
      "2. Suggest taking a walk together after dinner to continue the conversation.\n",
      "3. Thank her for the wonderful evening and express your hope to spend more time together."
     ]
    },
    {
     "data": {
      "application/vnd.jupyter.widget-view+json": {
       "model_id": "691e750810e5444b9f46ab9ef564c320",
       "version_major": 2,
       "version_minor": 0
      },
      "text/plain": [
       "HBox(children=(Button(description='1', layout=Layout(width='auto'), style=ButtonStyle(), tooltip='Share your t…"
      ]
     },
     "metadata": {},
     "output_type": "display_data"
    },
    {
     "name": "stdout",
     "output_type": "stream",
     "text": [
      "I select option 1. TURN: 5 \n",
      "\n",
      "\n",
      "Moved by her story, you share your own thoughts on how it resonated with your views on art. \"Hearing about that painting and what it meant to you really strikes a chord with me. It's fascinating how art can evoke such strong emotions and connect with us on a personal level. I've always believed that art has this unique power to express what words cannot, to bridge gaps between people, and to inspire change or contemplation.\"\n",
      "\n",
      "Mitsuha listens intently, nodding in agreement. \"Exactly! It's that connection, that universal language of emotion and expression, that makes art so invaluable. I'm glad you feel the same way. It's rare to meet someone who truly understands the impact art can have.\"\n",
      "\n",
      "The conversation between you two flows effortlessly, and it's clear that your shared passion for art has brought you closer. As the evening winds down, you both have learned much about each other's dreams, aspirations, and the profound respect you share for the world of art.\n",
      "\n",
      "As the owner comes to clear the table, you and Mitsuha exchange smiles, both feeling a sense of contentment and connection from the evening's exchange.\n",
      "\n",
      "summary:\n",
      "During dinner, the conversation between Hikaru and Mitsuha deepened their connection, with discussions revolving around art, aspirations, and personal stories. Despite an initial awkward moment with a joke about sake, the evening progressed smoothly with Mitsuha opening up about her work in the art gallery, her passion for art, and a particularly memorable piece that touched her deeply. Hikaru shared his own views on art, resonating with Mitsuha's experiences and emotions. The dinner concluded on a note of mutual understanding and a strengthened bond over their shared love for art."
     ]
    },
    {
     "data": {
      "application/vnd.jupyter.widget-view+json": {
       "model_id": "f27e30fa295c45a88081bef35d5d11ba",
       "version_major": 2,
       "version_minor": 0
      },
      "text/plain": [
       "HBox(children=(Button(description='NEXT ROUND', layout=Layout(width='auto'), style=ButtonStyle()), Button(desc…"
      ]
     },
     "metadata": {},
     "output_type": "display_data"
    }
   ],
   "source": [
    "import re\n",
    "import tomllib\n",
    "import functools\n",
    "from typing import Literal\n",
    "\n",
    "import ipywidgets as widgets\n",
    "from IPython.display import display\n",
    "\n",
    "from dotenv import load_dotenv\n",
    "\n",
    "load_dotenv()\n",
    "\n",
    "from rs import Message, Config, chat, skill_check\n",
    "import d20\n",
    "\n",
    "action_pattern = re.compile(r\"(\\d+). *(.+)\")\n",
    "skill_pattern = re.compile(r\"[\\w_]+\")\n",
    "skill_difficulty_pattern = re.compile(r\"(easy|normal|hard)\")\n",
    "\n",
    "def next_round(b):\n",
    "    global current_round, initial_messages\n",
    "    current_round += 1\n",
    "    initial_messages = config.initial_messages(current_round, config.metadata)\n",
    "\n",
    "    print(initial_messages[-1].content)\n",
    "    display(get_controls(initial_messages[-1]))\n",
    "\n",
    "def get_user_message_tail():\n",
    "    count = 0\n",
    "    for msg in initial_messages:\n",
    "        if msg.role == \"user\":\n",
    "            count += 1\n",
    "\n",
    "    is_final =  \", FINAL ROUND\" if  current_round == len(config.rounds) else \"\"\n",
    "    \n",
    "    # print(config.metadata[\"character\"])\n",
    "    \n",
    "    if \"tags\" in config.metadata[\"character\"] and \"insane\" in config.metadata[\"character\"][\"tags\"]:\n",
    "        return f\"TURN: {count + 1} {is_final} (I'm insane!)\"\n",
    "    \n",
    "    return f\"TURN: {count + 1} {is_final}\"\n",
    "    \n",
    "\n",
    "def do_chat(role:Literal[\"user\", \"system\", \"assistant\"], content: str):\n",
    "    print(f\"{content}\\n\\n\")\n",
    "\n",
    "    initial_messages.append(Message(role=role, content=content))\n",
    "    msg = chat(initial_messages, lambda delta: print(delta, end=\"\"))\n",
    "\n",
    "    initial_messages.append(msg)\n",
    "    display(get_controls(msg))\n",
    "\n",
    "\n",
    "def on_skill(b, skill:str, difficulty:str):\n",
    "    # print(config.metadata[\"character\"])\n",
    "    content = skill_check(skill, difficulty, config.metadata)\n",
    "    content += f\"\\n{get_user_message_tail()}\"\n",
    "    do_chat(\"user\", content)\n",
    "\n",
    "def on_action(b, index:int):\n",
    "    content = f\"I select option {index}. {get_user_message_tail()}\"\n",
    "    do_chat(\"user\", content)\n",
    "\n",
    "def on_custom_input(b, input:widgets.Text):\n",
    "    content = f\"{input.value}. {get_user_message_tail()}\"\n",
    "    do_chat(\"user\", content)\n",
    "\n",
    "def on_custom_action(b):\n",
    "    hbox = widgets.HBox(layout=widgets.Layout(width=\"100%\"))\n",
    "    action_text = widgets.Text(layout=widgets.Layout(width=\"100%\"))\n",
    "    submit = widgets.Button(description=\"SUBMIT\", layout=widgets.Layout(width=\"fit-content\"))\n",
    "    submit.on_click(functools.partial(on_custom_input, input=action_text))\n",
    "    hbox.children += (action_text, submit) \n",
    "    display(hbox)\n",
    "\n",
    "def get_controls(msg:Message) -> widgets.Box:\n",
    "    dict = msg.dict()\n",
    "    buttons = []\n",
    "    if \"possible actions\" in dict.keys():\n",
    "        matches = action_pattern.finditer(dict[\"possible actions\"])\n",
    "        for match in matches:\n",
    "            btn = widgets.Button(description=match.group(1), tooltip=match.group(2), layout=widgets.Layout(width=\"auto\"))\n",
    "            btn.on_click(functools.partial(on_action, index=int(match.group(1))))\n",
    "            buttons.append(btn)\n",
    "    elif \"skill\" in dict.keys() and \"difficulty\" in dict.keys():\n",
    "        match = skill_pattern.match(dict[\"skill\"])\n",
    "        skill = match.group(0)\n",
    "        match = skill_difficulty_pattern.match(dict[\"difficulty\"])\n",
    "        difficulty = match.group(0)\n",
    "        skill_button = widgets.Button(description=f\"{skill.upper()} [{difficulty.upper()}]\", layout=widgets.Layout(width=\"auto\"))\n",
    "        skill_button.on_click(functools.partial(on_skill, skill=skill, difficulty=difficulty))\n",
    "        buttons.append(skill_button)\n",
    "    elif \"summary\" in dict.keys():\n",
    "        # add summary as a memory to the metadata\n",
    "        # it will be used in the next round.\n",
    "        # config.metadata[\"memories\"] = []\n",
    "        config.metadata[\"memories\"].append(dict[\"summary\"])\n",
    "        next_btn = widgets.Button(description=\"NEXT ROUND\", layout=widgets.Layout(width=\"auto\"))\n",
    "        next_btn.on_click(next_round)\n",
    "        buttons.append(next_btn)\n",
    "    \n",
    "    custom_action_button = widgets.Button(description=\"CUSTOM\")\n",
    "    custom_action_button.on_click(on_custom_action)\n",
    "    buttons.append(custom_action_button)\n",
    "\n",
    "    return widgets.HBox(buttons)\n",
    "\n",
    "# open config file\n",
    "config_name = \"data/ai_gf.toml\"\n",
    "config: Config | None = None\n",
    "with open(config_name, \"rb\") as f:\n",
    "    data = tomllib.load(f)\n",
    "    config = Config(**data)\n",
    "\n",
    "current_round = 0\n",
    "initial_messages = config.initial_messages(current_round, config.metadata)\n",
    "\n",
    "print(initial_messages[-1].content)\n",
    "display(get_controls(initial_messages[-1]))"
   ]
  }
 ],
 "metadata": {
  "kernelspec": {
   "display_name": ".venv",
   "language": "python",
   "name": "python3"
  },
  "language_info": {
   "codemirror_mode": {
    "name": "ipython",
    "version": 3
   },
   "file_extension": ".py",
   "mimetype": "text/x-python",
   "name": "python",
   "nbconvert_exporter": "python",
   "pygments_lexer": "ipython3",
   "version": "3.12.3"
  }
 },
 "nbformat": 4,
 "nbformat_minor": 2
}
