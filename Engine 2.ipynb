{
 "cells": [
  {
   "cell_type": "code",
   "execution_count": 7,
   "metadata": {},
   "outputs": [
    {
     "name": "stdout",
     "output_type": "stream",
     "text": [
      "Requirement already satisfied: fastapi in c:\\python\\lib\\site-packages (0.110.2)\n",
      "Requirement already satisfied: pydantic in c:\\python\\lib\\site-packages (2.7.0)\n",
      "Requirement already satisfied: toml in c:\\python\\lib\\site-packages (0.10.2)\n",
      "Requirement already satisfied: starlette<0.38.0,>=0.37.2 in c:\\python\\lib\\site-packages (from fastapi) (0.37.2)\n",
      "Requirement already satisfied: typing-extensions>=4.8.0 in c:\\python\\lib\\site-packages (from fastapi) (4.11.0)\n",
      "Requirement already satisfied: annotated-types>=0.4.0 in c:\\python\\lib\\site-packages (from pydantic) (0.6.0)\n",
      "Requirement already satisfied: pydantic-core==2.18.1 in c:\\python\\lib\\site-packages (from pydantic) (2.18.1)\n",
      "Requirement already satisfied: anyio<5,>=3.4.0 in c:\\python\\lib\\site-packages (from starlette<0.38.0,>=0.37.2->fastapi) (4.3.0)\n",
      "Requirement already satisfied: idna>=2.8 in c:\\python\\lib\\site-packages (from anyio<5,>=3.4.0->starlette<0.38.0,>=0.37.2->fastapi) (3.7)\n",
      "Requirement already satisfied: sniffio>=1.1 in c:\\python\\lib\\site-packages (from anyio<5,>=3.4.0->starlette<0.38.0,>=0.37.2->fastapi) (1.3.1)\n",
      "Note: you may need to restart the kernel to use updated packages.\n"
     ]
    }
   ],
   "source": [
    "%pip install fastapi pydantic toml"
   ]
  },
  {
   "cell_type": "code",
   "execution_count": 8,
   "metadata": {},
   "outputs": [],
   "source": [
    "# from rs import skill_check\n",
    "\n",
    "# def test_skill_check(metadata):\n",
    "#     print(skill_check(\"sanity\", None, metadata))\n",
    "\n",
    "# metadata = {\n",
    "#     \"character\": {\"sanity\":30},\n",
    "#     \"symptom\":[\n",
    "#         \"incoherent speech\",\n",
    "#         \"uncontrollable twitching, trembling\",\n",
    "#         \"delusions of persecution\",\n",
    "#         \"strange appetites (dirt, clay, etc...)\",\n",
    "#         \"scratches, punches, and bruises all over the body\"\n",
    "#     ]\n",
    "# }\n",
    "\n",
    "# test_skill_check(metadata)\n",
    "# test_skill_check(metadata)\n",
    "# test_skill_check(metadata)\n",
    "# test_skill_check(metadata)\n",
    "# test_skill_check(metadata)\n",
    "# test_skill_check(metadata)\n",
    "# test_skill_check(metadata)\n",
    "# test_skill_check(metadata)\n",
    "# test_skill_check(metadata)\n",
    "# test_skill_check(metadata)\n",
    "# test_skill_check(metadata)\n",
    "# test_skill_check(metadata)\n",
    "\n",
    "# print(metadata[\"character\"])\n"
   ]
  },
  {
   "cell_type": "code",
   "execution_count": 9,
   "metadata": {},
   "outputs": [
    {
     "name": "stdout",
     "output_type": "stream",
     "text": [
      "\n",
      "\n",
      "Professor Dagger examines the seance table with utmost concentration and scrutiny, being as careful as possible to not inflict any damage to the table. He then shifted his attention to the three leather bound books, inspecting its condition while flipping through its contents to verify its authenticity. \n",
      "\n",
      "After much inspection, he turned his attention towards you, and inquired about a fourth book, expressing that altogether, it could fetch a price well above $2,000,000. Your eyes lit up, recognizing this to be your chance to turn your life around, pay off your debts and perhaps start something by yourself. The mystery of the fourth book piqued your interest despite the disinterest in the occult, and such curiosity beckoned you to ask about the importance of the fourth book. A heavy silence ensued, the Professor’s shadowy face under the chandelier’s soft  glow gazed into your eyes with great earnestness. In a somber tone, he explained that the fourth book is the rarest of them all, for it allows its user to bind a demon to the material world, to earth. And the moment the transaction is complete, the book would self combust to a pile of ash unless the demon has been betrayed and unable to collect its debt, thus explaining the price of the book. \n",
      "\n",
      "You hastily explain your recently acquired storage, and how you still haven’t had the opportunity to thoroughly examine every item, suggesting its possible location. Professor Dagger offered to search the storage room alongside you, and if the fourth book is found, he will write you a $2,000,000 cheque immediately. \n",
      "\n",
      "You quickly load everything back onto your truck, and with Professor Dagger in the passenger seat, the two of you make way towards the self-storage facility. On your way there, the Professor informed you that he has a confession to make.\n",
      "\n",
      "How do you respond?\n",
      "\n",
      "possible actions:\n",
      "1. Listen to his confession\n",
      "2. Ask him to keep what he has to say to himself\n",
      "3. Threaten him that if he lied about the money, you would hurt him real bad\n"
     ]
    },
    {
     "data": {
      "application/vnd.jupyter.widget-view+json": {
       "model_id": "4795713098244fc5b6615891f7cc976a",
       "version_major": 2,
       "version_minor": 0
      },
      "text/plain": [
       "HBox(children=(Button(description='1', layout=Layout(width='auto'), style=ButtonStyle(), tooltip='Listen to hi…"
      ]
     },
     "metadata": {},
     "output_type": "display_data"
    },
    {
     "name": "stdout",
     "output_type": "stream",
     "text": [
      "I select option 3. TURN: 1 \n",
      "\n",
      "\n",
      "You glare at Professor Dagger, the grip on your steering wheel tightening as you let out a stern warning, \"Listen, if you've lied about the money, I swear I'll make you regret it.\" The tension in the car thickens, a stark contrast to the dimly lit streets you're navigating through.\n",
      "\n",
      "Professor Dagger, maintaining his composure, raises his hands in a calming gesture, \"I assure you, my intentions are genuine. But what I'm about to reveal may add layers to our current quest.\" He pauses, ensuring he has your full attention. \"The previous owner of your storage, along with his family, was deeply involved with the occult. It's said that they conducted an abominable ritual with the fourth book, summoning a demon to possess her sister. The aftermath of those events are shrouded in mystery, whispers, and speculation.\"\n",
      "\n",
      "As Dagger finishes his confession, a chill runs down your spine, not from fear but from the realization of what might lie within the storage you've acquired. The thought of encountering something beyond the realm of your understanding briefly crosses your mind, but the potential financial gain quickly overshadows any apprehension.\n",
      "\n",
      "The rest of the drive is silent, each of you lost in your thoughts about what awaits at the storage facility.\n",
      "\n",
      "As you arrive at the self-storage facility, the eerie quiet of the night amplifies the unsettling feeling the Professor's story has left you with. You park the truck, and both of you step out, standing in front of the storage unit that holds unknown secrets and possibly, your ticket to a new life.\n",
      "\n",
      "summary: Kyle, influenced by the potential of a significant financial gain, warns Professor Dagger about the consequences of lying about the money. Professor Dagger confesses that the previous owner of the storage was deeply involved in the occult, hinting at the dangerous and mysterious contents that might be inside. The round ends as they arrive at the self-storage facility, ready to uncover the truths hidden within."
     ]
    },
    {
     "data": {
      "application/vnd.jupyter.widget-view+json": {
       "model_id": "1ce593918c204bf68122d8d88b406151",
       "version_major": 2,
       "version_minor": 0
      },
      "text/plain": [
       "HBox(children=(Button(description='NEXT ROUND', layout=Layout(width='auto'), style=ButtonStyle()), Button(desc…"
      ]
     },
     "metadata": {},
     "output_type": "display_data"
    },
    {
     "name": "stdout",
     "output_type": "stream",
     "text": [
      "\n",
      "Memories:\n",
      "\"\"\"\n",
      "- Kyle, influenced by the potential of a significant financial gain, warns Professor Dagger about the consequences of lying about the money. Professor Dagger confesses that the previous owner of the storage was deeply involved in the occult, hinting at the dangerous and mysterious contents that might be inside. The round ends as they arrive at the self-storage facility, ready to uncover the truths hidden within.\n",
      "\"\"\"\n",
      "\n",
      "\n",
      "You invited Professor Dagger into the storage room, the space still cluttered despite your earlier attempt to clear some of the items out. The two of you began scouring through old furniture, leaving nothing unturned, yet, after two long hours, your hands held nothing but dust. You sensed the Professor’s eyes laced with disappointment, perhaps he has already given up the search, for to encounter a rare artifact like the one he described must require great deal of luck. But your desire for a better life fuels your persistence to hunt the fourth book down. You revisit the drawers you may have overlooked, potential compartments that are hidden behind intricate mechanisms like the seance table. And as you attempt to wrestle a large wooden shelf to another wall, your slip of the hand causes it to collide with the wall behind it, producing a hollow thud. Professor Dagger immediately placed his hands against the false wall, sliding across its surface gently like one would a body. Soon he senses the concealed mechanism that safeguards the secret shut, which upon a gentle press, unveils a dark corridor effluviating a pungent scent.\n",
      "\n",
      "Before entering, Professor Dagger warns you not to look or speak to whatever resides at the end of the corridor, for you may enter a state of frenzy. With that in mind, you follow Professor Dagger into the unknown…\n",
      "\n",
      "What is your next course of action?\n",
      "\n",
      "possible actions:\n",
      "1. Follow him closely in silence\n",
      "2. Ask him what the foul odour is\n",
      "3. Comment on the surroundings\n"
     ]
    },
    {
     "data": {
      "application/vnd.jupyter.widget-view+json": {
       "model_id": "f4a343a70bd74f42a550b1e6701a80d3",
       "version_major": 2,
       "version_minor": 0
      },
      "text/plain": [
       "HBox(children=(Button(description='1', layout=Layout(width='auto'), style=ButtonStyle(), tooltip='Follow him c…"
      ]
     },
     "metadata": {},
     "output_type": "display_data"
    },
    {
     "name": "stdout",
     "output_type": "stream",
     "text": [
      "I select option 2. TURN: 1 \n",
      "\n",
      "\n",
      "You can't help but wrinkle your nose, the stench growing stronger with each step you take down the corridor. \"What is that foul odor?\" you ask, trying to keep your voice steady despite the growing unease.\n",
      "\n",
      "Professor Dagger pauses for a moment, his lantern casting long shadows on the walls. \"Decay,\" he says simply, his voice a mix of fear and fascination. \"The smell of ancient secrets and... consequences. We must be cautious.\"\n",
      "\n",
      "The corridor seems to stretch endlessly before you, the air thick with anticipation and dread. You notice strange symbols etched into the walls, their meanings lost to time but their intent unmistakably ominous.\n",
      "\n",
      "As you proceed, the light from Professor Dagger's lantern reveals the end of the corridor. A door stands before you, its surface covered in more cryptic symbols. Professor Dagger reaches out to open it, his hand trembling slightly.\n",
      "\n",
      "What do you do as he opens the door?\n",
      "\n",
      "possible actions:\n",
      "1. Brace yourself and look away\n",
      "2. Peer over his shoulder to get a glimpse inside\n",
      "3. Ask him if he's sure about opening the door"
     ]
    },
    {
     "data": {
      "application/vnd.jupyter.widget-view+json": {
       "model_id": "7da1be047c75474da6c997f21a92f310",
       "version_major": 2,
       "version_minor": 0
      },
      "text/plain": [
       "HBox(children=(Button(description='1', layout=Layout(width='auto'), style=ButtonStyle(), tooltip='Brace yourse…"
      ]
     },
     "metadata": {},
     "output_type": "display_data"
    },
    {
     "name": "stdout",
     "output_type": "stream",
     "text": [
      "I select option 2. TURN: 2 \n",
      "\n",
      "\n",
      "Curiosity gets the better of you, and as Professor Dagger's hand pushes the door open, you peer over his shoulder to catch a glimpse of what lies beyond. The door creaks ominously, revealing a room that is unlike any other part of the storage facility. It's dimly lit by candles placed in a circle around a central figure on the floor. \n",
      "\n",
      "Your eyes are immediately drawn to the near-withered body lying at the center of the room, over a pentagram made of a strange red fluid. The sight is horrifying, and you can't help but notice that the withered body's face is completely gone, leaving a gaping cavity where something sinister seems to writhe inside.\n",
      "\n",
      "You need to make a skill check to maintain your sanity upon witnessing this grotesque scene.\n",
      "\n",
      "skill: sanity\n",
      "difficulty: hard"
     ]
    },
    {
     "data": {
      "application/vnd.jupyter.widget-view+json": {
       "model_id": "1df53b1759df410c841960f0ce4e5f02",
       "version_major": 2,
       "version_minor": 0
      },
      "text/plain": [
       "HBox(children=(Button(description='SANITY [HARD]', layout=Layout(width='auto'), style=ButtonStyle()), Button(d…"
      ]
     },
     "metadata": {},
     "output_type": "display_data"
    },
    {
     "name": "stdout",
     "output_type": "stream",
     "text": [
      "I am making a SANITY check against my own sanity points: 10.\n",
      "And... FAILED! I lost 6 sanity points.\n",
      "I am shocked and lose control of my actions.\n",
      "TURN: 3  (I'm insane!)\n",
      "\n",
      "\n",
      "As the grotesque reality of the scene before you fully registers, your mind reels from the shock. The loss of sanity points reflects your psyche fracturing under the weight of what you've witnessed. The world around you blurs, sounds distort, and for a moment, reality itself seems to warp and twist.\n",
      "\n",
      "In your frenzied state, you stagger backward, your breath coming in short, ragged gasps. The walls of the room seem to close in on you, the flickering candlelight casting menacing shadows that dance and twist in your peripheral vision. The writhing entity within the withered body's facial cavity appears to grow, its movements more frantic as if sensing your distress.\n",
      "\n",
      "Professor Dagger, noticing your distress, attempts to calm you, his words barely piercing the veil of your hysteria. \"Kyle! Focus on my voice. You must not let it consume you. Breathe, Kyle, breathe!\"\n",
      "\n",
      "Despite his efforts, your mind is a whirlwind of panic and confusion. You are momentarily incapable of rational thought or coherent action, trapped in the grip of your own terror.\n",
      "\n",
      "As the seconds pass, you struggle to regain some semblance of control over your faculties. The immediate shock begins to fade, but you are left deeply shaken, your sanity frayed at the edges.\n",
      "\n",
      "What do you do next in your unsettled state?\n",
      "\n",
      "possible actions:\n",
      "1. Try to compose yourself and focus on Professor Dagger's voice\n",
      "2. Run out of the room in panic\n",
      "3. Attempt to communicate with the entity"
     ]
    },
    {
     "data": {
      "application/vnd.jupyter.widget-view+json": {
       "model_id": "f295e7e48105451db65831ed957337b1",
       "version_major": 2,
       "version_minor": 0
      },
      "text/plain": [
       "HBox(children=(Button(description='1', layout=Layout(width='auto'), style=ButtonStyle(), tooltip=\"Try to compo…"
      ]
     },
     "metadata": {},
     "output_type": "display_data"
    },
    {
     "data": {
      "application/vnd.jupyter.widget-view+json": {
       "model_id": "18dd6075bd9144549855ba63355e0a9a",
       "version_major": 2,
       "version_minor": 0
      },
      "text/plain": [
       "HBox(children=(Text(value='', layout=Layout(width='100%')), Button(description='SUBMIT', layout=Layout(width='…"
      ]
     },
     "metadata": {},
     "output_type": "display_data"
    },
    {
     "name": "stdout",
     "output_type": "stream",
     "text": [
      "grab the book and run. TURN: 4  (I'm insane!)\n",
      "\n",
      "\n",
      "Driven by a mix of fear, desperation, and an inexplicable urge, you lunge towards the podium at the far end of the hidden room, your hands grasping the fourth book. The moment your fingers touch the spine of the book, the strange red fluid forming the pentagram on the floor begins to evaporate, disappearing without a trace.\n",
      "\n",
      "As the fluid vanishes, the room's atmosphere shifts dramatically. The withered body starts to convulse violently, tentacles pouring out from the gaping cavity that was once its face. They lash out in all directions, and before you can process what's happening, they ensnare Professor Dagger, pulling him towards the writhing mass. His screams fill the room, a chilling reminder of the horror unfolding before you.\n",
      "\n",
      "With the book in hand, you turn and run, fueled by adrenaline and terror. The corridor that once led you to this nightmare now seems like a lifeline back to reality. You can hear the slithering and wet sounds of the creature giving chase, its intent clear: it will not let you leave with the book.\n",
      "\n",
      "You need to make a skill check to escape the creature's pursuit.\n",
      "\n",
      "skill: dexterity\n",
      "difficulty: hard"
     ]
    },
    {
     "data": {
      "application/vnd.jupyter.widget-view+json": {
       "model_id": "ecba442601c945149d3858f29f0ac082",
       "version_major": 2,
       "version_minor": 0
      },
      "text/plain": [
       "HBox(children=(Button(description='DEXTERITY [HARD]', layout=Layout(width='auto'), style=ButtonStyle()), Butto…"
      ]
     },
     "metadata": {},
     "output_type": "display_data"
    },
    {
     "name": "stdout",
     "output_type": "stream",
     "text": [
      "I am making a skill check using DEXTERITY against a difficulty of HARD.\n",
      "And I rolled a 32 for a result of FAILURE.\n",
      "TURN: 5  (I'm insane!)\n",
      "\n",
      "\n",
      "In your panicked state, your feet seem to betray you. Your movements are erratic, hindered by the overwhelming fear and the disorientation from your recent loss of sanity. As you attempt to sprint down the corridor, your foot catches on an uneven part of the floor, sending you sprawling forward. The heavy thud of your body against the cold ground echoes in the narrow space, a stark reminder of your vulnerability.\n",
      "\n",
      "Before you can fully recover, you feel the chilling touch of the tentacles as they brush against your ankle. The sensation is cold, wet, and utterly revolting, sending shivers up your spine. With a surge of desperate strength, you kick at the tentacle and scramble to your feet, continuing your frenzied dash towards the exit.\n",
      "\n",
      "The creature, relentless in its pursuit, seems to be slowed down momentarily by your actions, but the sounds of its pursuit do not fade. It's clear that it will not give up easily, driven by a malevolent will to reclaim the book you've taken.\n",
      "\n",
      "As you reach the end of the corridor, gasping for breath and drenched in sweat, you find yourself at the storage facility's exit, only to discover that it is locked. Panic rises anew as you realize there's no immediate way out.\n",
      "\n",
      "In this desperate moment, you remember the middle-aged woman who asked for your help earlier. If you accepted her request, she promised to be on the other side of the locked door, ready to unlock it for you.\n",
      "\n",
      "Did you accept the middle-aged woman's request, and will she be there to unlock the door for you?"
     ]
    },
    {
     "data": {
      "application/vnd.jupyter.widget-view+json": {
       "model_id": "fd0cacca1ab44f57b91565c0d21f921e",
       "version_major": 2,
       "version_minor": 0
      },
      "text/plain": [
       "HBox(children=(Button(description='CUSTOM', style=ButtonStyle()),))"
      ]
     },
     "metadata": {},
     "output_type": "display_data"
    },
    {
     "data": {
      "application/vnd.jupyter.widget-view+json": {
       "model_id": "89ace39522c84d5ebdd0807ff9149f0c",
       "version_major": 2,
       "version_minor": 0
      },
      "text/plain": [
       "HBox(children=(Text(value='', layout=Layout(width='100%')), Button(description='SUBMIT', layout=Layout(width='…"
      ]
     },
     "metadata": {},
     "output_type": "display_data"
    },
    {
     "name": "stdout",
     "output_type": "stream",
     "text": [
      "no. TURN: 6  (I'm insane!)\n",
      "\n",
      "\n",
      "With no prior arrangement made with the middle-aged woman to unlock the door, you find yourself trapped, the locked exit standing between you and your escape from the nightmarish entity that is relentlessly pursuing you. The realization hits you like a physical blow, your heart pounding in your chest as you frantically search for any means to unlock the door or find another way out.\n",
      "\n",
      "The sounds of the creature's approach grow louder, a cacophony of slithering and the wet slap of its tentacles against the ground. You can almost feel its breath on your neck, the air growing colder as it draws near.\n",
      "\n",
      "In a last-ditch effort, you examine the door for any weaknesses, any overlooked detail that might offer a way out. Your hands shake as you try the handle again, hoping against hope for a miracle.\n",
      "\n",
      "But it's clear, there's no easy way out. You need to make a skill check to find an alternative solution or create an opportunity to escape.\n",
      "\n",
      "skill: spot_hidden\n",
      "difficulty: hard"
     ]
    },
    {
     "data": {
      "application/vnd.jupyter.widget-view+json": {
       "model_id": "6cf828c991354a63ad7df09a0101c821",
       "version_major": 2,
       "version_minor": 0
      },
      "text/plain": [
       "HBox(children=(Button(description='SPOT_HIDDEN [HARD]', layout=Layout(width='auto'), style=ButtonStyle()), But…"
      ]
     },
     "metadata": {},
     "output_type": "display_data"
    },
    {
     "name": "stdout",
     "output_type": "stream",
     "text": [
      "I am making a skill check using SPOT_HIDDEN against a difficulty of HARD.\n",
      "And I rolled a 4 for a result of CRITICAL SUCCESS.\n",
      "TURN: 7  (I'm insane!)\n",
      "\n",
      "\n",
      "Your critical success in the spot hidden check, even in the throes of insanity, sharpens your senses to a razor's edge. Amidst the chaos of your mind and the imminent threat lurking just moments behind you, a glimmer of hope catches your eye. \n",
      "\n",
      "Hidden beneath a loose floorboard near the door, almost imperceptible unless one were looking for it with desperate urgency, you find a set of old keys. With trembling hands, you grab them, trying each one in the lock with frantic speed. The creature's grotesque sounds of pursuit are nearly upon you, its malevolent presence a palpable force driving you to the brink of despair.\n",
      "\n",
      "Finally, one of the keys turns with a satisfying click, and the door swings open just as you feel the creature's tendrils graze the back of your neck. You hurl yourself through the doorway, slamming it shut behind you and locking it in a move driven by pure survival instinct.\n",
      "\n",
      "Outside, the night air hits you like a cold slap, bringing with it a momentary clarity amidst your ongoing panic. You don't stop to look back, the terror of what you've just escaped propelling you forward into the dark, away from the storage facility and its horrors.\n",
      "\n",
      "As you distance yourself from the site of your near-demise, the events that transpired play over in your mind like a nightmarish loop. The loss of Professor Dagger, the monstrous entity, and the close brush with death leave you with deep psychological scars, your sanity hanging by a thread.\n",
      "\n",
      "summary:\n",
      "In a harrowing escape, you managed to evade the monstrous entity that pursued you through the self-storage facility, driven by the theft of a forbidden book. Your critical thinking and a stroke of luck with finding the hidden keys allowed you to escape, but not without significant cost to your mental health. The horrors witnessed within the storage, compounded by the loss of Professor Dagger to the creature, have left you deeply traumatized. Your journey away from the storage facility is one marked by fear, confusion, and an overwhelming sense of dread for what the future might hold, knowing that such horrors lurk in the shadows of the world."
     ]
    },
    {
     "data": {
      "application/vnd.jupyter.widget-view+json": {
       "model_id": "bd0b70646ed4461ba7c200681ce5c114",
       "version_major": 2,
       "version_minor": 0
      },
      "text/plain": [
       "HBox(children=(Button(description='NEXT ROUND', layout=Layout(width='auto'), style=ButtonStyle()), Button(desc…"
      ]
     },
     "metadata": {},
     "output_type": "display_data"
    }
   ],
   "source": [
    "import re\n",
    "import tomllib\n",
    "import functools\n",
    "from typing import Literal\n",
    "\n",
    "import ipywidgets as widgets\n",
    "from IPython.display import display\n",
    "\n",
    "from dotenv import load_dotenv\n",
    "\n",
    "load_dotenv()\n",
    "\n",
    "from rs import Message, Config, chat, skill_check\n",
    "import d20\n",
    "\n",
    "action_pattern = re.compile(r\"(\\d+). *(.+)\")\n",
    "skill_pattern = re.compile(r\"[\\w_]+\")\n",
    "skill_difficulty_pattern = re.compile(r\"(easy|medium|hard)\")\n",
    "\n",
    "def next_round(b):\n",
    "    global current_round, initial_messages\n",
    "    current_round += 1\n",
    "    initial_messages = config.initial_messages(current_round, config.metadata)\n",
    "\n",
    "    print(initial_messages[-1].content)\n",
    "    display(get_controls(initial_messages[-1]))\n",
    "\n",
    "def get_user_message_tail():\n",
    "    count = 0\n",
    "    for msg in initial_messages:\n",
    "        if msg.role == \"user\":\n",
    "            count += 1\n",
    "\n",
    "    is_final =  \", FINAL ROUND\" if  current_round == len(config.rounds) else \"\"\n",
    "    \n",
    "    # print(config.metadata[\"character\"])\n",
    "    \n",
    "    if \"tags\" in config.metadata[\"character\"] and \"insane\" in config.metadata[\"character\"][\"tags\"]:\n",
    "        return f\"TURN: {count + 1} {is_final} (I'm insane!)\"\n",
    "    \n",
    "    return f\"TURN: {count + 1} {is_final}\"\n",
    "    \n",
    "\n",
    "def do_chat(role:Literal[\"user\", \"system\", \"assistant\"], content: str):\n",
    "    print(f\"{content}\\n\\n\")\n",
    "\n",
    "    initial_messages.append(Message(role=role, content=content))\n",
    "    msg = chat(initial_messages, lambda delta: print(delta, end=\"\"))\n",
    "\n",
    "    initial_messages.append(msg)\n",
    "    display(get_controls(msg))\n",
    "\n",
    "\n",
    "def on_skill(b, skill:str, difficulty:str):\n",
    "    # print(config.metadata[\"character\"])\n",
    "    content = skill_check(skill, difficulty, config.metadata)\n",
    "    content += f\"\\n{get_user_message_tail()}\"\n",
    "    do_chat(\"user\", content)\n",
    "\n",
    "def on_action(b, index:int):\n",
    "    content = f\"I select option {index}. {get_user_message_tail()}\"\n",
    "    do_chat(\"user\", content)\n",
    "\n",
    "def on_custom_input(b, input:widgets.Text):\n",
    "    content = f\"{input.value}. {get_user_message_tail()}\"\n",
    "    do_chat(\"user\", content)\n",
    "\n",
    "def on_custom_action(b):\n",
    "    hbox = widgets.HBox(layout=widgets.Layout(width=\"100%\"))\n",
    "    action_text = widgets.Text(layout=widgets.Layout(width=\"100%\"))\n",
    "    submit = widgets.Button(description=\"SUBMIT\", layout=widgets.Layout(width=\"fit-content\"))\n",
    "    submit.on_click(functools.partial(on_custom_input, input=action_text))\n",
    "    hbox.children += (action_text, submit) \n",
    "    display(hbox)\n",
    "\n",
    "def get_controls(msg:Message) -> widgets.Box:\n",
    "    dict = msg.dict()\n",
    "    buttons = []\n",
    "    if \"possible actions\" in dict.keys():\n",
    "        matches = action_pattern.finditer(dict[\"possible actions\"])\n",
    "        for match in matches:\n",
    "            btn = widgets.Button(description=match.group(1), tooltip=match.group(2), layout=widgets.Layout(width=\"auto\"))\n",
    "            btn.on_click(functools.partial(on_action, index=int(match.group(1))))\n",
    "            buttons.append(btn)\n",
    "    elif \"skill\" in dict.keys() and \"difficulty\" in dict.keys():\n",
    "        match = skill_pattern.match(dict[\"skill\"])\n",
    "        skill = match.group(0)\n",
    "        match = skill_difficulty_pattern.match(dict[\"difficulty\"])\n",
    "        difficulty = match.group(0)\n",
    "        skill_button = widgets.Button(description=f\"{skill.upper()} [{difficulty.upper()}]\", layout=widgets.Layout(width=\"auto\"))\n",
    "        skill_button.on_click(functools.partial(on_skill, skill=skill, difficulty=difficulty))\n",
    "        buttons.append(skill_button)\n",
    "    elif \"summary\" in dict.keys():\n",
    "        # add summary as a memory to the metadata\n",
    "        # it will be used in the next round.\n",
    "        config.metadata[\"memories\"] = []\n",
    "        config.metadata[\"memories\"].append(dict[\"summary\"])\n",
    "        next_btn = widgets.Button(description=\"NEXT ROUND\", layout=widgets.Layout(width=\"auto\"))\n",
    "        next_btn.on_click(next_round)\n",
    "        buttons.append(next_btn)\n",
    "    \n",
    "    custom_action_button = widgets.Button(description=\"CUSTOM\")\n",
    "    custom_action_button.on_click(on_custom_action)\n",
    "    buttons.append(custom_action_button)\n",
    "\n",
    "    return widgets.HBox(buttons)\n",
    "\n",
    "# open config file\n",
    "config_name = \"data/coc_lot_3636.toml\"\n",
    "config: Config | None = None\n",
    "with open(config_name, \"rb\") as f:\n",
    "    data = tomllib.load(f)\n",
    "    config = Config(**data)\n",
    "\n",
    "current_round = 4\n",
    "initial_messages = config.initial_messages(current_round, config.metadata)\n",
    "\n",
    "print(initial_messages[-1].content)\n",
    "display(get_controls(initial_messages[-1]))"
   ]
  }
 ],
 "metadata": {
  "kernelspec": {
   "display_name": ".venv",
   "language": "python",
   "name": "python3"
  },
  "language_info": {
   "codemirror_mode": {
    "name": "ipython",
    "version": 3
   },
   "file_extension": ".py",
   "mimetype": "text/x-python",
   "name": "python",
   "nbconvert_exporter": "python",
   "pygments_lexer": "ipython3",
   "version": "3.12.3"
  }
 },
 "nbformat": 4,
 "nbformat_minor": 2
}
