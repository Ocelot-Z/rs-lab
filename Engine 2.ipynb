{
 "cells": [
  {
   "cell_type": "code",
   "execution_count": 4,
   "metadata": {},
   "outputs": [
    {
     "name": "stdout",
     "output_type": "stream",
     "text": [
      "Requirement already satisfied: fastapi in c:\\python\\lib\\site-packages (0.110.2)\n",
      "Requirement already satisfied: pydantic in c:\\python\\lib\\site-packages (2.7.0)\n",
      "Requirement already satisfied: toml in c:\\python\\lib\\site-packages (0.10.2)\n",
      "Requirement already satisfied: starlette<0.38.0,>=0.37.2 in c:\\python\\lib\\site-packages (from fastapi) (0.37.2)\n",
      "Requirement already satisfied: typing-extensions>=4.8.0 in c:\\python\\lib\\site-packages (from fastapi) (4.11.0)\n",
      "Requirement already satisfied: annotated-types>=0.4.0 in c:\\python\\lib\\site-packages (from pydantic) (0.6.0)\n",
      "Requirement already satisfied: pydantic-core==2.18.1 in c:\\python\\lib\\site-packages (from pydantic) (2.18.1)\n",
      "Requirement already satisfied: anyio<5,>=3.4.0 in c:\\python\\lib\\site-packages (from starlette<0.38.0,>=0.37.2->fastapi) (4.3.0)\n",
      "Requirement already satisfied: idna>=2.8 in c:\\python\\lib\\site-packages (from anyio<5,>=3.4.0->starlette<0.38.0,>=0.37.2->fastapi) (3.7)\n",
      "Requirement already satisfied: sniffio>=1.1 in c:\\python\\lib\\site-packages (from anyio<5,>=3.4.0->starlette<0.38.0,>=0.37.2->fastapi) (1.3.1)\n",
      "Note: you may need to restart the kernel to use updated packages.\n"
     ]
    }
   ],
   "source": [
    "%pip install fastapi pydantic toml"
   ]
  },
  {
   "cell_type": "code",
   "execution_count": 5,
   "metadata": {},
   "outputs": [],
   "source": [
    "# from rs import skill_check\n",
    "\n",
    "# def test_skill_check(metadata):\n",
    "#     print(skill_check(\"sanity\", None, metadata))\n",
    "\n",
    "# metadata = {\n",
    "#     \"character\": {\"sanity\":30},\n",
    "#     \"symptom\":[\n",
    "#         \"incoherent speech\",\n",
    "#         \"uncontrollable twitching, trembling\",\n",
    "#         \"delusions of persecution\",\n",
    "#         \"strange appetites (dirt, clay, etc...)\",\n",
    "#         \"scratches, punches, and bruises all over the body\"\n",
    "#     ]\n",
    "# }\n",
    "\n",
    "# test_skill_check(metadata)\n",
    "# test_skill_check(metadata)\n",
    "# test_skill_check(metadata)\n",
    "# test_skill_check(metadata)\n",
    "# test_skill_check(metadata)\n",
    "# test_skill_check(metadata)\n",
    "# test_skill_check(metadata)\n",
    "# test_skill_check(metadata)\n",
    "# test_skill_check(metadata)\n",
    "# test_skill_check(metadata)\n",
    "# test_skill_check(metadata)\n",
    "# test_skill_check(metadata)\n",
    "\n",
    "# print(metadata[\"character\"])\n"
   ]
  },
  {
   "cell_type": "code",
   "execution_count": 6,
   "metadata": {},
   "outputs": [
    {
     "name": "stdout",
     "output_type": "stream",
     "text": [
      "You arrived at an old self-storage facility by invitation from the manager, who has an storage room up for auction due to the death of its owner. It is not your first rodeo with these forms of auctions, like a box of chocolate, no one knows of the potential treasure that hides behind the cold roller shutter. As you and other interested buyers gathered around the auctioneer, a worker carrying a bolt cutter snapped off the rusty lock, unveiling a storage room cluttered with various old furniture and antiquities. Without any opportunity for the bidders to take a clear look, the auctioneer began the bid at $50. \n",
      "\n",
      "What is your bid?\n",
      "\n",
      "possible actions:\n",
      "1. $100.\n",
      "2. $150.\n",
      "3. $200.\n"
     ]
    },
    {
     "data": {
      "application/vnd.jupyter.widget-view+json": {
       "model_id": "b54310f718ee46aca82a25574c9ca193",
       "version_major": 2,
       "version_minor": 0
      },
      "text/plain": [
       "HBox(children=(Button(description='1', layout=Layout(width='auto'), style=ButtonStyle(), tooltip='$100.'), But…"
      ]
     },
     "metadata": {},
     "output_type": "display_data"
    },
    {
     "name": "stdout",
     "output_type": "stream",
     "text": [
      "I select option 1. TURN: 1 \n",
      "\n",
      "\n",
      "You raise your hand confidently and bid $100. The crowd murmurs, sizing up the competition and the storage's visible contents. Another bidder, a woman with keen eyes, immediately raises the bid to $150.\n",
      "\n",
      "What is your next move?\n",
      "\n",
      "possible actions:\n",
      "1. Bid $200.\n",
      "2. Bid $250.\n",
      "3. Drop out of the bidding."
     ]
    },
    {
     "data": {
      "application/vnd.jupyter.widget-view+json": {
       "model_id": "10c6391949a144eeb4200e7432af4958",
       "version_major": 2,
       "version_minor": 0
      },
      "text/plain": [
       "HBox(children=(Button(description='1', layout=Layout(width='auto'), style=ButtonStyle(), tooltip='Bid $200.'),…"
      ]
     },
     "metadata": {},
     "output_type": "display_data"
    },
    {
     "name": "stdout",
     "output_type": "stream",
     "text": [
      "I select option 2. TURN: 2 \n",
      "\n",
      "\n",
      "You counter swiftly, raising the bid to $250. The auction atmosphere thickens with anticipation. The woman hesitates for a moment but then, with a determined nod, she raises the bid to $300. \n",
      "\n",
      "A few bidders drop out, leaving only a handful, including you, in the running. The storage's hidden treasures seem to promise more than meets the eye, judging by the eagerness in the remaining bidders' eyes.\n",
      "\n",
      "What is your next move?\n",
      "\n",
      "possible actions:\n",
      "1. Bid $350.\n",
      "2. Bid $400.\n",
      "3. Drop out of the bidding."
     ]
    },
    {
     "data": {
      "application/vnd.jupyter.widget-view+json": {
       "model_id": "0f60d76bb6c6423e82a1ea878e5722dd",
       "version_major": 2,
       "version_minor": 0
      },
      "text/plain": [
       "HBox(children=(Button(description='1', layout=Layout(width='auto'), style=ButtonStyle(), tooltip='Bid $350.'),…"
      ]
     },
     "metadata": {},
     "output_type": "display_data"
    },
    {
     "name": "stdout",
     "output_type": "stream",
     "text": [
      "I select option 2. TURN: 3 \n",
      "\n",
      "\n",
      "You take a deep breath and bid $400, pushing the limits of your budget. The woman pauses, her expression unreadable for a moment, then she shakes her head and steps back, effectively dropping out of the bidding. The other remaining bidders, after a moment's hesitation, also decide not to challenge your bid.\n",
      "\n",
      "The auctioneer calls out, \"Going once, going twice... and sold to the gentleman for $400!\" The crowd disperses, some with looks of disappointment, others with shrugs of indifference.\n",
      "\n",
      "Congratulations, you've won the bid for the storage room. As you approach to take a closer look at your newly acquired possessions, you can't help but wonder what secrets or treasures might be hidden within the dusty confines of the storage.\n",
      "\n",
      "summary: Kyle Jackson wins the storage room auction with a bid of $400, beating out the competition. The round concludes with Kyle about to explore the contents of his newly acquired storage room, eager to discover what valuables or secrets it might hold."
     ]
    },
    {
     "data": {
      "application/vnd.jupyter.widget-view+json": {
       "model_id": "7e0b60bf715647eca011b9b34b797103",
       "version_major": 2,
       "version_minor": 0
      },
      "text/plain": [
       "HBox(children=(Button(description='NEXT ROUND', layout=Layout(width='auto'), style=ButtonStyle()), Button(desc…"
      ]
     },
     "metadata": {},
     "output_type": "display_data"
    },
    {
     "name": "stdout",
     "output_type": "stream",
     "text": [
      "\n",
      "Memories:\n",
      "\"\"\"\n",
      "- Kyle Jackson wins the storage room auction with a bid of $400, beating out the competition. The round concludes with Kyle about to explore the contents of his newly acquired storage room, eager to discover what valuables or secrets it might hold.\n",
      "\"\"\"\n",
      "\n",
      "\n",
      "You follow the manager through the myriad hallways to his dimly lit office, where the furnishings and appliances remain unchanged since the 90’s. He often reminds you that the facility is in fact even older, and has been here since the 60’s. You made a quick phone call to Alex, a man you owe money to, and explained to him that you will pay him back in a few days once you have it, to which he responded with distasteful threats. The manager took out an old tin box and placed it on his desk and reached towards you with an open palm, gesturing for you to pay up, which you obliged. Upon handing you a key for your newly owned storage room, he urged you to watch some old security footage.\n",
      "\n",
      "Through his CRT screen, he explains to you that the previous owner visited the storage room every day for as long as he can remember. What’s even stranger is that he would hop 3 times towards the storage before entering, and would always bring a paper bag with him, and it would always be empty when he leaves. \n",
      "\n",
      "Regardless of the strange footage and information, you went to the parking lot to grab your duffle bag so that you may start clearing the storage and look for things valuable to sell. As you are walking back, you are confronted by a middle-aged woman, she requests that you give her access to her lot, which you purchased last time so that she may recover her old family silver locket.\n",
      "\n",
      "What is your next step?\n",
      "\n",
      "possible actions:\n",
      "1. Reject her\n",
      "2. Accept her request but lose out on potential earnings\n",
      "3. Ignore her completely\n"
     ]
    },
    {
     "data": {
      "application/vnd.jupyter.widget-view+json": {
       "model_id": "4718316334954a398202b74e30624523",
       "version_major": 2,
       "version_minor": 0
      },
      "text/plain": [
       "HBox(children=(Button(description='1', layout=Layout(width='auto'), style=ButtonStyle(), tooltip='Reject her')…"
      ]
     },
     "metadata": {},
     "output_type": "display_data"
    },
    {
     "name": "stdout",
     "output_type": "stream",
     "text": [
      "I select option 1. TURN: 1 \n",
      "\n",
      "\n",
      "You decide to reject her request, explaining that you've already invested in the storage and can't afford to potentially lose out on its contents. The woman looks disappointed, her eyes reflecting a mix of sadness and resignation. She nods slowly, understanding your position but clearly hurt by the outcome. With a heavy heart, she turns and walks away, leaving you to ponder whether you made the right decision.\n",
      "\n",
      "With the encounter behind you, you proceed to the storage room, key in hand, ready to uncover what lies within. The air grows cooler and the hallway seems to stretch longer as you approach the door marked with the number you now own. The anticipation builds as you insert the key and turn it, the lock clicking open with an echo that seems too loud for such a quiet corridor.\n",
      "\n",
      "As the door creaks open, revealing the dimly lit interior of the storage room, you're immediately struck by the mustiness of the air, a mix of old paper, metal, and something unidentifiable. The room is filled with various items, all covered in dust and shadows. You notice a few peculiar objects right away: a large, old trunk with intricate carvings, a stack of yellowed newspapers tied with twine, several aged books with titles too faded to read, and a peculiar, small statue that seems oddly out of place.\n",
      "\n",
      "What do you want to investigate first?\n",
      "\n",
      "possible actions:\n",
      "1. Open the old trunk\n",
      "2. Examine the stack of newspapers\n",
      "3. Look through the aged books\n",
      "4. Inspect the peculiar statue"
     ]
    },
    {
     "data": {
      "application/vnd.jupyter.widget-view+json": {
       "model_id": "69977e0241d84d17abed28b98fede46f",
       "version_major": 2,
       "version_minor": 0
      },
      "text/plain": [
       "HBox(children=(Button(description='1', layout=Layout(width='auto'), style=ButtonStyle(), tooltip='Open the old…"
      ]
     },
     "metadata": {},
     "output_type": "display_data"
    },
    {
     "name": "stdout",
     "output_type": "stream",
     "text": [
      "I select option 2. TURN: 2 \n",
      "\n",
      "\n",
      "You approach the stack of newspapers, curiosity piqued by what stories or secrets they might hold. The twine that binds them is brittle, snapping easily as you untie it. The top newspaper is dated back several decades, and as you leaf through the pages, you notice that many of the stories focus on local events and odd occurrences—unexplained phenomena, sightings of strange creatures, and a series of articles about mysterious disappearances in the area.\n",
      "\n",
      "One article in particular catches your eye: a detailed account of a bizarre incident involving a local family who claimed their home was invaded by creatures they could not describe, speaking in a language they could not understand. The article is accompanied by a grainy photograph of what appears to be a shadowy figure standing at the edge of the woods near the family's home.\n",
      "\n",
      "As you delve deeper into the stack, you find that the newspapers seem to have been collected not for their news on politics or sports, but specifically for these odd and unsettling stories. This collection paints a picture of a town touched by unexplainable and sinister events, suggesting the previous owner of this storage room had a deep interest in the paranormal or unexplained.\n",
      "\n",
      "You feel a chill run down your spine as you realize the depth of the mystery surrounding these collected articles. The air in the storage room seems to grow colder, and you can't shake the feeling of being watched.\n",
      "\n",
      "Would you like to continue investigating the storage room, or do something else?\n",
      "\n",
      "possible actions:\n",
      "1. Open the old trunk\n",
      "2. Look through the aged books\n",
      "3. Inspect the peculiar statue\n",
      "4. Leave the storage room for now"
     ]
    },
    {
     "data": {
      "application/vnd.jupyter.widget-view+json": {
       "model_id": "4c5527d5d8614f9096aee6f4867819e7",
       "version_major": 2,
       "version_minor": 0
      },
      "text/plain": [
       "HBox(children=(Button(description='1', layout=Layout(width='auto'), style=ButtonStyle(), tooltip='Open the old…"
      ]
     },
     "metadata": {},
     "output_type": "display_data"
    },
    {
     "name": "stdout",
     "output_type": "stream",
     "text": [
      "I select option 3. TURN: 3 \n",
      "\n",
      "\n",
      "You set aside the stack of newspapers, their eerie stories lingering in your mind, and turn your attention to the peculiar statue. As you approach it, you notice its craftsmanship is unlike anything you've seen before. The statue, no more than a foot tall, depicts a creature that is both fascinating and horrifying. It has too many eyes, all carved with exquisite detail, and tentacles that seem to twist and turn around its body, giving it an almost lifelike appearance of motion.\n",
      "\n",
      "The material it's made from is unfamiliar to you—dark, with a slight iridescence that catches the light in an odd way. As you reach out to touch it, a sense of unease washes over you, an instinctual warning to keep your distance. Yet, curiosity overpowers your caution, and your fingers graze the cold, smooth surface of the statue.\n",
      "\n",
      "The moment you touch it, a wave of images and emotions floods your mind—visions of vast, empty spaces where stars don't shine, and the feeling of immense, ancient beings whose awareness barely acknowledges humanity. It's overwhelming, a glimpse into a reality so far beyond your own that it threatens to shatter your sanity.\n",
      "\n",
      "You need to make a skill check to maintain your sanity.\n",
      "\n",
      "skill: sanity\n",
      "difficulty: hard\n",
      "\n",
      "As the visions fade, you're left gasping for breath, the statue now a source of fear and fascination. You can't help but wonder what connection it has to the previous owner of this storage room and the strange articles you found."
     ]
    },
    {
     "data": {
      "application/vnd.jupyter.widget-view+json": {
       "model_id": "3f7ca2ac9acc4d7599d1d70631824099",
       "version_major": 2,
       "version_minor": 0
      },
      "text/plain": [
       "HBox(children=(Button(description='SANITY [HARD]', layout=Layout(width='auto'), style=ButtonStyle()), Button(d…"
      ]
     },
     "metadata": {},
     "output_type": "display_data"
    },
    {
     "name": "stdout",
     "output_type": "stream",
     "text": [
      "I am making a SANITY check against my own sanity points: 10.\n",
      "And... FAILED! I lost 3 sanity points.\n",
      "TURN: 4 \n",
      "\n",
      "\n",
      "The failure of your sanity check leaves you shaken, your mind reeling from the brief connection to something utterly beyond human comprehension. You lose 3 sanity points, bringing your total down to 7. The experience with the statue has left a mark on you, a deep unsettling feeling that you can't quite shake off. You're now more aware of the thin veil that separates the known from the unknown, and how easily it can be torn aside.\n",
      "\n",
      "As you try to regain your composure, you realize that the storage room feels different now, as if the brief encounter with the otherworldly has changed not just you, but the very air around you. The shadows seem deeper, the silence more oppressive.\n",
      "\n",
      "Despite the fear and the loss of sanity, your curiosity—or perhaps some newfound compulsion—urges you to continue exploring the storage room. There's a sense that the answers to the mysteries surrounding the previous owner, and perhaps the means to understand or counteract the effects of the statue, might still be hidden within these walls.\n",
      "\n",
      "What will you do next?\n",
      "\n",
      "possible actions:\n",
      "1. Open the old trunk\n",
      "2. Look through the aged books\n",
      "3. Leave the storage room, at least for now, to gather your thoughts and possibly seek help"
     ]
    },
    {
     "data": {
      "application/vnd.jupyter.widget-view+json": {
       "model_id": "185773e51b4a45afb03a1505ef129574",
       "version_major": 2,
       "version_minor": 0
      },
      "text/plain": [
       "HBox(children=(Button(description='1', layout=Layout(width='auto'), style=ButtonStyle(), tooltip='Open the old…"
      ]
     },
     "metadata": {},
     "output_type": "display_data"
    },
    {
     "name": "stdout",
     "output_type": "stream",
     "text": [
      "I select option 2. TURN: 5 \n",
      "\n",
      "\n",
      "With a deep breath to steady your nerves, you turn your attention to the aged books, hoping to find something that might shed light on the statue's origins or perhaps offer some protection against its unsettling effects. The books are covered in dust, their spines worn from time and use. As you carefully pull them from the shelf, you notice that many are on subjects like occult practices, ancient rituals, and forgotten civilizations. It's clear the previous owner had an interest in the arcane and possibly the dangerous.\n",
      "\n",
      "One book, in particular, stands out due to its leather-bound cover that seems to pulsate slightly under your touch, as if it were breathing. The title, embossed in gold, reads \"Arcane Rites and Eldritch Invocations.\" Hesitantly, you open it, and the pages seem to flip on their own, stopping on a section that describes a statue eerily similar to the one you just encountered. The text warns of its connection to an ancient being of unimaginable power and advises against making any physical contact with it. Too late for that warning, you think to yourself.\n",
      "\n",
      "As you read on, you find a passage that details a protective incantation, said to guard the reader's mind from the influence of such artifacts. The words are strange, twisting around your tongue as you silently rehearse them, feeling a slight warmth spreading through your body—a sign, perhaps, of some small protection.\n",
      "\n",
      "Just as you're about to close the book, a strange noise catches your attention. It's coming from within the storage room, a soft, almost imperceptible whispering that seems to be emanating from the walls themselves. It's unclear what's causing it, but after your recent experiences, you can't help but feel a deep sense of foreboding.\n",
      "\n",
      "The round concludes with you standing in the storage room, book in hand, surrounded by artifacts and tomes that hint at a world far beyond the mundane. The storage room holds more secrets than you anticipated, each discovery leading you deeper into a web of mystery and ancient power.\n",
      "\n",
      "summary:\n",
      "- You rejected the woman's request to access her family's storage, focusing instead on your own financial needs.\n",
      "- Investigating the newspapers revealed a collection of articles on local oddities and unexplained events.\n",
      "- The peculiar statue caused a loss of sanity, exposing you to visions of an incomprehensible reality.\n",
      "- The aged books offered knowledge on occult practices, including a protective incantation, hinting at ways to defend against the dark influences encountered.\n",
      "- A strange noise within the storage room suggests that the mysteries you've uncovered are only the beginning."
     ]
    },
    {
     "data": {
      "application/vnd.jupyter.widget-view+json": {
       "model_id": "1563128da23947d7aa6bb87d0f7fac16",
       "version_major": 2,
       "version_minor": 0
      },
      "text/plain": [
       "HBox(children=(Button(description='NEXT ROUND', layout=Layout(width='auto'), style=ButtonStyle()), Button(desc…"
      ]
     },
     "metadata": {},
     "output_type": "display_data"
    },
    {
     "name": "stdout",
     "output_type": "stream",
     "text": [
      "\n",
      "Memories:\n",
      "\"\"\"\n",
      "- \n",
      "- You rejected the woman's request to access her family's storage, focusing instead on your own financial needs.\n",
      "- Investigating the newspapers revealed a collection of articles on local oddities and unexplained events.\n",
      "- The peculiar statue caused a loss of sanity, exposing you to visions of an incomprehensible reality.\n",
      "- The aged books offered knowledge on occult practices, including a protective incantation, hinting at ways to defend against the dark influences encountered.\n",
      "- A strange noise within the storage room suggests that the mysteries you've uncovered are only the beginning.\n",
      "\"\"\"\n",
      "\n",
      "\n",
      "As you continue to rummage through the newly acquired storage room, you come across a peculiar round wooden block with intricate yet strange carvings around the thick edges. One particular feature that stands out among all others is the fine pentagram inlay in the center, coupled with clean carvings of unfamiliar symbols. Even an untrained eye can recognize the quality of craftsmanship and time committed to produce such an object, yet, you have doubts as to how much this table-like wooden block can fetch. \n",
      "\n",
      "You discovered a few more expensive looking objects and placed it inside your duffle bag, then proceeded to carefully load the peculiar wooden block onto your truck. Just as you closed the tailgates, you suddenly found yourself knocked on the hard gravel floor. Your lips, bleeding profusely from a cut, and as you look up, you realize it was Alex.\n",
      "\n",
      "How do you respond?\n",
      "\n",
      "possible actions:\n",
      "1. Get up and tackle him\n",
      "2. Tell him that you will get him his money soon\n",
      "3. Begin verbally assaulting him\n"
     ]
    },
    {
     "data": {
      "application/vnd.jupyter.widget-view+json": {
       "model_id": "27bb181ff7024aa0ae7fb606a148bec6",
       "version_major": 2,
       "version_minor": 0
      },
      "text/plain": [
       "HBox(children=(Button(description='1', layout=Layout(width='auto'), style=ButtonStyle(), tooltip='Get up and t…"
      ]
     },
     "metadata": {},
     "output_type": "display_data"
    },
    {
     "name": "stdout",
     "output_type": "stream",
     "text": [
      "I select option 3. TURN: 1 \n",
      "\n",
      "\n",
      "As you choose to unleash a torrent of verbal assaults, your words sharp as knives, aiming to cut through Alex's aggressive demeanor, you quickly realize that it only serves to fuel his anger further. His face contorts into a mask of rage as he listens to your provocations.\n",
      "\n",
      "Before you can react, Alex lunges at you, his fists clenched and ready to strike. Given your military background and experience in close combat, you attempt to defend yourself.\n",
      "\n",
      "You need to make a skill check to defend against Alex's attack.\n",
      "\n",
      "skill: fighting\n",
      "difficulty: hard"
     ]
    },
    {
     "data": {
      "application/vnd.jupyter.widget-view+json": {
       "model_id": "85693eaf9e1147c89bda2f2c99ce2af5",
       "version_major": 2,
       "version_minor": 0
      },
      "text/plain": [
       "HBox(children=(Button(description='FIGHTING [HARD]', layout=Layout(width='auto'), style=ButtonStyle()), Button…"
      ]
     },
     "metadata": {},
     "output_type": "display_data"
    },
    {
     "name": "stdout",
     "output_type": "stream",
     "text": [
      "I am making a skill check using FIGHTING against a difficulty of HARD.\n",
      "And I rolled a 37 for a result of FAILURE.\n",
      "TURN: 2 \n",
      "\n",
      "\n",
      "Your attempt to defend yourself against Alex's relentless assault proves futile. Despite your best efforts and your training, the combination of surprise, the uneven ground, and perhaps the toll of recent events on your body and mind, leaves you unable to effectively counter his attacks. Alex's fists find their mark, each blow more punishing than the last, leaving you reeling and disoriented.\n",
      "\n",
      "After what feels like an eternity, but in reality, only a few moments, Alex ceases his assault. Standing over you, he breathes heavily, his anger seemingly subsided into a cold, menacing calm. \"I want my money, Kyle. All of it. Tomorrow. In cash,\" he snarls, the threat in his voice unmistakable.\n",
      "\n",
      "He then turns and walks away, leaving you lying on the ground, battered and bruised, both physically and in spirit. The pain from the beating is intense, and you struggle to get up, knowing full well the gravity of Alex's threat and the dire need to find a way to pay him back.\n",
      "\n",
      "As you finally manage to stand, leaning heavily on your truck for support, you realize the urgency of the situation. You need to come up with a significant amount of cash by tomorrow, or face the consequences of Alex's wrath once again.\n",
      "\n",
      "summary:\n",
      "Kyle attempted to verbally assault Alex, which led to a physical confrontation. Despite trying to defend himself, Kyle was unable to fend off Alex's attacks and ended up being beaten. Alex demanded his money by the next day, in cash, before leaving Kyle injured on the ground. Kyle now faces the pressing challenge of coming up with the cash to pay Alex back."
     ]
    },
    {
     "data": {
      "application/vnd.jupyter.widget-view+json": {
       "model_id": "436294bb2caa495f913c7db9ad96d68c",
       "version_major": 2,
       "version_minor": 0
      },
      "text/plain": [
       "HBox(children=(Button(description='NEXT ROUND', layout=Layout(width='auto'), style=ButtonStyle()), Button(desc…"
      ]
     },
     "metadata": {},
     "output_type": "display_data"
    },
    {
     "name": "stdout",
     "output_type": "stream",
     "text": [
      "\n",
      "Memories:\n",
      "\"\"\"\n",
      "- \n",
      "Kyle attempted to verbally assault Alex, which led to a physical confrontation. Despite trying to defend himself, Kyle was unable to fend off Alex's attacks and ended up being beaten. Alex demanded his money by the next day, in cash, before leaving Kyle injured on the ground. Kyle now faces the pressing challenge of coming up with the cash to pay Alex back.\n",
      "\"\"\"\n",
      "\n",
      "\n",
      "The manager hands you some gauze and a bottle of rubbing alcohol as the blood drips down the sink while you clean yourself up in the restroom. You focus on the stinging pain of the alcohol on your cut lips, reminding you how unfair life could be, and that life would relentlessly beat men like you down until your spirit breaks. Yet, the pain simultaneously fuels your will to survive, to live on, a chance that the people you fought in the Afghan war never had. In a way, you live on for their sake, trying to be grateful despite the hardship that has plagued you ever since your honorable discharge. \n",
      "\n",
      "You stared long and hard at yourself in the mirror before closing the wound with a closure strip and covered it with another layer of gauze. The manager, sympathetic to your predicament, recommended you to a dealer that specializes in collecting esoteric and abstruse items. You felt insulted by his act of pity, but reluctantly agreed as you weighed your current situation to your pride. \n",
      "\n",
      "You make your way to the address given by the self-storage facility manager, and soon find yourself in a Victorian style house. Although the sun had set, the glow of the incandescent porch light revealed the house’s burgundy coloured exterior with black accent. As you roll up to the front porch, Ms. Blackwell, the aforementioned dealer greets you with a restrained annoyance. But you couldn’t be bothered by her attitude, such is the norm of most dealers you have met with, rarely do they find an item of great value after all. \n",
      "\n",
      "She invites you to bring your peculiar objects to your personal library, its walls filled with books you have never seen or heard before. You placed the round wooden block on the table, along with the objects in your duffle bag, and...\n",
      "\n",
      "How do you respond?\n",
      "\n",
      "possible actions:\n",
      "1. Stay silent and wait for her appraisal\n",
      "2. Make a comment about her property\n",
      "3. Ask if she has seen something similar before\n"
     ]
    },
    {
     "data": {
      "application/vnd.jupyter.widget-view+json": {
       "model_id": "88bcd86199c7445794d99530d7e4d67b",
       "version_major": 2,
       "version_minor": 0
      },
      "text/plain": [
       "HBox(children=(Button(description='1', layout=Layout(width='auto'), style=ButtonStyle(), tooltip='Stay silent …"
      ]
     },
     "metadata": {},
     "output_type": "display_data"
    },
    {
     "name": "stdout",
     "output_type": "stream",
     "text": [
      "I select option 3. TURN: 1 \n",
      "\n",
      "\n",
      "Ms. Blackwell, examining the round wooden block with a magnifying glass, pauses at your question. She looks up, her eyes reflecting a blend of curiosity and knowledge. \"Yes, I have seen something similar before,\" she begins, her tone shifting to one of intrigue. \"This is not just any wooden block; it's a séance table, used in the spiritualist movements of the 19th century. Quite a rare find, indeed.\"\n",
      "\n",
      "She then proceeds to unveil a hidden compartment built within the séance table, revealing its secret with a flourish that suggests she enjoys the dramatic reveal as much as the discovery itself. \"These compartments were often used to store items of significance to the medium or participants of the séance. Let's see what secrets this one holds.\"\n",
      "\n",
      "As she opens the compartment, three very strange leather-bound books come into view. Their covers are adorned with symbols that seem ancient and unfamiliar, evoking a sense of unease as you gaze upon them. \n",
      "\n",
      "Ms. Blackwell's excitement grows as she examines the books, \"These are extraordinary! I must invite Professor Dagger, a colleague of mine who specializes in occult studies. He would be very interested in these.\"\n",
      "\n",
      "You feel a chill run down your spine as you realize the potential value and danger these books could represent. The realization that these items might be your ticket out of debt is overshadowed by an inexplicable dread.\n",
      "\n",
      "Ms. Blackwell makes a quick phone call, and within minutes, you hear the sound of a car pulling up outside. Professor Dagger has arrived.\n",
      "\n",
      "summary:\n",
      "Kyle discovers that the round wooden block is actually a séance table with a hidden compartment containing three mysterious leather-bound books. Ms. Blackwell, recognizing their potential significance, invites Professor Dagger, an expert in the occult, to examine them. The arrival of Professor Dagger marks the completion of the round, with Kyle standing on the edge of a potentially life-changing discovery."
     ]
    },
    {
     "data": {
      "application/vnd.jupyter.widget-view+json": {
       "model_id": "8ce624c1ff184333bcb78abd9eff6295",
       "version_major": 2,
       "version_minor": 0
      },
      "text/plain": [
       "HBox(children=(Button(description='NEXT ROUND', layout=Layout(width='auto'), style=ButtonStyle()), Button(desc…"
      ]
     },
     "metadata": {},
     "output_type": "display_data"
    },
    {
     "name": "stdout",
     "output_type": "stream",
     "text": [
      "\n",
      "Memories:\n",
      "\"\"\"\n",
      "- \n",
      "Kyle discovers that the round wooden block is actually a séance table with a hidden compartment containing three mysterious leather-bound books. Ms. Blackwell, recognizing their potential significance, invites Professor Dagger, an expert in the occult, to examine them. The arrival of Professor Dagger marks the completion of the round, with Kyle standing on the edge of a potentially life-changing discovery.\n",
      "\"\"\"\n",
      "\n",
      "\n",
      "Professor Dagger examines the seance table with utmost concentration and scrutiny, being as careful as possible to not inflict any damage to the table. He then shifted his attention to the three leather bound books, inspecting its condition while flipping through its contents to verify its authenticity. \n",
      "\n",
      "After much inspection, he turned his attention towards you, and inquired about a fourth book, expressing that altogether, it could fetch a price well above $2,000,000. Your eyes lit up, recognizing this to be your chance to turn your life around, pay off your debts and perhaps start something by yourself. The mystery of the fourth book piqued your interest despite the disinterest in the occult, and such curiosity beckoned you to ask about the importance of the fourth book. A heavy silence ensued, the Professor’s shadowy face under the chandelier’s soft  glow gazed into your eyes with great earnestness. In a somber tone, he explained that the fourth book is the rarest of them all, for it allows its user to bind a demon to the material world, to earth. And the moment the transaction is complete, the book would self combust to a pile of ash unless the demon has been betrayed and unable to collect its debt, thus explaining the price of the book. \n",
      "\n",
      "You hastily explain your recently acquired storage, and how you still haven’t had the opportunity to thoroughly examine every item, suggesting its possible location. Professor Dagger offered to search the storage room alongside you, and if the fourth book is found, he will write you a $2,000,000 cheque immediately. \n",
      "\n",
      "You quickly load everything back onto your truck, and with Professor Dagger in the passenger seat, the two of you make way towards the self-storage facility. On your way there, the Professor informed you that he has a confession to make.\n",
      "\n",
      "How do you respond?\n",
      "\n",
      "possible actions:\n",
      "1. Listen to his confession\n",
      "2. Ask him to keep what he has to say to himself\n",
      "3. Threaten him that if he lied about the money, you would hurt him real bad\n"
     ]
    },
    {
     "data": {
      "application/vnd.jupyter.widget-view+json": {
       "model_id": "4c2e5d84c8e14dc191b5acbd6a05eb3c",
       "version_major": 2,
       "version_minor": 0
      },
      "text/plain": [
       "HBox(children=(Button(description='1', layout=Layout(width='auto'), style=ButtonStyle(), tooltip='Listen to hi…"
      ]
     },
     "metadata": {},
     "output_type": "display_data"
    },
    {
     "name": "stdout",
     "output_type": "stream",
     "text": [
      "I select option 1. TURN: 1 \n",
      "\n",
      "\n",
      "You nod, signaling Professor Dagger to proceed with his confession. The atmosphere in the truck thickens as the professor clears his throat, preparing to unveil truths that have long been shrouded in mystery and speculation.\n",
      "\n",
      "\"Kyle,\" he begins, his voice laden with gravity, \"before we proceed further, it's imperative you understand the full scope of what we're delving into. The previous owner of your storage, along with his entire family, was deeply entrenched in the occult. Their fascination wasn't merely academic or superficial; it was...practically devout.\"\n",
      "\n",
      "He pauses, gauging your reaction before continuing, \"The legend surrounding the fourth book isn't just about its rarity or power. It's believed that the owner's sister, driven by an insatiable quest for forbidden knowledge, performed an abominable ritual detailed within its pages. The outcome was nothing short of nightmarish—a demon, summoned from the depths of the unknown, was bound to this realm, possessing her.\"\n",
      "\n",
      "The professor's voice drops to a whisper, \"What transpired afterward is a tapestry of horror, woven from hushed whispers, rumors, and the scattered pieces of a puzzle no one dares to solve. The family vanished, leaving behind a legacy of fear and unanswered questions.\"\n",
      "\n",
      "As the truck nears the self-storage facility, the weight of Professor Dagger's words hangs in the air, mingling with the sense of impending discovery and the unknown dangers that might lurk within your newly acquired property.\n",
      "\n",
      "You need to make a skill check to maintain your composure after hearing such unsettling news.\n",
      "\n",
      "skill: sanity\n",
      "difficulty: normal"
     ]
    },
    {
     "data": {
      "application/vnd.jupyter.widget-view+json": {
       "model_id": "b9dbe1d688d1455ea2b69f9579b5098d",
       "version_major": 2,
       "version_minor": 0
      },
      "text/plain": [
       "HBox(children=(Button(description='SANITY [NORMAL]', layout=Layout(width='auto'), style=ButtonStyle()), Button…"
      ]
     },
     "metadata": {},
     "output_type": "display_data"
    },
    {
     "name": "stdout",
     "output_type": "stream",
     "text": [
      "I am making a SANITY check against my own sanity points: 7.\n",
      "And... FAILED! I lost 2 sanity points.\n",
      "TURN: 2  (I'm insane!)\n",
      "\n",
      "\n",
      "The revelation of the dark past associated with your newly acquired storage and the potential presence of a demonically possessed book sends shivers down your spine, overwhelming your already fragile mental state. The world around you seems to distort, shadows twist into menacing figures, and the air feels thick with unseen dread. Your grip on reality loosens as you struggle to process the professor's confession, losing 2 sanity points in the process.\n",
      "\n",
      "As you pull into the parking lot of the self-storage facility, the looming silhouette of the storage units under the dim evening light appears more ominous than ever. Professor Dagger, sensing your distress, places a reassuring hand on your shoulder. \"Kyle, I know this is a lot to take in, but we must remain vigilant. Whatever lies within that storage could change our lives forever, for better or worse. We must confront this together.\"\n",
      "\n",
      "The professor's words, though intended to comfort, only serve to remind you of the gravity of the situation. You're on the brink of potentially unleashing or confronting something beyond human comprehension. With every step towards the storage unit, the weight of your decision to pursue the fourth book bears heavily upon you.\n",
      "\n",
      "As you unlock and slowly open the door to the storage unit, the musty air and dim light reveal a space crammed with boxes, old furniture, and artifacts that hint at the occult practices of the previous owner. Somewhere within this trove of forgotten belongings lies the key to your fortune or perhaps the door to unimaginable horror.\n",
      "\n",
      "The round ends as you stand at the threshold of the unknown, poised to delve deeper into the mysteries that await in the shadows of the storage unit.\n",
      "\n",
      "summary:\n",
      "- Kyle learned of the dark history associated with his newly acquired storage, involving a family deeply involved in the occult and a demonic possession linked to the fourth book.\n",
      "- Overwhelmed by the revelation, Kyle failed a sanity check, losing 2 sanity points and further straining his mental resilience.\n",
      "- Arriving at the self-storage facility with Professor Dagger, Kyle is about to embark on a search that could unearth secrets best left hidden or provide the means to a new beginning.\n",
      "- The round concludes with Kyle facing the daunting task of exploring the storage unit, its contents shrouded in mystery and danger."
     ]
    },
    {
     "data": {
      "application/vnd.jupyter.widget-view+json": {
       "model_id": "f7073fbaa67a46b6b41e36b7062aa8c1",
       "version_major": 2,
       "version_minor": 0
      },
      "text/plain": [
       "HBox(children=(Button(description='NEXT ROUND', layout=Layout(width='auto'), style=ButtonStyle()), Button(desc…"
      ]
     },
     "metadata": {},
     "output_type": "display_data"
    },
    {
     "name": "stdout",
     "output_type": "stream",
     "text": [
      "\n",
      "Memories:\n",
      "\"\"\"\n",
      "- \n",
      "- Kyle learned of the dark history associated with his newly acquired storage, involving a family deeply involved in the occult and a demonic possession linked to the fourth book.\n",
      "- Overwhelmed by the revelation, Kyle failed a sanity check, losing 2 sanity points and further straining his mental resilience.\n",
      "- Arriving at the self-storage facility with Professor Dagger, Kyle is about to embark on a search that could unearth secrets best left hidden or provide the means to a new beginning.\n",
      "- The round concludes with Kyle facing the daunting task of exploring the storage unit, its contents shrouded in mystery and danger.\n",
      "\"\"\"\n",
      "\n",
      "\n",
      "You invited Professor Dagger into the storage room, the space still cluttered despite your earlier attempt to clear some of the items out. The two of you began scouring through old furniture, leaving nothing unturned, yet, after two long hours, your hands held nothing but dust. You sensed the Professor’s eyes laced with disappointment, perhaps he has already given up the search, for to encounter a rare artifact like the one he described must require great deal of luck. But your desire for a better life fuels your persistence to hunt the fourth book down. You revisit the drawers you may have overlooked, potential compartments that are hidden behind intricate mechanisms like the seance table. And as you attempt to wrestle a large wooden shelf to another wall, your slip of the hand causes it to collide with the wall behind it, producing a hollow thud. Professor Dagger immediately placed his hands against the false wall, sliding across its surface gently like one would a body. Soon he senses the concealed mechanism that safeguards the secret shut, which upon a gentle press, unveils a dark corridor effluviating a pungent scent.\n",
      "\n",
      "Before entering, Professor Dagger warns you not to look or speak to whatever resides at the end of the corridor, for you may enter a state of frenzy. With that in mind, you follow Professor Dagger into the unknown…\n",
      "\n",
      "What is your next course of action?\n",
      "\n",
      "possible actions:\n",
      "1. Follow him closely in silence\n",
      "2. Ask him what the foul odour is\n",
      "3. Comment on the surroundings\n"
     ]
    },
    {
     "data": {
      "application/vnd.jupyter.widget-view+json": {
       "model_id": "0deb80fc98734b9ca1943574a3cdfaf0",
       "version_major": 2,
       "version_minor": 0
      },
      "text/plain": [
       "HBox(children=(Button(description='1', layout=Layout(width='auto'), style=ButtonStyle(), tooltip='Follow him c…"
      ]
     },
     "metadata": {},
     "output_type": "display_data"
    },
    {
     "name": "stdout",
     "output_type": "stream",
     "text": [
      "I select option 2. TURN: 1  (I'm insane!)\n",
      "\n",
      "\n",
      "As you step cautiously behind Professor Dagger, the foul stench growing stronger with each step, you can't help but ask, \"What is that dreadful smell?\"\n",
      "\n",
      "Professor Dagger pauses for a moment, turning slightly to glance back at you. His face is grim, his eyes reflecting a deep concern. \"Decay,\" he answers succinctly. \"Years, perhaps decades of it. This place... it's not just a storage unit. It's a tomb of sorts, for secrets and for things best left forgotten.\"\n",
      "\n",
      "The revelation sends a chill down your spine, but your curiosity and the dire need to change your fortunes push you forward. The corridor stretches ahead, the air thick with the scent of secrets and decay.\n",
      "\n",
      "As you proceed, the dim light from the entrance fades, leaving you in near darkness, save for the faint glow of Professor Dagger's flashlight. Shadows dance along the walls, and the atmosphere feels heavy with anticipation and dread.\n",
      "\n",
      "What will you do next?\n",
      "\n",
      "possible actions:\n",
      "1. Continue to follow Professor Dagger quietly\n",
      "2. Inspect the walls for any peculiar markings or hidden compartments\n",
      "3. Express your concerns about the dangers that might lie ahead"
     ]
    },
    {
     "data": {
      "application/vnd.jupyter.widget-view+json": {
       "model_id": "0d3fb332f1824125bb2674c2459bff6c",
       "version_major": 2,
       "version_minor": 0
      },
      "text/plain": [
       "HBox(children=(Button(description='1', layout=Layout(width='auto'), style=ButtonStyle(), tooltip='Continue to …"
      ]
     },
     "metadata": {},
     "output_type": "display_data"
    },
    {
     "name": "stdout",
     "output_type": "stream",
     "text": [
      "I select option 1. TURN: 2  (I'm insane!)\n",
      "\n",
      "\n",
      "You decide to continue following Professor Dagger quietly, letting the weight of the situation and your own thoughts simmer in silence. The narrow corridor seems to stretch indefinitely, its end swallowed by darkness. The only sound is the soft echo of your footsteps and the occasional, unsettling drip of water from an unseen source. The air grows colder as you move deeper into the corridor, the sense of foreboding thickening with each step.\n",
      "\n",
      "Finally, the corridor opens into a vast, hidden room. The air is stale, and the smell of decay is overpowering here. In the center of the room lies the withered body of a woman, her features obscured by time and the shadows that dance across the walls from the flickering light of a single, decrepit chandelier. Surrounding her body is a pentagram made of a strange red fluid, its color unnervingly vibrant against the dull grey of the concrete floor.\n",
      "\n",
      "Professor Dagger steps cautiously into the room, his flashlight beam cutting through the darkness. He seems to be searching for something specific, his focus eventually landing on a podium at the far end of the room. Atop the podium rests a book, its cover worn but emanating a palpable sense of power.\n",
      "\n",
      "As you take in the scene, the reality of what lies before you threatens to overwhelm your already fragile sanity.\n",
      "\n",
      "You need to make a skill check to maintain your composure upon seeing the withered body and the sinister surroundings.\n",
      "\n",
      "skill: sanity\n",
      "difficulty: hard"
     ]
    },
    {
     "data": {
      "application/vnd.jupyter.widget-view+json": {
       "model_id": "b0c5337e296d43d485853d1f6ce35324",
       "version_major": 2,
       "version_minor": 0
      },
      "text/plain": [
       "HBox(children=(Button(description='SANITY [HARD]', layout=Layout(width='auto'), style=ButtonStyle()), Button(d…"
      ]
     },
     "metadata": {},
     "output_type": "display_data"
    },
    {
     "name": "stdout",
     "output_type": "stream",
     "text": [
      "I am making a SANITY check against my own sanity points: 5.\n",
      "And... FAILED! I lost 5 sanity points.\n",
      "I am shocked and lose control of my actions.\n",
      "TURN: 3  (I'm insane!)\n",
      "\n",
      "\n",
      "As the full horror of the scene before you sinks in, your mind reels from the shock. The sight of the withered body, the sinister pentagram, and the oppressive atmosphere of the room conspire to shatter the fragile barriers of your sanity. The world spins, and you feel an overwhelming sense of dread and despair clutching at your throat. Your sanity, already frayed by the experiences leading up to this moment, crumbles entirely under the weight of the eldritch horror before you.\n",
      "\n",
      "In a state of panic and confusion, you stagger backwards, your actions no longer your own. Your vision blurs, and you find yourself screaming, though you can't hear your own voice over the ringing in your ears. The room seems to twist and warp around you, the shadows coming alive with unspeakable forms.\n",
      "\n",
      "Professor Dagger turns towards you, his face etched with concern and fear. He tries to approach you, to calm you down, but you're beyond reach, lost in your own torment.\n",
      "\n",
      "In your frenzied state, you knock over a nearby shelf, sending a cascade of dust and debris into the air. The noise and chaos only serve to deepen your panic.\n",
      "\n",
      "As the initial shock begins to fade, you find yourself gasping for air, your heart pounding in your chest. The room is still there, unchanged, the withered body lying motionless in the center. Professor Dagger is trying to speak to you, but his words sound distant, muffled by the lingering echoes of your breakdown.\n",
      "\n",
      "You're now at a critical juncture, teetering on the edge of complete mental collapse. Your actions here could determine your fate.\n",
      "\n",
      "What will you do next?\n",
      "\n",
      "possible actions:\n",
      "1. Try to calm yourself and focus on the task at hand\n",
      "2. Flee the room in terror\n",
      "3. Attempt to communicate with Professor Dagger, seeking his guidance"
     ]
    },
    {
     "data": {
      "application/vnd.jupyter.widget-view+json": {
       "model_id": "7df7ee3049de47e9ba0300b3d8e6f044",
       "version_major": 2,
       "version_minor": 0
      },
      "text/plain": [
       "HBox(children=(Button(description='1', layout=Layout(width='auto'), style=ButtonStyle(), tooltip='Try to calm …"
      ]
     },
     "metadata": {},
     "output_type": "display_data"
    },
    {
     "name": "stdout",
     "output_type": "stream",
     "text": [
      "I select option 1. TURN: 4  (I'm insane!)\n",
      "\n",
      "\n",
      "With every ounce of willpower you have left, you attempt to calm yourself, focusing on slowing your breathing and steadying your racing heart. The terror that gripped you so fiercely begins to ebb, replaced by a grim determination. You remind yourself why you're here, the desperate need for a new beginning, and the hope that this book could be the key to changing your fortunes.\n",
      "\n",
      "Gradually, the room comes back into focus, and the oppressive atmosphere seems slightly less suffocating. Professor Dagger, noticing the change in your demeanor, gives you a nod of approval, though concern still lingers in his eyes.\n",
      "\n",
      "\"You're stronger than you know, Kyle,\" he says softly, his voice a grounding presence in the chaos of your thoughts. \"Let's see this through, together.\"\n",
      "\n",
      "Feeling somewhat steadied by his words, you nod, and together you approach the podium at the far end of the room. The book that rests upon it seems to call to you, its presence both alluring and unnerving.\n",
      "\n",
      "As you reach out to touch the book, a sense of foreboding washes over you. This is no ordinary tome; it's a relic of immense power and dark history. The air around it seems to thrum with energy, the shadows in the room deepening.\n",
      "\n",
      "With a deep breath, you grasp the book, prepared for whatever may come.\n",
      "\n",
      "As you lift the book from the podium, the strange red fluid forming the pentagram around the withered body begins to evaporate, disappearing into thin air. The room grows colder, and a palpable sense of dread fills the space.\n",
      "\n",
      "Suddenly, tentacles begin to pour out from the withered body's facial cavity, writhing and reaching towards Professor Dagger. The horror of the situation is beyond comprehension, and you realize too late the grave danger you are both in.\n",
      "\n",
      "Professor Dagger screams as the tentacles wrap around him, pulling him towards the withered body with terrifying speed. His pleas for help are cut short as he is consumed by the grotesque mass.\n",
      "\n",
      "You are left alone, the weight of what has just occurred bearing down on you. The withered body, now animated by some unspeakable force, turns its attention towards you, its tentacles reaching out with a hunger that chills you to the bone.\n",
      "\n",
      "You need to make a decision, and fast.\n",
      "\n",
      "possible actions:\n",
      "1. Use the book in an attempt to stop the creature\n",
      "2. Try to escape the room and the creature\n",
      "3. Look for something in the room to use as a weapon against the creature"
     ]
    },
    {
     "data": {
      "application/vnd.jupyter.widget-view+json": {
       "model_id": "c4efb98ec1c54148b45aa4ea9308463e",
       "version_major": 2,
       "version_minor": 0
      },
      "text/plain": [
       "HBox(children=(Button(description='1', layout=Layout(width='auto'), style=ButtonStyle(), tooltip='Use the book…"
      ]
     },
     "metadata": {},
     "output_type": "display_data"
    },
    {
     "name": "stdout",
     "output_type": "stream",
     "text": [
      "I select option 2. TURN: 5  (I'm insane!)\n",
      "\n",
      "\n",
      "In a moment of sheer panic and survival instinct, you turn to flee the room, the image of Professor Dagger's final moments etched into your mind. The creature, once the withered body of a woman, now a thing of nightmares, seems to sense your intention to escape and quickens its pursuit with an unnatural speed.\n",
      "\n",
      "Your heart pounds in your chest as you sprint back through the dark corridor, the echoes of your footsteps and the slithering sound of the creature close behind filling the air. The stench of decay is now mixed with the sharp tang of fear, every breath you take laced with desperation.\n",
      "\n",
      "As you reach the entrance to the hidden room, you realize the gravity of your situation. The only exit from the storage facility is locked, a fact that dawns on you with crippling dread. The memory of the middle-aged woman who promised to unlock the door for you flashes through your mind, a glimmer of hope in the darkness.\n",
      "\n",
      "You rush to the door, your hands fumbling for the handle, praying that the woman kept her word.\n",
      "\n",
      "To your immense relief, the door swings open with a push, the cool night air rushing to greet you. Without looking back, you burst out of the storage facility, the creature's enraged screams fading into the distance as you put as much space between it and yourself as possible.\n",
      "\n",
      "Your lungs burn with exertion, and your legs feel like they might give out at any moment, but the fear of what lies behind propels you forward. Finally, when you're sure you've escaped the immediate danger, you collapse to the ground, gasping for air, your mind struggling to process the events that have just unfolded.\n",
      "\n",
      "The night is quiet around you, the horror of the storage facility seeming like a distant nightmare. Yet the memory of the withered body, the tentacles, and the loss of Professor Dagger weigh heavily on you. You've survived, but at what cost?\n",
      "\n",
      "Your sanity teeters on the edge, the experiences of the night pushing you to the brink. Yet, you hold onto the book, the object of so much horror and hope, wondering if it holds the key to understanding the madness you've just escaped.\n",
      "\n",
      "summary:\n",
      "- Kyle faced the horror of the withered body and the creature it became, losing Professor Dagger in the process.\n",
      "- Fleeing the creature and the storage facility, Kyle managed to escape with the book, though the events of the night have left him on the brink of madness."
     ]
    },
    {
     "data": {
      "application/vnd.jupyter.widget-view+json": {
       "model_id": "7db6b03440c14f1fb66ea449d6deb7bd",
       "version_major": 2,
       "version_minor": 0
      },
      "text/plain": [
       "HBox(children=(Button(description='NEXT ROUND', layout=Layout(width='auto'), style=ButtonStyle()), Button(desc…"
      ]
     },
     "metadata": {},
     "output_type": "display_data"
    }
   ],
   "source": [
    "import re\n",
    "import tomllib\n",
    "import functools\n",
    "from typing import Literal\n",
    "\n",
    "import ipywidgets as widgets\n",
    "from IPython.display import display\n",
    "\n",
    "from dotenv import load_dotenv\n",
    "\n",
    "load_dotenv()\n",
    "\n",
    "from rs import Message, Config, chat, skill_check\n",
    "import d20\n",
    "\n",
    "action_pattern = re.compile(r\"(\\d+). *(.+)\")\n",
    "skill_pattern = re.compile(r\"[\\w_]+\")\n",
    "skill_difficulty_pattern = re.compile(r\"(easy|normal|hard)\")\n",
    "\n",
    "def next_round(b):\n",
    "    global current_round, initial_messages\n",
    "    current_round += 1\n",
    "    initial_messages = config.initial_messages(current_round, config.metadata)\n",
    "\n",
    "    print(initial_messages[-1].content)\n",
    "    display(get_controls(initial_messages[-1]))\n",
    "\n",
    "def get_user_message_tail():\n",
    "    count = 0\n",
    "    for msg in initial_messages:\n",
    "        if msg.role == \"user\":\n",
    "            count += 1\n",
    "\n",
    "    is_final =  \", FINAL ROUND\" if  current_round == len(config.rounds) else \"\"\n",
    "    \n",
    "    # print(config.metadata[\"character\"])\n",
    "    \n",
    "    if \"tags\" in config.metadata[\"character\"] and \"insane\" in config.metadata[\"character\"][\"tags\"]:\n",
    "        return f\"TURN: {count + 1} {is_final} (I'm insane!)\"\n",
    "    \n",
    "    return f\"TURN: {count + 1} {is_final}\"\n",
    "    \n",
    "\n",
    "def do_chat(role:Literal[\"user\", \"system\", \"assistant\"], content: str):\n",
    "    print(f\"{content}\\n\\n\")\n",
    "\n",
    "    initial_messages.append(Message(role=role, content=content))\n",
    "    msg = chat(initial_messages, lambda delta: print(delta, end=\"\"))\n",
    "\n",
    "    initial_messages.append(msg)\n",
    "    display(get_controls(msg))\n",
    "\n",
    "\n",
    "def on_skill(b, skill:str, difficulty:str):\n",
    "    # print(config.metadata[\"character\"])\n",
    "    content = skill_check(skill, difficulty, config.metadata)\n",
    "    content += f\"\\n{get_user_message_tail()}\"\n",
    "    do_chat(\"user\", content)\n",
    "\n",
    "def on_action(b, index:int):\n",
    "    content = f\"I select option {index}. {get_user_message_tail()}\"\n",
    "    do_chat(\"user\", content)\n",
    "\n",
    "def on_custom_input(b, input:widgets.Text):\n",
    "    content = f\"{input.value}. {get_user_message_tail()}\"\n",
    "    do_chat(\"user\", content)\n",
    "\n",
    "def on_custom_action(b):\n",
    "    hbox = widgets.HBox(layout=widgets.Layout(width=\"100%\"))\n",
    "    action_text = widgets.Text(layout=widgets.Layout(width=\"100%\"))\n",
    "    submit = widgets.Button(description=\"SUBMIT\", layout=widgets.Layout(width=\"fit-content\"))\n",
    "    submit.on_click(functools.partial(on_custom_input, input=action_text))\n",
    "    hbox.children += (action_text, submit) \n",
    "    display(hbox)\n",
    "\n",
    "def get_controls(msg:Message) -> widgets.Box:\n",
    "    dict = msg.dict()\n",
    "    buttons = []\n",
    "    if \"possible actions\" in dict.keys():\n",
    "        matches = action_pattern.finditer(dict[\"possible actions\"])\n",
    "        for match in matches:\n",
    "            btn = widgets.Button(description=match.group(1), tooltip=match.group(2), layout=widgets.Layout(width=\"auto\"))\n",
    "            btn.on_click(functools.partial(on_action, index=int(match.group(1))))\n",
    "            buttons.append(btn)\n",
    "    elif \"skill\" in dict.keys() and \"difficulty\" in dict.keys():\n",
    "        match = skill_pattern.match(dict[\"skill\"])\n",
    "        skill = match.group(0)\n",
    "        match = skill_difficulty_pattern.match(dict[\"difficulty\"])\n",
    "        difficulty = match.group(0)\n",
    "        skill_button = widgets.Button(description=f\"{skill.upper()} [{difficulty.upper()}]\", layout=widgets.Layout(width=\"auto\"))\n",
    "        skill_button.on_click(functools.partial(on_skill, skill=skill, difficulty=difficulty))\n",
    "        buttons.append(skill_button)\n",
    "    elif \"summary\" in dict.keys():\n",
    "        # add summary as a memory to the metadata\n",
    "        # it will be used in the next round.\n",
    "        config.metadata[\"memories\"] = []\n",
    "        config.metadata[\"memories\"].append(dict[\"summary\"])\n",
    "        next_btn = widgets.Button(description=\"NEXT ROUND\", layout=widgets.Layout(width=\"auto\"))\n",
    "        next_btn.on_click(next_round)\n",
    "        buttons.append(next_btn)\n",
    "    \n",
    "    custom_action_button = widgets.Button(description=\"CUSTOM\")\n",
    "    custom_action_button.on_click(on_custom_action)\n",
    "    buttons.append(custom_action_button)\n",
    "\n",
    "    return widgets.HBox(buttons)\n",
    "\n",
    "# open config file\n",
    "config_name = \"data/coc_lot_3636.toml\"\n",
    "config: Config | None = None\n",
    "with open(config_name, \"rb\") as f:\n",
    "    data = tomllib.load(f)\n",
    "    config = Config(**data)\n",
    "\n",
    "current_round = 0\n",
    "initial_messages = config.initial_messages(current_round, config.metadata)\n",
    "\n",
    "print(initial_messages[-1].content)\n",
    "display(get_controls(initial_messages[-1]))"
   ]
  }
 ],
 "metadata": {
  "kernelspec": {
   "display_name": ".venv",
   "language": "python",
   "name": "python3"
  },
  "language_info": {
   "codemirror_mode": {
    "name": "ipython",
    "version": 3
   },
   "file_extension": ".py",
   "mimetype": "text/x-python",
   "name": "python",
   "nbconvert_exporter": "python",
   "pygments_lexer": "ipython3",
   "version": "3.12.3"
  }
 },
 "nbformat": 4,
 "nbformat_minor": 2
}
