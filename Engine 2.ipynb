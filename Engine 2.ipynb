{
 "cells": [
  {
   "cell_type": "code",
   "execution_count": 25,
   "metadata": {},
   "outputs": [
    {
     "name": "stdout",
     "output_type": "stream",
     "text": [
      "Requirement already satisfied: fastapi in c:\\python\\lib\\site-packages (0.110.2)\n",
      "Requirement already satisfied: pydantic in c:\\python\\lib\\site-packages (2.7.0)\n",
      "Requirement already satisfied: toml in c:\\python\\lib\\site-packages (0.10.2)\n",
      "Requirement already satisfied: starlette<0.38.0,>=0.37.2 in c:\\python\\lib\\site-packages (from fastapi) (0.37.2)\n",
      "Requirement already satisfied: typing-extensions>=4.8.0 in c:\\python\\lib\\site-packages (from fastapi) (4.11.0)\n",
      "Requirement already satisfied: annotated-types>=0.4.0 in c:\\python\\lib\\site-packages (from pydantic) (0.6.0)\n",
      "Requirement already satisfied: pydantic-core==2.18.1 in c:\\python\\lib\\site-packages (from pydantic) (2.18.1)\n",
      "Requirement already satisfied: anyio<5,>=3.4.0 in c:\\python\\lib\\site-packages (from starlette<0.38.0,>=0.37.2->fastapi) (4.3.0)\n",
      "Requirement already satisfied: idna>=2.8 in c:\\python\\lib\\site-packages (from anyio<5,>=3.4.0->starlette<0.38.0,>=0.37.2->fastapi) (3.7)\n",
      "Requirement already satisfied: sniffio>=1.1 in c:\\python\\lib\\site-packages (from anyio<5,>=3.4.0->starlette<0.38.0,>=0.37.2->fastapi) (1.3.1)\n",
      "Note: you may need to restart the kernel to use updated packages.\n"
     ]
    }
   ],
   "source": [
    "%pip install fastapi pydantic toml"
   ]
  },
  {
   "cell_type": "code",
   "execution_count": 26,
   "metadata": {},
   "outputs": [],
   "source": [
    "# from rs import skill_check\n",
    "\n",
    "# def test_skill_check(metadata):\n",
    "#     print(skill_check(\"sanity\", None, metadata))\n",
    "\n",
    "# metadata = {\n",
    "#     \"character\": {\"sanity\":30},\n",
    "#     \"symptom\":[\n",
    "#         \"incoherent speech\",\n",
    "#         \"uncontrollable twitching, trembling\",\n",
    "#         \"delusions of persecution\",\n",
    "#         \"strange appetites (dirt, clay, etc...)\",\n",
    "#         \"scratches, punches, and bruises all over the body\"\n",
    "#     ]\n",
    "# }\n",
    "\n",
    "# test_skill_check(metadata)\n",
    "# test_skill_check(metadata)\n",
    "# test_skill_check(metadata)\n",
    "# test_skill_check(metadata)\n",
    "# test_skill_check(metadata)\n",
    "# test_skill_check(metadata)\n",
    "# test_skill_check(metadata)\n",
    "# test_skill_check(metadata)\n",
    "# test_skill_check(metadata)\n",
    "# test_skill_check(metadata)\n",
    "# test_skill_check(metadata)\n",
    "# test_skill_check(metadata)\n",
    "\n",
    "# print(metadata[\"character\"])\n"
   ]
  },
  {
   "cell_type": "code",
   "execution_count": 27,
   "metadata": {},
   "outputs": [
    {
     "name": "stdout",
     "output_type": "stream",
     "text": [
      "\n",
      "\n",
      "Professor Dagger examines the seance table and the three leather bound books with utmost concentration and scrutiny, being as careful as possible to not inflict any damage to the items.\n",
      "\n",
      "The Professor, in a somber tone, inquired about a fourth book, which is the rarest of them all, for it allows the user to bind a demon to the material world, to earth. But it would burst in flames after the transaction is complete, unless the Demon has been betrayed and unable to collect its debt. He concludes, altogether, along with the fourth book, these items could fetch a price well above $2,000,000. Your eyes lit up, recognizing this to be your chance to turn your life around, pay off your debts and perhaps start something by yourself.\n",
      "\n",
      "You informed him that you found all the items in the recently acquired storage room, and suggested to the Professor that the fourth book may be misplaced in the storage. The Professor offered to help you search for the fourth book, hoping to move things along quicker.\n",
      "\n",
      "You quickly load everything back onto your truck, and with Professor Dagger in the passenger seat, the two of you make way towards the self-storage facility. On your way there, the Professor informed you that he has a confession to make.\n",
      "\n",
      "\n",
      "How do you respond?\n",
      "\n",
      "possible actions:\n",
      "1. Listen to his confession\n",
      "2. Ask him to keep what he has to say to himself\n",
      "3. Threaten him that if he lied about the money, you would hurt him real bad\n"
     ]
    },
    {
     "data": {
      "application/vnd.jupyter.widget-view+json": {
       "model_id": "102cbbf893444a3ba35d51b510e8a1c9",
       "version_major": 2,
       "version_minor": 0
      },
      "text/plain": [
       "HBox(children=(Button(description='1', layout=Layout(width='auto'), style=ButtonStyle(), tooltip='Listen to hi…"
      ]
     },
     "metadata": {},
     "output_type": "display_data"
    },
    {
     "name": "stdout",
     "output_type": "stream",
     "text": [
      "I select option 1. TURN: 1 \n",
      "\n",
      "\n",
      "As the truck hums along the road, you nod at Professor Dagger, signaling him to proceed with his confession. He clears his throat, the weight of his words seemingly heavy on his shoulders. \"Kyle, there's something you must know about the previous owner of the storage you've acquired,\" he begins, his voice tinged with a seriousness that immediately captures your attention.\n",
      "\n",
      "\"The owner, along with her family, was deeply involved in the occult. It's not just hearsay; there are records, though most are shrouded in secrecy and whispers of dark rituals. The most unsettling part,\" he pauses, glancing at you to gauge your reaction, \"is the legend surrounding the fourth book. They say the owner conducted a forbidden ritual, using the book to summon a demon and bind it to her sister. The aftermath of that night is lost to rumors, but it's believed that what transpired was too horrific for words.\"\n",
      "\n",
      "He lets his words hang in the air, allowing you to absorb the gravity of the confession. \"I felt it was only right you knew the full extent of what might be involved with these artifacts. The occult is not to be trifed with lightly, Kyle.\"\n",
      "\n",
      "The revelation sends a chill down your spine, but it also ignites a burning curiosity within you. What could possibly be hidden in the storage that ties back to such a dark and mysterious past?\n",
      "\n",
      "summary: Professor Dagger confesses to Kyle that the previous owner of the storage and her family were deeply involved in the occult, and that a demonic ritual involving the fourth book may have taken place, binding a demon to the owner's sister. The aftermath of the event is shrouded in mystery and horror."
     ]
    },
    {
     "data": {
      "application/vnd.jupyter.widget-view+json": {
       "model_id": "522e95d74e8a4e6b9cd5d38c5f1574e1",
       "version_major": 2,
       "version_minor": 0
      },
      "text/plain": [
       "HBox(children=(Button(description='NEXT ROUND', layout=Layout(width='auto'), style=ButtonStyle()), Button(desc…"
      ]
     },
     "metadata": {},
     "output_type": "display_data"
    },
    {
     "name": "stdout",
     "output_type": "stream",
     "text": [
      "\n",
      "Memories:\n",
      "\"\"\"\n",
      "- Professor Dagger confesses to Kyle that the previous owner of the storage and her family were deeply involved in the occult, and that a demonic ritual involving the fourth book may have taken place, binding a demon to the owner's sister. The aftermath of the event is shrouded in mystery and horror.\n",
      "- Kyle Jackson, despite your financial desperation, you accepted a middle-aged woman's request to access the storage room heyou had recently purchased. Upon entering the storage, Kyle discovered strange and unsettling objects, including a collection of old jars with unidentifiable contents, which he failed to appraise. His investigation led him to a hidden compartment containing maritime maps, a rusted compass, and a journal detailing a voyage to the mythical R'lyeh, driving him to the brink of madness. As Kyle loses control, haunted by the implications of his findings, he hears a strange noise, indicating that something else is present in the storage room with him.\n",
      "\"\"\"\n",
      "\n",
      "\n",
      "You invited Professor Dagger into the storage room, and the two of you began scouring through old furniture, leaving nothing unturned, yet, after two long hours, your hands held nothing but dust. You sensed the Professor’s eyes laced with disappointment, perhaps he has already given up the search, but your desire for a better life fuels your persistence to hunt the fourth book down. You revisit the drawers you may have overlooked, potential compartments that are hidden behind intricate mechanisms like the seance table. As you attempt to wrestle a large wooden shelf to another wall, your slip of the hand causes it to collide with the wall behind it, producing a hollow thud. Professor Dagger immediately placed his hands against the false wall, sliding across its surface gently like one would a body. Soon he senses the concealed mechanism that held the secret shut, which upon a soft press, unveils a dark corridor effluviating a pungent scent.\n",
      "\n",
      "Before entering, Professor Dagger warns you not to look or speak to whatever resides at the end of the corridor, for you may enter a state of frenzy. With that in mind, you follow Professor Dagger into the unknown…\n",
      "\n",
      "\n",
      "What is your next course of action?\n",
      "\n",
      "possible actions:\n",
      "1. Follow him closely in silence\n",
      "2. Ask him what the foul odour is\n",
      "3. Comment on the surroundings\n"
     ]
    },
    {
     "data": {
      "application/vnd.jupyter.widget-view+json": {
       "model_id": "5b54c49569d2479dbf436e57e6f25a5a",
       "version_major": 2,
       "version_minor": 0
      },
      "text/plain": [
       "HBox(children=(Button(description='1', layout=Layout(width='auto'), style=ButtonStyle(), tooltip='Follow him c…"
      ]
     },
     "metadata": {},
     "output_type": "display_data"
    },
    {
     "name": "stdout",
     "output_type": "stream",
     "text": [
      "I select option 2. TURN: 1 \n",
      "\n",
      "\n",
      "As you tread carefully behind Professor Dagger, the foul odor becomes increasingly unbearable, prompting you to ask, \"What is that dreadful smell?\" \n",
      "\n",
      "Professor Dagger pauses for a moment, his lantern casting long shadows on the walls as he turns to face you. \"Decay,\" he replies grimly. \"This place has seen death, and what lies at the end might be the source. Be on your guard, Kyle. Not just for what we might find, but for what might find us.\"\n",
      "\n",
      "The corridor stretches ahead, its end swallowed by darkness. The air is thick, making each breath a struggle against the invisible weight of the unknown. The warning does little to ease the tension, but it solidifies your resolve to uncover the truth behind the storage's sinister secrets.\n",
      "\n",
      "As you continue forward, the sense of unease grows with each step, the darkness seeming to pulse with a life of its own. The path you walk feels like it's leading not just to the heart of the storage room, but perhaps to something far beyond your understanding.\n",
      "\n",
      "What do you do next?\n",
      "\n",
      "possible actions:\n",
      "1. Continue following Professor Dagger in silence\n",
      "2. Inspect the walls for more hidden mechanisms\n",
      "3. Ask Professor Dagger if he knows what specifically we're looking for"
     ]
    },
    {
     "data": {
      "application/vnd.jupyter.widget-view+json": {
       "model_id": "f7fa7b3b154040958c8e971a1fe36e95",
       "version_major": 2,
       "version_minor": 0
      },
      "text/plain": [
       "HBox(children=(Button(description='1', layout=Layout(width='auto'), style=ButtonStyle(), tooltip='Continue fol…"
      ]
     },
     "metadata": {},
     "output_type": "display_data"
    },
    {
     "name": "stdout",
     "output_type": "stream",
     "text": [
      "I select option 1. TURN: 2 \n",
      "\n",
      "\n",
      "You choose to continue following Professor Dagger in silence, letting the gravity of the situation and his previous warning guide your actions. The corridor seems to stretch on indefinitely, with each step echoing ominously off the unseen walls. The air grows colder, and the foul stench intensifies, a constant reminder of the decay that Professor Dagger mentioned.\n",
      "\n",
      "Finally, the corridor ends, opening into a hidden room that is dimly lit by a single, flickering lantern on a table. The sight before you is unsettling: at the center of the room lies the near withered body of a woman, sprawled across the floor in a grotesque manner. Her face is completely gone, leaving a gaping cavity that seems to pulse with a sinister energy. Surrounding her is a pentagram made of a strange red fluid, and at the far end of the room, you see the fourth book placed on a podium.\n",
      "\n",
      "Professor Dagger steps forward cautiously, his eyes never leaving the withered body. \"This is it,\" he whispers, \"the source of the corruption. We must retrieve the book, but we must be careful. The ritual that was performed here has bound a demon to this place.\"\n",
      "\n",
      "The atmosphere in the room is thick with dread, and you feel a chill run down your spine as you realize the gravity of the situation. The withered body on the floor, the pentagram, the book—all of it points to a dark and powerful occult practice that has been unleashed in this room.\n",
      "\n",
      "What do you do next?\n",
      "\n",
      "possible actions:\n",
      "1. Approach the podium to retrieve the book\n",
      "2. Ask Professor Dagger to grab the book instead\n",
      "3. Inspect the pentagram and the withered body from a distance"
     ]
    },
    {
     "data": {
      "application/vnd.jupyter.widget-view+json": {
       "model_id": "9400ee7d130b4cb5bf391b157c6a562d",
       "version_major": 2,
       "version_minor": 0
      },
      "text/plain": [
       "HBox(children=(Button(description='1', layout=Layout(width='auto'), style=ButtonStyle(), tooltip='Approach the…"
      ]
     },
     "metadata": {},
     "output_type": "display_data"
    },
    {
     "name": "stdout",
     "output_type": "stream",
     "text": [
      "I select option 1. TURN: 3 \n",
      "\n",
      "\n",
      "You steel your resolve and decide to approach the podium to retrieve the book yourself. Each step towards the podium feels heavy, as if the very air around you is thickening, trying to hold you back. The withered body lies ominously still, but you can't shake the feeling that it's watching you, despite the absence of its eyes.\n",
      "\n",
      "As you reach the podium and lay your hands on the fourth book, a sudden chill envelops the room. The strange red fluid forming the pentagram begins to evaporate and disappear, leaving behind no trace it was ever there.\n",
      "\n",
      "The moment the fluid vanishes, the withered body convulses violently. Tentacles, dark and writhing, burst forth from the gaping cavity that was once its face. They lash out in a frenzied dance, grabbing hold of Professor Dagger before he can react. His screams fill the room as the tentacles pull him towards the cavity, consuming him in a matter of seconds.\n",
      "\n",
      "You stand frozen in shock, the book still in your hands, as the withered body slowly turns its attention towards you. The air is thick with a malevolent energy, and you realize that the entity bound to this place is now aware of your presence.\n",
      "\n",
      "What do you do next?\n",
      "\n",
      "possible actions:\n",
      "1. Try to communicate with the entity\n",
      "2. Run towards the exit\n",
      "3. Use the book in some way"
     ]
    },
    {
     "data": {
      "application/vnd.jupyter.widget-view+json": {
       "model_id": "c140257a04ad43c58f741bf587f9baf8",
       "version_major": 2,
       "version_minor": 0
      },
      "text/plain": [
       "HBox(children=(Button(description='1', layout=Layout(width='auto'), style=ButtonStyle(), tooltip='Try to commu…"
      ]
     },
     "metadata": {},
     "output_type": "display_data"
    },
    {
     "name": "stdout",
     "output_type": "stream",
     "text": [
      "I select option 2. TURN: 4 \n",
      "\n",
      "\n",
      "With the book clutched tightly in your hands, you turn and sprint towards the exit, the horrifying scene of Professor Dagger's demise etched into your memory. The sound of the withered body stirring to life behind you sends a surge of adrenaline through your veins. You can hear the slithering of tentacles on the stone floor, a cacophony of nightmares chasing you as you navigate back through the dark corridor.\n",
      "\n",
      "As you emerge from the hidden room, the reality of your situation sets in. The only exit from the storage facility is locked, as per the rules established by your previous decisions. The knowledge weighs heavily on you as you race towards the door, the sounds of the entity's pursuit echoing ominously behind you.\n",
      "\n",
      "Reaching the door, you remember the middle-aged woman's request and your acceptance of it. This decision now comes back to aid you, as the door is unlocked, a direct result of your earlier actions. Without hesitation, you throw the door open and burst out into the night, the cool air hitting your face as you escape the confines of the storage facility.\n",
      "\n",
      "Behind you, the malevolent presence seems to halt at the threshold of the facility, as if bound to the structure itself. You don't stop to look back, knowing that your sanity might not withstand the sight of the entity that now haunts your nightmares.\n",
      "\n",
      "You run until the storage facility is nothing but a dark silhouette against the night sky, the book still in your possession. The events of the night replay in your mind, a whirlwind of horror and disbelief. Professor Dagger's warnings, the withered body, the demonic ritual—all of it has changed you in ways you can't yet comprehend.\n",
      "\n",
      "As you catch your breath, the realization that you've survived something truly otherworldly begins to sink in. But the cost of this knowledge, and the fate of Professor Dagger, weigh heavily on your conscience. You know that the horrors you've witnessed are far from over, and the path ahead is fraught with danger and madness.\n",
      "\n",
      "summary:\n",
      "Kyle Jackson, driven by desperation and the hope of a better life, delved into the mysteries of the occult that were hidden within his newly acquired storage room. Guided by Professor Dagger, he uncovered a hidden room where a demonic ritual had taken place, binding a demon to the owner's sister. The retrieval of the fourth book triggered a horrifying event, leading to the Professor's demise at the hands of a withered, tentacled entity. Kyle's decision to accept a middle-aged woman's request earlier proved to be his salvation, as it allowed him to escape the locked storage facility. Now, with the book in hand and the horrors of the night imprinted on his soul, Kyle faces an uncertain future, haunted by the knowledge and experiences that have irrevocably changed him."
     ]
    },
    {
     "data": {
      "application/vnd.jupyter.widget-view+json": {
       "model_id": "2fed5d611cf342f48a76d4b29ff8e3b3",
       "version_major": 2,
       "version_minor": 0
      },
      "text/plain": [
       "HBox(children=(Button(description='NEXT ROUND', layout=Layout(width='auto'), style=ButtonStyle()), Button(desc…"
      ]
     },
     "metadata": {},
     "output_type": "display_data"
    }
   ],
   "source": [
    "import re\n",
    "import tomllib\n",
    "import functools\n",
    "from typing import Literal\n",
    "\n",
    "import ipywidgets as widgets\n",
    "from IPython.display import display\n",
    "\n",
    "from dotenv import load_dotenv\n",
    "\n",
    "load_dotenv()\n",
    "\n",
    "from rs import Message, Config, chat, skill_check\n",
    "import d20\n",
    "\n",
    "action_pattern = re.compile(r\"(\\d+). *(.+)\")\n",
    "skill_pattern = re.compile(r\"[\\w_]+\")\n",
    "skill_difficulty_pattern = re.compile(r\"(easy|normal|hard)\")\n",
    "\n",
    "def next_round(b):\n",
    "    global current_round, initial_messages\n",
    "    current_round += 1\n",
    "    initial_messages = config.initial_messages(current_round, config.metadata)\n",
    "\n",
    "    print(initial_messages[-1].content)\n",
    "    display(get_controls(initial_messages[-1]))\n",
    "\n",
    "def get_user_message_tail():\n",
    "    count = 0\n",
    "    for msg in initial_messages:\n",
    "        if msg.role == \"user\":\n",
    "            count += 1\n",
    "\n",
    "    is_final =  \", FINAL ROUND\" if  current_round == len(config.rounds) else \"\"\n",
    "    \n",
    "    # print(config.metadata[\"character\"])\n",
    "    \n",
    "    if \"tags\" in config.metadata[\"character\"] and \"insane\" in config.metadata[\"character\"][\"tags\"]:\n",
    "        return f\"TURN: {count + 1} {is_final} (I'm insane!)\"\n",
    "    \n",
    "    return f\"TURN: {count + 1} {is_final}\"\n",
    "    \n",
    "\n",
    "def do_chat(role:Literal[\"user\", \"system\", \"assistant\"], content: str):\n",
    "    print(f\"{content}\\n\\n\")\n",
    "\n",
    "    initial_messages.append(Message(role=role, content=content))\n",
    "    msg = chat(initial_messages, lambda delta: print(delta, end=\"\"))\n",
    "\n",
    "    initial_messages.append(msg)\n",
    "    display(get_controls(msg))\n",
    "\n",
    "\n",
    "def on_skill(b, skill:str, difficulty:str):\n",
    "    # print(config.metadata[\"character\"])\n",
    "    content = skill_check(skill, difficulty, config.metadata)\n",
    "    content += f\"\\n{get_user_message_tail()}\"\n",
    "    do_chat(\"user\", content)\n",
    "\n",
    "def on_action(b, index:int):\n",
    "    content = f\"I select option {index}. {get_user_message_tail()}\"\n",
    "    do_chat(\"user\", content)\n",
    "\n",
    "def on_custom_input(b, input:widgets.Text):\n",
    "    content = f\"{input.value}. {get_user_message_tail()}\"\n",
    "    do_chat(\"user\", content)\n",
    "\n",
    "def on_custom_action(b):\n",
    "    hbox = widgets.HBox(layout=widgets.Layout(width=\"100%\"))\n",
    "    action_text = widgets.Text(layout=widgets.Layout(width=\"100%\"))\n",
    "    submit = widgets.Button(description=\"SUBMIT\", layout=widgets.Layout(width=\"fit-content\"))\n",
    "    submit.on_click(functools.partial(on_custom_input, input=action_text))\n",
    "    hbox.children += (action_text, submit) \n",
    "    display(hbox)\n",
    "\n",
    "def get_controls(msg:Message) -> widgets.Box:\n",
    "    dict = msg.dict()\n",
    "    buttons = []\n",
    "    if \"possible actions\" in dict.keys():\n",
    "        matches = action_pattern.finditer(dict[\"possible actions\"])\n",
    "        for match in matches:\n",
    "            btn = widgets.Button(description=match.group(1), tooltip=match.group(2), layout=widgets.Layout(width=\"auto\"))\n",
    "            btn.on_click(functools.partial(on_action, index=int(match.group(1))))\n",
    "            buttons.append(btn)\n",
    "    elif \"skill\" in dict.keys() and \"difficulty\" in dict.keys():\n",
    "        match = skill_pattern.match(dict[\"skill\"])\n",
    "        skill = match.group(0)\n",
    "        match = skill_difficulty_pattern.match(dict[\"difficulty\"])\n",
    "        difficulty = match.group(0)\n",
    "        skill_button = widgets.Button(description=f\"{skill.upper()} [{difficulty.upper()}]\", layout=widgets.Layout(width=\"auto\"))\n",
    "        skill_button.on_click(functools.partial(on_skill, skill=skill, difficulty=difficulty))\n",
    "        buttons.append(skill_button)\n",
    "    elif \"summary\" in dict.keys():\n",
    "        # add summary as a memory to the metadata\n",
    "        # it will be used in the next round.\n",
    "        # config.metadata[\"memories\"] = []\n",
    "        config.metadata[\"memories\"].append(dict[\"summary\"])\n",
    "        next_btn = widgets.Button(description=\"NEXT ROUND\", layout=widgets.Layout(width=\"auto\"))\n",
    "        next_btn.on_click(next_round)\n",
    "        buttons.append(next_btn)\n",
    "    \n",
    "    custom_action_button = widgets.Button(description=\"CUSTOM\")\n",
    "    custom_action_button.on_click(on_custom_action)\n",
    "    buttons.append(custom_action_button)\n",
    "\n",
    "    return widgets.HBox(buttons)\n",
    "\n",
    "# open config file\n",
    "config_name = \"data/coc_lot_66.toml\"\n",
    "config: Config | None = None\n",
    "with open(config_name, \"rb\") as f:\n",
    "    data = tomllib.load(f)\n",
    "    config = Config(**data)\n",
    "\n",
    "current_round = 4\n",
    "initial_messages = config.initial_messages(current_round, config.metadata)\n",
    "\n",
    "print(initial_messages[-1].content)\n",
    "display(get_controls(initial_messages[-1]))"
   ]
  }
 ],
 "metadata": {
  "kernelspec": {
   "display_name": ".venv",
   "language": "python",
   "name": "python3"
  },
  "language_info": {
   "codemirror_mode": {
    "name": "ipython",
    "version": 3
   },
   "file_extension": ".py",
   "mimetype": "text/x-python",
   "name": "python",
   "nbconvert_exporter": "python",
   "pygments_lexer": "ipython3",
   "version": "3.12.3"
  }
 },
 "nbformat": 4,
 "nbformat_minor": 2
}
