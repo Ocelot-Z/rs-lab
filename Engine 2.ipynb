{
 "cells": [
  {
   "cell_type": "code",
   "execution_count": 16,
   "metadata": {},
   "outputs": [
    {
     "name": "stdout",
     "output_type": "stream",
     "text": [
      "Requirement already satisfied: fastapi in c:\\python\\lib\\site-packages (0.110.2)\n",
      "Requirement already satisfied: pydantic in c:\\python\\lib\\site-packages (2.7.0)\n",
      "Requirement already satisfied: toml in c:\\python\\lib\\site-packages (0.10.2)\n",
      "Requirement already satisfied: starlette<0.38.0,>=0.37.2 in c:\\python\\lib\\site-packages (from fastapi) (0.37.2)\n",
      "Requirement already satisfied: typing-extensions>=4.8.0 in c:\\python\\lib\\site-packages (from fastapi) (4.11.0)\n",
      "Requirement already satisfied: annotated-types>=0.4.0 in c:\\python\\lib\\site-packages (from pydantic) (0.6.0)\n",
      "Requirement already satisfied: pydantic-core==2.18.1 in c:\\python\\lib\\site-packages (from pydantic) (2.18.1)\n",
      "Requirement already satisfied: anyio<5,>=3.4.0 in c:\\python\\lib\\site-packages (from starlette<0.38.0,>=0.37.2->fastapi) (4.3.0)\n",
      "Requirement already satisfied: idna>=2.8 in c:\\python\\lib\\site-packages (from anyio<5,>=3.4.0->starlette<0.38.0,>=0.37.2->fastapi) (3.7)\n",
      "Requirement already satisfied: sniffio>=1.1 in c:\\python\\lib\\site-packages (from anyio<5,>=3.4.0->starlette<0.38.0,>=0.37.2->fastapi) (1.3.1)\n",
      "Note: you may need to restart the kernel to use updated packages.\n"
     ]
    }
   ],
   "source": [
    "%pip install fastapi pydantic toml"
   ]
  },
  {
   "cell_type": "code",
   "execution_count": 17,
   "metadata": {},
   "outputs": [],
   "source": [
    "# from rs import skill_check\n",
    "\n",
    "# def test_skill_check(metadata):\n",
    "#     print(skill_check(\"sanity\", None, metadata))\n",
    "\n",
    "# metadata = {\n",
    "#     \"character\": {\"sanity\":30},\n",
    "#     \"symptom\":[\n",
    "#         \"incoherent speech\",\n",
    "#         \"uncontrollable twitching, trembling\",\n",
    "#         \"delusions of persecution\",\n",
    "#         \"strange appetites (dirt, clay, etc...)\",\n",
    "#         \"scratches, punches, and bruises all over the body\"\n",
    "#     ]\n",
    "# }\n",
    "\n",
    "# test_skill_check(metadata)\n",
    "# test_skill_check(metadata)\n",
    "# test_skill_check(metadata)\n",
    "# test_skill_check(metadata)\n",
    "# test_skill_check(metadata)\n",
    "# test_skill_check(metadata)\n",
    "# test_skill_check(metadata)\n",
    "# test_skill_check(metadata)\n",
    "# test_skill_check(metadata)\n",
    "# test_skill_check(metadata)\n",
    "# test_skill_check(metadata)\n",
    "# test_skill_check(metadata)\n",
    "\n",
    "# print(metadata[\"character\"])\n"
   ]
  },
  {
   "cell_type": "code",
   "execution_count": 18,
   "metadata": {},
   "outputs": [
    {
     "name": "stdout",
     "output_type": "stream",
     "text": [
      "\n",
      "\n",
      "Professor Dagger examines the seance table with utmost concentration and scrutiny, being as careful as possible to not inflict any damage to the table. He then shifted his attention to the three leather bound books, inspecting its condition while flipping through its contents to verify its authenticity. \n",
      "\n",
      "After much inspection, he turned his attention towards you, and inquired about a fourth book, expressing that altogether, it could fetch a price well above $2,000,000. Your eyes lit up, recognizing this to be your chance to turn your life around, pay off your debts and perhaps start something by yourself. The mystery of the fourth book piqued your interest despite the disinterest in the occult, and such curiosity beckoned you to ask about the importance of the fourth book. A heavy silence ensued, the Professor’s shadowy face under the chandelier’s soft  glow gazed into your eyes with great earnestness. In a somber tone, he explained that the fourth book is the rarest of them all, for it allows its user to bind a demon to the material world, to earth. And the moment the transaction is complete, the book would self combust to a pile of ash unless the demon has been betrayed and unable to collect its debt, thus explaining the price of the book. \n",
      "\n",
      "You hastily explain your recently acquired storage, and how you still haven’t had the opportunity to thoroughly examine every item, suggesting its possible location. Professor Dagger offered to search the storage room alongside you, and if the fourth book is found, he will write you a $2,000,000 cheque immediately. \n",
      "\n",
      "You quickly load everything back onto your truck, and with Professor Dagger in the passenger seat, the two of you make way towards the self-storage facility. On your way there, the Professor informed you that he has a confession to make.\n",
      "\n",
      "How do you respond?\n",
      "\n",
      "possible actions:\n",
      "1. Listen to his confession\n",
      "2. Ask him to keep what he has to say to himself\n",
      "3. Threaten him that if he lied about the money, you would hurt him real bad\n"
     ]
    },
    {
     "data": {
      "application/vnd.jupyter.widget-view+json": {
       "model_id": "b5d0136f76bb41ed9f451da93d9f43bd",
       "version_major": 2,
       "version_minor": 0
      },
      "text/plain": [
       "HBox(children=(Button(description='1', layout=Layout(width='auto'), style=ButtonStyle(), tooltip='Listen to hi…"
      ]
     },
     "metadata": {},
     "output_type": "display_data"
    },
    {
     "name": "stdout",
     "output_type": "stream",
     "text": [
      "I select option 1. TURN: 1 \n",
      "\n",
      "\n",
      "As the truck hums down the road, you nod to Professor Dagger, signaling your willingness to listen. He clears his throat, the weight of his words seeming to press down on the air between you. \"Kyle,\" he begins, his voice tinged with a seriousness that commands your full attention, \"the previous owner of the storage you now possess was deeply entangled in the occult. Not just him, but his entire family. They were known to dabble in practices that many would consider...abominable.\"\n",
      "\n",
      "He pauses, as if gauging your reaction, before continuing, \"Among their dark endeavors was a ritual, performed with the very book we seek. It's said that they summoned a demon and bound it to possess one of their own, the sister of the deceased owner. The events that followed are shrouded in whispers, legends, and unspeakable horrors. Many believe that the knowledge and artifacts contained within that storage could be of great power...or a terrible curse.\"\n",
      "\n",
      "The revelation sends a shiver down your spine, but your determination to turn your life around pushes you to digest the information with a mix of fear and fascination. The truck pulls into the self-storage facility, the looming shadows of the storage units casting an eerie atmosphere that seems to echo Professor Dagger's confession.\n",
      "\n",
      "You park the truck, the engine's cessation marking your arrival. The silence that follows feels heavy, filled with the anticipation of what lies within the storage unit you've yet to fully explore.\n",
      "\n",
      "summary: Kyle chose to listen to Professor Dagger's confession about the previous owner's involvement in the occult and the dark history surrounding the storage unit. They have arrived at the self-storage facility, ready to uncover the mysteries that lie within."
     ]
    },
    {
     "data": {
      "application/vnd.jupyter.widget-view+json": {
       "model_id": "1c44451ae1d9458fba89a18ddd5fdea0",
       "version_major": 2,
       "version_minor": 0
      },
      "text/plain": [
       "HBox(children=(Button(description='NEXT ROUND', layout=Layout(width='auto'), style=ButtonStyle()), Button(desc…"
      ]
     },
     "metadata": {},
     "output_type": "display_data"
    },
    {
     "name": "stdout",
     "output_type": "stream",
     "text": [
      "\n",
      "Memories:\n",
      "\"\"\"\n",
      "- Kyle chose to listen to Professor Dagger's confession about the previous owner's involvement in the occult and the dark history surrounding the storage unit. They have arrived at the self-storage facility, ready to uncover the mysteries that lie within.\n",
      "- Kyle Jackson, driven by financial desperation, rejected a middle-aged woman's request to access the storage room he had recently purchased, hoping to find valuable items to sell. Upon entering the storage, Kyle discovered strange and unsettling objects, including a collection of old jars with unidentifiable contents, which he failed to appraise. His investigation led him to a hidden compartment containing maritime maps, a rusted compass, and a journal detailing a voyage to the mythical R'lyeh, driving him to the brink of madness. As Kyle loses control, haunted by the implications of his findings, he hears a strange noise, indicating that something else is present in the storage room with him.\n",
      "\"\"\"\n",
      "\n",
      "\n",
      "You invited Professor Dagger into the storage room, the space still cluttered despite your earlier attempt to clear some of the items out. The two of you began scouring through old furniture, leaving nothing unturned, yet, after two long hours, your hands held nothing but dust. You sensed the Professor’s eyes laced with disappointment, perhaps he has already given up the search, for to encounter a rare artifact like the one he described must require great deal of luck. But your desire for a better life fuels your persistence to hunt the fourth book down. You revisit the drawers you may have overlooked, potential compartments that are hidden behind intricate mechanisms like the seance table. And as you attempt to wrestle a large wooden shelf to another wall, your slip of the hand causes it to collide with the wall behind it, producing a hollow thud. Professor Dagger immediately placed his hands against the false wall, sliding across its surface gently like one would a body. Soon he senses the concealed mechanism that safeguards the secret shut, which upon a gentle press, unveils a dark corridor effluviating a pungent scent.\n",
      "\n",
      "Before entering, Professor Dagger warns you not to look or speak to whatever resides at the end of the corridor, for you may enter a state of frenzy. With that in mind, you follow Professor Dagger into the unknown…\n",
      "\n",
      "What is your next course of action?\n",
      "\n",
      "possible actions:\n",
      "1. Follow him closely in silence\n",
      "2. Ask him what the foul odour is\n",
      "3. Comment on the surroundings\n"
     ]
    },
    {
     "data": {
      "application/vnd.jupyter.widget-view+json": {
       "model_id": "cc606e9c729a473685961939bfcef6c9",
       "version_major": 2,
       "version_minor": 0
      },
      "text/plain": [
       "HBox(children=(Button(description='1', layout=Layout(width='auto'), style=ButtonStyle(), tooltip='Follow him c…"
      ]
     },
     "metadata": {},
     "output_type": "display_data"
    },
    {
     "name": "stdout",
     "output_type": "stream",
     "text": [
      "I select option 1. TURN: 1 \n",
      "\n",
      "\n",
      "You decide to follow Professor Dagger closely in silence, your footsteps echoing softly in the narrow, dimly lit corridor. The air grows colder as you proceed, the walls seeming to close in around you. The pungent odor intensifies, making it difficult to keep a steady breath. You notice Professor Dagger's pace quicken slightly, a sense of urgency in his movements. You match his pace, keeping your focus ahead, trying to ignore the creeping dread that seems to fill the corridor.\n",
      "\n",
      "As you reach the end of the corridor, the sight before you halts you in your tracks. There lies a near-withered body of a woman, sprawled across the floor over a pentagram made of a strange red fluid. The face of the body is completely gone, leaving a gaping cavity where something sinister writhes within. Despite Professor Dagger's earlier warning, the grotesque scene before you demands your attention, and a chill runs down your spine.\n",
      "\n",
      "You need to make a skill check to maintain your composure upon witnessing this horrifying scene.\n",
      "\n",
      "skill: sanity\n",
      "difficulty: hard"
     ]
    },
    {
     "data": {
      "application/vnd.jupyter.widget-view+json": {
       "model_id": "dbf4110a887b479388b193caccf92d23",
       "version_major": 2,
       "version_minor": 0
      },
      "text/plain": [
       "HBox(children=(Button(description='SANITY [HARD]', layout=Layout(width='auto'), style=ButtonStyle()), Button(d…"
      ]
     },
     "metadata": {},
     "output_type": "display_data"
    },
    {
     "name": "stdout",
     "output_type": "stream",
     "text": [
      "I am making a SANITY check against my own sanity points: 10.\n",
      "And... FAILED! I lost 3 sanity points.\n",
      "TURN: 2 \n",
      "\n",
      "\n",
      "As the shock of the grotesque scene overwhelms you, your mind reels from the horror of the withered body and the sinister presence writhing within its facial cavity. You struggle to maintain your composure, but the sight is too much for your psyche to bear. You feel a part of your sanity slip away as you lose 3 sanity points, leaving you with 7 sanity points.\n",
      "\n",
      "The realization hits you hard, and for a moment, you feel the urge to flee, to escape this nightmare that has become all too real. However, Professor Dagger, seemingly unfazed by the sight, gestures for you to follow him further into the room, towards a podium at the far end. On it rests the fourth book, its cover adorned with symbols that seem to pulsate under the flickering light.\n",
      "\n",
      "Despite your shaken state, you understand the importance of this discovery. The book may hold the key to not only understanding the dark history surrounding this place but also potentially changing your fortunes.\n",
      "\n",
      "What do you do next?\n",
      "\n",
      "possible actions:\n",
      "1. Approach the podium to examine the book\n",
      "2. Ask Professor Dagger to take the book instead\n",
      "3. Inspect the pentagram and the withered body further"
     ]
    },
    {
     "data": {
      "application/vnd.jupyter.widget-view+json": {
       "model_id": "a38016aab7494bc08e6483526d2873b3",
       "version_major": 2,
       "version_minor": 0
      },
      "text/plain": [
       "HBox(children=(Button(description='1', layout=Layout(width='auto'), style=ButtonStyle(), tooltip='Approach the…"
      ]
     },
     "metadata": {},
     "output_type": "display_data"
    },
    {
     "name": "stdout",
     "output_type": "stream",
     "text": [
      "I select option 1. TURN: 3 \n",
      "\n",
      "\n",
      "Gathering the remnants of your courage, you approach the podium to examine the book. Each step towards it feels heavy, as if the air around you thickens with anticipation. The book lies open, its pages filled with arcane symbols and writings in a language you cannot comprehend, yet you feel a strange pull towards it, a compulsion to understand its secrets.\n",
      "\n",
      "As you reach out to touch the book, the strange red fluid forming the pentagram beneath the withered body begins to evaporate, disappearing without a trace. This sudden change causes you to hesitate, but your curiosity drives you to grasp the book firmly, ready to remove it from the podium.\n",
      "\n",
      "The moment the book is dislodged, an unholy shriek pierces the air. You watch in horror as tentacles begin pouring out from the withered body's facial cavity, writhing and thrashing with a life of their own. They latch onto Professor Dagger, who is too close to the body, and before your very eyes, he is consumed by the monstrous entity. His screams fill the room, then abruptly cease, leaving a deafening silence in their wake.\n",
      "\n",
      "The withered body, now animated by some unspeakable force, turns its attention towards you. Its movements are swift, almost a blur, as it begins to chase after you with breakneck speed.\n",
      "\n",
      "You must make a decision quickly.\n",
      "\n",
      "possible actions:\n",
      "1. Attempt to escape the room by running back the way you came\n",
      "2. Try to distract the creature with something in the room\n",
      "3. Search for a weapon to defend yourself"
     ]
    },
    {
     "data": {
      "application/vnd.jupyter.widget-view+json": {
       "model_id": "3331523317d24604b60aa3c510aa8941",
       "version_major": 2,
       "version_minor": 0
      },
      "text/plain": [
       "HBox(children=(Button(description='1', layout=Layout(width='auto'), style=ButtonStyle(), tooltip='Attempt to e…"
      ]
     },
     "metadata": {},
     "output_type": "display_data"
    },
    {
     "name": "stdout",
     "output_type": "stream",
     "text": [
      "I select option 1. TURN: 4 \n",
      "\n",
      "\n",
      "With adrenaline surging through your veins, you turn on your heels and sprint towards the corridor, the only exit you know of. The chilling sound of the creature's movements echoes behind you, a constant reminder of the imminent danger nipping at your heels. You dare not look back, focusing solely on the path ahead, your breath ragged as you push your body to its limits.\n",
      "\n",
      "The dim light of the corridor grows brighter as you approach the entrance, the promise of escape fueling your desperate run. You recall the facility's layout in your mind, the twists and turns you took to get here, and the locked exit door that stands between you and freedom.\n",
      "\n",
      "As you burst into the open space of the storage facility, the realization hits you – the exit door. The memory of the middle-aged woman you had turned away flashes through your mind. Had she, in a moment of gratitude, left the door unlocked for you?\n",
      "\n",
      "You reach the door, your hands frantically searching for a way to open it, your heart pounding in your chest.\n",
      "\n",
      "The door is locked.\n",
      "\n",
      "Panic sets in as you hear the creature's relentless pursuit getting closer. You need to make a decision quickly.\n",
      "\n",
      "possible actions:\n",
      "1. Search for something to break the lock\n",
      "2. Look for a place to hide\n",
      "3. Call out for help, hoping someone is nearby"
     ]
    },
    {
     "data": {
      "application/vnd.jupyter.widget-view+json": {
       "model_id": "3e3a63ec916948b4a3e5c6a649674bbf",
       "version_major": 2,
       "version_minor": 0
      },
      "text/plain": [
       "HBox(children=(Button(description='1', layout=Layout(width='auto'), style=ButtonStyle(), tooltip='Search for s…"
      ]
     },
     "metadata": {},
     "output_type": "display_data"
    },
    {
     "data": {
      "application/vnd.jupyter.widget-view+json": {
       "model_id": "031fcf91359b46adab58738059576949",
       "version_major": 2,
       "version_minor": 0
      },
      "text/plain": [
       "HBox(children=(Text(value='', layout=Layout(width='100%')), Button(description='SUBMIT', layout=Layout(width='…"
      ]
     },
     "metadata": {},
     "output_type": "display_data"
    },
    {
     "name": "stdout",
     "output_type": "stream",
     "text": [
      "stand your ground and fight. TURN: 5 \n",
      "\n",
      "\n",
      "In a moment of desperation and defiance, you decide to stand your ground and fight. Knowing full well the creature's capability to kill in one hit, you understand this might be your last stand. Your mind races, searching for any advantage or weapon within your immediate surroundings that could give you a fighting chance against this unearthly foe.\n",
      "\n",
      "You recall the items you've seen scattered around the storage facility - old furniture, heavy objects, and tools. Your eyes quickly settle on a hefty crowbar lying not too far from you, discarded amidst the chaos of your earlier search. With no time to waste, you dash towards it, gripping it tightly in your hands as you turn to face the oncoming horror.\n",
      "\n",
      "The creature, a mass of tentacles and malevolence, barrels towards you with an unnatural speed. You brace yourself, crowbar raised, ready to strike with all the strength and determination you can muster. The fight for your life is about to begin.\n",
      "\n",
      "You need to make a skill check to determine the outcome of your desperate attempt to fend off the creature.\n",
      "\n",
      "skill: fighting\n",
      "difficulty: hard"
     ]
    },
    {
     "data": {
      "application/vnd.jupyter.widget-view+json": {
       "model_id": "63aeed043a094f08806f8fb55074f791",
       "version_major": 2,
       "version_minor": 0
      },
      "text/plain": [
       "HBox(children=(Button(description='FIGHTING [HARD]', layout=Layout(width='auto'), style=ButtonStyle()), Button…"
      ]
     },
     "metadata": {},
     "output_type": "display_data"
    },
    {
     "name": "stdout",
     "output_type": "stream",
     "text": [
      "I am making a skill check using FIGHTING against a difficulty of HARD.\n",
      "And I rolled a 85 for a result of FAILURE.\n",
      "TURN: 6 \n",
      "\n",
      "\n",
      "In the tense moments that follow, you swing the crowbar with all your might, aiming for the writhing mass of tentacles that now defines the creature's horrifying visage. However, the creature's movements are too swift, too erratic for your strike to land with any meaningful impact. Your attack passes through the air, missing the creature by mere inches as it continues its relentless advance.\n",
      "\n",
      "The failure of your attempt leaves you exposed, the realization of your impending doom settling in as the creature closes the distance between you with terrifying speed. In the final moments, as the creature looms over you, a surge of adrenaline and instinct propels you to make one last desperate move to evade its lethal grasp.\n",
      "\n",
      "You throw yourself to the side, narrowly avoiding the creature's strike, but the knowledge that nothing can truly stop it weighs heavily on your mind. The creature pauses, only for a moment, before it turns to pursue you once more, its intent to kill undiminished.\n",
      "\n",
      "With no options left and the creature bearing down on you, your survival instincts kick in. You realize that fighting is futile and that your only chance now is to find a way to escape this nightmare.\n",
      "\n",
      "possible actions:\n",
      "1. Look for an alternate exit in the storage facility\n",
      "2. Attempt to use the environment to slow down the creature\n",
      "3. Continue to run, hoping to outpace the creature"
     ]
    },
    {
     "data": {
      "application/vnd.jupyter.widget-view+json": {
       "model_id": "e383ff34a23e4bb5816554b7051a7582",
       "version_major": 2,
       "version_minor": 0
      },
      "text/plain": [
       "HBox(children=(Button(description='1', layout=Layout(width='auto'), style=ButtonStyle(), tooltip='Look for an …"
      ]
     },
     "metadata": {},
     "output_type": "display_data"
    },
    {
     "data": {
      "application/vnd.jupyter.widget-view+json": {
       "model_id": "48b65b81c3844334963d243d5a18d4d0",
       "version_major": 2,
       "version_minor": 0
      },
      "text/plain": [
       "HBox(children=(Text(value='', layout=Layout(width='100%')), Button(description='SUBMIT', layout=Layout(width='…"
      ]
     },
     "metadata": {},
     "output_type": "display_data"
    },
    {
     "name": "stdout",
     "output_type": "stream",
     "text": [
      "go all in and fight it again with all my might. TURN: 7 \n",
      "\n",
      "\n",
      "Despite the overwhelming odds and the clear indication that fighting this creature might be a futile effort, your resolve hardens. You refuse to give in to despair, choosing instead to face this nightmare head-on. With the crowbar still in hand, you turn to face the creature, your determination unwavering. This moment, this decision, feels like the culmination of every challenge you've faced, every demon you've fought, both within and without.\n",
      "\n",
      "You wait for the creature to make its move, timing your next attack with precision born of desperation. As it lunges towards you, you swing the crowbar with all the force you can muster, aiming for what you perceive to be its most vulnerable point - the writhing mass emerging from its facial cavity.\n",
      "\n",
      "This time, your weapon connects, the crowbar sinking into the grotesque flesh with a sickening squelch. However, the creature's reaction is not what you expect. Instead of recoiling or showing any signs of injury, the tentacles wrap around the crowbar, and with a force that surprises you, they wrench it from your grasp, leaving you defenseless.\n",
      "\n",
      "The realization that you cannot defeat this creature in combat settles in, a crushing weight on your spirits. It advances, and you know you have only moments before it reaches you. With no weapon and no hope of overcoming this horror through force, your thoughts race for any other possible solution to survive.\n",
      "\n",
      "But in this final turn, as the creature prepares to strike, you remember the locked exit door, the missed opportunities for escape, and the decisions that led you here. The creature's final assault is swift, leaving you with no time for further action or regret.\n",
      "\n",
      "As the creature overtakes you, the world fades to black, the last thought in your mind a lament for paths not taken and chances not seized. Your journey ends here, in the darkness of the storage facility, consumed by the very mystery you sought to unravel.\n",
      "\n",
      "summary:\n",
      "Kyle Jackson's search for a better life led him to a storage facility filled with dark secrets. Despite his efforts to uncover the mysteries within and his desperate fight for survival, he ultimately faced a creature beyond comprehension. His final stand, marked by courage and determination, was not enough to overcome the horror that awaited him. Kyle's story concludes in the shadow of the unknown, a reminder of the dangers that lurk in the pursuit of forbidden knowledge."
     ]
    },
    {
     "data": {
      "application/vnd.jupyter.widget-view+json": {
       "model_id": "9a6f1d8729234c0784d96e67e328eb1f",
       "version_major": 2,
       "version_minor": 0
      },
      "text/plain": [
       "HBox(children=(Button(description='NEXT ROUND', layout=Layout(width='auto'), style=ButtonStyle()), Button(desc…"
      ]
     },
     "metadata": {},
     "output_type": "display_data"
    }
   ],
   "source": [
    "import re\n",
    "import tomllib\n",
    "import functools\n",
    "from typing import Literal\n",
    "\n",
    "import ipywidgets as widgets\n",
    "from IPython.display import display\n",
    "\n",
    "from dotenv import load_dotenv\n",
    "\n",
    "load_dotenv()\n",
    "\n",
    "from rs import Message, Config, chat, skill_check\n",
    "import d20\n",
    "\n",
    "action_pattern = re.compile(r\"(\\d+). *(.+)\")\n",
    "skill_pattern = re.compile(r\"[\\w_]+\")\n",
    "skill_difficulty_pattern = re.compile(r\"(easy|normal|hard)\")\n",
    "\n",
    "def next_round(b):\n",
    "    global current_round, initial_messages\n",
    "    current_round += 1\n",
    "    initial_messages = config.initial_messages(current_round, config.metadata)\n",
    "\n",
    "    print(initial_messages[-1].content)\n",
    "    display(get_controls(initial_messages[-1]))\n",
    "\n",
    "def get_user_message_tail():\n",
    "    count = 0\n",
    "    for msg in initial_messages:\n",
    "        if msg.role == \"user\":\n",
    "            count += 1\n",
    "\n",
    "    is_final =  \", FINAL ROUND\" if  current_round == len(config.rounds) else \"\"\n",
    "    \n",
    "    # print(config.metadata[\"character\"])\n",
    "    \n",
    "    if \"tags\" in config.metadata[\"character\"] and \"insane\" in config.metadata[\"character\"][\"tags\"]:\n",
    "        return f\"TURN: {count + 1} {is_final} (I'm insane!)\"\n",
    "    \n",
    "    return f\"TURN: {count + 1} {is_final}\"\n",
    "    \n",
    "\n",
    "def do_chat(role:Literal[\"user\", \"system\", \"assistant\"], content: str):\n",
    "    print(f\"{content}\\n\\n\")\n",
    "\n",
    "    initial_messages.append(Message(role=role, content=content))\n",
    "    msg = chat(initial_messages, lambda delta: print(delta, end=\"\"))\n",
    "\n",
    "    initial_messages.append(msg)\n",
    "    display(get_controls(msg))\n",
    "\n",
    "\n",
    "def on_skill(b, skill:str, difficulty:str):\n",
    "    # print(config.metadata[\"character\"])\n",
    "    content = skill_check(skill, difficulty, config.metadata)\n",
    "    content += f\"\\n{get_user_message_tail()}\"\n",
    "    do_chat(\"user\", content)\n",
    "\n",
    "def on_action(b, index:int):\n",
    "    content = f\"I select option {index}. {get_user_message_tail()}\"\n",
    "    do_chat(\"user\", content)\n",
    "\n",
    "def on_custom_input(b, input:widgets.Text):\n",
    "    content = f\"{input.value}. {get_user_message_tail()}\"\n",
    "    do_chat(\"user\", content)\n",
    "\n",
    "def on_custom_action(b):\n",
    "    hbox = widgets.HBox(layout=widgets.Layout(width=\"100%\"))\n",
    "    action_text = widgets.Text(layout=widgets.Layout(width=\"100%\"))\n",
    "    submit = widgets.Button(description=\"SUBMIT\", layout=widgets.Layout(width=\"fit-content\"))\n",
    "    submit.on_click(functools.partial(on_custom_input, input=action_text))\n",
    "    hbox.children += (action_text, submit) \n",
    "    display(hbox)\n",
    "\n",
    "def get_controls(msg:Message) -> widgets.Box:\n",
    "    dict = msg.dict()\n",
    "    buttons = []\n",
    "    if \"possible actions\" in dict.keys():\n",
    "        matches = action_pattern.finditer(dict[\"possible actions\"])\n",
    "        for match in matches:\n",
    "            btn = widgets.Button(description=match.group(1), tooltip=match.group(2), layout=widgets.Layout(width=\"auto\"))\n",
    "            btn.on_click(functools.partial(on_action, index=int(match.group(1))))\n",
    "            buttons.append(btn)\n",
    "    elif \"skill\" in dict.keys() and \"difficulty\" in dict.keys():\n",
    "        match = skill_pattern.match(dict[\"skill\"])\n",
    "        skill = match.group(0)\n",
    "        match = skill_difficulty_pattern.match(dict[\"difficulty\"])\n",
    "        difficulty = match.group(0)\n",
    "        skill_button = widgets.Button(description=f\"{skill.upper()} [{difficulty.upper()}]\", layout=widgets.Layout(width=\"auto\"))\n",
    "        skill_button.on_click(functools.partial(on_skill, skill=skill, difficulty=difficulty))\n",
    "        buttons.append(skill_button)\n",
    "    elif \"summary\" in dict.keys():\n",
    "        # add summary as a memory to the metadata\n",
    "        # it will be used in the next round.\n",
    "        # config.metadata[\"memories\"] = []\n",
    "        config.metadata[\"memories\"].append(dict[\"summary\"])\n",
    "        next_btn = widgets.Button(description=\"NEXT ROUND\", layout=widgets.Layout(width=\"auto\"))\n",
    "        next_btn.on_click(next_round)\n",
    "        buttons.append(next_btn)\n",
    "    \n",
    "    custom_action_button = widgets.Button(description=\"CUSTOM\")\n",
    "    custom_action_button.on_click(on_custom_action)\n",
    "    buttons.append(custom_action_button)\n",
    "\n",
    "    return widgets.HBox(buttons)\n",
    "\n",
    "# open config file\n",
    "config_name = \"data/coc_lot_3636.toml\"\n",
    "config: Config | None = None\n",
    "with open(config_name, \"rb\") as f:\n",
    "    data = tomllib.load(f)\n",
    "    config = Config(**data)\n",
    "\n",
    "current_round = 4\n",
    "initial_messages = config.initial_messages(current_round, config.metadata)\n",
    "\n",
    "print(initial_messages[-1].content)\n",
    "display(get_controls(initial_messages[-1]))"
   ]
  }
 ],
 "metadata": {
  "kernelspec": {
   "display_name": ".venv",
   "language": "python",
   "name": "python3"
  },
  "language_info": {
   "codemirror_mode": {
    "name": "ipython",
    "version": 3
   },
   "file_extension": ".py",
   "mimetype": "text/x-python",
   "name": "python",
   "nbconvert_exporter": "python",
   "pygments_lexer": "ipython3",
   "version": "3.12.3"
  }
 },
 "nbformat": 4,
 "nbformat_minor": 2
}
