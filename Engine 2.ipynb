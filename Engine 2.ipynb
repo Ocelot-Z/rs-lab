{
 "cells": [
  {
   "cell_type": "code",
   "execution_count": 1,
   "metadata": {},
   "outputs": [
    {
     "name": "stdout",
     "output_type": "stream",
     "text": [
      "Requirement already satisfied: fastapi in c:\\python\\lib\\site-packages (0.110.2)\n",
      "Requirement already satisfied: pydantic in c:\\python\\lib\\site-packages (2.7.0)\n",
      "Requirement already satisfied: toml in c:\\python\\lib\\site-packages (0.10.2)\n",
      "Requirement already satisfied: starlette<0.38.0,>=0.37.2 in c:\\python\\lib\\site-packages (from fastapi) (0.37.2)\n",
      "Requirement already satisfied: typing-extensions>=4.8.0 in c:\\python\\lib\\site-packages (from fastapi) (4.11.0)\n",
      "Requirement already satisfied: annotated-types>=0.4.0 in c:\\python\\lib\\site-packages (from pydantic) (0.6.0)\n",
      "Requirement already satisfied: pydantic-core==2.18.1 in c:\\python\\lib\\site-packages (from pydantic) (2.18.1)\n",
      "Requirement already satisfied: anyio<5,>=3.4.0 in c:\\python\\lib\\site-packages (from starlette<0.38.0,>=0.37.2->fastapi) (4.3.0)\n",
      "Requirement already satisfied: idna>=2.8 in c:\\python\\lib\\site-packages (from anyio<5,>=3.4.0->starlette<0.38.0,>=0.37.2->fastapi) (3.7)\n",
      "Requirement already satisfied: sniffio>=1.1 in c:\\python\\lib\\site-packages (from anyio<5,>=3.4.0->starlette<0.38.0,>=0.37.2->fastapi) (1.3.1)\n",
      "Note: you may need to restart the kernel to use updated packages.\n"
     ]
    }
   ],
   "source": [
    "%pip install fastapi pydantic toml"
   ]
  },
  {
   "cell_type": "code",
   "execution_count": 2,
   "metadata": {},
   "outputs": [],
   "source": [
    "# from rs import skill_check\n",
    "\n",
    "# def test_skill_check(metadata):\n",
    "#     print(skill_check(\"sanity\", None, metadata))\n",
    "\n",
    "# metadata = {\n",
    "#     \"character\": {\"sanity\":30},\n",
    "#     \"symptom\":[\n",
    "#         \"incoherent speech\",\n",
    "#         \"uncontrollable twitching, trembling\",\n",
    "#         \"delusions of persecution\",\n",
    "#         \"strange appetites (dirt, clay, etc...)\",\n",
    "#         \"scratches, punches, and bruises all over the body\"\n",
    "#     ]\n",
    "# }\n",
    "\n",
    "# test_skill_check(metadata)\n",
    "# test_skill_check(metadata)\n",
    "# test_skill_check(metadata)\n",
    "# test_skill_check(metadata)\n",
    "# test_skill_check(metadata)\n",
    "# test_skill_check(metadata)\n",
    "# test_skill_check(metadata)\n",
    "# test_skill_check(metadata)\n",
    "# test_skill_check(metadata)\n",
    "# test_skill_check(metadata)\n",
    "# test_skill_check(metadata)\n",
    "# test_skill_check(metadata)\n",
    "\n",
    "# print(metadata[\"character\"])\n"
   ]
  },
  {
   "cell_type": "code",
   "execution_count": null,
   "metadata": {},
   "outputs": [
    {
     "name": "stdout",
     "output_type": "stream",
     "text": [
      "You arrived at an old self-storage facility by invitation from the manager, who has an storage room up for auction due to the death of its owner. It is not your first rodeo with these forms of auctions, like a box of chocolate, no one knows of the potential treasure that hides behind the cold roller shutter. As you and other interested buyers gathered around the auctioneer, a worker carrying a bolt cutter snapped off the rusty lock, unveiling a storage room cluttered with various old furniture and antiquities. Without any opportunity for the bidders to take a clear look, the auctioneer began the bid at $50. \n",
      "\n",
      "What is your bid?\n",
      "\n",
      "possible actions:\n",
      "1. $100.\n",
      "2. $150.\n",
      "3. $200.\n"
     ]
    },
    {
     "data": {
      "application/vnd.jupyter.widget-view+json": {
       "model_id": "8f8f13c043a94daa9d96e679588f3eef",
       "version_major": 2,
       "version_minor": 0
      },
      "text/plain": [
       "HBox(children=(Button(description='1', layout=Layout(width='auto'), style=ButtonStyle(), tooltip='$100.'), But…"
      ]
     },
     "metadata": {},
     "output_type": "display_data"
    },
    {
     "name": "stdout",
     "output_type": "stream",
     "text": [
      "I select option 2. TURN: 1 \n",
      "\n",
      "\n",
      "You confidently raise your hand and bid $150, catching the attention of a few curious onlookers. The auctioneer acknowledges your bid with a nod and immediately raises his voice, \"We have $150 from the gentleman over here! Do I hear $200?\"\n",
      "\n",
      "After a brief moment, a woman in the back, dressed in a long, dark coat, raises her hand, \"Two hundred!\"\n",
      "\n",
      "The auctioneer points towards her, \"We're now at $200! Can I get $250?\"\n",
      "\n",
      "What's your next move?\n",
      "\n",
      "possible actions:\n",
      "1. Bid $250.\n",
      "2. Bid $300.\n",
      "3. Hold your bid and wait."
     ]
    },
    {
     "data": {
      "application/vnd.jupyter.widget-view+json": {
       "model_id": "454c4d40ab28442fb5e09055537f41f4",
       "version_major": 2,
       "version_minor": 0
      },
      "text/plain": [
       "HBox(children=(Button(description='1', layout=Layout(width='auto'), style=ButtonStyle(), tooltip='Bid $250.'),…"
      ]
     },
     "metadata": {},
     "output_type": "display_data"
    },
    {
     "name": "stdout",
     "output_type": "stream",
     "text": [
      "I select option 1. TURN: 2 \n",
      "\n",
      "\n",
      "With determination, you raise your hand again, \"Two fifty!\" The auctioneer's eyes light up as he quickly acknowledges your bid, \"We have $250 from the gentleman in the front! Do I hear $300?\"\n",
      "\n",
      "The woman in the back hesitates for a moment but then raises her hand, \"Three hundred!\" It seems she is quite interested in the storage as well.\n",
      "\n",
      "The auctioneer looks back at you, \"We're at $300! Will you go to $350?\"\n",
      "\n",
      "What's your next move?\n",
      "\n",
      "possible actions:\n",
      "1. Bid $350.\n",
      "2. Bid $400.\n",
      "3. Hold your bid and wait."
     ]
    },
    {
     "data": {
      "application/vnd.jupyter.widget-view+json": {
       "model_id": "159572ea33be499985b4662549f36dab",
       "version_major": 2,
       "version_minor": 0
      },
      "text/plain": [
       "HBox(children=(Button(description='1', layout=Layout(width='auto'), style=ButtonStyle(), tooltip='Bid $350.'),…"
      ]
     },
     "metadata": {},
     "output_type": "display_data"
    },
    {
     "name": "stdout",
     "output_type": "stream",
     "text": [
      "I select option 1. TURN: 3 \n",
      "\n",
      "\n",
      "\"Three fifty!\" you call out, not willing to back down easily. The auctioneer nods in your direction, \"Three hundred and fifty dollars from the gentleman here! Do I hear $400?\"\n",
      "\n",
      "The woman in the back pauses, giving you a long, calculating look before finally shaking her head and stepping back, no longer participating in the bidding.\n",
      "\n",
      "The auctioneer waits for a few more seconds to see if there are any more bids. Seeing no further interest, he starts his final call, \"Going once, going twice... and sold to the gentleman for $350!\"\n",
      "\n",
      "Congratulations, you've won the bid for the storage room. As the crowd disperses, the auctioneer approaches you to finalize the paperwork and payment.\n",
      "\n",
      "With the keys in your hand, you stand before the storage room, its contents now yours to explore. The door creaks open, revealing shadows cast by the late afternoon sun, hinting at forgotten stories and hidden treasures within.\n",
      "\n",
      "summary: Kyle Jackson successfully bids $350 for a storage room at an auction, outbidding others, including a mysterious woman. The contents of the storage room now await his exploration."
     ]
    },
    {
     "data": {
      "application/vnd.jupyter.widget-view+json": {
       "model_id": "d9a5da5c885f46d99df4cb183eee4fc5",
       "version_major": 2,
       "version_minor": 0
      },
      "text/plain": [
       "HBox(children=(Button(description='NEXT ROUND', layout=Layout(width='auto'), style=ButtonStyle()), Button(desc…"
      ]
     },
     "metadata": {},
     "output_type": "display_data"
    },
    {
     "name": "stdout",
     "output_type": "stream",
     "text": [
      "\n",
      "Memories:\n",
      "\"\"\"\n",
      "- Kyle Jackson successfully bids $350 for a storage room at an auction, outbidding others, including a mysterious woman. The contents of the storage room now await his exploration.\n",
      "\"\"\"\n",
      "\n",
      "\n",
      "You follow the manager through the myriad hallways to his dimly lit office, where the furnishings and appliances remain unchanged since the 90’s. He often reminds you that the facility is in fact even older, and has been here since the 60’s. You made a quick phone call to Alex, a man you owe money to, and explained to him that you will pay him back in a few days once you have it, to which he responded with distasteful threats. The manager took out an old tin box and placed it on his desk and reached towards you with an open palm, gesturing for you to pay up, which you obliged. Upon handing you a key for your newly owned storage room, he urged you to watch some old security footage.\n",
      "\n",
      "Through his CRT screen, he explains to you that the previous owner visited the storage room every day for as long as he can remember. What’s even stranger is that he would hop 3 times towards the storage before entering, and would always bring a paper bag with him, and it would always be empty when he leaves. \n",
      "\n",
      "Regardless of the strange footage and information, you went to the parking lot to grab your duffle bag so that you may start clearing the storage and look for things valuable to sell. As you are walking back, you are confronted by a middle-aged woman, she requests that you give her access to her lot, which you purchased last time so that she may recover her old family silver locket.\n",
      "\n",
      "What is your next step?\n",
      "\n",
      "possible actions:\n",
      "1. Reject her\n",
      "2. Accept her request but lose out on potential earnings\n",
      "3. Ignore her completely\n"
     ]
    },
    {
     "data": {
      "application/vnd.jupyter.widget-view+json": {
       "model_id": "2d05ba0e2caf47e8b96d5afc2ff0e6f2",
       "version_major": 2,
       "version_minor": 0
      },
      "text/plain": [
       "HBox(children=(Button(description='1', layout=Layout(width='auto'), style=ButtonStyle(), tooltip='Reject her')…"
      ]
     },
     "metadata": {},
     "output_type": "display_data"
    },
    {
     "name": "stdout",
     "output_type": "stream",
     "text": [
      "I select option 1. TURN: 1 \n",
      "\n",
      "\n",
      "1. Reject her\n",
      "\n",
      "You look into the woman's eyes, seeing the desperation mixed with a hint of hope. However, the need to turn a profit and possibly uncover something valuable in the storage outweighs your sympathy. \"I'm sorry, but I can't do that. I bought this fair and square at the auction,\" you tell her firmly, yet trying to maintain a respectful tone. The woman's face falls, her eyes welling up with tears before she turns away, disappearing into the crowd without another word.\n",
      "\n",
      "With the unpleasant encounter behind you, you make your way to the storage room, key in hand. The hallway leading to your unit is dimly lit, bulbs flickering occasionally, casting long shadows that seem to dance on the walls. You find the unit, insert the key, and with a turn, the lock clicks open. \n",
      "\n",
      "You slide up the metal door, and it creaks loudly, echoing down the hallway. Inside, the storage room is packed with various items covered in dust and cobwebs, shrouded in mystery and waiting to be uncovered. The air is musty, filled with the scent of old books and rust. Your curiosity piqued, you step inside, ready to explore the contents of your newly acquired storage.\n",
      "\n",
      "What do you want to do next?\n",
      "\n",
      "possible actions:\n",
      "1. Start by examining the nearest boxes.\n",
      "2. Look for any unusual or out-of-place items first.\n",
      "3. Check if there's anything behind or underneath the larger furniture."
     ]
    },
    {
     "data": {
      "application/vnd.jupyter.widget-view+json": {
       "model_id": "8e84b40dccb54927a15ba4371bee3f70",
       "version_major": 2,
       "version_minor": 0
      },
      "text/plain": [
       "HBox(children=(Button(description='1', layout=Layout(width='auto'), style=ButtonStyle(), tooltip='Start by exa…"
      ]
     },
     "metadata": {},
     "output_type": "display_data"
    },
    {
     "name": "stdout",
     "output_type": "stream",
     "text": [
      "I select option 2. TURN: 2 \n",
      "\n",
      "\n",
      "2. Look for any unusual or out-of-place items first\n",
      "\n",
      "Your gaze sweeps across the room, bypassing the ordinary-looking boxes and furniture, searching for anything that stands out. Amidst the mundane, your attention is caught by a peculiar object sitting on a small, dust-covered table in the corner. It's a statuette, about a foot tall, depicting a grotesque figure that seems neither human nor animal, with too many limbs and eyes that seem to follow you as you move. Its craftsmanship is exquisite yet deeply unsettling.\n",
      "\n",
      "You approach the statuette cautiously, feeling an inexplicable chill running down your spine. The air around it feels colder, and you can't shake off the feeling of being watched. The figure is made of a material you can't quite identify; it's neither stone nor metal but possesses an odd warmth to it.\n",
      "\n",
      "As you reach out to touch it, a sense of dread overwhelms you. You need to make a skill check to determine how you handle this eerie situation.\n",
      "\n",
      "skill: sanity\n",
      "difficulty: hard\n",
      "\n",
      "Do you want to proceed and touch the statuette, or would you rather explore something else in the storage?"
     ]
    },
    {
     "data": {
      "application/vnd.jupyter.widget-view+json": {
       "model_id": "108db61397084cb28b8dae972140aa61",
       "version_major": 2,
       "version_minor": 0
      },
      "text/plain": [
       "HBox(children=(Button(description='SANITY [HARD]', layout=Layout(width='auto'), style=ButtonStyle()), Button(d…"
      ]
     },
     "metadata": {},
     "output_type": "display_data"
    },
    {
     "name": "stdout",
     "output_type": "stream",
     "text": [
      "I am making a SANITY check against my own sanity points: 10.\n",
      "And... FAILED! I lost 2 sanity points.\n",
      "TURN: 3 \n",
      "\n",
      "\n",
      "As your fingers brush against the surface of the statuette, a wave of nausea and dizziness washes over you. Your vision blurs, and for a moment, you see flashes of unimaginable horrors, landscapes of twisted geometry, and shadows lurking just beyond the edge of reality. You stagger back, pulling your hand away as if scorched, gasping for air.\n",
      "\n",
      "Your heart races, and you can't shake off the images that assaulted your mind. It takes a few moments for you to regain your composure, but the unease lingers, a persistent reminder of the fragility of your sanity. You've lost 2 sanity points, leaving you with 8. The encounter with the statuette has taken a toll on you, but it also piques your curiosity about the previous owner of this storage and the nature of the items contained within.\n",
      "\n",
      "Shaken but determined, you decide it's best to put some distance between you and the statuette for now. You look around, trying to focus on something else, anything that might divert your attention from the lingering dread.\n",
      "\n",
      "What do you want to do next?\n",
      "\n",
      "possible actions:\n",
      "1. Examine the nearest boxes to distract yourself.\n",
      "2. Look for any documents or photographs that might explain the statuette's origin.\n",
      "3. Leave the statuette and investigate the other side of the storage room."
     ]
    },
    {
     "data": {
      "application/vnd.jupyter.widget-view+json": {
       "model_id": "d3f247281aef42c0a6135a39b5bb2fa5",
       "version_major": 2,
       "version_minor": 0
      },
      "text/plain": [
       "HBox(children=(Button(description='1', layout=Layout(width='auto'), style=ButtonStyle(), tooltip='Examine the …"
      ]
     },
     "metadata": {},
     "output_type": "display_data"
    },
    {
     "name": "stdout",
     "output_type": "stream",
     "text": [
      "I select option 3. TURN: 4 \n",
      "\n",
      "\n",
      "3. Leave the statuette and investigate the other side of the storage room\n",
      "\n",
      "You turn your back on the statuette, the image of its grotesque form imprinted in your mind, and make your way to the opposite side of the storage room. Here, the clutter seems less ominous, filled with furniture draped in white sheets, boxes stacked neatly, and an old, dust-covered trunk that catches your eye.\n",
      "\n",
      "The trunk is large, made of dark wood with metal reinforcements at the corners and an intricate lock that seems to be missing its key. The wood is carved with symbols that you don't recognize, swirling patterns that seem to move if you stare at them too long. Despite the unease that grips you, curiosity wins over, and you decide to try and open the trunk.\n",
      "\n",
      "You examine the lock closely, realizing that it might be possible to pick it with the right tools. You recall the skills you've acquired over the years and prepare to put them to use.\n",
      "\n",
      "skill: locksmith\n",
      "difficulty: normal\n",
      "\n",
      "Do you want to attempt to pick the lock and see what secrets the trunk holds, or would you rather continue exploring the storage without opening it?"
     ]
    },
    {
     "data": {
      "application/vnd.jupyter.widget-view+json": {
       "model_id": "05efc2f7754545e1a53d6e5939649d33",
       "version_major": 2,
       "version_minor": 0
      },
      "text/plain": [
       "HBox(children=(Button(description='LOCKSMITH [NORMAL]', layout=Layout(width='auto'), style=ButtonStyle()), But…"
      ]
     },
     "metadata": {},
     "output_type": "display_data"
    },
    {
     "name": "stdout",
     "output_type": "stream",
     "text": [
      "I am making a skill check using LOCKSMITH against a difficulty of NORMAL.\n",
      "And I rolled a 67 for a result of FAILURE.\n",
      "TURN: 5 \n",
      "\n",
      "\n",
      "You pull out a small set of lockpicking tools from your duffle bag, a skill you've honed out of necessity from your days of drifting and scavenging. With a steady hand, you insert the pick and tension wrench into the lock, feeling for the mechanism within. Despite your best efforts and the sweat beading on your forehead, the lock proves to be more complex than anticipated. After several tense minutes, you're forced to admit defeat; the lock remains securely fastened, denying you access to whatever secrets the trunk holds.\n",
      "\n",
      "Frustrated but not deterred, you take a step back, reassessing your situation. The failure to open the trunk is disappointing, but the storage room still holds many other items that might be of value or interest. As you ponder your next move, a faint, strange noise catches your attention. It's coming from somewhere within the storage room, a soft, almost inaudible whisper that seems to be calling out to you.\n",
      "\n",
      "The sound is unsettling, and it's unclear what its source might be. It could be a trick of the mind, a result of the stress and the eerie atmosphere of the place, or perhaps something more sinister lurking among the stored items.\n",
      "\n",
      "With the noise growing ever so slightly louder, you realize that your exploration of the storage room has taken an unexpected turn. The round comes to an end as you stand in the dimly lit space, surrounded by the unknown, the sound whispering secrets just beyond comprehension. \n",
      "\n",
      "summary:\n",
      "- You rejected the woman's request to access the storage, prioritizing potential profit.\n",
      "- Upon entering the storage, you were drawn to an unsettling statuette, resulting in a failed sanity check and the loss of 2 sanity points.\n",
      "- Your attempt to distract yourself led you to an intriguing locked trunk, but your efforts to pick the lock were unsuccessful.\n",
      "- The round concludes with you hearing a strange, whispering noise within the storage room, its source and significance yet to be discovered."
     ]
    },
    {
     "data": {
      "application/vnd.jupyter.widget-view+json": {
       "model_id": "8d63ea0dd575443da3d69fadfa70a51a",
       "version_major": 2,
       "version_minor": 0
      },
      "text/plain": [
       "HBox(children=(Button(description='NEXT ROUND', layout=Layout(width='auto'), style=ButtonStyle()), Button(desc…"
      ]
     },
     "metadata": {},
     "output_type": "display_data"
    },
    {
     "name": "stdout",
     "output_type": "stream",
     "text": [
      "\n",
      "Memories:\n",
      "\"\"\"\n",
      "- \n",
      "- You rejected the woman's request to access the storage, prioritizing potential profit.\n",
      "- Upon entering the storage, you were drawn to an unsettling statuette, resulting in a failed sanity check and the loss of 2 sanity points.\n",
      "- Your attempt to distract yourself led you to an intriguing locked trunk, but your efforts to pick the lock were unsuccessful.\n",
      "- The round concludes with you hearing a strange, whispering noise within the storage room, its source and significance yet to be discovered.\n",
      "\"\"\"\n",
      "\n",
      "\n",
      "As you continue to rummage through the newly acquired storage room, you come across a peculiar round wooden block with intricate yet strange carvings around the thick edges. One particular feature that stands out among all others is the fine pentagram inlay in the center, coupled with clean carvings of unfamiliar symbols. Even an untrained eye can recognize the quality of craftsmanship and time committed to produce such an object, yet, you have doubts as to how much this table-like wooden block can fetch. \n",
      "\n",
      "You discovered a few more expensive looking objects and placed it inside your duffle bag, then proceeded to carefully load the peculiar wooden block onto your truck. Just as you closed the tailgates, you suddenly found yourself knocked on the hard gravel floor. Your lips, bleeding profusely from a cut, and as you look up, you realize it was Alex.\n",
      "\n",
      "How do you respond?\n",
      "\n",
      "possible actions:\n",
      "1. Get up and tackle him\n",
      "2. Tell him that you will get him his money soon\n",
      "3. Begin verbally assaulting him\n"
     ]
    },
    {
     "data": {
      "application/vnd.jupyter.widget-view+json": {
       "model_id": "73b50e56649b43e5b3c5bb28cde6e003",
       "version_major": 2,
       "version_minor": 0
      },
      "text/plain": [
       "HBox(children=(Button(description='1', layout=Layout(width='auto'), style=ButtonStyle(), tooltip='Get up and t…"
      ]
     },
     "metadata": {},
     "output_type": "display_data"
    },
    {
     "name": "stdout",
     "output_type": "stream",
     "text": [
      "I select option 1. TURN: 1 \n",
      "\n",
      "\n",
      "As you decide to tackle Alex, fueled by a mix of adrenaline and anger, you need to make a skill check to see if you can successfully catch him off guard.\n",
      "\n",
      "skill: fighting\n",
      "difficulty: hard"
     ]
    },
    {
     "data": {
      "application/vnd.jupyter.widget-view+json": {
       "model_id": "f081f8b397ab497cb032d765b70b1894",
       "version_major": 2,
       "version_minor": 0
      },
      "text/plain": [
       "HBox(children=(Button(description='FIGHTING [HARD]', layout=Layout(width='auto'), style=ButtonStyle()), Button…"
      ]
     },
     "metadata": {},
     "output_type": "display_data"
    },
    {
     "name": "stdout",
     "output_type": "stream",
     "text": [
      "I am making a skill check using FIGHTING against a difficulty of HARD.\n",
      "And I rolled a 47 for a result of FAILURE.\n",
      "TURN: 2 \n",
      "\n",
      "\n",
      "Your attempt to tackle Alex fails as he easily sidesteps, leveraging your momentum to throw you back onto the ground with a thud. The impact sends a sharp pain through your body, reminding you of the harsh reality of your physical condition and the undeniable strength Alex possesses. He looms over you, a mix of anger and pity in his eyes.\n",
      "\n",
      "\"You really thought you could take me down, Kyle?\" Alex sneers, shaking his head. \"I don't want to do this, but you leave me no choice.\" His fists are clenched, ready to strike.\n",
      "\n",
      "How do you respond?\n",
      "\n",
      "possible actions:\n",
      "1. Try to reason with him, promising payment soon.\n",
      "2. Attempt to dodge his incoming attack and escape.\n",
      "3. Play dead, hoping he'll leave you alone."
     ]
    },
    {
     "data": {
      "application/vnd.jupyter.widget-view+json": {
       "model_id": "734eb99a7182491fb1a212adeb4066c4",
       "version_major": 2,
       "version_minor": 0
      },
      "text/plain": [
       "HBox(children=(Button(description='1', layout=Layout(width='auto'), style=ButtonStyle(), tooltip='Try to reaso…"
      ]
     },
     "metadata": {},
     "output_type": "display_data"
    },
    {
     "name": "stdout",
     "output_type": "stream",
     "text": [
      "I select option 1. TURN: 3 \n",
      "\n",
      "\n",
      "With a heavy breath, you try to reason with Alex, your voice strained but earnest. \"Alex, listen, I know I owe you, and I swear I'll get your money soon. Just give me a bit more time, please.\"\n",
      "\n",
      "Alex pauses, his fists still raised but his expression softens slightly. \"Time's something you're running out of, Kyle. I've been patient enough.\" Despite your plea, it's clear he's not fully convinced but is willing to listen.\n",
      "\n",
      "\"You have until tomorrow, Kyle. Tomorrow. And I want it in cash, no more excuses.\" His tone is firm, leaving no room for negotiation. \"Consider this your final warning.\" With that, he steps back, giving you a moment to collect yourself, but not without a parting glare that promises consequences if you fail to deliver.\n",
      "\n",
      "As Alex walks away, you're left on the ground, nursing your injuries and contemplating your next move. The encounter has left you shaken, but alive. It's clear now what needs to be done: you must find a way to pay Alex back, and time is of the essence.\n",
      "\n",
      "summary:\n",
      "After an unsuccessful attempt to physically confront Alex, you opted to reason with him, promising to pay back the money you owe by tomorrow. Alex agreed to give you one final day to come up with the cash, warning you of the consequences should you fail to deliver. The round concludes with Alex leaving you to ponder your next steps, emphasizing the urgency of your predicament."
     ]
    },
    {
     "data": {
      "application/vnd.jupyter.widget-view+json": {
       "model_id": "17f8dd071dd04d37a8f8f64ff124b854",
       "version_major": 2,
       "version_minor": 0
      },
      "text/plain": [
       "HBox(children=(Button(description='NEXT ROUND', layout=Layout(width='auto'), style=ButtonStyle()), Button(desc…"
      ]
     },
     "metadata": {},
     "output_type": "display_data"
    },
    {
     "name": "stdout",
     "output_type": "stream",
     "text": [
      "\n",
      "Memories:\n",
      "\"\"\"\n",
      "- \n",
      "After an unsuccessful attempt to physically confront Alex, you opted to reason with him, promising to pay back the money you owe by tomorrow. Alex agreed to give you one final day to come up with the cash, warning you of the consequences should you fail to deliver. The round concludes with Alex leaving you to ponder your next steps, emphasizing the urgency of your predicament.\n",
      "\"\"\"\n",
      "\n",
      "\n",
      "The manager hands you some gauze and a bottle of rubbing alcohol as the blood drips down the sink while you clean yourself up in the restroom. You focus on the stinging pain of the alcohol on your cut lips, reminding you how unfair life could be, and that life would relentlessly beat men like you down until your spirit breaks. Yet, the pain simultaneously fuels your will to survive, to live on, a chance that the people you fought in the Afghan war never had. In a way, you live on for their sake, trying to be grateful despite the hardship that has plagued you ever since your honorable discharge. \n",
      "\n",
      "You stared long and hard at yourself in the mirror before closing the wound with a closure strip and covered it with another layer of gauze. The manager, sympathetic to your predicament, recommended you to a dealer that specializes in collecting esoteric and abstruse items. You felt insulted by his act of pity, but reluctantly agreed as you weighed your current situation to your pride. \n",
      "\n",
      "You make your way to the address given by the self-storage facility manager, and soon find yourself in a Victorian style house. Although the sun had set, the glow of the incandescent porch light revealed the house’s burgundy coloured exterior with black accent. As you roll up to the front porch, Ms. Blackwell, the aforementioned dealer greets you with a restrained annoyance. But you couldn’t be bothered by her attitude, such is the norm of most dealers you have met with, rarely do they find an item of great value after all. \n",
      "\n",
      "She invites you to bring your peculiar objects to your personal library, its walls filled with books you have never seen or heard before. You placed the round wooden block on the table, along with the objects in your duffle bag, and...\n",
      "\n",
      "How do you respond?\n",
      "\n",
      "possible actions:\n",
      "1. Stay silent and wait for her appraisal\n",
      "2. Make a comment about her property\n",
      "3. Ask if she has seen something similar before\n"
     ]
    },
    {
     "data": {
      "application/vnd.jupyter.widget-view+json": {
       "model_id": "abc76906bae94c3a86bb0fb15b8522aa",
       "version_major": 2,
       "version_minor": 0
      },
      "text/plain": [
       "HBox(children=(Button(description='1', layout=Layout(width='auto'), style=ButtonStyle(), tooltip='Stay silent …"
      ]
     },
     "metadata": {},
     "output_type": "display_data"
    },
    {
     "name": "stdout",
     "output_type": "stream",
     "text": [
      "I select option 2. TURN: 1 \n",
      "\n",
      "\n",
      "As Ms. Blackwell examines the items you've laid out, you take a moment to make a comment about her property. \"You have a beautiful home,\" you say, trying to break the ice and perhaps warm her up to the idea of giving you a better deal. \"It's not often I see houses with such character.\"\n",
      "\n",
      "Ms. Blackwell, momentarily taken aback by the compliment, softens slightly. \"Thank you,\" she responds, her voice losing a bit of its initial edge. \"It's been in my family for generations. Takes a lot of work to maintain, but it's worth it.\" She then turns her attention back to the round wooden block, her curiosity piqued. \n",
      "\n",
      "After a brief pause, she reveals, \"This is not just any wooden block. It's a séance table, used in spiritualism to communicate with the dead.\" Her eyes meet yours, gauging your reaction to this unexpected piece of information.\n",
      "\n",
      "Ms. Blackwell proceeds to unveil a hidden compartment built within the séance table. As she opens it, three very strange leather-bound books are revealed. Their covers are adorned with symbols you don't recognize, and they emanate an unsettling aura.\n",
      "\n",
      "\"I'll need to call in an expert for these,\" she decides, reaching for her phone. \"Professor Dagger will be interested in seeing this.\"\n",
      "\n",
      "As you wait for the arrival of Professor Dagger, you can't help but feel a mix of anticipation and unease about what these books might contain and the implications of their discovery.\n",
      "\n",
      "How do you react to this revelation?\n",
      "\n",
      "possible actions:\n",
      "1. Express interest in the books and ask if you can look at them\n",
      "2. Show concern about dealing with potentially dangerous occult items\n",
      "3. Wait quietly for Professor Dagger, observing Ms. Blackwell's actions"
     ]
    },
    {
     "data": {
      "application/vnd.jupyter.widget-view+json": {
       "model_id": "b788e77cdadc4ff685480385aabf7aac",
       "version_major": 2,
       "version_minor": 0
      },
      "text/plain": [
       "HBox(children=(Button(description='1', layout=Layout(width='auto'), style=ButtonStyle(), tooltip='Express inte…"
      ]
     },
     "metadata": {},
     "output_type": "display_data"
    },
    {
     "name": "stdout",
     "output_type": "stream",
     "text": [
      "I select option 3. TURN: 2 \n",
      "\n",
      "\n",
      "You decide to wait quietly for Professor Dagger, observing Ms. Blackwell's actions closely. She handles the books with a mixture of reverence and caution, as if aware of their potentially dangerous nature. Her demeanor suggests she's no stranger to items of occult significance, moving with a practiced ease that speaks of experience.\n",
      "\n",
      "As the minutes tick by, the atmosphere in the room thickens with anticipation. The air feels charged, almost electric, as if the unveiling of the hidden compartment and its contents has altered something fundamental in the environment. You can't shake off a feeling of being watched, though a quick glance around the room reveals nothing out of the ordinary.\n",
      "\n",
      "Finally, the sound of the doorbell breaks the silence. Ms. Blackwell goes to answer it, and soon returns with a man who must be Professor Dagger. He's a distinguished-looking individual, with a keen, sharp gaze that immediately assesses the room and its occupants. His attention quickly focuses on the séance table and the books.\n",
      "\n",
      "\"Ah, I see you've found something quite intriguing,\" he remarks, his voice carrying an undercurrent of excitement. He approaches the table, his eyes never leaving the books.\n",
      "\n",
      "Ms. Blackwell introduces you to Professor Dagger, explaining the circumstances of your discovery. The professor listens intently, nodding along before turning his full attention to the books. He carefully examines them, muttering to himself in a language you don't understand.\n",
      "\n",
      "The round concludes with Professor Dagger expressing a keen interest in purchasing the books, recognizing their value and rarity. He and Ms. Blackwell begin discussing the terms of the sale, seemingly forgetting your presence for the moment.\n",
      "\n",
      "summary:\n",
      "Your discovery of the séance table and the hidden compartment containing three strange leather-bound books has attracted the interest of Professor Dagger, an expert in occult items. The books, which emanate an unsettling aura, are now the subject of negotiation between Ms. Blackwell and Professor Dagger, potentially solving your immediate financial problems if the sale goes through."
     ]
    },
    {
     "data": {
      "application/vnd.jupyter.widget-view+json": {
       "model_id": "6786b8448e1d4564b00e08f2de23c24d",
       "version_major": 2,
       "version_minor": 0
      },
      "text/plain": [
       "HBox(children=(Button(description='NEXT ROUND', layout=Layout(width='auto'), style=ButtonStyle()), Button(desc…"
      ]
     },
     "metadata": {},
     "output_type": "display_data"
    },
    {
     "name": "stdout",
     "output_type": "stream",
     "text": [
      "\n",
      "Memories:\n",
      "\"\"\"\n",
      "- \n",
      "Your discovery of the séance table and the hidden compartment containing three strange leather-bound books has attracted the interest of Professor Dagger, an expert in occult items. The books, which emanate an unsettling aura, are now the subject of negotiation between Ms. Blackwell and Professor Dagger, potentially solving your immediate financial problems if the sale goes through.\n",
      "\"\"\"\n",
      "\n",
      "\n",
      "Professor Dagger examines the seance table with utmost concentration and scrutiny, being as careful as possible to not inflict any damage to the table. He then shifted his attention to the three leather bound books, inspecting its condition while flipping through its contents to verify its authenticity. \n",
      "\n",
      "After much inspection, he turned his attention towards you, and inquired about a fourth book, expressing that altogether, it could fetch a price well above $2,000,000. Your eyes lit up, recognizing this to be your chance to turn your life around, pay off your debts and perhaps start something by yourself. The mystery of the fourth book piqued your interest despite the disinterest in the occult, and such curiosity beckoned you to ask about the importance of the fourth book. A heavy silence ensued, the Professor’s shadowy face under the chandelier’s soft  glow gazed into your eyes with great earnestness. In a somber tone, he explained that the fourth book is the rarest of them all, for it allows its user to bind a demon to the material world, to earth. And the moment the transaction is complete, the book would self combust to a pile of ash unless the demon has been betrayed and unable to collect its debt, thus explaining the price of the book. \n",
      "\n",
      "You hastily explain your recently acquired storage, and how you still haven’t had the opportunity to thoroughly examine every item, suggesting its possible location. Professor Dagger offered to search the storage room alongside you, and if the fourth book is found, he will write you a $2,000,000 cheque immediately. \n",
      "\n",
      "You quickly load everything back onto your truck, and with Professor Dagger in the passenger seat, the two of you make way towards the self-storage facility. On your way there, the Professor informed you that he has a confession to make.\n",
      "\n",
      "How do you respond?\n",
      "\n",
      "possible actions:\n",
      "1. Listen to his confession\n",
      "2. Ask him to keep what he has to say to himself\n",
      "3. Threaten him that if he lied about the money, you would hurt him real bad\n"
     ]
    },
    {
     "data": {
      "application/vnd.jupyter.widget-view+json": {
       "model_id": "88a844116e5c4cf196420c4cac815a74",
       "version_major": 2,
       "version_minor": 0
      },
      "text/plain": [
       "HBox(children=(Button(description='1', layout=Layout(width='auto'), style=ButtonStyle(), tooltip='Listen to hi…"
      ]
     },
     "metadata": {},
     "output_type": "display_data"
    },
    {
     "name": "stdout",
     "output_type": "stream",
     "text": [
      "I select option 2. TURN: 1 \n",
      "\n",
      "\n",
      "You glance at Professor Dagger, feeling a mix of anticipation and unease about what he might reveal, but decide that some things are better left unsaid. With a firm tone, you tell him, \"Keep whatever you have to say to yourself. Right now, let's just focus on finding that book.\" \n",
      "\n",
      "There's a moment of silence as the car speeds through the streets of Arkham, the only sound being the hum of the engine and the occasional honk from other vehicles. Professor Dagger nods, respecting your wish, and turns his gaze towards the window, lost in his own thoughts. \n",
      "\n",
      "The tension in the car is palpable, but your mind is elsewhere, focused on the potential fortune that lies within your grasp and the mysteries that might be uncovered in the storage room. The thought of finally being able to pay off your debts and start anew fills you with a sense of urgency and determination.\n",
      "\n",
      "As you approach the self-storage facility, the sun begins to set, casting long shadows across the parking lot. You park the car and step out, feeling the cool evening air against your skin. The storage facility looms before you, a silent guardian of countless secrets and forgotten memories.\n",
      "\n",
      "You're about to ask Professor Dagger to follow you to the storage unit when he finally speaks up, his voice low and serious, \"Before we go any further, you need to know something about the previous owner of your storage unit and the dark history that surrounds these books.\"\n",
      "\n",
      "Do you:\n",
      "1. Insist on not hearing about it and proceed to the storage unit\n",
      "2. Allow him to share what he knows"
     ]
    },
    {
     "data": {
      "application/vnd.jupyter.widget-view+json": {
       "model_id": "93fa9a6017c543248dc1430642397ceb",
       "version_major": 2,
       "version_minor": 0
      },
      "text/plain": [
       "HBox(children=(Button(description='CUSTOM', style=ButtonStyle()),))"
      ]
     },
     "metadata": {},
     "output_type": "display_data"
    },
    {
     "data": {
      "application/vnd.jupyter.widget-view+json": {
       "model_id": "8132e525923043b69e035231cb3405c9",
       "version_major": 2,
       "version_minor": 0
      },
      "text/plain": [
       "HBox(children=(Text(value='', layout=Layout(width='100%')), Button(description='SUBMIT', layout=Layout(width='…"
      ]
     },
     "metadata": {},
     "output_type": "display_data"
    },
    {
     "name": "stdout",
     "output_type": "stream",
     "text": [
      "2. TURN: 2 \n",
      "\n",
      "\n",
      "You pause, curiosity getting the better of you despite your earlier reluctance. Nodding, you signal Professor Dagger to continue, \"Alright, tell me what you know.\"\n",
      "\n",
      "Professor Dagger takes a deep breath before beginning, his voice carrying a weight of solemnity. \"The previous owner of your storage, along with her family, were deeply involved in the occult. They were not mere dabblers but fervent practitioners who sought to transcend the boundaries of our world. The fourth book, the one we seek, was used in a most abhorrent ritual. It's said that to seal a pact, the owner's sister was offered as a vessel to summon a demon into our realm. The aftermath of that ritual is shrouded in whispers and rumors, but it's believed the demon was never fully banished.\"\n",
      "\n",
      "He pauses, allowing the gravity of his words to sink in. \"The books you've found are not mere objects; they are relics of a dark and twisted legacy. You must tread carefully, for the path you're about to walk is fraught with peril beyond mere financial ruin.\"\n",
      "\n",
      "The revelation sends a shiver down your spine, the implications of what lies within the storage unit becoming all the more real and terrifying. Yet, the potential reward, the chance to escape the mire of your current existence, compels you to press on.\n",
      "\n",
      "With a renewed sense of caution and determination, you lead the way to the storage unit, the heavy padlock a mere obstacle now. The air grows colder as you approach, an ominous sign of what may lie within.\n",
      "\n",
      "You need to make a skill check to open the lock on the storage unit.\n",
      "\n",
      "skill: locksmith\n",
      "difficulty: hard"
     ]
    },
    {
     "data": {
      "application/vnd.jupyter.widget-view+json": {
       "model_id": "f0e33f98b7c544aa9e16fa63028d1cb5",
       "version_major": 2,
       "version_minor": 0
      },
      "text/plain": [
       "HBox(children=(Button(description='LOCKSMITH [HARD]', layout=Layout(width='auto'), style=ButtonStyle()), Butto…"
      ]
     },
     "metadata": {},
     "output_type": "display_data"
    },
    {
     "name": "stdout",
     "output_type": "stream",
     "text": [
      "I am making a skill check using LOCKSMITH against a difficulty of HARD.\n",
      "And I rolled a 28 for a result of FAILURE.\n",
      "TURN: 3 \n",
      "\n",
      "\n",
      "As you fumble with the lock, trying to apply all your knowledge and skill in locksmithing, the mechanism proves to be more complex and stubborn than anticipated. After several tense minutes, it becomes clear that the lock won't budge under your efforts. The failure to open the lock adds to the mounting pressure and frustration, the weight of Professor Dagger's story heavy on your mind.\n",
      "\n",
      "Professor Dagger, observing your struggle, steps forward. \"Let me try,\" he suggests, pulling out a small, intricate set of lock picks from his pocket, the tools of someone who's more than just an academic.\n",
      "\n",
      "You step aside, allowing him to work on the lock. His hands move with precision and confidence, a stark contrast to the earlier failed attempt.\n",
      "\n",
      "As Professor Dagger works on the lock, you can't help but feel the eerie silence of the storage facility enveloping you, the fading light casting long shadows that seem to dance just at the edge of your vision. The air feels charged, as if anticipating what might be revealed once the door swings open.\n",
      "\n",
      "Finally, with a soft click, the lock gives way. Professor Dagger turns to you, a grim determination in his eyes. \"Be prepared for anything,\" he warns, as he slowly opens the door to the storage unit.\n",
      "\n",
      "The door creaks open, revealing the dimly lit interior, packed with boxes, old furniture, and an air of long-forgotten history. The moment you step inside, a palpable sense of unease washes over you, as if the shadows themselves are watching.\n",
      "\n",
      "As you and Professor Dagger begin to sift through the contents, searching for the elusive fourth book, you can't shake the feeling that something is amiss, that the stories and warnings about the previous owner's occult activities might be more than just legends.\n",
      "\n",
      "summary:\n",
      "During this round, you attempted to open the lock on the storage unit with your locksmith skills but failed. Professor Dagger then succeeded in opening the lock with his set of lock picks. The round ends with you and Professor Dagger standing at the threshold of the storage unit, ready to delve into its secrets and possibly uncover the fourth book, all while an ominous atmosphere looms over the both of you, hinting at the dark history of the items within."
     ]
    },
    {
     "data": {
      "application/vnd.jupyter.widget-view+json": {
       "model_id": "05dc331ec6df4a85b1036c38f8436dbb",
       "version_major": 2,
       "version_minor": 0
      },
      "text/plain": [
       "HBox(children=(Button(description='NEXT ROUND', layout=Layout(width='auto'), style=ButtonStyle()), Button(desc…"
      ]
     },
     "metadata": {},
     "output_type": "display_data"
    },
    {
     "name": "stdout",
     "output_type": "stream",
     "text": [
      "\n",
      "Memories:\n",
      "\"\"\"\n",
      "- \n",
      "During this round, you attempted to open the lock on the storage unit with your locksmith skills but failed. Professor Dagger then succeeded in opening the lock with his set of lock picks. The round ends with you and Professor Dagger standing at the threshold of the storage unit, ready to delve into its secrets and possibly uncover the fourth book, all while an ominous atmosphere looms over the both of you, hinting at the dark history of the items within.\n",
      "\"\"\"\n",
      "\n",
      "\n",
      "You invited Professor Dagger into the storage room, the space still cluttered despite your earlier attempt to clear some of the items out. The two of you began scouring through old furniture, leaving nothing unturned, yet, after two long hours, your hands held nothing but dust. You sensed the Professor’s eyes laced with disappointment, perhaps he has already given up the search, for to encounter a rare artifact like the one he described must require great deal of luck. But your desire for a better life fuels your persistence to hunt the fourth book down. You revisit the drawers you may have overlooked, potential compartments that are hidden behind intricate mechanisms like the seance table. And as you attempt to wrestle a large wooden shelf to another wall, your slip of the hand causes it to collide with the wall behind it, producing a hollow thud. Professor Dagger immediately placed his hands against the false wall, sliding across its surface gently like one would a body. Soon he senses the concealed mechanism that safeguards the secret shut, which upon a gentle press, unveils a dark corridor effluviating a pungent scent.\n",
      "\n",
      "Before entering, Professor Dagger warns you not to look or speak to whatever resides at the end of the corridor, for you may enter a state of frenzy. With that in mind, you follow Professor Dagger into the unknown…\n",
      "\n",
      "What is your next course of action?\n",
      "\n",
      "possible actions:\n",
      "1. Follow him closely in silence\n",
      "2. Ask him what the foul odour is\n",
      "3. Comment on the surroundings\n"
     ]
    },
    {
     "data": {
      "application/vnd.jupyter.widget-view+json": {
       "model_id": "b1b826b76d354fdaa1944f6e017662e4",
       "version_major": 2,
       "version_minor": 0
      },
      "text/plain": [
       "HBox(children=(Button(description='1', layout=Layout(width='auto'), style=ButtonStyle(), tooltip='Follow him c…"
      ]
     },
     "metadata": {},
     "output_type": "display_data"
    },
    {
     "name": "stdout",
     "output_type": "stream",
     "text": [
      "I select option 2. TURN: 1 \n",
      "\n",
      "\n",
      "As you cautiously step into the dark corridor, the pungent scent growing stronger with each step, you can't help but ask, \"Professor, what is that foul odor?\" Your voice echoes slightly in the confined space, adding a layer of eeriness to the already unsettling atmosphere.\n",
      "\n",
      "Professor Dagger, leading the way with a small flashlight, pauses for a moment, turning slightly to address you without making eye contact. \"It's the smell of decay,\" he whispers, his voice barely above a murmur. \"Years, perhaps decades of neglect, and... something else. Something not of this world. Be on your guard, Kyle. What lies ahead may test more than just our resolve.\"\n",
      "\n",
      "The warning sends a chill down your spine, but it also strengthens your resolve. You knew this journey wouldn't be easy, and whatever lies ahead, you're prepared to face it, driven by the desperate hope that this endeavor might change your fortunes.\n",
      "\n",
      "As you continue to follow Professor Dagger, the narrow corridor seems to stretch endlessly, the light from the flashlight barely piercing the darkness ahead. The air feels heavier, and the sense of unease grows with every step.\n",
      "\n",
      "What will you do next?\n",
      "\n",
      "possible actions:\n",
      "1. Continue following Professor Dagger in silence, focusing on your surroundings.\n",
      "2. Start looking for any signs or symbols on the walls that might indicate what's ahead.\n",
      "3. Ask Professor Dagger if he's sure about the location of the fourth book."
     ]
    },
    {
     "data": {
      "application/vnd.jupyter.widget-view+json": {
       "model_id": "4d8f7a0e8e6b4abcb87f9cea11e60bbc",
       "version_major": 2,
       "version_minor": 0
      },
      "text/plain": [
       "HBox(children=(Button(description='1', layout=Layout(width='auto'), style=ButtonStyle(), tooltip='Continue fol…"
      ]
     },
     "metadata": {},
     "output_type": "display_data"
    },
    {
     "name": "stdout",
     "output_type": "stream",
     "text": [
      "I select option 1. TURN: 2 \n",
      "\n",
      "\n",
      "You decide to continue following Professor Dagger in silence, focusing intently on your surroundings. The narrow corridor seems to close in around you, the darkness almost palpable, as you tread carefully on the uneven ground. Your eyes dart around, trying to catch any detail that might reveal more about this hidden passage beneath the storage unit.\n",
      "\n",
      "The silence between you and the Professor is heavy, filled with anticipation and a hint of fear. The only sounds are your footsteps and the occasional drip of water from the ceiling, creating an eerie rhythm that accompanies your journey into the unknown.\n",
      "\n",
      "As you proceed, the corridor finally begins to widen, leading into a larger, open space. The air here is thick with the smell of decay, confirming the Professor's earlier statement. The beam from his flashlight reveals a shocking sight: the near-withered body of a woman, lying in the center of the room over a pentagram made of a strange red fluid. Her face is completely gone, leaving a gaping cavity that seems to writhe in the shadows.\n",
      "\n",
      "You need to make a skill check to maintain your composure upon seeing this grotesque scene.\n",
      "\n",
      "skill: sanity\n",
      "difficulty: hard"
     ]
    },
    {
     "data": {
      "application/vnd.jupyter.widget-view+json": {
       "model_id": "686c78a4212a4347a5804dbe2d982ed3",
       "version_major": 2,
       "version_minor": 0
      },
      "text/plain": [
       "HBox(children=(Button(description='SANITY [HARD]', layout=Layout(width='auto'), style=ButtonStyle()), Button(d…"
      ]
     },
     "metadata": {},
     "output_type": "display_data"
    },
    {
     "name": "stdout",
     "output_type": "stream",
     "text": [
      "I am making a SANITY check against my own sanity points: 8.\n",
      "And... FAILED! I lost 3 sanity points.\n",
      "TURN: 3  (I'm insane!)\n",
      "\n",
      "\n",
      "As you gaze upon the grotesque sight before you, something inside you snaps. The sheer horror of the withered body, the sinister pentagram beneath it, and the unnatural absence of a face overwhelms your senses. Your heart races, your vision blurs, and a cold sweat breaks out across your forehead. You struggle to maintain your grip on reality, but the terror of what lies before you is too much to bear.\n",
      "\n",
      "You stagger back, gasping for air, your mind reeling from the shock. The world seems to tilt and spin around you, and for a moment, you fear you might succumb to the darkness that threatens to engulf your consciousness.\n",
      "\n",
      "Professor Dagger, noticing your distress, rushes to your side, his voice a distant echo in your mind. \"Kyle! Focus on my voice. You must not let it consume you. Fight it!\" His words barely register as you fight to regain control, the horror of the scene etched into your mind.\n",
      "\n",
      "With a monumental effort, you manage to steady your breathing and focus on the Professor's guiding presence. Slowly, the world begins to right itself, but the damage has been done. You've lost a part of yourself to the horror, and you know you'll never be the same again.\n",
      "\n",
      "Your sanity now stands at 5, a stark reminder of the toll this journey has taken on you.\n",
      "\n",
      "Despite the fear, you know you must press on. The fourth book, the reason you've come this far, lies ahead. With a shaky resolve, you prepare to face whatever horrors await, knowing that turning back is not an option.\n",
      "\n",
      "What will you do next?\n",
      "\n",
      "possible actions:\n",
      "1. Approach the podium cautiously, trying to ignore the withered body.\n",
      "2. Ask Professor Dagger for advice on how to proceed.\n",
      "3. Search the room for any other exits or items of interest, avoiding the withered body."
     ]
    },
    {
     "data": {
      "application/vnd.jupyter.widget-view+json": {
       "model_id": "5110fe5990204055bcc23a3f74675d92",
       "version_major": 2,
       "version_minor": 0
      },
      "text/plain": [
       "HBox(children=(Button(description='1', layout=Layout(width='auto'), style=ButtonStyle(), tooltip='Approach the…"
      ]
     },
     "metadata": {},
     "output_type": "display_data"
    },
    {
     "name": "stdout",
     "output_type": "stream",
     "text": [
      "I select option 1. TURN: 4  (I'm insane!)\n",
      "\n",
      "\n",
      "With every ounce of courage you can muster, you decide to approach the podium cautiously, doing your best to avert your eyes from the withered body lying in the center of the room. The strange red fluid forming the pentagram beneath it seems to shimmer in the dim light, adding an otherworldly quality to the already eerie scene.\n",
      "\n",
      "As you move closer to the podium, your focus narrows to the object of your quest—the fourth book. It sits atop the podium, its cover worn by time, yet it exudes a palpable sense of power and forbidden knowledge. You can't help but feel that this book holds the key to changing your fortunes, but at what cost?\n",
      "\n",
      "Reaching out with a trembling hand, you grasp the book, the leather cool and slightly sticky to the touch. The moment the book leaves the podium, a sudden change occurs. The strange red fluid forming the pentagram begins to evaporate, disappearing into thin air as if it was never there.\n",
      "\n",
      "This action, however, has unforeseen consequences. The withered body begins to stir, tentacles pouring out from the gaping cavity where its face should be. In a matter of seconds, the tentacles lash out, ensnaring Professor Dagger with terrifying speed. His screams fill the room as he's pulled toward the writhing mass, and then, just as quickly, silenced.\n",
      "\n",
      "You stand frozen in horror, witnessing the professor's gruesome fate, realizing too late the danger you've unleashed. The withered body, now fully animated and more monstrous than before, turns its attention toward you. Its intent is clear: you are its next target.\n",
      "\n",
      "With no time to waste and your sanity hanging by a thread, you must make a quick decision.\n",
      "\n",
      "What will you do next?\n",
      "\n",
      "possible actions:\n",
      "1. Run towards the corridor, attempting to escape the creature.\n",
      "2. Try to find a weapon in the room to defend yourself.\n",
      "3. Attempt to communicate or reason with the creature, hoping for a miraculous reprieve."
     ]
    },
    {
     "data": {
      "application/vnd.jupyter.widget-view+json": {
       "model_id": "a9a45167255844439240b0c9bd4fb740",
       "version_major": 2,
       "version_minor": 0
      },
      "text/plain": [
       "HBox(children=(Button(description='1', layout=Layout(width='auto'), style=ButtonStyle(), tooltip='Run towards …"
      ]
     },
     "metadata": {},
     "output_type": "display_data"
    },
    {
     "name": "stdout",
     "output_type": "stream",
     "text": [
      "I select option 1. TURN: 5  (I'm insane!)\n",
      "\n",
      "\n",
      "Fueled by primal fear and the instinct to survive, you turn on your heels and sprint towards the corridor, the horrifying sounds of the creature's tentacles slithering across the floor echoing behind you. Your heart pounds in your chest, your breaths come in ragged gasps, and the dimly lit corridor seems to stretch into infinity. The terror of being chased by something so utterly alien and malevolent propels you forward at breakneck speed, every ounce of your being focused on escape.\n",
      "\n",
      "As you run, the memories of your training as a marine surge to the forefront of your mind, lending you the mental fortitude to push your body beyond its limits. Your footsteps echo loudly in the narrow passage, a stark contrast to the sinister silence that seems to have fallen behind you. Dare you hope that you've outpaced the creature?\n",
      "\n",
      "Finally, you see the entrance to the storage unit ahead, the faint light from the outside world offering a glimmer of hope. With one last burst of energy, you emerge from the corridor, stumbling into the storage unit and slamming the secret door shut behind you. You lean heavily against it, gasping for breath, your mind racing.\n",
      "\n",
      "The immediate threat may be behind you, but you're not out of danger yet. The storage facility is quiet, too quiet, and you remember the ominous warning that there is only one exit, and it is locked. Panic threatens to set in as you realize you might be trapped.\n",
      "\n",
      "What will you do next?\n",
      "\n",
      "possible actions:\n",
      "1. Search the storage unit for another way out or something to barricade the door with.\n",
      "2. Try to calm yourself and think logically about your next steps.\n",
      "3. Call out for help, hoping someone outside might hear you."
     ]
    },
    {
     "data": {
      "application/vnd.jupyter.widget-view+json": {
       "model_id": "5deb8afb2735452496d9c99b480bb355",
       "version_major": 2,
       "version_minor": 0
      },
      "text/plain": [
       "HBox(children=(Button(description='1', layout=Layout(width='auto'), style=ButtonStyle(), tooltip='Search the s…"
      ]
     },
     "metadata": {},
     "output_type": "display_data"
    },
    {
     "name": "stdout",
     "output_type": "stream",
     "text": [
      "I select option 3. TURN: 6  (I'm insane!)\n",
      "\n",
      "\n",
      "Desperation takes hold as you decide to call out for help, your voice echoing through the storage unit and possibly beyond its confines. \"Help! Is anyone there? Please, I need help!\" you shout, your voice cracking with the strain of your recent terror and exertion.\n",
      "\n",
      "You pause, listening intently for any sign of response, any indication that someone might have heard your pleas. The silence that follows feels oppressive, a stark reminder of your isolation in this nightmarish scenario. Just as you're about to give up hope, you hear the faint sound of footsteps approaching from outside the storage unit.\n",
      "\n",
      "The footsteps grow louder, more deliberate, until they stop just outside the door. You hold your breath, not sure whether to be relieved or terrified. Then, you hear a key turning in the lock, and the door swings open to reveal a middle-aged woman standing in the doorway. Her expression is one of concern mixed with confusion as she takes in your disheveled appearance.\n",
      "\n",
      "\"I heard shouting. Are you alright? What happened here?\" she asks, stepping into the unit.\n",
      "\n",
      "You're momentarily taken aback, unsure how much to reveal. But the relief of seeing another human being, someone who might help you escape this nightmare, prompts you to quickly explain the situation. You tell her about the hidden corridor, the withered body, and the monstrous creature that chased you. The woman listens intently, her brow furrowed in concern.\n",
      "\n",
      "After you finish your story, she nods, understanding the gravity of the situation. \"We need to get you out of here,\" she says decisively. \"Follow me.\"\n",
      "\n",
      "With that, she leads you out of the storage unit and through the facility's maze-like corridors. The exit seems impossibly far, but eventually, you see the light of the outside world filtering through the open door. You step outside, the cool night air a welcome relief after the stifling atmosphere of the storage facility.\n",
      "\n",
      "As you catch your breath, the woman introduces herself as Marianne, the caretaker of the storage facility. She explains that she was doing her rounds when she heard your cries for help. Grateful for her timely intervention, you thank her profusely, knowing that without her, you might not have made it out alive.\n",
      "\n",
      "summary:\n",
      "After a harrowing escape from a monstrous creature, you were rescued by Marianne, the caretaker of the storage facility. Your sanity has been severely tested, and the horrors you witnessed will haunt you. However, you have survived, and the fourth book, though obtained at great cost, holds the promise of a new beginning. But the question remains: at what cost to your sanity and soul?"
     ]
    },
    {
     "data": {
      "application/vnd.jupyter.widget-view+json": {
       "model_id": "e05794b327a24d96b1ef62a0e5043da8",
       "version_major": 2,
       "version_minor": 0
      },
      "text/plain": [
       "HBox(children=(Button(description='NEXT ROUND', layout=Layout(width='auto'), style=ButtonStyle()), Button(desc…"
      ]
     },
     "metadata": {},
     "output_type": "display_data"
    }
   ],
   "source": [
    "import re\n",
    "import tomllib\n",
    "import functools\n",
    "from typing import Literal\n",
    "\n",
    "import ipywidgets as widgets\n",
    "from IPython.display import display\n",
    "\n",
    "from dotenv import load_dotenv\n",
    "\n",
    "load_dotenv()\n",
    "\n",
    "from rs import Message, Config, chat, skill_check\n",
    "import d20\n",
    "\n",
    "action_pattern = re.compile(r\"(\\d+). *(.+)\")\n",
    "skill_pattern = re.compile(r\"[\\w_]+\")\n",
    "skill_difficulty_pattern = re.compile(r\"(easy|normal|hard)\")\n",
    "\n",
    "def next_round(b):\n",
    "    global current_round, initial_messages\n",
    "    current_round += 1\n",
    "    initial_messages = config.initial_messages(current_round, config.metadata)\n",
    "\n",
    "    print(initial_messages[-1].content)\n",
    "    display(get_controls(initial_messages[-1]))\n",
    "\n",
    "def get_user_message_tail():\n",
    "    count = 0\n",
    "    for msg in initial_messages:\n",
    "        if msg.role == \"user\":\n",
    "            count += 1\n",
    "\n",
    "    is_final =  \", FINAL ROUND\" if  current_round == len(config.rounds) else \"\"\n",
    "    \n",
    "    # print(config.metadata[\"character\"])\n",
    "    \n",
    "    if \"tags\" in config.metadata[\"character\"] and \"insane\" in config.metadata[\"character\"][\"tags\"]:\n",
    "        return f\"TURN: {count + 1} {is_final} (I'm insane!)\"\n",
    "    \n",
    "    return f\"TURN: {count + 1} {is_final}\"\n",
    "    \n",
    "\n",
    "def do_chat(role:Literal[\"user\", \"system\", \"assistant\"], content: str):\n",
    "    print(f\"{content}\\n\\n\")\n",
    "\n",
    "    initial_messages.append(Message(role=role, content=content))\n",
    "    msg = chat(initial_messages, lambda delta: print(delta, end=\"\"))\n",
    "\n",
    "    initial_messages.append(msg)\n",
    "    display(get_controls(msg))\n",
    "\n",
    "\n",
    "def on_skill(b, skill:str, difficulty:str):\n",
    "    # print(config.metadata[\"character\"])\n",
    "    content = skill_check(skill, difficulty, config.metadata)\n",
    "    content += f\"\\n{get_user_message_tail()}\"\n",
    "    do_chat(\"user\", content)\n",
    "\n",
    "def on_action(b, index:int):\n",
    "    content = f\"I select option {index}. {get_user_message_tail()}\"\n",
    "    do_chat(\"user\", content)\n",
    "\n",
    "def on_custom_input(b, input:widgets.Text):\n",
    "    content = f\"{input.value}. {get_user_message_tail()}\"\n",
    "    do_chat(\"user\", content)\n",
    "\n",
    "def on_custom_action(b):\n",
    "    hbox = widgets.HBox(layout=widgets.Layout(width=\"100%\"))\n",
    "    action_text = widgets.Text(layout=widgets.Layout(width=\"100%\"))\n",
    "    submit = widgets.Button(description=\"SUBMIT\", layout=widgets.Layout(width=\"fit-content\"))\n",
    "    submit.on_click(functools.partial(on_custom_input, input=action_text))\n",
    "    hbox.children += (action_text, submit) \n",
    "    display(hbox)\n",
    "\n",
    "def get_controls(msg:Message) -> widgets.Box:\n",
    "    dict = msg.dict()\n",
    "    buttons = []\n",
    "    if \"possible actions\" in dict.keys():\n",
    "        matches = action_pattern.finditer(dict[\"possible actions\"])\n",
    "        for match in matches:\n",
    "            btn = widgets.Button(description=match.group(1), tooltip=match.group(2), layout=widgets.Layout(width=\"auto\"))\n",
    "            btn.on_click(functools.partial(on_action, index=int(match.group(1))))\n",
    "            buttons.append(btn)\n",
    "    elif \"skill\" in dict.keys() and \"difficulty\" in dict.keys():\n",
    "        match = skill_pattern.match(dict[\"skill\"])\n",
    "        skill = match.group(0)\n",
    "        match = skill_difficulty_pattern.match(dict[\"difficulty\"])\n",
    "        difficulty = match.group(0)\n",
    "        skill_button = widgets.Button(description=f\"{skill.upper()} [{difficulty.upper()}]\", layout=widgets.Layout(width=\"auto\"))\n",
    "        skill_button.on_click(functools.partial(on_skill, skill=skill, difficulty=difficulty))\n",
    "        buttons.append(skill_button)\n",
    "    elif \"summary\" in dict.keys():\n",
    "        # add summary as a memory to the metadata\n",
    "        # it will be used in the next round.\n",
    "        config.metadata[\"memories\"] = []\n",
    "        config.metadata[\"memories\"].append(dict[\"summary\"])\n",
    "        next_btn = widgets.Button(description=\"NEXT ROUND\", layout=widgets.Layout(width=\"auto\"))\n",
    "        next_btn.on_click(next_round)\n",
    "        buttons.append(next_btn)\n",
    "    \n",
    "    custom_action_button = widgets.Button(description=\"CUSTOM\")\n",
    "    custom_action_button.on_click(on_custom_action)\n",
    "    buttons.append(custom_action_button)\n",
    "\n",
    "    return widgets.HBox(buttons)\n",
    "\n",
    "# open config file\n",
    "config_name = \"data/coc_lot_3636.toml\"\n",
    "config: Config | None = None\n",
    "with open(config_name, \"rb\") as f:\n",
    "    data = tomllib.load(f)\n",
    "    config = Config(**data)\n",
    "\n",
    "current_round = 0\n",
    "initial_messages = config.initial_messages(current_round, config.metadata)\n",
    "\n",
    "print(initial_messages[-1].content)\n",
    "display(get_controls(initial_messages[-1]))"
   ]
  }
 ],
 "metadata": {
  "kernelspec": {
   "display_name": ".venv",
   "language": "python",
   "name": "python3"
  },
  "language_info": {
   "codemirror_mode": {
    "name": "ipython",
    "version": 3
   },
   "file_extension": ".py",
   "mimetype": "text/x-python",
   "name": "python",
   "nbconvert_exporter": "python",
   "pygments_lexer": "ipython3",
   "version": "3.12.3"
  }
 },
 "nbformat": 4,
 "nbformat_minor": 2
}
