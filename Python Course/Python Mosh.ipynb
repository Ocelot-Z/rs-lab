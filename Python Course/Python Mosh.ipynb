{
 "cells": [
  {
   "cell_type": "code",
   "execution_count": null,
   "metadata": {},
   "outputs": [],
   "source": [
    "print(\"o----\")\n",
    "print(' ||||')\n",
    "print('*' * 10)"
   ]
  },
  {
   "cell_type": "code",
   "execution_count": null,
   "metadata": {},
   "outputs": [],
   "source": [
    "price = 20\n",
    "print(price)"
   ]
  },
  {
   "cell_type": "code",
   "execution_count": null,
   "metadata": {},
   "outputs": [],
   "source": [
    "# Formatting\n",
    "\n",
    "first = \"Calvin\"\n",
    "last = \"Zeng\"\n",
    "message = f\"{first} [{last}] is a coder\"\n",
    "print(message)"
   ]
  },
  {
   "cell_type": "code",
   "execution_count": null,
   "metadata": {},
   "outputs": [],
   "source": [
    "# String Methods #\n",
    "\n",
    "course = \"python for beginners\"\n",
    "\n",
    "print(len(course))\n",
    "\n",
    "print(course.upper())\n",
    "\n",
    "print(course.find(\"p\"))\n",
    "\n",
    "print(course.replace(\"n\", \"f\"))\n",
    "\n",
    "\"python\" in course"
   ]
  },
  {
   "cell_type": "code",
   "execution_count": null,
   "metadata": {},
   "outputs": [],
   "source": [
    "x = -2.9\n",
    "print(abs(x))\n"
   ]
  },
  {
   "cell_type": "markdown",
   "metadata": {},
   "source": []
  },
  {
   "cell_type": "code",
   "execution_count": null,
   "metadata": {},
   "outputs": [],
   "source": [
    "import math\n",
    "\n",
    "print(math.floor(2.9))"
   ]
  },
  {
   "cell_type": "code",
   "execution_count": null,
   "metadata": {},
   "outputs": [],
   "source": [
    "is_hot = False\n",
    "is_cold = False\n",
    "\n",
    "if is_hot:\n",
    "    print(\"It's a hot fuckin' day!\")\n",
    "    print(\"Hydrate you fool!\")\n",
    "elif is_cold:\n",
    "    print(\"It's a damn cold day!\")\n",
    "    print(\"Wrap yourself up!\")\n",
    "else:\n",
    "    print(\"It's a lovely day!\")\n",
    "print(\"Enjoy your day. \")"
   ]
  },
  {
   "cell_type": "code",
   "execution_count": null,
   "metadata": {},
   "outputs": [],
   "source": [
    "#Practice#\n",
    "house_price = 1000000\n",
    "good_credit = False\n",
    "\n",
    "if good_credit:\n",
    "    downpayment = house_price * 0.1\n",
    "    print(f\"Downpayment is:  ${downpayment}\")\n",
    "else:\n",
    "    downpayment = house_price * 0.2\n",
    "    print(f\"Downpayment is: ${downpayment}\")"
   ]
  },
  {
   "cell_type": "code",
   "execution_count": null,
   "metadata": {},
   "outputs": [],
   "source": [
    "#Logical Operators# --># Where we have multiple conditions# \n",
    "high_income = False\n",
    "good_credit = True\n",
    "criminal_record = True\n",
    "\n",
    "if good_credit and not criminal_record:\n",
    "    print(\"Eligible for a big fat loan!\")\n",
    "else:\n",
    "    print(\"Bye bye sucker!\")\n"
   ]
  },
  {
   "cell_type": "code",
   "execution_count": null,
   "metadata": {},
   "outputs": [],
   "source": [
    "name = input(\"Enter Your Name\")\n",
    "\n",
    "if len(name) <= 3:\n",
    "    print(\"Name must be at least 3 CHARACTERS long!\")\n",
    "\n",
    "elif len(name) > 50:\n",
    "    print(\"Name can only have max 50 CHARACTERS!\")\n",
    "\n",
    "else:\n",
    "    print(\"Name is Approved by Big Brother.\")"
   ]
  },
  {
   "cell_type": "code",
   "execution_count": null,
   "metadata": {},
   "outputs": [],
   "source": [
    "weight = float(input(\"Your Fatass\"))\n",
    "\n",
    "unit = input(\"(K)g or (l)bs\")\n",
    "if unit.upper() == \"K\":\n",
    "    print(f\"Your ass weighs: {weight}Kg\")\n",
    "\n",
    "elif unit.upper() == \"L\":\n",
    "    print(f\"Your ass weighs {weight * 2.2}lbs\")\n",
    "\n",
    "else:\n",
    "    print(\"I need a real unit!\")\n",
    "    \n",
    "\n"
   ]
  },
  {
   "cell_type": "code",
   "execution_count": null,
   "metadata": {},
   "outputs": [],
   "source": [
    "#\"While\" Loops#\n",
    "\n",
    "\n",
    "i = 1\n",
    "while i <= 5:\n",
    "    print(i)\n",
    "    i = i + 1\n",
    "print(\"Done\")"
   ]
  },
  {
   "cell_type": "code",
   "execution_count": null,
   "metadata": {},
   "outputs": [],
   "source": [
    "i = 1\n",
    "while i <= 5:\n",
    "    print (\"*\" * i)\n",
    "    i = i + 1\n",
    "print(\"Done\")"
   ]
  },
  {
   "cell_type": "code",
   "execution_count": null,
   "metadata": {},
   "outputs": [],
   "source": [
    "#Secret Number Game#\n",
    "\n",
    "secret_number = 7\n",
    "\n",
    "guess_count = 0\n",
    "guess_limit = 3\n",
    "while guess_count < guess_limit:\n",
    "    guess= int(input(\"Guess: \"))\n",
    "    guess_count += 1\n",
    "    if guess == secret_number:\n",
    "        print(\"Good fuckin' Guess!\")\n",
    "        break\n",
    "else:\n",
    "        print(\"You suck! Try again!\")\n",
    "    "
   ]
  },
  {
   "cell_type": "code",
   "execution_count": null,
   "metadata": {},
   "outputs": [],
   "source": [
    "#Racecar Practice#\n",
    "\n",
    "command = \"\"\n",
    "while command != \"QUIT\":\n",
    "    command = input(\">\").upper()\n",
    "    if command == \"START\":\n",
    "        print(\"The engine is now running.\")\n",
    "    elif command == \"STOP\":\n",
    "        print(\"The car has stopped.\")\n",
    "    elif command == \"HELP\":\n",
    "        print(\"Start - to start the Car\")\n",
    "        print(\"Stop - to stop the Car\")\n",
    "        print(\"Quit - to exit\")\n",
    "    else:\n",
    "        print(\"I don't understand\")\n",
    "\n",
    "\n"
   ]
  },
  {
   "cell_type": "code",
   "execution_count": null,
   "metadata": {},
   "outputs": [],
   "source": [
    "#Racecar Practice#\n",
    "\n",
    "command = \"\"\n",
    "started = False\n",
    "\n",
    "while True:\n",
    "    command = input(\"\").upper()\n",
    "    if command == \"START\":\n",
    "        if started:\n",
    "            print(\"car has already started!\")\n",
    "        else:\n",
    "           started = True\n",
    "        print(\"Your car is moving\")\n",
    "    elif command == \"STOP\":\n",
    "        if not started:\n",
    "            print(\"car has already stopped!\")\n",
    "        else:\n",
    "            started = False\n",
    "            print(\"the car has stopped!\")\n",
    "    elif command == \"QUIT\":\n",
    "        print(\"You exited the car\")\n",
    "        break\n",
    "    elif command == \"HELP\":\n",
    "        print(\"\"\"\n",
    "        Start - Start the car\n",
    "        Stop - Stop the car\n",
    "        Quit - Exit the car\n",
    "              \"\"\")\n",
    "    else:\n",
    "        print(\"I cannot compute your input\")"
   ]
  },
  {
   "cell_type": "code",
   "execution_count": null,
   "metadata": {},
   "outputs": [],
   "source": [
    "controls = \"\"\n",
    "fuel_primed = False\n",
    "oxygen_primed = False\n",
    "\n",
    "\n",
    "\n",
    "while True:\n",
    "    controls = input(\">\").upper()\n",
    "    if controls == \"FUEL\":\n",
    "        if fuel_primed:\n",
    "            print(\"fuel already injected\")\n",
    "        else:\n",
    "            fuel_primed = True\n",
    "            print(\"fuel injected\")\n",
    "    elif controls == \"OXYGEN\":\n",
    "        if oxygen_primed:\n",
    "            print(\"oxygen already added\")\n",
    "        else:\n",
    "            oxygen_primed = True\n",
    "            print(\"Oxygen added\")\n",
    "    elif controls == \"HELP\":\n",
    "        print(\"\"\"\n",
    "Fuel - Inject fuel\n",
    "Oxygen - Oxygen Injected\n",
    "Launch - Launch Space Ship\n",
    "Quit - Leave\n",
    "\"\"\")\n",
    "    elif controls == \"QUIT\":\n",
    "        print(\"You left\")\n",
    "        break\n",
    "    elif controls == \"LAUNCH\":\n",
    "        if fuel_primed and oxygen_primed:\n",
    "            print(\"Engine Primed: Blast Off\")\n",
    "            break\n",
    "        else:\n",
    "            print(\"Thruster not primed!\")"
   ]
  },
  {
   "cell_type": "code",
   "execution_count": 1,
   "metadata": {},
   "outputs": [
    {
     "name": "stdout",
     "output_type": "stream",
     "text": [
      "5\n",
      "7\n",
      "9\n",
      "11\n",
      "13\n",
      "15\n",
      "17\n",
      "19\n"
     ]
    }
   ],
   "source": [
    "# for loops#\n",
    "\n",
    "for item in range(5,20, 2):\n",
    "    print (item)"
   ]
  },
  {
   "cell_type": "code",
   "execution_count": null,
   "metadata": {},
   "outputs": [],
   "source": [
    "prices = [10 , 20, 30]\n",
    "\n",
    "total = 0\n",
    "\n",
    "for items in prices:\n",
    "    total += items\n",
    "print(f\"total: {total}\")"
   ]
  },
  {
   "cell_type": "code",
   "execution_count": 2,
   "metadata": {},
   "outputs": [
    {
     "name": "stdout",
     "output_type": "stream",
     "text": [
      "(0,0)\n",
      "(0,1)\n",
      "(0,2)\n",
      "(0,3)\n",
      "(1,0)\n",
      "(1,1)\n",
      "(1,2)\n",
      "(1,3)\n",
      "(2,0)\n",
      "(2,1)\n",
      "(2,2)\n",
      "(2,3)\n",
      "(3,0)\n",
      "(3,1)\n",
      "(3,2)\n",
      "(3,3)\n"
     ]
    }
   ],
   "source": [
    "#Nested Loops#\n",
    "\n",
    "for x in range(4):\n",
    "    for y in range (4):\n",
    "        print(f\"({x},{y})\")"
   ]
  },
  {
   "cell_type": "code",
   "execution_count": null,
   "metadata": {},
   "outputs": [],
   "source": [
    "#Challenge 1 --> My solution#\n",
    "\n",
    "numbers = [5,2,5,2,2]\n",
    "\n",
    "i = 0\n",
    "\n",
    "for number in numbers:\n",
    "\n",
    "    print((i + number) * \"x\")"
   ]
  },
  {
   "cell_type": "code",
   "execution_count": null,
   "metadata": {},
   "outputs": [],
   "source": [
    "#Challenge 1 --> Mosh Solution#\n",
    "\n",
    "numbers = [1,1,1,1,5]\n",
    "\n",
    "for x_count in numbers:\n",
    "    print(\"x\" * x_count)"
   ]
  },
  {
   "cell_type": "code",
   "execution_count": 5,
   "metadata": {},
   "outputs": [
    {
     "name": "stdout",
     "output_type": "stream",
     "text": [
      " xxxxx\n",
      " xx\n",
      " xxxxx\n",
      " xx\n",
      " xx\n"
     ]
    }
   ],
   "source": [
    "#Challenge 1 --> Mosh Solution2#\n",
    "\n",
    "numbers = [5,2,5,2,2]\n",
    "\n",
    "for x_count in numbers:\n",
    "    output = \" \"\n",
    "    for count in range(x_count):\n",
    "        output += \"x\"\n",
    "    print(output)"
   ]
  },
  {
   "cell_type": "code",
   "execution_count": 3,
   "metadata": {},
   "outputs": [
    {
     "name": "stdout",
     "output_type": "stream",
     "text": [
      "Calvin\n",
      "['Calvin', 'Bob', 'Aspirin', 'Hayley', 'Angel']\n"
     ]
    }
   ],
   "source": [
    "#Lists#\n",
    "\n",
    "names = [\"Calvin\", \"Mandy\", \"Aspirin\", \"Hayley\", \"Angel\"]\n",
    "names[1] = \"Bob\"\n",
    "print(names[0])\n",
    "print(names [0:5])"
   ]
  },
  {
   "cell_type": "code",
   "execution_count": null,
   "metadata": {},
   "outputs": [],
   "source": [
    "#Excersize - Program that finds the largest number in a list - #\n",
    "\n",
    "numbers = [11, 4, 35, 50, 88, 24, 49, 72]\n",
    "\n",
    "max = numbers[0]\n",
    "\n",
    "for number in numbers:\n",
    "    if number > max:\n",
    "        max = number\n",
    "print(max)\n"
   ]
  },
  {
   "cell_type": "code",
   "execution_count": null,
   "metadata": {},
   "outputs": [],
   "source": [
    "#2D Lists#\n",
    "\n",
    "\n",
    "matrix = [\n",
    "    [1, 2, 3],\n",
    "    [4, 5, 6],\n",
    "    [7, 8, 9]\n",
    "]\n",
    "#matrix [0][1] = 20\n",
    "#print(matrix[0] [1])\n",
    "\n",
    "for row in matrix:\n",
    "    for item in row:\n",
    "        print(item)"
   ]
  },
  {
   "cell_type": "code",
   "execution_count": null,
   "metadata": {},
   "outputs": [],
   "source": [
    "# List Methods#\n",
    "\n",
    "numbers = [5, 2, 1, 7, 4]\n",
    "\n",
    "numbers.append(20)\n",
    "numbers.insert(4,999999999)\n",
    "numbers.remove(1)\n",
    "#numbers.pop\n",
    "print(numbers.index(5))\n",
    "print(4 in numbers)\n",
    "print(numbers.count(4))\n",
    "numbers.sort()\n",
    "print(numbers)\n"
   ]
  },
  {
   "cell_type": "code",
   "execution_count": null,
   "metadata": {},
   "outputs": [],
   "source": [
    "#Excercise - Program that removes the duplicates in a list -#\n",
    "\n",
    "numbers = [4, 5, 9, 1, 3, 5, 4, 7, 6, 5, 9]\n",
    "\n",
    "unqiues = []\n",
    "\n",
    "for number in numbers:\n",
    "    if duplicate == numbers:\n",
    "        numbers.append[unqiues]\n",
    "print(duplicate)"
   ]
  },
  {
   "cell_type": "code",
   "execution_count": null,
   "metadata": {},
   "outputs": [],
   "source": [
    "#Excercise - Program that removes the duplicates in a list -#\n",
    "\n",
    "numbers = [4, 5, 9, 1, 3, 5, 4, 7, 6, 5, 9]\n",
    "\n",
    "uniques = []\n",
    "for number in numbers:\n",
    "    if number not in uniques:\n",
    "        uniques.append(number)\n",
    "print (uniques)"
   ]
  },
  {
   "cell_type": "code",
   "execution_count": null,
   "metadata": {},
   "outputs": [],
   "source": [
    "#Tuple#\n",
    "\n",
    "numbers = (1, 2, 3)\n",
    "print(numbers[0])"
   ]
  },
  {
   "cell_type": "code",
   "execution_count": null,
   "metadata": {},
   "outputs": [],
   "source": [
    "#Unpacking#\n",
    "\n",
    "coordinates = (1, 2, 3)\n",
    "\n",
    "#x = coordinates[0]\n",
    "#y = coordinates[1]\n",
    "#z = coordinates[2]\n",
    "\n",
    "x, y, z = coordinates\n",
    "print(z)\n"
   ]
  },
  {
   "cell_type": "code",
   "execution_count": null,
   "metadata": {},
   "outputs": [],
   "source": [
    "# Dictionaries #\n",
    "\n",
    "\n",
    "customer = {\n",
    "    \"name\": \"Calvin\",\n",
    "    \"age\": 30,\n",
    "    \"is_verified\": True\n",
    "}\n",
    "customer[\"name\"] = \"jo jo\"\n",
    "print(customer.get(\"birthdate\", \"Oct 2, 1999\"))"
   ]
  },
  {
   "cell_type": "code",
   "execution_count": null,
   "metadata": {},
   "outputs": [],
   "source": [
    "# Exercise - Make a program that translates numbers in words -#\n",
    "\n",
    "phone = input(\"Phone: \")\n",
    "\n",
    "numbers = {\n",
    "    \"1\": \"one\",\n",
    "    \"2\": \"two\",\n",
    "    \"3\": \"three\",\n",
    "    \"4\": \"four\"\n",
    "    }\n",
    "\n",
    "output = \"\"\n",
    "for digits in phone:\n",
    "    output += numbers.get(digits, \"!\") + \" \"\n",
    "print(output)"
   ]
  },
  {
   "cell_type": "code",
   "execution_count": null,
   "metadata": {},
   "outputs": [],
   "source": [
    "# emoji converter #\n",
    "\n",
    "message = input(\">\")\n",
    "\n",
    "words = message.split(\" \")\n",
    "\n",
    "emojis = {\n",
    "    \":)\": \":D\",\n",
    "    \":(\": \"D:\"\n",
    "}\n",
    "\n",
    "output = \"\"\n",
    "for word in words:\n",
    "    output += emojis.get(word, word) + \" \"\n",
    "print(output)\n"
   ]
  },
  {
   "cell_type": "code",
   "execution_count": null,
   "metadata": {},
   "outputs": [],
   "source": [
    "# functions#\n",
    "\n",
    "def greet_user():    # \"def\" means its defining a function.\n",
    "    print(\"Hi There!\")\n",
    "    print(\"Welcome Aboard!\")\n",
    "\n",
    "\n",
    "print(\"start\")\n",
    "greet_user()\n",
    "print(\"finish\")"
   ]
  },
  {
   "cell_type": "code",
   "execution_count": null,
   "metadata": {},
   "outputs": [],
   "source": [
    "# Parameters #  --> first_name and last_name after the def greet_user IS THE \"PARAMETER\". \"Calvin\" and \"Zeng\" IS THE \"ARGUMENT\"\n",
    "\n",
    "def greet_user(first_name, last_name):\n",
    "    print(f\"Hi {first_name} {last_name}!\")\n",
    "    print(\"Welcome Aboard!\")\n",
    "\n",
    "\n",
    "print(\"start\")\n",
    "greet_user(\"Calvin\", \"Zeng\")\n",
    "greet_user(\"Aspirin\", \"Shi\")\n",
    "print(\"finish\")"
   ]
  },
  {
   "cell_type": "code",
   "execution_count": 6,
   "metadata": {},
   "outputs": [
    {
     "name": "stdout",
     "output_type": "stream",
     "text": [
      "start\n",
      "Hi Calvin Zeng!\n",
      "Welcome Aboard!\n",
      "Hi Aspirin Shi!\n",
      "Welcome Aboard!\n",
      "finish\n"
     ]
    }
   ],
   "source": [
    "# Keyword Arguments # --> Best for improving readability of a code as it clarifies what the \"ARGUMENT\" is for the code. Great for arguments that uses numerical values. \n",
    "\n",
    "def greet_user(first_name, last_name):\n",
    "    print(f\"Hi {first_name} {last_name}!\")\n",
    "    print(\"Welcome Aboard!\")\n",
    "\n",
    "\n",
    "print(\"start\")\n",
    "greet_user(last_name=\"Zeng\", first_name= \"Calvin\")\n",
    "# calc_cost(total = 50, shipping = 5, discount = 0.1)\n",
    "greet_user(\"Aspirin\", \"Shi\")\n",
    "print(\"finish\")"
   ]
  },
  {
   "cell_type": "code",
   "execution_count": null,
   "metadata": {},
   "outputs": [],
   "source": [
    "# Return Statements #\n",
    "\n",
    "def square(number):\n",
    "    return number * number\n",
    "    \n",
    "\n",
    "print(square(3))"
   ]
  },
  {
   "cell_type": "code",
   "execution_count": null,
   "metadata": {},
   "outputs": [],
   "source": [
    "# Exercise - Creating a Resusable Function - #\n",
    "\n",
    "message = input(\">\")\n",
    "\n",
    "words = message.split(\" \")\n",
    "\n",
    "emojis = {\n",
    "    \":)\": \":D\",\n",
    "    \":(\": \"D:\"\n",
    "}\n",
    "\n",
    "output = \"\"\n",
    "for word in words:\n",
    "    output += emojis.get(word, word) + \" \"\n",
    "print(output)"
   ]
  },
  {
   "cell_type": "code",
   "execution_count": null,
   "metadata": {},
   "outputs": [],
   "source": [
    "def translate (word):\n",
    "    emojis = {\n",
    "    \":)\": \":D\",\n",
    "    \":(\": \"D:\"\n",
    "    }\n",
    "    return emojis.get(word, word)\n",
    "\n",
    "message = input(\">\")\n",
    "words = message.split(\" \")\n",
    "output = \" \".join(translate(word) for word in words)\n",
    "print(output)"
   ]
  },
  {
   "cell_type": "code",
   "execution_count": null,
   "metadata": {},
   "outputs": [],
   "source": [
    "# Mosh Solution for the above #\n",
    "\n",
    "def emoji_converter(message):\n",
    "    words = message.split(\" \")\n",
    "\n",
    "    emojis = {\n",
    "    \":)\": \":D\",\n",
    "    \":(\": \"D:\"\n",
    "    }\n",
    "\n",
    "    output = \"\"\n",
    "    for word in words:\n",
    "        output += emojis.get(word, word) + \" \"\n",
    "    return output\n",
    "\n",
    "message = input(\">\")\n",
    "print(emoji_converter(message))"
   ]
  },
  {
   "cell_type": "code",
   "execution_count": null,
   "metadata": {},
   "outputs": [],
   "source": [
    "# Exceptions #\n",
    "try:\n",
    "\n",
    "    age = int(input(\"Age: \"))\n",
    "    income = 80000\n",
    "    risk = income / age\n",
    "    print(risk)\n",
    "except ValueError:\n",
    "    print(\"invalid value\")\n",
    "except ZeroDivisionError:\n",
    "    print(\"Age cannot be '0'.\")\n"
   ]
  },
  {
   "cell_type": "code",
   "execution_count": null,
   "metadata": {},
   "outputs": [],
   "source": [
    "# Classes #\n",
    "\n",
    "class Point:\n",
    "    def move(self):\n",
    "        print(\"Move\")\n",
    "    def draw(self):\n",
    "        print(\"draw\")\n",
    "\n",
    "Point1 = Point()\n",
    "Point1.x = 10\n",
    "Point1.y = 20\n",
    "print(Point1.x)\n",
    "Point1.draw()\n",
    "\n",
    "\n",
    "Point2 = Point()\n",
    "Point2.x = 1\n",
    "\n",
    "\n"
   ]
  },
  {
   "cell_type": "code",
   "execution_count": null,
   "metadata": {},
   "outputs": [],
   "source": [
    "# Constructors #\n",
    "\n",
    "class Point:\n",
    "    def __init__(self, x, y):\n",
    "        self.x = x\n",
    "        self.y = y\n",
    "    def move(self):\n",
    "        print(\"Move\")\n",
    "    def draw(self):\n",
    "        print(\"draw\")\n",
    "\n",
    "\n",
    "point = Point(10, 20)\n",
    "print(point.x)\n",
    "\n",
    "\n",
    "\n",
    "\n"
   ]
  },
  {
   "cell_type": "code",
   "execution_count": null,
   "metadata": {},
   "outputs": [],
   "source": [
    "# Exercise #\n",
    "\n",
    "class Person:\n",
    "    def talk(self):\n",
    "        print(f\"Hi, I am {self.name}.\")\n",
    "    \n",
    "    def __init__(self, name):\n",
    "        self.name = name\n",
    "\n",
    "\n",
    "malenia = Person(\"Malenia\")\n",
    "malenia.talk()\n",
    "\n",
    "danny = Person(\"Danny Yip\")\n",
    "danny.talk()"
   ]
  },
  {
   "cell_type": "code",
   "execution_count": null,
   "metadata": {},
   "outputs": [],
   "source": [
    "# Inheritance #\n",
    "\n",
    "class Mammal:\n",
    "    def walk(self):\n",
    "        print(\"walk\")\n",
    "\n",
    "\n",
    "class Dog(Mammal):\n",
    "    def bark(self):\n",
    "        print(\"Bark\")\n",
    "\n",
    "\n",
    "class Cat(Mammal):\n",
    "    def meow(self):\n",
    "        print(\"MEOWWWWW!\")\n",
    "\n",
    "\n",
    "dog1 = Dog()\n",
    "dog1.bark()\n",
    "\n",
    "cat1 = Cat()\n",
    "cat1.meow()"
   ]
  },
  {
   "cell_type": "code",
   "execution_count": null,
   "metadata": {},
   "outputs": [],
   "source": [
    "# Modules --> So instead of having all your functions in 1 document, we can save those functions in a different document and add those functions whenever it becomes necessary.#\n",
    "\n",
    "import converters\n",
    "from converters import kg_to_lbs\n",
    "\n",
    "kg_to_lbs(80)"
   ]
  },
  {
   "cell_type": "code",
   "execution_count": null,
   "metadata": {},
   "outputs": [],
   "source": [
    "# Exercise #\n",
    "\n",
    "import utils\n",
    "\n",
    "\n",
    "numbers = [11, 4, 35, 50, 88, 24, 49, 72]\n",
    "\n",
    "utils.find_max(numbers)"
   ]
  },
  {
   "cell_type": "code",
   "execution_count": null,
   "metadata": {},
   "outputs": [],
   "source": [
    "# Packages --> Another way to organize our code #\n",
    "\n",
    "# When you make a new PACKAGE, you need to add a python file in there with \" __init__\" [note the \"Double underscore\"]. This way python will recognize the entire directory or file as a PACKAGE!\n",
    "\n",
    "from ecommerce import shipping\n",
    "\n",
    "shipping.calc_shipping"
   ]
  },
  {
   "cell_type": "code",
   "execution_count": null,
   "metadata": {},
   "outputs": [],
   "source": [
    "# Generating Random Values # \n",
    "\n",
    "import random\n",
    "\n",
    "for i in range(20):\n",
    "    print(random.randint(0,1000))\n",
    "\n",
    "\n",
    "members = [\"Calvin\", \"Mandy\", \"Aspirin\", \"Hayley\", \"Angel\"]\n",
    "leader = random.choice(members)\n",
    "print(leader)\n",
    "\n",
    "\n",
    "\n"
   ]
  },
  {
   "cell_type": "code",
   "execution_count": null,
   "metadata": {},
   "outputs": [],
   "source": [
    "# Exercise - Dice - # \n",
    "\n",
    "import random\n",
    "\n",
    "class Dice:\n",
    "    def roll (self):\n",
    "        first = random.randint(1,6)\n",
    "        second = random.randint(1,6)\n",
    "        return first, second\n",
    "\n",
    "\n",
    "dice = Dice()\n",
    "\n",
    "print(dice.roll())\n",
    "\n"
   ]
  },
  {
   "cell_type": "code",
   "execution_count": null,
   "metadata": {},
   "outputs": [],
   "source": [
    "# files and directory #\n",
    "\n",
    "from pathlib import Path\n",
    "\n",
    "# Absolute path --> start from the hard disk (e.g. c:\\Program Files\\Microsoft)\n",
    "# Relative path --> path starting from the current directory\n",
    "\n",
    "\n",
    "path = Path()\n",
    "for file in (path.glob(\"*\")):\n",
    "    print(file)\n",
    "\n"
   ]
  },
  {
   "cell_type": "code",
   "execution_count": null,
   "metadata": {},
   "outputs": [],
   "source": [
    "# Pypi and Pip #\n",
    "\n",
    "# a place where I can find modules to put into my python #\n",
    "\n",
    "\n"
   ]
  },
  {
   "cell_type": "code",
   "execution_count": null,
   "metadata": {},
   "outputs": [],
   "source": [
    "# ---------------------------------------------------------------------------------------------------------------------------------------------------------------------------------------------------------------------------------------------------------------------------------- #"
   ]
  },
  {
   "cell_type": "code",
   "execution_count": null,
   "metadata": {},
   "outputs": [],
   "source": [
    "# Classes - MOSH Full COURSE - #\n",
    "\n",
    "# Class is a BLUEPRINT to create new OBJECTS #\n",
    "# OBJECT is an instance of a CLASS #\n",
    "\n",
    "# e.g. Class: Humans | Objects: Calvin, Mandy, Aspirin #"
   ]
  },
  {
   "cell_type": "code",
   "execution_count": null,
   "metadata": {},
   "outputs": [],
   "source": [
    "# Creating Classes #\n",
    "\n",
    "class Point:\n",
    "    def draw(self):\n",
    "        print(\"draw\")\n",
    "\n",
    "point = Point()\n",
    "print(type(point))\n",
    "\n",
    "print(isinstance(point, Point))"
   ]
  },
  {
   "cell_type": "code",
   "execution_count": null,
   "metadata": {},
   "outputs": [],
   "source": [
    "# Constructors #\n",
    "\n",
    "class Point:\n",
    "    def __init__(self, x, y):\n",
    "        self.x = x\n",
    "        self.y = y\n",
    "\n",
    "\n",
    "\n",
    "    def draw(self):\n",
    "        print(f\"Point ({self.x}, {self.y})\")\n",
    "\n",
    "\n",
    "\n",
    "point = Point(9786, 7546)\n",
    "point.draw()"
   ]
  },
  {
   "cell_type": "code",
   "execution_count": 33,
   "metadata": {},
   "outputs": [
    {
     "name": "stdout",
     "output_type": "stream",
     "text": [
      "red\n",
      "red\n",
      "Point (9786, 7546)\n"
     ]
    }
   ],
   "source": [
    "# Class vs Instance Attributes #\n",
    "\n",
    "class Point:\n",
    "    default_colour = \"red\"\n",
    "\n",
    "\n",
    "\n",
    "    def __init__(self, x, y):\n",
    "        self.x = x\n",
    "        self.y = y\n",
    "\n",
    "\n",
    "\n",
    "    def draw(self):\n",
    "        print(f\"Point ({self.x}, {self.y})\")\n",
    "\n",
    "\n",
    "point.default_colour = \"yellow\"\n",
    "\n",
    "point = Point(9786, 7546)\n",
    "print(point.default_colour)\n",
    "print(Point.default_colour)\n",
    "point.draw()\n",
    "\n",
    "point2 = Point(1, 6)"
   ]
  },
  {
   "cell_type": "code",
   "execution_count": 36,
   "metadata": {},
   "outputs": [
    {
     "name": "stdout",
     "output_type": "stream",
     "text": [
      "Point (0, 0)\n"
     ]
    }
   ],
   "source": [
    "# Class vs Instance Methods #\n",
    "\n",
    "class Point:\n",
    "    def __init__(self, x, y):\n",
    "        self.x = x\n",
    "        self.y = y\n",
    "\n",
    "\n",
    "    @classmethod\n",
    "    def zero(cls):\n",
    "        return cls(0, 0)\n",
    "\n",
    "    def draw(self):\n",
    "        print(f\"Point ({self.x}, {self.y})\")\n",
    "\n",
    "\n",
    "\n",
    "point = Point.zero()\n",
    "point.draw()"
   ]
  },
  {
   "cell_type": "code",
   "execution_count": 39,
   "metadata": {},
   "outputs": [
    {
     "name": "stdout",
     "output_type": "stream",
     "text": [
      "(9786, 7546)\n"
     ]
    }
   ],
   "source": [
    "# Magic Methods #\n",
    "\n",
    "class Point:\n",
    "    def __init__(self, x, y):\n",
    "        self.x = x\n",
    "        self.y = y\n",
    "\n",
    "\n",
    "\n",
    "\n",
    "    def __str__(self):\n",
    "        return f\"({self.x}, {self.y})\"\n",
    "\n",
    "\n",
    "    def draw(self):\n",
    "        print(f\"Point ({self.x}, {self.y})\")\n",
    "\n",
    "\n",
    "\n",
    "point = Point(9786, 7546)\n",
    "print(str(point))"
   ]
  },
  {
   "cell_type": "code",
   "execution_count": 44,
   "metadata": {},
   "outputs": [
    {
     "name": "stdout",
     "output_type": "stream",
     "text": [
      "False\n"
     ]
    }
   ],
   "source": [
    "# Comparing Objects #\n",
    "\n",
    "class Point:\n",
    "    def __init__(self, x, y):\n",
    "        self.x = x\n",
    "        self.y = y\n",
    "\n",
    "\n",
    "    def __eq__(self, point1):\n",
    "        return self.x == point1.x and self.y == point1.y\n",
    "    \n",
    "\n",
    "    def __gt__(self, point1):\n",
    "        return self.x > point1.x and self.y > point1.y\n",
    "    \n",
    "\n",
    "\n",
    "\n",
    "point = Point(10, 1)\n",
    "\n",
    "point1 = Point(3, 7)\n",
    "\n",
    "print(point > point1)"
   ]
  },
  {
   "cell_type": "code",
   "execution_count": 48,
   "metadata": {},
   "outputs": [
    {
     "name": "stdout",
     "output_type": "stream",
     "text": [
      "13\n"
     ]
    }
   ],
   "source": [
    "# Supporting Arithmetic Operations #\n",
    "\n",
    "class Point:\n",
    "    def __init__(self, x, y):\n",
    "        self.x = x\n",
    "        self.y = y\n",
    "\n",
    "\n",
    "    def __add__(self, point1):\n",
    "        return Point(self.x + point1.x, self.y + point1.y)\n",
    "\n",
    "\n",
    "\n",
    "\n",
    "point = Point(10, 1)\n",
    "\n",
    "point1 = Point(3, 7)\n",
    "\n",
    "combined = point + point1\n",
    "print(combined.x)\n"
   ]
  },
  {
   "cell_type": "code",
   "execution_count": null,
   "metadata": {},
   "outputs": [],
   "source": [
    "# Creating Custom Containers #\n",
    "\n",
    "\n"
   ]
  }
 ],
 "metadata": {
  "kernelspec": {
   "display_name": "Python 3",
   "language": "python",
   "name": "python3"
  },
  "language_info": {
   "codemirror_mode": {
    "name": "ipython",
    "version": 3
   },
   "file_extension": ".py",
   "mimetype": "text/x-python",
   "name": "python",
   "nbconvert_exporter": "python",
   "pygments_lexer": "ipython3",
   "version": "3.12.3"
  }
 },
 "nbformat": 4,
 "nbformat_minor": 2
}
