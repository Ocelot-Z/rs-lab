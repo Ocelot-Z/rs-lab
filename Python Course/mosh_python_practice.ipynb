{
 "cells": [
  {
   "cell_type": "code",
   "execution_count": null,
   "metadata": {},
   "outputs": [],
   "source": [
    "answer = 0\n",
    "\n",
    "for numbers in range(1,10):\n",
    "    if numbers % 2 == 0:\n",
    "        answer += 1\n",
    "        print(numbers)\n",
    "\n",
    "\n",
    "\n",
    "\n",
    "\n",
    "\n",
    "\n",
    "\n",
    "print(f\"We have {answer} even numbers.\")\n",
    "\n",
    "\n",
    "\n",
    "\n",
    "\n",
    "\n",
    "\n",
    "\n"
   ]
  },
  {
   "cell_type": "code",
   "execution_count": null,
   "metadata": {},
   "outputs": [],
   "source": [
    "a = 40\n",
    "b = 30\n",
    "\n",
    "product = a * b\n",
    "\n",
    "sum = a + b \n",
    "\n",
    "if a * b <= 1000:\n",
    "    print(product)\n",
    "\n",
    "else:\n",
    "    print(sum)\n"
   ]
  },
  {
   "cell_type": "code",
   "execution_count": null,
   "metadata": {},
   "outputs": [],
   "source": [
    "a = float(input(\"first number\"))\n",
    "b = float(input(\"second number\"))\n",
    "operator = input(\"operator\")\n",
    "\n",
    "\n",
    "\n",
    "if operator == \"+\":\n",
    "    sum = a + b\n",
    "    print(f\"SUM: {sum}\")\n",
    "elif operator == \"*\":\n",
    "    product = a * b\n",
    "    print(f\"PRODUCT: {product}\")\n",
    "elif operator ==\"-\":\n",
    "    difference = a - b\n",
    "    print(f\"DIFFERENCE: {difference}\")\n",
    "elif operator == \"/\":\n",
    "    if b == 0:\n",
    "        print(\"whatcha trying to do bruh, can't divide by 0\")\n",
    "    else:\n",
    "        division = a / b\n",
    "        print(f\"DIVISION: {division}\")\n",
    "else:\n",
    "    print(\"Invalid operator\")"
   ]
  },
  {
   "cell_type": "code",
   "execution_count": null,
   "metadata": {},
   "outputs": [],
   "source": [
    "names = []\n",
    "\n",
    "for i in range(5):\n",
    "    name = input(f\"Enter your name {i+1}:\")\n",
    "    names.append(name)\n",
    "\n",
    "for name in names:\n",
    "    if name == \"John\":\n",
    "        print(\"Welcome back John!\")\n",
    "    else: print(f\"Yo there {name}!\")"
   ]
  },
  {
   "cell_type": "code",
   "execution_count": null,
   "metadata": {},
   "outputs": [],
   "source": [
    "command = \"\"\n",
    "\n",
    "grades = {}\n",
    "\n",
    "while True:\n",
    "    command = input(\">\").upper()\n",
    "    if command ==\"HELP\":\n",
    "        print(\"\"\"\n",
    "              \n",
    "---Welcome to Academy of Forward Thinking---\n",
    "\n",
    "Record - Add student name and score\n",
    "Check - check result based on student name\n",
    "Quit - Immediate Suicide\n",
    "              \"\"\")\n",
    "        \n",
    "    elif command == \"QUIT\":\n",
    "        print(\"You Died\")\n",
    "        break\n",
    "    elif command == \"RECORD\":\n",
    "        name = input(\"Enter Student name\")\n",
    "        grade = input(f\"Enter grade for {name}\")\n",
    "        grades[name] = grade\n",
    "    \n",
    "    elif command == \"CHECK\":\n",
    "        query = input(\"Enter Student Name\")\n",
    "        if query in grades:\n",
    "            print(f\"{query}'s Grades: {grades[query]}\")\n",
    "        else:\n",
    "            print(f\"{query} not in records\") \n",
    "\n",
    "\n",
    "\n",
    "\n",
    "\n",
    "\n",
    "\n",
    "\n",
    "\n"
   ]
  },
  {
   "cell_type": "code",
   "execution_count": null,
   "metadata": {},
   "outputs": [],
   "source": [
    "class Item:\n",
    "    def name(self):\n",
    "        print(\"\")"
   ]
  }
 ],
 "metadata": {
  "kernelspec": {
   "display_name": "Python 3",
   "language": "python",
   "name": "python3"
  },
  "language_info": {
   "codemirror_mode": {
    "name": "ipython",
    "version": 3
   },
   "file_extension": ".py",
   "mimetype": "text/x-python",
   "name": "python",
   "nbconvert_exporter": "python",
   "pygments_lexer": "ipython3",
   "version": "3.12.3"
  }
 },
 "nbformat": 4,
 "nbformat_minor": 2
}
