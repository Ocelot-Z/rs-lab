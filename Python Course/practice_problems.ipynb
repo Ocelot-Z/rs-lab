{
 "cells": [
  {
   "cell_type": "code",
   "execution_count": null,
   "metadata": {},
   "outputs": [],
   "source": [
    "numbers = [1, 77, 90, 41, 23, 33, 86, 55]\n",
    "\n",
    "max = numbers[0]\n",
    "\n",
    "for number in numbers:\n",
    "    if number > max:\n",
    "        max = number\n",
    "        print(max)"
   ]
  },
  {
   "cell_type": "code",
   "execution_count": null,
   "metadata": {},
   "outputs": [],
   "source": [
    "# Find the largest number in a list#\n",
    "\n",
    "numbers = [44, 199, 908, 1, 10, 11, 24, 68]\n",
    "\n",
    "max = numbers[0]\n",
    "\n",
    "for number in numbers:\n",
    "    if number > max:\n",
    "        max = number\n",
    "        print (max)\n",
    "    \n",
    "\n",
    "\n",
    "\n",
    "\n"
   ]
  },
  {
   "cell_type": "code",
   "execution_count": null,
   "metadata": {},
   "outputs": [],
   "source": [
    "# Write a function fizz_buzz(n) that returns 'Fizz' if n is divisible by 3, 'Buzz' if n is divisible by 5, 'FizzBuzz' if n is divisible by both 3 and 5, and n if none of these conditions are met. #\n",
    "\n",
    "\n",
    "def fizz_buzz(n):\n",
    "    if n % 3 == 0 and n % 5 == 0:\n",
    "        return \"FizzBuzz\"\n",
    "    elif n % 3 == 0:\n",
    "        return \"Fizz\"\n",
    "    elif n % 5 == 0:\n",
    "        return \"Buzz\"\n",
    "    else:\n",
    "        return n\n",
    "\n",
    "print(fizz_buzz(4))"
   ]
  },
  {
   "cell_type": "code",
   "execution_count": null,
   "metadata": {},
   "outputs": [],
   "source": [
    "#Write a function count_vowels(s) that takes a string as an argument and returns the number of vowels (a, e, i, o, u) in the string. #\n",
    "\n",
    "def count_vowels(s):\n",
    "    vowels = \"aeiouAEIOU\"\n",
    "    count = 0\n",
    "    for char in s:\n",
    "        if char in vowels:\n",
    "            count += 1\n",
    "    return count\n",
    "\n",
    "print(count_vowels(\"the quick brown fox jumped oiver the lazy dog\"))"
   ]
  },
  {
   "cell_type": "code",
   "execution_count": null,
   "metadata": {},
   "outputs": [],
   "source": [
    "# Write a function calculate_average(numbers) that takes a list of numbers as an argument and returns the average of those numbers.#\n",
    "\n",
    "numbers = [4,10,60,123,98]\n",
    "\n",
    "average = sum(numbers) / len(numbers)\n",
    "print(average)"
   ]
  },
  {
   "cell_type": "code",
   "execution_count": 30,
   "metadata": {},
   "outputs": [
    {
     "name": "stdout",
     "output_type": "stream",
     "text": [
      "9\n"
     ]
    }
   ],
   "source": [
    "# Write a function count_words(s) that takes a string as an argument and returns the number of words in the string. Assume words are separated by spaces.#\n",
    "\n",
    "def count_words(s):\n",
    "    words = s.split()\n",
    "    count = len(words)\n",
    "    return count\n",
    "\n",
    "print(count_words(\"The quick brown fox jumped over a lazy dog\"))"
   ]
  },
  {
   "cell_type": "code",
   "execution_count": 36,
   "metadata": {},
   "outputs": [
    {
     "name": "stdout",
     "output_type": "stream",
     "text": [
      "Name: Calvin\n",
      "Age: 16\n",
      "None\n"
     ]
    }
   ],
   "source": [
    "def person(name, age):\n",
    "    print(f\"Name: {name}\")\n",
    "    print(f\"Age: {age}\")\n",
    "\n",
    "print(person(\"Calvin\", 16))"
   ]
  },
  {
   "cell_type": "code",
   "execution_count": 48,
   "metadata": {},
   "outputs": [
    {
     "name": "stdout",
     "output_type": "stream",
     "text": [
      "20,40,60\n",
      "None\n"
     ]
    }
   ],
   "source": [
    "def func1(str):\n",
    "    print(str)\n",
    "\n",
    "print(func1)"
   ]
  }
 ],
 "metadata": {
  "kernelspec": {
   "display_name": "Python 3",
   "language": "python",
   "name": "python3"
  },
  "language_info": {
   "codemirror_mode": {
    "name": "ipython",
    "version": 3
   },
   "file_extension": ".py",
   "mimetype": "text/x-python",
   "name": "python",
   "nbconvert_exporter": "python",
   "pygments_lexer": "ipython3",
   "version": "3.12.3"
  }
 },
 "nbformat": 4,
 "nbformat_minor": 2
}
