{
 "cells": [
  {
   "cell_type": "code",
   "execution_count": 7,
   "metadata": {},
   "outputs": [
    {
     "name": "stdout",
     "output_type": "stream",
     "text": [
      "Requirement already satisfied: fastapi in c:\\python\\lib\\site-packages (0.110.2)\n",
      "Requirement already satisfied: pydantic in c:\\python\\lib\\site-packages (2.7.0)\n",
      "Requirement already satisfied: toml in c:\\python\\lib\\site-packages (0.10.2)\n",
      "Requirement already satisfied: openai in c:\\python\\lib\\site-packages (1.20.0)\n",
      "Requirement already satisfied: starlette<0.38.0,>=0.37.2 in c:\\python\\lib\\site-packages (from fastapi) (0.37.2)\n",
      "Requirement already satisfied: typing-extensions>=4.8.0 in c:\\python\\lib\\site-packages (from fastapi) (4.11.0)\n",
      "Requirement already satisfied: annotated-types>=0.4.0 in c:\\python\\lib\\site-packages (from pydantic) (0.6.0)\n",
      "Requirement already satisfied: pydantic-core==2.18.1 in c:\\python\\lib\\site-packages (from pydantic) (2.18.1)\n",
      "Requirement already satisfied: anyio<5,>=3.5.0 in c:\\python\\lib\\site-packages (from openai) (4.3.0)\n",
      "Requirement already satisfied: distro<2,>=1.7.0 in c:\\python\\lib\\site-packages (from openai) (1.9.0)\n",
      "Requirement already satisfied: httpx<1,>=0.23.0 in c:\\python\\lib\\site-packages (from openai) (0.27.0)\n",
      "Requirement already satisfied: sniffio in c:\\python\\lib\\site-packages (from openai) (1.3.1)\n",
      "Requirement already satisfied: tqdm>4 in c:\\python\\lib\\site-packages (from openai) (4.66.2)\n",
      "Requirement already satisfied: idna>=2.8 in c:\\python\\lib\\site-packages (from anyio<5,>=3.5.0->openai) (3.7)\n",
      "Requirement already satisfied: certifi in c:\\python\\lib\\site-packages (from httpx<1,>=0.23.0->openai) (2024.2.2)\n",
      "Requirement already satisfied: httpcore==1.* in c:\\python\\lib\\site-packages (from httpx<1,>=0.23.0->openai) (1.0.5)\n",
      "Requirement already satisfied: h11<0.15,>=0.13 in c:\\python\\lib\\site-packages (from httpcore==1.*->httpx<1,>=0.23.0->openai) (0.14.0)\n",
      "Requirement already satisfied: colorama in c:\\users\\calvi\\appdata\\roaming\\python\\python312\\site-packages (from tqdm>4->openai) (0.4.6)\n",
      "Note: you may need to restart the kernel to use updated packages.\n"
     ]
    }
   ],
   "source": [
    "%pip install fastapi pydantic toml openai"
   ]
  },
  {
   "cell_type": "code",
   "execution_count": 8,
   "metadata": {},
   "outputs": [
    {
     "name": "stdout",
     "output_type": "stream",
     "text": [
      "context: You have arrived at the port where you are to board a cruise to attend your best friend Alex’s wedding in Svalbard, Norway. Originally you were supposed to take a flight along with everyone else, but due to the limited seat capacity, Alex booked you a cruise instead. The cruise staff checked you in and directed you towards the ship, and urged you to hurry as it is almost time to leave...\n",
      "actions:\n",
      "1. Run towards the ship at full speed\n",
      "2. Take the club car\n",
      "3. Take your time because why not\n"
     ]
    },
    {
     "data": {
      "application/vnd.jupyter.widget-view+json": {
       "model_id": "87000c5b4d7b4ba0a0780c7cabc9f33f",
       "version_major": 2,
       "version_minor": 0
      },
      "text/plain": [
       "HBox(children=(Button(description='1', layout=Layout(width='auto'), style=ButtonStyle(), tooltip='Run towards …"
      ]
     },
     "metadata": {},
     "output_type": "display_data"
    },
    {
     "name": "stdout",
     "output_type": "stream",
     "text": [
      "I select option 3. TURN: 1 \n",
      "\n",
      "\n",
      "context: As you decide to take your time, enjoying the cool sea breeze and the bustling atmosphere of the port, a vibrant figure catches your eye. Sophia, with her calico dress fluttering in the wind and a floppy hat perched jauntily on her head, grabs you by your forearm with a laugh. \"You're not planning on missing this ship, are you?\" she teases, her big brown eyes sparkling with adventure. Without waiting for your response, she starts dragging you towards the ship, her energy infectious.\n",
      "actions:\n",
      "1. Thank her and introduce yourself.\n",
      "2. Ask her why she's in such a hurry.\n",
      "3. Try to match her pace and energy."
     ]
    },
    {
     "data": {
      "application/vnd.jupyter.widget-view+json": {
       "model_id": "4fa7f83689c849a391ffafc23fcde15a",
       "version_major": 2,
       "version_minor": 0
      },
      "text/plain": [
       "HBox(children=(Button(description='1', layout=Layout(width='auto'), style=ButtonStyle(), tooltip='Thank her an…"
      ]
     },
     "metadata": {},
     "output_type": "display_data"
    },
    {
     "name": "stdout",
     "output_type": "stream",
     "text": [
      "I select option 3. TURN: 2 \n",
      "\n",
      "\n",
      "context: Matching Sophia's pace, you find yourself swept up in her energetic stride, the two of you weaving through the crowd with ease. \"This is the way to start an adventure!\" she exclaims, her voice full of excitement. As you near the ship, her grip on your arm relaxes, but she doesn't let go. \"I've always believed in making every moment count,\" she says, turning to you with a cheeky grin. \"You seem like you could use a bit of adventure in your life too.\"\n",
      "actions:\n",
      "1. Agree with her and share your excitement.\n",
      "2. Joke about how you're usually more of a planner.\n",
      "3. Express surprise at her intuition."
     ]
    },
    {
     "data": {
      "application/vnd.jupyter.widget-view+json": {
       "model_id": "d35688d139364db1a68cd740feb96298",
       "version_major": 2,
       "version_minor": 0
      },
      "text/plain": [
       "HBox(children=(Button(description='1', layout=Layout(width='auto'), style=ButtonStyle(), tooltip='Agree with h…"
      ]
     },
     "metadata": {},
     "output_type": "display_data"
    },
    {
     "name": "stdout",
     "output_type": "stream",
     "text": [
      "I select option 3. TURN: 3 \n",
      "\n",
      "\n",
      "context: Sophia's laughter rings out, clear and melodious, as you express your surprise. \"It's not hard to spot,\" she says, still grinning. \"You have that look of someone who's on the brink of something new and thrilling. Plus, your suit bag says 'I'm here for something important, but I'm not quite sure what yet.'\" She winks, her energy undiminished even as you both finally step onto the ship. \"Well, you're in good company. I'm here to explore, to find stories, and to live freely. I'm Sophia, by the way.\"\n",
      "summary: Jack decides to take his time and ends up being spirited away by Sophia, a vibrant and adventurous soul, towards the ship. Their interaction is filled with energy, laughter, and the promise of adventure. Jack is intrigued by Sophia's intuition and her free-spirited nature as they board the ship together."
     ]
    },
    {
     "data": {
      "application/vnd.jupyter.widget-view+json": {
       "model_id": "0bde4fce0d384cc79531fa36bb86a31c",
       "version_major": 2,
       "version_minor": 0
      },
      "text/plain": [
       "HBox(children=(Button(description='NEXT ROUND', layout=Layout(width='auto'), style=ButtonStyle()), Button(desc…"
      ]
     },
     "metadata": {},
     "output_type": "display_data"
    },
    {
     "name": "stdout",
     "output_type": "stream",
     "text": [
      "context: You make your way towards your suite, and you are immediately greeted by a spacious room with a balcony. As you set your luggage and items in place, the Captain, through the intercom, invites everyone to the top deck for food and drinks as the cruise departs. You...\n",
      "actions:\n",
      "1. Attend the party on the deck\n",
      "2. Stay in your suite and turn on the TV\n",
      "3. Go to the balcony and relax\n"
     ]
    },
    {
     "data": {
      "application/vnd.jupyter.widget-view+json": {
       "model_id": "e9d575efa00543d9885048953e853563",
       "version_major": 2,
       "version_minor": 0
      },
      "text/plain": [
       "HBox(children=(Button(description='1', layout=Layout(width='auto'), style=ButtonStyle(), tooltip='Attend the p…"
      ]
     },
     "metadata": {},
     "output_type": "display_data"
    },
    {
     "name": "stdout",
     "output_type": "stream",
     "text": [
      "I select option 1. TURN: 1 \n",
      "\n",
      "\n",
      "context: Eager to immerse yourself in the lively atmosphere of the ship, you head to the deck. The air is filled with the sound of music, laughter, and the clinking of glasses. As you navigate through the crowd, you spot Sophia, her energy unmistakable even from a distance. She waves you over, a wide smile on her face. \"Jack! Come meet some friends!\" she exclaims, pulling you into a group that includes a girl with a light, carefree laugh, who introduces herself as Saoirse.\n",
      "actions:\n",
      "1. Chat more with Saoirse and learn about her.\n",
      "2. Ask Sophia about the ship's destinations.\n",
      "3. Suggest a dance with Sophia and Saoirse."
     ]
    },
    {
     "data": {
      "application/vnd.jupyter.widget-view+json": {
       "model_id": "45a6c8d4f75747329a45a54e9b77c758",
       "version_major": 2,
       "version_minor": 0
      },
      "text/plain": [
       "HBox(children=(Button(description='1', layout=Layout(width='auto'), style=ButtonStyle(), tooltip='Chat more wi…"
      ]
     },
     "metadata": {},
     "output_type": "display_data"
    },
    {
     "name": "stdout",
     "output_type": "stream",
     "text": [
      "I select option 1. TURN: 2 \n",
      "\n",
      "\n",
      "context: You turn your attention to Saoirse, intrigued by her easygoing vibe. \"So, what brings you to this cruise?\" you ask, leaning in to hear her over the music. Saoirse's eyes light up, \"Ah, just the love for adventure and a good party,\" she says with a laugh, her Irish accent adding a melodic tone to her words. \"What about you?\" she asks, genuinely interested. As you share your own reasons, you find the conversation flowing effortlessly, her stories of travels and escapades captivating you.\n",
      "actions:\n",
      "1. Share a funny travel mishap of your own.\n",
      "2. Ask Saoirse to recommend a drink.\n",
      "3. Invite Saoirse to join you and Sophia for an adventure on the ship."
     ]
    },
    {
     "data": {
      "application/vnd.jupyter.widget-view+json": {
       "model_id": "a7ac7e288d454d8a9ffce746da6b02ed",
       "version_major": 2,
       "version_minor": 0
      },
      "text/plain": [
       "HBox(children=(Button(description='1', layout=Layout(width='auto'), style=ButtonStyle(), tooltip='Share a funn…"
      ]
     },
     "metadata": {},
     "output_type": "display_data"
    },
    {
     "name": "stdout",
     "output_type": "stream",
     "text": [
      "I select option 2. TURN: 3 \n",
      "\n",
      "\n",
      "context: \"You've got to try the ship's signature cocktail,\" Saoirse suggests with an enthusiastic nod. \"It's called the Ocean's Whisper. Perfect blend of mystery and flavor, much like the sea itself.\" She waves over a waiter, ordering two Ocean's Whispers with a confident smile. As you wait, she regales you with a story about the most unforgettable drink she's ever had in a small pub in Ireland, making you laugh with her vivid descriptions and cheeky comments. The drinks arrive, and you toast to new friendships and adventures.\n",
      "actions:\n",
      "1. Suggest exploring the ship after the drinks.\n",
      "2. Ask Saoirse about her favorite adventure.\n",
      "3. Compliment Saoirse on her storytelling ability."
     ]
    },
    {
     "data": {
      "application/vnd.jupyter.widget-view+json": {
       "model_id": "3630b1df8cd5423082258b2f381a56df",
       "version_major": 2,
       "version_minor": 0
      },
      "text/plain": [
       "HBox(children=(Button(description='1', layout=Layout(width='auto'), style=ButtonStyle(), tooltip='Suggest expl…"
      ]
     },
     "metadata": {},
     "output_type": "display_data"
    },
    {
     "name": "stdout",
     "output_type": "stream",
     "text": [
      "I select option 2. TURN: 4 \n",
      "\n",
      "\n",
      "context: Taking a sip of the Ocean's Whisper, you lean in, intrigued. \"What's been your favorite adventure so far?\" you ask. Saoirse ponders for a moment, her gaze drifting off to the sea before she smiles, eyes twinkling. \"It has to be the time I went cliff diving in Moher. The thrill, the sheer drop, the cold splash of the Atlantic... It was terrifying and exhilarating all at once!\" Her enthusiasm is infectious, and you find yourself imagining the rush of such an adventure, the wildness of the Irish coastline vivid in your mind through her words.\n",
      "actions:\n",
      "1. Share your own adventurous experience.\n",
      "2. Propose a toast to daring adventures.\n",
      "3. Ask Saoirse for tips on overcoming fears."
     ]
    },
    {
     "data": {
      "application/vnd.jupyter.widget-view+json": {
       "model_id": "f6b6c674ef8c43878a3b02416856514c",
       "version_major": 2,
       "version_minor": 0
      },
      "text/plain": [
       "HBox(children=(Button(description='1', layout=Layout(width='auto'), style=ButtonStyle(), tooltip='Share your o…"
      ]
     },
     "metadata": {},
     "output_type": "display_data"
    },
    {
     "name": "stdout",
     "output_type": "stream",
     "text": [
      "I select option 2. TURN: 5 \n",
      "\n",
      "\n",
      "context: Raising your glass high, you catch Saoirse's eye, saying, \"To daring adventures and the courage to face them head-on.\" She grins, clinking her glass against yours. \"To adventures and the friends we meet along the way,\" she adds, and you both take a hearty sip. The atmosphere around you is electric, filled with the promise of new experiences and the joy of making connections. As the ship's horn sounds, marking the beginning of your journey, you feel a sense of excitement for what lies ahead, knowing that this trip will be unforgettable.\n",
      "summary: Jack attends the party on the deck, meeting Sophia and Saoirse. He finds a kindred spirit in Saoirse, bonding over shared interests in adventure and travel. Their conversation is lively, filled with stories and laughter, culminating in a toast to daring adventures as the ship sets sail."
     ]
    },
    {
     "data": {
      "application/vnd.jupyter.widget-view+json": {
       "model_id": "97051b50d8784e5691e3ca2e519e3a9f",
       "version_major": 2,
       "version_minor": 0
      },
      "text/plain": [
       "HBox(children=(Button(description='NEXT ROUND', layout=Layout(width='auto'), style=ButtonStyle()), Button(desc…"
      ]
     },
     "metadata": {},
     "output_type": "display_data"
    }
   ],
   "source": [
    "import re\n",
    "import tomllib\n",
    "import functools\n",
    "from typing import Literal\n",
    "\n",
    "import ipywidgets as widgets\n",
    "from IPython.display import display\n",
    "\n",
    "from dotenv import load_dotenv\n",
    "\n",
    "load_dotenv()\n",
    "\n",
    "from rs import Message, Config, chat, skill_check, chat_with_azure\n",
    "import d20\n",
    "\n",
    "action_pattern = re.compile(r\"(\\d+). *(.+)\")\n",
    "skill_pattern = re.compile(r\"[\\w_]+\")\n",
    "skill_difficulty_pattern = re.compile(r\"(easy|medium|hard)\")\n",
    "\n",
    "def next_round(b):\n",
    "    global current_round, initial_messages\n",
    "    current_round += 1\n",
    "    initial_messages = config.initial_messages(current_round, config.metadata)\n",
    "\n",
    "    print(initial_messages[-1].content)\n",
    "    display(get_controls(initial_messages[-1]))\n",
    "\n",
    "def get_user_message_tail():\n",
    "    count = 0\n",
    "    for msg in initial_messages:\n",
    "        if msg.role == \"user\":\n",
    "            count += 1\n",
    "\n",
    "    is_final =  \", FINAL ROUND\" if  current_round == len(config.rounds) else \"\"\n",
    "    return f\"TURN: {count + 1} {is_final}\"\n",
    "    \n",
    "\n",
    "def do_chat(role:Literal[\"user\", \"system\", \"assistant\"], content: str):\n",
    "    print(f\"{content}\\n\\n\")\n",
    "\n",
    "    initial_messages.append(Message(role=role, content=content))\n",
    "    msg = chat_with_azure(initial_messages, lambda delta: print(delta, end=\"\"))\n",
    "\n",
    "    initial_messages.append(msg)\n",
    "    display(get_controls(msg))\n",
    "\n",
    "\n",
    "def on_skill(b, skill:str, difficulty:str):\n",
    "    content = f\"I am making a skill check using {skill.upper()} against a difficulty of {difficulty.upper()}.\"\n",
    "\n",
    "    d = difficulty.lower()\n",
    "    dc = 50\n",
    "    if d == \"easy\":\n",
    "        dc = 75\n",
    "    elif d == \"hard\":\n",
    "        dc = 25\n",
    "    roll = d20.roll(\"1d100\").total\n",
    "    result = \"Success\" if roll <= dc else \"Failure\"\n",
    "    if roll == 1:\n",
    "        result = \"Critical Success\"\n",
    "    elif roll == 100:\n",
    "        result = \"Critical Failure\"\n",
    "\n",
    "    content += f\"\\nAnd I rolled a {roll} for a result of {result.upper()}. {get_user_message_tail()}\"\n",
    "    do_chat(\"user\", content)\n",
    "\n",
    "def on_action(b, index:int):\n",
    "    content = f\"I select option {index}. {get_user_message_tail()}\"\n",
    "    do_chat(\"user\", content)\n",
    "\n",
    "def on_custom_input(b, input:widgets.Text):\n",
    "    content = f\"{input.value}. {get_user_message_tail()}\"\n",
    "    do_chat(\"user\", content)\n",
    "\n",
    "def on_custom_action(b):\n",
    "    hbox = widgets.HBox(layout=widgets.Layout(width=\"100%\"))\n",
    "    action_text = widgets.Text(layout=widgets.Layout(width=\"100%\"))\n",
    "    submit = widgets.Button(description=\"SUBMIT\", layout=widgets.Layout(width=\"fit-content\"))\n",
    "    submit.on_click(functools.partial(on_custom_input, input=action_text))\n",
    "    hbox.children += (action_text, submit) \n",
    "    display(hbox)\n",
    "\n",
    "def get_controls(msg:Message) -> widgets.Box:\n",
    "    dict = msg.dict()\n",
    "    buttons = []\n",
    "    if \"actions\" in dict.keys():\n",
    "        matches = action_pattern.finditer(dict[\"actions\"])\n",
    "        for match in matches:\n",
    "            btn = widgets.Button(description=match.group(1), tooltip=match.group(2), layout=widgets.Layout(width=\"auto\"))\n",
    "            btn.on_click(functools.partial(on_action, index=int(match.group(1))))\n",
    "            buttons.append(btn)\n",
    "    elif \"skill\" in dict.keys() and \"difficulty\" in dict.keys():\n",
    "        match = skill_pattern.match(dict[\"skill\"])\n",
    "        skill = match.group(0)\n",
    "        difficulty = dict[\"difficulty\"]\n",
    "        skill_button = widgets.Button(description=f\"{skill.upper()} [{difficulty.upper()}]\", layout=widgets.Layout(width=\"auto\"))\n",
    "        skill_button.on_click(functools.partial(on_skill, skill=skill, difficulty=difficulty))\n",
    "        buttons.append(skill_button)\n",
    "    elif \"summary\" in dict.keys():\n",
    "        # add round summary as a memory to the metadata\n",
    "        # it will be used in the next round.\n",
    "        # config.metadata[\"memories\"] = []\n",
    "        if (\"memories\" not in config.metadata):\n",
    "            config.metadata[\"memories\"] = []\n",
    "            \n",
    "        config.metadata[\"memories\"].append(dict[\"summary\"])\n",
    "        next_btn = widgets.Button(description=\"NEXT ROUND\", layout=widgets.Layout(width=\"auto\"))\n",
    "        next_btn.on_click(next_round)\n",
    "        buttons.append(next_btn)\n",
    "    elif \"ending\" in dict.keys():\n",
    "        ending_btn = widgets.Button(description=\"END\", layout=widgets.Layout(width=\"auto\"))\n",
    "        buttons.append(ending_btn)\n",
    "    \n",
    "    custom_action_button = widgets.Button(description=\"CUSTOM\")\n",
    "    custom_action_button.on_click(on_custom_action)\n",
    "    buttons.append(custom_action_button)\n",
    "\n",
    "    return widgets.HBox(buttons)\n",
    "\n",
    "# open config file\n",
    "config_name = \"data/love_cruise.toml\"\n",
    "config: Config | None = None\n",
    "with open(config_name, \"rb\") as f:\n",
    "    data = tomllib.load(f)\n",
    "    config = Config(**data)\n",
    "\n",
    "current_round =0\n",
    "initial_messages = config.initial_messages(current_round, config.metadata)\n",
    "\n",
    "print(initial_messages[-1].content)\n",
    "display(get_controls(initial_messages[-1]))"
   ]
  },
  {
   "cell_type": "code",
   "execution_count": null,
   "metadata": {},
   "outputs": [],
   "source": []
  }
 ],
 "metadata": {
  "kernelspec": {
   "display_name": ".venv",
   "language": "python",
   "name": "python3"
  },
  "language_info": {
   "codemirror_mode": {
    "name": "ipython",
    "version": 3
   },
   "file_extension": ".py",
   "mimetype": "text/x-python",
   "name": "python",
   "nbconvert_exporter": "python",
   "pygments_lexer": "ipython3",
   "version": "3.12.3"
  }
 },
 "nbformat": 4,
 "nbformat_minor": 2
}
