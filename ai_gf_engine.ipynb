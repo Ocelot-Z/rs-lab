{
 "cells": [
  {
   "cell_type": "code",
   "execution_count": 1,
   "metadata": {},
   "outputs": [
    {
     "name": "stdout",
     "output_type": "stream",
     "text": [
      "Requirement already satisfied: fastapi in c:\\python\\lib\\site-packages (0.110.2)\n",
      "Requirement already satisfied: pydantic in c:\\python\\lib\\site-packages (2.7.0)\n",
      "Requirement already satisfied: toml in c:\\python\\lib\\site-packages (0.10.2)\n",
      "Requirement already satisfied: openai in c:\\python\\lib\\site-packages (1.20.0)\n",
      "Requirement already satisfied: starlette<0.38.0,>=0.37.2 in c:\\python\\lib\\site-packages (from fastapi) (0.37.2)\n",
      "Requirement already satisfied: typing-extensions>=4.8.0 in c:\\python\\lib\\site-packages (from fastapi) (4.11.0)\n",
      "Requirement already satisfied: annotated-types>=0.4.0 in c:\\python\\lib\\site-packages (from pydantic) (0.6.0)\n",
      "Requirement already satisfied: pydantic-core==2.18.1 in c:\\python\\lib\\site-packages (from pydantic) (2.18.1)\n",
      "Requirement already satisfied: anyio<5,>=3.5.0 in c:\\python\\lib\\site-packages (from openai) (4.3.0)\n",
      "Requirement already satisfied: distro<2,>=1.7.0 in c:\\python\\lib\\site-packages (from openai) (1.9.0)\n",
      "Requirement already satisfied: httpx<1,>=0.23.0 in c:\\python\\lib\\site-packages (from openai) (0.27.0)\n",
      "Requirement already satisfied: sniffio in c:\\python\\lib\\site-packages (from openai) (1.3.1)\n",
      "Requirement already satisfied: tqdm>4 in c:\\python\\lib\\site-packages (from openai) (4.66.2)\n",
      "Requirement already satisfied: idna>=2.8 in c:\\python\\lib\\site-packages (from anyio<5,>=3.5.0->openai) (3.7)\n",
      "Requirement already satisfied: certifi in c:\\python\\lib\\site-packages (from httpx<1,>=0.23.0->openai) (2024.2.2)\n",
      "Requirement already satisfied: httpcore==1.* in c:\\python\\lib\\site-packages (from httpx<1,>=0.23.0->openai) (1.0.5)\n",
      "Requirement already satisfied: h11<0.15,>=0.13 in c:\\python\\lib\\site-packages (from httpcore==1.*->httpx<1,>=0.23.0->openai) (0.14.0)\n",
      "Requirement already satisfied: colorama in c:\\users\\calvi\\appdata\\roaming\\python\\python312\\site-packages (from tqdm>4->openai) (0.4.6)\n",
      "Note: you may need to restart the kernel to use updated packages.\n"
     ]
    }
   ],
   "source": [
    "%pip install fastapi pydantic toml openai"
   ]
  },
  {
   "cell_type": "code",
   "execution_count": null,
   "metadata": {},
   "outputs": [
    {
     "name": "stdout",
     "output_type": "stream",
     "text": [
      "context: You have arrived at the port where you are to board a cruise to attend your best friend Alex’s wedding in Svalbard, Norway. Originally you were supposed to take a flight along with everyone else, but due to the limited seat capacity, Alex booked you a cruise instead. The cruise staff checked you in and directed you towards the ship, and urged you to hurry as it is almost time to leave...\n",
      "actions:\n",
      "1. Run towards the ship at full speed\n",
      "2. Take the club car\n",
      "3. Take your time because why not\n"
     ]
    },
    {
     "data": {
      "application/vnd.jupyter.widget-view+json": {
       "model_id": "4a9ec2be535343268f47c5bd820977eb",
       "version_major": 2,
       "version_minor": 0
      },
      "text/plain": [
       "HBox(children=(Button(description='1', layout=Layout(width='auto'), style=ButtonStyle(), tooltip='Run towards …"
      ]
     },
     "metadata": {},
     "output_type": "display_data"
    },
    {
     "name": "stdout",
     "output_type": "stream",
     "text": [
      "I select option 1. TURN: 1 \n",
      "\n",
      "\n",
      "context: As you dash towards the ship, your pace quick and determined, a passenger named Mandy, in a rush herself, accidentally bumps into you. The collision sends your suit bag flying from your grip, and before you can react, it plummets into the sea below, leaving you in shock as you watch your suit—the one you were supposed to wear at your best friend's wedding—sink into the depths.\n",
      "actions:\n",
      "1. Try to retrieve the suit.\n",
      "2. Apologize to Mandy and continue.\n",
      "3. Ask Mandy for help."
     ]
    },
    {
     "data": {
      "application/vnd.jupyter.widget-view+json": {
       "model_id": "df274544142a4e5587cffedc6fced102",
       "version_major": 2,
       "version_minor": 0
      },
      "text/plain": [
       "HBox(children=(Button(description='1', layout=Layout(width='auto'), style=ButtonStyle(), tooltip='Try to retri…"
      ]
     },
     "metadata": {},
     "output_type": "display_data"
    },
    {
     "name": "stdout",
     "output_type": "stream",
     "text": [
      "I select option 1. TURN: 2 \n",
      "\n",
      "\n",
      "context: You rush to the edge of the dock, eyes scanning the water for any sign of your suit bag. However, the realization quickly sets in that retrieving it from the vast, deep sea is a futile endeavor. The suit is gone, and there's nothing you can do to bring it back. You take a deep breath, trying to calm the panic and frustration building inside you.\n",
      "actions:\n",
      "1. Go back and confront Mandy.\n",
      "2. Head to the ship's lost and found.\n",
      "3. Continue towards the ship without the suit."
     ]
    },
    {
     "data": {
      "application/vnd.jupyter.widget-view+json": {
       "model_id": "cea94e3a3a134dc58dbb09e1a729abc4",
       "version_major": 2,
       "version_minor": 0
      },
      "text/plain": [
       "HBox(children=(Button(description='1', layout=Layout(width='auto'), style=ButtonStyle(), tooltip='Go back and …"
      ]
     },
     "metadata": {},
     "output_type": "display_data"
    },
    {
     "name": "stdout",
     "output_type": "stream",
     "text": [
      "I select option 1. TURN: 3 \n",
      "\n",
      "\n",
      "context: You turn around, locating Mandy who seems equally flustered by the incident. As you approach her, you notice her apologetic expression. She explains that she was running late to board the ship and didn't see you. Mandy genuinely feels terrible about the accident and offers to compensate you for the lost suit, insisting it's the least she can do.\n",
      "actions:\n",
      "1. Accept her offer and exchange contact information.\n",
      "2. Decline her offer and forgive her.\n",
      "3. Suggest she helps you find a replacement on the ship."
     ]
    },
    {
     "data": {
      "application/vnd.jupyter.widget-view+json": {
       "model_id": "9ab1e4147d56424d8acee380a87f2978",
       "version_major": 2,
       "version_minor": 0
      },
      "text/plain": [
       "HBox(children=(Button(description='1', layout=Layout(width='auto'), style=ButtonStyle(), tooltip='Accept her o…"
      ]
     },
     "metadata": {},
     "output_type": "display_data"
    },
    {
     "name": "stdout",
     "output_type": "stream",
     "text": [
      "I select option 1. TURN: 4 \n",
      "\n",
      "\n",
      "context: You and Mandy exchange contact information, agreeing to sort out the compensation for the lost suit once you're both settled on the ship. Despite the unfortunate start, this moment of kindness from a stranger brings a sense of relief. You thank Mandy for her understanding and generosity, and with a lighter heart, you proceed towards the ship, ready to embark on this unexpected journey.\n",
      "summary: Jack, in a rush to board the cruise, loses his suit to the sea due to a collision with Mandy. They exchange contact information for compensation."
     ]
    },
    {
     "data": {
      "application/vnd.jupyter.widget-view+json": {
       "model_id": "81e5eff6255e4de891847546d8a8440d",
       "version_major": 2,
       "version_minor": 0
      },
      "text/plain": [
       "HBox(children=(Button(description='NEXT ROUND', layout=Layout(width='auto'), style=ButtonStyle()), Button(desc…"
      ]
     },
     "metadata": {},
     "output_type": "display_data"
    }
   ],
   "source": [
    "import re\n",
    "import tomllib\n",
    "import functools\n",
    "from typing import Literal\n",
    "\n",
    "import ipywidgets as widgets\n",
    "from IPython.display import display\n",
    "\n",
    "from dotenv import load_dotenv\n",
    "\n",
    "load_dotenv()\n",
    "\n",
    "from rs import Message, Config, chat, skill_check, chat_with_azure\n",
    "import d20\n",
    "\n",
    "action_pattern = re.compile(r\"(\\d+). *(.+)\")\n",
    "skill_pattern = re.compile(r\"[\\w_]+\")\n",
    "skill_difficulty_pattern = re.compile(r\"(easy|medium|hard)\")\n",
    "\n",
    "def next_round(b):\n",
    "    global current_round, initial_messages\n",
    "    current_round += 1\n",
    "    initial_messages = config.initial_messages(current_round, config.metadata)\n",
    "\n",
    "    print(initial_messages[-1].content)\n",
    "    display(get_controls(initial_messages[-1]))\n",
    "\n",
    "def get_user_message_tail():\n",
    "    count = 0\n",
    "    for msg in initial_messages:\n",
    "        if msg.role == \"user\":\n",
    "            count += 1\n",
    "\n",
    "    is_final =  \", FINAL ROUND\" if  current_round == len(config.rounds) else \"\"\n",
    "    return f\"TURN: {count + 1} {is_final}\"\n",
    "    \n",
    "\n",
    "def do_chat(role:Literal[\"user\", \"system\", \"assistant\"], content: str):\n",
    "    print(f\"{content}\\n\\n\")\n",
    "\n",
    "    initial_messages.append(Message(role=role, content=content))\n",
    "    msg = chat_with_azure(initial_messages, lambda delta: print(delta, end=\"\"))\n",
    "\n",
    "    initial_messages.append(msg)\n",
    "    display(get_controls(msg))\n",
    "\n",
    "\n",
    "def on_skill(b, skill:str, difficulty:str):\n",
    "    content = f\"I am making a skill check using {skill.upper()} against a difficulty of {difficulty.upper()}.\"\n",
    "\n",
    "    d = difficulty.lower()\n",
    "    dc = 50\n",
    "    if d == \"easy\":\n",
    "        dc = 75\n",
    "    elif d == \"hard\":\n",
    "        dc = 25\n",
    "    roll = d20.roll(\"1d100\").total\n",
    "    result = \"Success\" if roll <= dc else \"Failure\"\n",
    "    if roll == 1:\n",
    "        result = \"Critical Success\"\n",
    "    elif roll == 100:\n",
    "        result = \"Critical Failure\"\n",
    "\n",
    "    content += f\"\\nAnd I rolled a {roll} for a result of {result.upper()}. {get_user_message_tail()}\"\n",
    "    do_chat(\"user\", content)\n",
    "\n",
    "def on_action(b, index:int):\n",
    "    content = f\"I select option {index}. {get_user_message_tail()}\"\n",
    "    do_chat(\"user\", content)\n",
    "\n",
    "def on_custom_input(b, input:widgets.Text):\n",
    "    content = f\"{input.value}. {get_user_message_tail()}\"\n",
    "    do_chat(\"user\", content)\n",
    "\n",
    "def on_custom_action(b):\n",
    "    hbox = widgets.HBox(layout=widgets.Layout(width=\"100%\"))\n",
    "    action_text = widgets.Text(layout=widgets.Layout(width=\"100%\"))\n",
    "    submit = widgets.Button(description=\"SUBMIT\", layout=widgets.Layout(width=\"fit-content\"))\n",
    "    submit.on_click(functools.partial(on_custom_input, input=action_text))\n",
    "    hbox.children += (action_text, submit) \n",
    "    display(hbox)\n",
    "\n",
    "def get_controls(msg:Message) -> widgets.Box:\n",
    "    dict = msg.dict()\n",
    "    buttons = []\n",
    "    if \"actions\" in dict.keys():\n",
    "        matches = action_pattern.finditer(dict[\"actions\"])\n",
    "        for match in matches:\n",
    "            btn = widgets.Button(description=match.group(1), tooltip=match.group(2), layout=widgets.Layout(width=\"auto\"))\n",
    "            btn.on_click(functools.partial(on_action, index=int(match.group(1))))\n",
    "            buttons.append(btn)\n",
    "    elif \"skill\" in dict.keys() and \"difficulty\" in dict.keys():\n",
    "        match = skill_pattern.match(dict[\"skill\"])\n",
    "        skill = match.group(0)\n",
    "        difficulty = dict[\"difficulty\"]\n",
    "        skill_button = widgets.Button(description=f\"{skill.upper()} [{difficulty.upper()}]\", layout=widgets.Layout(width=\"auto\"))\n",
    "        skill_button.on_click(functools.partial(on_skill, skill=skill, difficulty=difficulty))\n",
    "        buttons.append(skill_button)\n",
    "    elif \"summary\" in dict.keys():\n",
    "        # add round summary as a memory to the metadata\n",
    "        # it will be used in the next round.\n",
    "        # config.metadata[\"memories\"] = []\n",
    "        if (\"memories\" not in config.metadata):\n",
    "            config.metadata[\"memories\"] = []\n",
    "            \n",
    "        config.metadata[\"memories\"].append(dict[\"summary\"])\n",
    "        next_btn = widgets.Button(description=\"NEXT ROUND\", layout=widgets.Layout(width=\"auto\"))\n",
    "        next_btn.on_click(next_round)\n",
    "        buttons.append(next_btn)\n",
    "    elif \"ending\" in dict.keys():\n",
    "        ending_btn = widgets.Button(description=\"END\", layout=widgets.Layout(width=\"auto\"))\n",
    "        buttons.append(ending_btn)\n",
    "    \n",
    "    custom_action_button = widgets.Button(description=\"CUSTOM\")\n",
    "    custom_action_button.on_click(on_custom_action)\n",
    "    buttons.append(custom_action_button)\n",
    "\n",
    "    return widgets.HBox(buttons)\n",
    "\n",
    "# open config file\n",
    "config_name = \"data/love_cruise.toml\"\n",
    "config: Config | None = None\n",
    "with open(config_name, \"rb\") as f:\n",
    "    data = tomllib.load(f)\n",
    "    config = Config(**data)\n",
    "\n",
    "current_round =0\n",
    "initial_messages = config.initial_messages(current_round, config.metadata)\n",
    "\n",
    "print(initial_messages[-1].content)\n",
    "display(get_controls(initial_messages[-1]))"
   ]
  },
  {
   "cell_type": "code",
   "execution_count": null,
   "metadata": {},
   "outputs": [],
   "source": []
  }
 ],
 "metadata": {
  "kernelspec": {
   "display_name": ".venv",
   "language": "python",
   "name": "python3"
  },
  "language_info": {
   "codemirror_mode": {
    "name": "ipython",
    "version": 3
   },
   "file_extension": ".py",
   "mimetype": "text/x-python",
   "name": "python",
   "nbconvert_exporter": "python",
   "pygments_lexer": "ipython3",
   "version": "3.12.3"
  }
 },
 "nbformat": 4,
 "nbformat_minor": 2
}
