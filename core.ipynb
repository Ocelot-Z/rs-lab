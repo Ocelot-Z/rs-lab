{
 "cells": [
  {
   "cell_type": "code",
   "execution_count": 135,
   "metadata": {},
   "outputs": [
    {
     "name": "stdout",
     "output_type": "stream",
     "text": [
      "Looking in indexes: https://pypi.tuna.tsinghua.edu.cn/simple\n",
      "Requirement already satisfied: openai in ./.venv/lib/python3.12/site-packages (1.17.0)\n",
      "Requirement already satisfied: jinja2 in ./.venv/lib/python3.12/site-packages (3.1.3)\n",
      "Requirement already satisfied: ipywidgets in ./.venv/lib/python3.12/site-packages (8.1.2)\n",
      "Requirement already satisfied: d20 in ./.venv/lib/python3.12/site-packages (1.1.2)\n",
      "Requirement already satisfied: python-dotenv in ./.venv/lib/python3.12/site-packages (1.0.1)\n",
      "Requirement already satisfied: anyio<5,>=3.5.0 in ./.venv/lib/python3.12/site-packages (from openai) (4.3.0)\n",
      "Requirement already satisfied: distro<2,>=1.7.0 in ./.venv/lib/python3.12/site-packages (from openai) (1.9.0)\n",
      "Requirement already satisfied: httpx<1,>=0.23.0 in ./.venv/lib/python3.12/site-packages (from openai) (0.27.0)\n",
      "Requirement already satisfied: pydantic<3,>=1.9.0 in ./.venv/lib/python3.12/site-packages (from openai) (2.7.0)\n",
      "Requirement already satisfied: sniffio in ./.venv/lib/python3.12/site-packages (from openai) (1.3.1)\n",
      "Requirement already satisfied: tqdm>4 in ./.venv/lib/python3.12/site-packages (from openai) (4.66.2)\n",
      "Requirement already satisfied: typing-extensions<5,>=4.7 in ./.venv/lib/python3.12/site-packages (from openai) (4.11.0)\n",
      "Requirement already satisfied: MarkupSafe>=2.0 in ./.venv/lib/python3.12/site-packages (from jinja2) (2.1.5)\n",
      "Requirement already satisfied: comm>=0.1.3 in ./.venv/lib/python3.12/site-packages (from ipywidgets) (0.2.2)\n",
      "Requirement already satisfied: ipython>=6.1.0 in ./.venv/lib/python3.12/site-packages (from ipywidgets) (8.23.0)\n",
      "Requirement already satisfied: traitlets>=4.3.1 in ./.venv/lib/python3.12/site-packages (from ipywidgets) (5.14.2)\n",
      "Requirement already satisfied: widgetsnbextension~=4.0.10 in ./.venv/lib/python3.12/site-packages (from ipywidgets) (4.0.10)\n",
      "Requirement already satisfied: jupyterlab-widgets~=3.0.10 in ./.venv/lib/python3.12/site-packages (from ipywidgets) (3.0.10)\n",
      "Requirement already satisfied: cachetools>=3.1.0 in ./.venv/lib/python3.12/site-packages (from d20) (5.3.3)\n",
      "Requirement already satisfied: lark-parser~=0.9.0 in ./.venv/lib/python3.12/site-packages (from d20) (0.9.0)\n",
      "Requirement already satisfied: idna>=2.8 in ./.venv/lib/python3.12/site-packages (from anyio<5,>=3.5.0->openai) (3.7)\n",
      "Requirement already satisfied: certifi in ./.venv/lib/python3.12/site-packages (from httpx<1,>=0.23.0->openai) (2024.2.2)\n",
      "Requirement already satisfied: httpcore==1.* in ./.venv/lib/python3.12/site-packages (from httpx<1,>=0.23.0->openai) (1.0.5)\n",
      "Requirement already satisfied: h11<0.15,>=0.13 in ./.venv/lib/python3.12/site-packages (from httpcore==1.*->httpx<1,>=0.23.0->openai) (0.14.0)\n",
      "Requirement already satisfied: decorator in ./.venv/lib/python3.12/site-packages (from ipython>=6.1.0->ipywidgets) (5.1.1)\n",
      "Requirement already satisfied: jedi>=0.16 in ./.venv/lib/python3.12/site-packages (from ipython>=6.1.0->ipywidgets) (0.19.1)\n",
      "Requirement already satisfied: matplotlib-inline in ./.venv/lib/python3.12/site-packages (from ipython>=6.1.0->ipywidgets) (0.1.6)\n",
      "Requirement already satisfied: prompt-toolkit<3.1.0,>=3.0.41 in ./.venv/lib/python3.12/site-packages (from ipython>=6.1.0->ipywidgets) (3.0.43)\n",
      "Requirement already satisfied: pygments>=2.4.0 in ./.venv/lib/python3.12/site-packages (from ipython>=6.1.0->ipywidgets) (2.17.2)\n",
      "Requirement already satisfied: stack-data in ./.venv/lib/python3.12/site-packages (from ipython>=6.1.0->ipywidgets) (0.6.3)\n",
      "Requirement already satisfied: pexpect>4.3 in ./.venv/lib/python3.12/site-packages (from ipython>=6.1.0->ipywidgets) (4.9.0)\n",
      "Requirement already satisfied: annotated-types>=0.4.0 in ./.venv/lib/python3.12/site-packages (from pydantic<3,>=1.9.0->openai) (0.6.0)\n",
      "Requirement already satisfied: pydantic-core==2.18.1 in ./.venv/lib/python3.12/site-packages (from pydantic<3,>=1.9.0->openai) (2.18.1)\n",
      "Requirement already satisfied: parso<0.9.0,>=0.8.3 in ./.venv/lib/python3.12/site-packages (from jedi>=0.16->ipython>=6.1.0->ipywidgets) (0.8.4)\n",
      "Requirement already satisfied: ptyprocess>=0.5 in ./.venv/lib/python3.12/site-packages (from pexpect>4.3->ipython>=6.1.0->ipywidgets) (0.7.0)\n",
      "Requirement already satisfied: wcwidth in ./.venv/lib/python3.12/site-packages (from prompt-toolkit<3.1.0,>=3.0.41->ipython>=6.1.0->ipywidgets) (0.2.13)\n",
      "Requirement already satisfied: executing>=1.2.0 in ./.venv/lib/python3.12/site-packages (from stack-data->ipython>=6.1.0->ipywidgets) (2.0.1)\n",
      "Requirement already satisfied: asttokens>=2.1.0 in ./.venv/lib/python3.12/site-packages (from stack-data->ipython>=6.1.0->ipywidgets) (2.4.1)\n",
      "Requirement already satisfied: pure-eval in ./.venv/lib/python3.12/site-packages (from stack-data->ipython>=6.1.0->ipywidgets) (0.2.2)\n",
      "Requirement already satisfied: six>=1.12.0 in ./.venv/lib/python3.12/site-packages (from asttokens>=2.1.0->stack-data->ipython>=6.1.0->ipywidgets) (1.16.0)\n",
      "Note: you may need to restart the kernel to use updated packages.\n"
     ]
    }
   ],
   "source": [
    "# install dependencies\n",
    "%pip install openai jinja2 ipywidgets d20 python-dotenv"
   ]
  },
  {
   "cell_type": "code",
   "execution_count": 136,
   "metadata": {},
   "outputs": [],
   "source": [
    "# load dotenv file\n",
    "import os\n",
    "\n",
    "from dotenv import load_dotenv\n",
    "load_dotenv()\n",
    "\n",
    "if os.environ.get(\"OPENAI_API_KEY\") is None:\n",
    "    raise Exception(\"missing OPENAI API KEY...\")"
   ]
  },
  {
   "cell_type": "code",
   "execution_count": 137,
   "metadata": {},
   "outputs": [
    {
     "name": "stdout",
     "output_type": "stream",
     "text": [
      "config.toml loaded: v0.0.2\n"
     ]
    }
   ],
   "source": [
    "# load config file\n",
    "import tomllib\n",
    "\n",
    "config_name = \"config.toml\"\n",
    "config:dict[str, any] = None\n",
    "with open(config_name, \"rb\") as f:\n",
    "    config = tomllib.load(f)\n",
    "\n",
    "print(f\"{config_name} loaded: v{config[\"version\"]}\")"
   ]
  },
  {
   "cell_type": "code",
   "execution_count": 138,
   "metadata": {},
   "outputs": [],
   "source": [
    "# load config\n",
    "from jinja2 import BaseLoader, Environment\n",
    "\n",
    "meta = config.get(\"meta\", None)\n",
    "if meta.get(\"memories\") is None:\n",
    "    meta[\"memories\"] = []\n",
    "\n",
    "current_round = 0\n",
    "messages:dict[str, str] = []\n",
    "\n",
    "def next_round():\n",
    "    global current_round, messages\n",
    "    messages = [] # reset messages\n",
    "    current_round += 1\n",
    "    for msg in config[\"messages\"]:\n",
    "        role = msg.get(\"role\")\n",
    "        raw_content = msg.get(\"content\")\n",
    "        # print(f\"<< {role} >>\")\n",
    "        \n",
    "        template = Environment(loader=BaseLoader()).from_string(raw_content)\n",
    "        content = template.render(meta)\n",
    "        # print(content)\n",
    "\n",
    "        messages.append({\"role\": role, \"content\": content})\n",
    "        # print(\"------\")\n",
    "    \n",
    "    for msg in config[\"rounds\"][current_round - 1][\"messages\"]:\n",
    "        role = msg.get(\"role\")\n",
    "        raw_content = msg.get(\"content\")\n",
    "        # print(f\"<< {role} >>\")\n",
    "\n",
    "        template = Environment(loader=BaseLoader()).from_string(raw_content)\n",
    "        content = template.render(meta)\n",
    "        # print(content)\n",
    "       \n",
    "        messages.append({\"role\": role, \"content\": content})\n",
    "        # print(\"------\")\n",
    "\n",
    "next_round()"
   ]
  },
  {
   "cell_type": "code",
   "execution_count": 139,
   "metadata": {},
   "outputs": [
    {
     "name": "stdout",
     "output_type": "stream",
     "text": [
      "ROUND: 1\n",
      "ASSISTANT:\n",
      "You are standing in front of the haunted mansion. \n",
      "The mansion is old and decrepit, with ivy growing up the walls and the windows boarded up. \n",
      "The front door is slightly ajar, inviting you inside. \n",
      "\n",
      "What do you do?\n",
      "\n",
      "possible actions:\n",
      "1. Enter the mansion.\n",
      "2. Take some photos of the mansion's exterior.\n",
      "3. Talk to the butler. (may need a persuasion skill check)\n"
     ]
    },
    {
     "data": {
      "application/vnd.jupyter.widget-view+json": {
       "model_id": "4ffc1aec78754fe89991fbf06bf2a0e7",
       "version_major": 2,
       "version_minor": 0
      },
      "text/plain": [
       "HBox(children=(Button(description='1', style=ButtonStyle()), Button(description='2', style=ButtonStyle()), But…"
      ]
     },
     "metadata": {},
     "output_type": "display_data"
    },
    {
     "name": "stdout",
     "output_type": "stream",
     "text": [
      "USER ACTION: I have chosen action 1. (TURN: 1)\n",
      "\n",
      "ASSISTANT:\n",
      "You push the front door open, which creaks loudly, echoing through the seemingly empty mansion. The air inside is musty, and dust particles dance in the beams of light filtering in through the cracks in the boarded-up windows. The foyer is grand, with a large staircase leading to the upper floors and several doors leading to various rooms on the ground floor. \n",
      "\n",
      "As you step inside, you notice that one of the doors is slightly ajar, leading to what appears to be the dining room. \n",
      "\n",
      "possible actions:\n",
      "1. Explore the dining room.\n",
      "2. Head up the staircase to the upper floors.\n",
      "3. Investigate the other rooms on the ground floor."
     ]
    },
    {
     "data": {
      "application/vnd.jupyter.widget-view+json": {
       "model_id": "5abaf1d483c3447eae33f5452da4b733",
       "version_major": 2,
       "version_minor": 0
      },
      "text/plain": [
       "HBox(children=(Button(description='1', style=ButtonStyle()), Button(description='2', style=ButtonStyle()), But…"
      ]
     },
     "metadata": {},
     "output_type": "display_data"
    },
    {
     "name": "stdout",
     "output_type": "stream",
     "text": [
      "USER ACTION: I have chosen action 1. (TURN: 2)\n",
      "\n",
      "ASSISTANT:\n",
      "As you cautiously approach and enter the dining room, you're greeted by a grand but neglected space. A long dining table, covered in a thick layer of dust, dominates the room, surrounded by chairs that have seen better days. Faint, eerie light filters through the dirty windows, casting shadows across the room.\n",
      "\n",
      "Suddenly, a large, shadowy figure of a dog darts across the room, disappearing through a door on the other side. The sight is startling, but before fear can take hold, you remind yourself of the task at hand.\n",
      "\n",
      "skill: sanity\n",
      "difficulty: easy"
     ]
    },
    {
     "data": {
      "application/vnd.jupyter.widget-view+json": {
       "model_id": "cb97f0eea2504e309c366a636c3e170e",
       "version_major": 2,
       "version_minor": 0
      },
      "text/plain": [
       "Button(description='SKILL CHECK - SANITY', layout=Layout(width='auto'), style=ButtonStyle())"
      ]
     },
     "metadata": {},
     "output_type": "display_data"
    },
    {
     "name": "stdout",
     "output_type": "stream",
     "text": [
      "USER ACTION: I am making a skill check using SANITY against a difficulty of EASY.\n",
      "And I rolled a 53 for a result of SUCCESS. (TURN: 3, )\n",
      "\n",
      "ASSISTANT:\n",
      "Your heart races as you witness the spectral canine, but your resolve steadies quickly. Drawing upon your experience and rational mind, you convince yourself that there must be a logical explanation for what you've just seen. Perhaps it was a trick of the light or an animal that has made its home in the abandoned mansion. With your sanity intact, you decide it's best to continue your investigation.\n",
      "\n",
      "After the unsettling encounter, you take a moment to observe the room more closely. You notice several portraits on the walls, depicting individuals you assume were once residents of the mansion. There's also a sideboard that looks like it might contain silverware or other items of interest.\n",
      "\n",
      "possible actions:\n",
      "1. Examine the portraits more closely.\n",
      "2. Investigate the sideboard for any useful items.\n",
      "3. Leave the dining room and explore the room the dog ran into."
     ]
    },
    {
     "data": {
      "application/vnd.jupyter.widget-view+json": {
       "model_id": "3e705f191a2e49ccb06f2c8a3681084e",
       "version_major": 2,
       "version_minor": 0
      },
      "text/plain": [
       "HBox(children=(Button(description='1', style=ButtonStyle()), Button(description='2', style=ButtonStyle()), But…"
      ]
     },
     "metadata": {},
     "output_type": "display_data"
    },
    {
     "name": "stdout",
     "output_type": "stream",
     "text": [
      "USER ACTION: I have chosen action 2. (TURN: 4)\n",
      "\n",
      "ASSISTANT:\n",
      "You approach the sideboard, its wood darkened with age and neglect. As you open the drawers, you find them mostly empty, save for a few moth-eaten cloths and a silver candlestick that seems out of place in the desolation. It's heavy in your hand, and you notice intricate carvings on its base, possibly indicating some historical or monetary value.\n",
      "\n",
      "While the candlestick might not be directly useful for your investigation, it's a reminder that this mansion once held life and perhaps secrets that are yet to be uncovered.\n",
      "\n",
      "possible actions:\n",
      "1. Take the silver candlestick with you.\n",
      "2. Leave the candlestick and explore the room the dog ran into.\n",
      "3. Head back to the foyer to investigate another room on the ground floor."
     ]
    },
    {
     "data": {
      "application/vnd.jupyter.widget-view+json": {
       "model_id": "61d9735120eb4f73a8090122f92f5ca5",
       "version_major": 2,
       "version_minor": 0
      },
      "text/plain": [
       "HBox(children=(Button(description='1', style=ButtonStyle()), Button(description='2', style=ButtonStyle()), But…"
      ]
     },
     "metadata": {},
     "output_type": "display_data"
    },
    {
     "name": "stdout",
     "output_type": "stream",
     "text": [
      "USER ACTION: I have chosen action 1. (TURN: 5)\n",
      "\n",
      "ASSISTANT:\n",
      "You decide to take the silver candlestick with you, thinking it might come in handy or at least serve as a memento of your investigation. Placing it carefully in your bag, you feel a slight weight added to your equipment, a tangible piece of the mansion's mysterious history now accompanying you.\n",
      "\n",
      "As you turn to leave the dining room, a chilling sound echoes from the depths of the mansion. It's a low, mournful howl, unlike anything you've heard before, seeming to emanate from the basement. This sound solidifies your resolve to uncover the truth behind the haunted mansion and its spectral inhabitants.\n",
      "\n",
      "With the dining room explored and a new clue in hand, you prepare to delve deeper into the mansion's secrets.\n",
      "\n",
      "round summary: In this round, you entered the haunted mansion, braved the dining room where you encountered a spectral dog, and found a silver candlestick with mysterious carvings. Despite the eerie atmosphere and the unsettling howl from the basement, you remain determined to uncover the truth behind the mansion's curse."
     ]
    },
    {
     "data": {
      "application/vnd.jupyter.widget-view+json": {
       "model_id": "f6c67ba4e3814374b6842583bfbfdddf",
       "version_major": 2,
       "version_minor": 0
      },
      "text/plain": [
       "Button(description='NEXT ROUND', style=ButtonStyle())"
      ]
     },
     "metadata": {},
     "output_type": "display_data"
    },
    {
     "name": "stdout",
     "output_type": "stream",
     "text": [
      "ROUND: 2\n",
      "ASSISTANT:\n",
      "You decide to check the basement of the mansion, where the sounds seem to be coming from.\n",
      "\n",
      "possible actions:\n",
      "1. Enter the basement.\n",
      "2. Take some photos of the basement's entrance.\n",
      "3. Listen at the door of the basement. (may need a listen skill check)\n"
     ]
    },
    {
     "data": {
      "application/vnd.jupyter.widget-view+json": {
       "model_id": "8453178cd123426c9ed4f8e2d96ea10c",
       "version_major": 2,
       "version_minor": 0
      },
      "text/plain": [
       "HBox(children=(Button(description='1', style=ButtonStyle()), Button(description='2', style=ButtonStyle()), But…"
      ]
     },
     "metadata": {},
     "output_type": "display_data"
    },
    {
     "name": "stdout",
     "output_type": "stream",
     "text": [
      "USER ACTION: I have chosen action 2. (TURN: 1, FINAL ROUND)\n",
      "\n",
      "ASSISTANT:\n",
      "You carefully set up your camera, adjusting the settings to capture the dimly lit entrance of the basement. The flash momentarily illuminates the darkened area, revealing the old, worn steps and the thick cobwebs that adorn the doorway. It's a chilling sight, but you manage to capture a few photographs that might prove useful later, either for your investigation or as evidence of your journey into the unknown.\n",
      "\n",
      "possible actions:\n",
      "1. Enter the basement carefully, watching your step.\n",
      "2. Examine the photos you just took for any clues or details.\n",
      "3. Call out to see if anyone or anything responds."
     ]
    },
    {
     "data": {
      "application/vnd.jupyter.widget-view+json": {
       "model_id": "4639acbd3a0847268d415cc9dd00cdc1",
       "version_major": 2,
       "version_minor": 0
      },
      "text/plain": [
       "HBox(children=(Button(description='1', style=ButtonStyle()), Button(description='2', style=ButtonStyle()), But…"
      ]
     },
     "metadata": {},
     "output_type": "display_data"
    },
    {
     "name": "stdout",
     "output_type": "stream",
     "text": [
      "USER ACTION: I have chosen action 1. (TURN: 2, FINAL ROUND)\n",
      "\n",
      "ASSISTANT:\n",
      "You take a deep breath and step into the basement, the air cool and musty around you. The stairs creak under your weight as you descend, your hand grazing the wall for balance. The dim light from the entrance fades, leaving you in near darkness, but you can just make out shapes in the gloom. Ahead, you see the silhouette of a statue, likely the one mentioned in your briefing. It stands ominously in the center of the room, its details obscured by the shadows.\n",
      "\n",
      "possible actions:\n",
      "1. Approach the statue to investigate further.\n",
      "2. Use your flashlight to illuminate the basement and get a better view of your surroundings.\n",
      "3. Call out, announcing your presence to see if it triggers any response."
     ]
    },
    {
     "data": {
      "application/vnd.jupyter.widget-view+json": {
       "model_id": "fc003bdf774846c58f3958f0c6f8a665",
       "version_major": 2,
       "version_minor": 0
      },
      "text/plain": [
       "HBox(children=(Button(description='1', style=ButtonStyle()), Button(description='2', style=ButtonStyle()), But…"
      ]
     },
     "metadata": {},
     "output_type": "display_data"
    },
    {
     "name": "stdout",
     "output_type": "stream",
     "text": [
      "USER ACTION: I have chosen action 2. (TURN: 3, FINAL ROUND)\n",
      "\n",
      "ASSISTANT:\n",
      "You pull out your flashlight and flick it on, the beam cutting through the darkness of the basement. The light reveals a cluttered room filled with old furniture covered in dust sheets, boxes stacked against the walls, and various oddities that seem to have been collected over many years. The statue stands in the center of the room, now fully illuminated. It depicts a creature that is part human, part something else, with tentacles where its mouth should be. The craftsmanship is disturbingly detailed, giving the statue an unnervingly lifelike appearance.\n",
      "\n",
      "possible actions:\n",
      "1. Approach the statue to investigate further.\n",
      "2. Search the room for any documents or objects that might relate to the statue or the curse.\n",
      "3. Take photos of the statue and the room for your records."
     ]
    },
    {
     "data": {
      "application/vnd.jupyter.widget-view+json": {
       "model_id": "1ba72a6af2154e1cba6a25608fb10c78",
       "version_major": 2,
       "version_minor": 0
      },
      "text/plain": [
       "HBox(children=(Button(description='1', style=ButtonStyle()), Button(description='2', style=ButtonStyle()), But…"
      ]
     },
     "metadata": {},
     "output_type": "display_data"
    },
    {
     "name": "stdout",
     "output_type": "stream",
     "text": [
      "USER ACTION: I have chosen action 2. (TURN: 4, FINAL ROUND)\n",
      "\n",
      "ASSISTANT:\n",
      "As you explore the basement, you carefully sift through the clutter, looking for anything that might shed light on the statue or the mansion's curse. Your search uncovers a dusty, leather-bound journal hidden beneath a pile of old newspapers. The cover is worn, and the pages are yellowed with age, but it's intact. You also find a small, intricately carved box that seems out of place among the mundane items scattered around the basement.\n",
      "\n",
      "possible actions:\n",
      "1. Open the journal and read its contents.\n",
      "2. Examine the carved box more closely.\n",
      "3. Take photos of the journal and box before interacting with them."
     ]
    },
    {
     "data": {
      "application/vnd.jupyter.widget-view+json": {
       "model_id": "851094c32bac4db4830a1cb819a7484c",
       "version_major": 2,
       "version_minor": 0
      },
      "text/plain": [
       "HBox(children=(Button(description='1', style=ButtonStyle()), Button(description='2', style=ButtonStyle()), But…"
      ]
     },
     "metadata": {},
     "output_type": "display_data"
    },
    {
     "name": "stdout",
     "output_type": "stream",
     "text": [
      "USER ACTION: I have chosen action 2. (TURN: 5, FINAL ROUND)\n",
      "\n",
      "ASSISTANT:\n",
      "You carefully pick up the intricately carved box, noticing the fine details and symbols etched into its surface. The craftsmanship suggests it's of significant importance. With a gentle touch, you manage to open it, revealing a set of old, faded photographs and a small, metallic key with peculiar engravings that match some of the symbols on the statue. The photographs depict the mansion in earlier days, showing a family that you presume were the original owners. Among them, an old woman stands out, her gaze piercing even through the aged photo.\n",
      "\n",
      "As you ponder the significance of these items, you hear footsteps approaching. Turning around, you see an old woman, resembling the one from the photographs, standing at the bottom of the stairs. She smiles warmly, yet there's a hint of sadness in her eyes.\n",
      "\n",
      "\"I see you've found my family's belongings,\" she begins, her voice echoing slightly in the spacious basement. \"You've come seeking answers about the curse, haven't you? Let me tell you the story of this place and how you can end the curse.\"\n",
      "\n",
      "The old woman recounts the tale of her family, the original owners of the mansion, who were cursed by a rival using the statue as a conduit for dark magic. The key you found opens a hidden compartment in the statue, containing the heart of the curse—a dark crystal that needs to be destroyed to free the mansion from its grip.\n",
      "\n",
      "With her guidance, you approach the statue, insert the key, and reveal the hidden compartment. Inside, the dark crystal pulses with a malevolent energy. Gathering your courage, you smash the crystal, and as it shatters, a wave of energy sweeps through the basement. The oppressive atmosphere lifts, and for the first time in decades, the mansion feels peaceful.\n",
      "\n",
      "The old woman thanks you, her spirit finally at peace, before fading away, her curse lifted. You exit the basement, the mansion silent and the feeling of dread gone. Your investigation has ended the curse, bringing peace to the spirits bound to the mansion.\n",
      "\n",
      "ending summary: John Doe's investigation into the haunted mansion led him to discover its dark past and the source of its curse. With the help of the spirit of the original owner, he located a dark crystal that maintained the curse and destroyed it, freeing the mansion and its inhabitants from decades of torment. His bravery and investigative skills not only solved the mystery but also brought peace to a troubled soul.GAME OVER\n"
     ]
    }
   ],
   "source": [
    "# start interactive chat\n",
    "import re\n",
    "import functools\n",
    "\n",
    "import ipywidgets as widgets\n",
    "from IPython.display import display\n",
    "\n",
    "from openai import OpenAI\n",
    "import d20\n",
    "\n",
    "def count_user_actions():\n",
    "    count = 0\n",
    "    for msg in messages:\n",
    "        if msg[\"role\"] == \"user\":\n",
    "            count += 1\n",
    "    return count\n",
    "\n",
    "def is_final_round():\n",
    "    return  \", FINAL ROUND\" if  current_round == len(config[\"rounds\"]) else \"\"\n",
    "\n",
    "def on_custom_input(b, input:widgets.Text):\n",
    "    role = \"user\"\n",
    "    content = f\"{input.value} (TURN: {count_user_actions()+1})\"\n",
    "    messages.append({\"role\":role, \"content\":content})\n",
    "    print(f\"USER ACTION: {content}\")\n",
    "    chat()\n",
    "\n",
    "def on_action(b, index:str):\n",
    "    role = \"user\"\n",
    "    content = f\"I have chosen action {index}. (TURN: {count_user_actions()+1}{is_final_round()})\"\n",
    "    messages.append({\"role\":role, \"content\":content})\n",
    "    print(f\"USER ACTION: {content}\")\n",
    "    chat()\n",
    "\n",
    "def on_custom_action(b):\n",
    "    hbox = widgets.HBox(layout=widgets.Layout(width=\"100%\"))\n",
    "    action_text = widgets.Text(layout=widgets.Layout(width=\"100%\"))\n",
    "    submit = widgets.Button(description=\"SUBMIT\", layout=widgets.Layout(width=\"fit-content\"))\n",
    "    submit.on_click(functools.partial(on_custom_input, input=action_text))\n",
    "    hbox.children += (action_text, submit) \n",
    "    display(hbox)\n",
    "\n",
    "def on_skill(b, skill:str, difficulty:str):\n",
    "    role = \"user\"\n",
    "    content = f\"I am making a skill check using {skill.upper()} against a difficulty of {difficulty.upper()}.\"\n",
    "\n",
    "    d = difficulty.lower()\n",
    "    dc = 50\n",
    "    if d == \"easy\":\n",
    "        dc = 75\n",
    "    elif d == \"hard\":\n",
    "        dc = 25\n",
    "    roll = d20.roll(\"1d100\").total\n",
    "    result = \"Success\" if roll <= dc else \"Failure\"\n",
    "    if roll == 1:\n",
    "        result = \"Critical Success\"\n",
    "    elif roll == 100:\n",
    "        result = \"Critical Failure\"\n",
    "    content += f\"\\nAnd I rolled a {roll} for a result of {result.upper()}. (TURN: {count_user_actions()+1}, {is_final_round()})\"\n",
    "    messages.append({\"role\":role, \"content\":content})\n",
    "    print(f\"USER ACTION: {content}\")\n",
    "    chat()\n",
    "\n",
    "def on_next_round(b):\n",
    "    next_round()\n",
    "    print(\"ROUND:\", current_round)\n",
    "    print(f\"{messages[-1][\"role\"].upper()}:\")\n",
    "    print(messages[-1][\"content\"])\n",
    "    parse_message(messages[-1][\"content\"])\n",
    "\n",
    "# parse message into key-value pairs\n",
    "pattern = re.compile(r\"^([\\w_ *]+)\\:[ \\s]*(.+)*$\")\n",
    "action_pattern = re.compile(r\"(\\d+). *(.+)\")\n",
    "def parse_message(content):\n",
    "    parsed: dict = {}\n",
    "    current_key = None\n",
    "    lines = content.splitlines()\n",
    "    \n",
    "    # parse the content line by line\n",
    "    for line in lines:\n",
    "        res = pattern.search(line)\n",
    "        if res is not None:\n",
    "            current_key = res.group(1)\n",
    "            if res.group(2) is not None:\n",
    "                parsed[current_key] = res.group(2)\n",
    "            else:\n",
    "                parsed[current_key] = \"\"\n",
    "        elif current_key is not None:\n",
    "            parsed[current_key] += \"\\n\" + line\n",
    "    \n",
    "    keys = parsed.keys()\n",
    "    # possible actions\n",
    "    vbox = widgets.HBox()\n",
    "    if \"possible actions\" in keys:\n",
    "        ma = action_pattern.finditer(parsed[\"possible actions\"])\n",
    "        for m in ma:\n",
    "            action_index=m.group(1)\n",
    "            action_button = widgets.Button(description=action_index)\n",
    "            action_button.on_click(functools.partial(on_action, index=action_index))\n",
    "            vbox.children += (action_button,)\n",
    "        custom_action_button = widgets.Button(description=\"CUSTOM\")\n",
    "        custom_action_button.on_click(functools.partial(on_custom_action))\n",
    "        \n",
    "        vbox.children += (custom_action_button,)\n",
    "        display(vbox)\n",
    "    \n",
    "    # skill check\n",
    "    if \"skill\" in keys and \"difficulty\" in keys:\n",
    "        skill = parsed.get(\"skill\")\n",
    "        difficulty = parsed.get(\"difficulty\")\n",
    "        skill_button = widgets.Button(description=f\"SKILL CHECK - {skill.upper()}\", layout=widgets.Layout(width=\"auto\"))\n",
    "        skill_button.on_click(functools.partial(on_skill, skill=skill, difficulty=difficulty))\n",
    "        display(skill_button)\n",
    "    \n",
    "    if \"round summary\" in keys:\n",
    "        summary = parsed[\"round summary\"]\n",
    "        next_round_button = widgets.Button(description=\"NEXT ROUND\")\n",
    "        meta[\"memories\"].append(summary)\n",
    "        \n",
    "        next_round_button.on_click(on_next_round)\n",
    "        display(next_round_button)\n",
    "    \n",
    "    if \"ending summary\" in keys:\n",
    "        print(\"\\n\\nGAME OVER\\n\\n(try to re-run the cell to start a new game)\")\n",
    "\n",
    "\n",
    "def chat():\n",
    "    client = OpenAI(api_key=os.environ.get(\"OPENAI_API_KEY\"))\n",
    "    stream = client.chat.completions.create(\n",
    "        model=os.environ.get(\"OPENAI_MODEL_NAME\"),\n",
    "        messages=messages,\n",
    "        stream=True,\n",
    "        temperature=float(os.environ.get(\"OPENAI_TEMPERATURE\"))\n",
    "    )\n",
    "    print(\"\\nASSISTANT:\")\n",
    "    generated = \"\"\n",
    "    for chunk in stream:\n",
    "        if chunk.choices[0].delta.content is not None:\n",
    "            delta = chunk.choices[0].delta.content\n",
    "            print(delta, end=\"\")\n",
    "            generated += delta\n",
    "    messages.append({\"role\": \"assistant\", \"content\": generated})\n",
    "    parse_message(messages[-1][\"content\"])\n",
    "\n",
    "print(\"ROUND:\", current_round)\n",
    "print(f\"{messages[-1][\"role\"].upper()}:\")\n",
    "print(messages[-1][\"content\"])\n",
    "# parse the last message\n",
    "parse_message(messages[-1][\"content\"])"
   ]
  }
 ],
 "metadata": {
  "kernelspec": {
   "display_name": ".venv",
   "language": "python",
   "name": "python3"
  },
  "language_info": {
   "codemirror_mode": {
    "name": "ipython",
    "version": 3
   },
   "file_extension": ".py",
   "mimetype": "text/x-python",
   "name": "python",
   "nbconvert_exporter": "python",
   "pygments_lexer": "ipython3",
   "version": "3.12.2"
  }
 },
 "nbformat": 4,
 "nbformat_minor": 2
}
