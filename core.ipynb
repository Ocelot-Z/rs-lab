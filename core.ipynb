{
 "cells": [
  {
   "cell_type": "code",
   "execution_count": 105,
   "metadata": {},
   "outputs": [
    {
     "name": "stdout",
     "output_type": "stream",
     "text": [
      "Looking in indexes: https://pypi.tuna.tsinghua.edu.cn/simple\n",
      "Requirement already satisfied: openai in ./.venv/lib/python3.12/site-packages (1.17.0)\n",
      "Requirement already satisfied: jinja2 in ./.venv/lib/python3.12/site-packages (3.1.3)\n",
      "Requirement already satisfied: ipywidgets in ./.venv/lib/python3.12/site-packages (8.1.2)\n",
      "Requirement already satisfied: d20 in ./.venv/lib/python3.12/site-packages (1.1.2)\n",
      "Requirement already satisfied: python-dotenv in ./.venv/lib/python3.12/site-packages (1.0.1)\n",
      "Requirement already satisfied: anyio<5,>=3.5.0 in ./.venv/lib/python3.12/site-packages (from openai) (4.3.0)\n",
      "Requirement already satisfied: distro<2,>=1.7.0 in ./.venv/lib/python3.12/site-packages (from openai) (1.9.0)\n",
      "Requirement already satisfied: httpx<1,>=0.23.0 in ./.venv/lib/python3.12/site-packages (from openai) (0.27.0)\n",
      "Requirement already satisfied: pydantic<3,>=1.9.0 in ./.venv/lib/python3.12/site-packages (from openai) (2.7.0)\n",
      "Requirement already satisfied: sniffio in ./.venv/lib/python3.12/site-packages (from openai) (1.3.1)\n",
      "Requirement already satisfied: tqdm>4 in ./.venv/lib/python3.12/site-packages (from openai) (4.66.2)\n",
      "Requirement already satisfied: typing-extensions<5,>=4.7 in ./.venv/lib/python3.12/site-packages (from openai) (4.11.0)\n",
      "Requirement already satisfied: MarkupSafe>=2.0 in ./.venv/lib/python3.12/site-packages (from jinja2) (2.1.5)\n",
      "Requirement already satisfied: comm>=0.1.3 in ./.venv/lib/python3.12/site-packages (from ipywidgets) (0.2.2)\n",
      "Requirement already satisfied: ipython>=6.1.0 in ./.venv/lib/python3.12/site-packages (from ipywidgets) (8.23.0)\n",
      "Requirement already satisfied: traitlets>=4.3.1 in ./.venv/lib/python3.12/site-packages (from ipywidgets) (5.14.2)\n",
      "Requirement already satisfied: widgetsnbextension~=4.0.10 in ./.venv/lib/python3.12/site-packages (from ipywidgets) (4.0.10)\n",
      "Requirement already satisfied: jupyterlab-widgets~=3.0.10 in ./.venv/lib/python3.12/site-packages (from ipywidgets) (3.0.10)\n",
      "Requirement already satisfied: cachetools>=3.1.0 in ./.venv/lib/python3.12/site-packages (from d20) (5.3.3)\n",
      "Requirement already satisfied: lark-parser~=0.9.0 in ./.venv/lib/python3.12/site-packages (from d20) (0.9.0)\n",
      "Requirement already satisfied: idna>=2.8 in ./.venv/lib/python3.12/site-packages (from anyio<5,>=3.5.0->openai) (3.7)\n",
      "Requirement already satisfied: certifi in ./.venv/lib/python3.12/site-packages (from httpx<1,>=0.23.0->openai) (2024.2.2)\n",
      "Requirement already satisfied: httpcore==1.* in ./.venv/lib/python3.12/site-packages (from httpx<1,>=0.23.0->openai) (1.0.5)\n",
      "Requirement already satisfied: h11<0.15,>=0.13 in ./.venv/lib/python3.12/site-packages (from httpcore==1.*->httpx<1,>=0.23.0->openai) (0.14.0)\n",
      "Requirement already satisfied: decorator in ./.venv/lib/python3.12/site-packages (from ipython>=6.1.0->ipywidgets) (5.1.1)\n",
      "Requirement already satisfied: jedi>=0.16 in ./.venv/lib/python3.12/site-packages (from ipython>=6.1.0->ipywidgets) (0.19.1)\n",
      "Requirement already satisfied: matplotlib-inline in ./.venv/lib/python3.12/site-packages (from ipython>=6.1.0->ipywidgets) (0.1.6)\n",
      "Requirement already satisfied: prompt-toolkit<3.1.0,>=3.0.41 in ./.venv/lib/python3.12/site-packages (from ipython>=6.1.0->ipywidgets) (3.0.43)\n",
      "Requirement already satisfied: pygments>=2.4.0 in ./.venv/lib/python3.12/site-packages (from ipython>=6.1.0->ipywidgets) (2.17.2)\n",
      "Requirement already satisfied: stack-data in ./.venv/lib/python3.12/site-packages (from ipython>=6.1.0->ipywidgets) (0.6.3)\n",
      "Requirement already satisfied: pexpect>4.3 in ./.venv/lib/python3.12/site-packages (from ipython>=6.1.0->ipywidgets) (4.9.0)\n",
      "Requirement already satisfied: annotated-types>=0.4.0 in ./.venv/lib/python3.12/site-packages (from pydantic<3,>=1.9.0->openai) (0.6.0)\n",
      "Requirement already satisfied: pydantic-core==2.18.1 in ./.venv/lib/python3.12/site-packages (from pydantic<3,>=1.9.0->openai) (2.18.1)\n",
      "Requirement already satisfied: parso<0.9.0,>=0.8.3 in ./.venv/lib/python3.12/site-packages (from jedi>=0.16->ipython>=6.1.0->ipywidgets) (0.8.4)\n",
      "Requirement already satisfied: ptyprocess>=0.5 in ./.venv/lib/python3.12/site-packages (from pexpect>4.3->ipython>=6.1.0->ipywidgets) (0.7.0)\n",
      "Requirement already satisfied: wcwidth in ./.venv/lib/python3.12/site-packages (from prompt-toolkit<3.1.0,>=3.0.41->ipython>=6.1.0->ipywidgets) (0.2.13)\n",
      "Requirement already satisfied: executing>=1.2.0 in ./.venv/lib/python3.12/site-packages (from stack-data->ipython>=6.1.0->ipywidgets) (2.0.1)\n",
      "Requirement already satisfied: asttokens>=2.1.0 in ./.venv/lib/python3.12/site-packages (from stack-data->ipython>=6.1.0->ipywidgets) (2.4.1)\n",
      "Requirement already satisfied: pure-eval in ./.venv/lib/python3.12/site-packages (from stack-data->ipython>=6.1.0->ipywidgets) (0.2.2)\n",
      "Requirement already satisfied: six>=1.12.0 in ./.venv/lib/python3.12/site-packages (from asttokens>=2.1.0->stack-data->ipython>=6.1.0->ipywidgets) (1.16.0)\n",
      "Note: you may need to restart the kernel to use updated packages.\n"
     ]
    }
   ],
   "source": [
    "# install dependencies\n",
    "%pip install openai jinja2 ipywidgets d20 python-dotenv"
   ]
  },
  {
   "cell_type": "code",
   "execution_count": 106,
   "metadata": {},
   "outputs": [],
   "source": [
    "# load dotenv file\n",
    "import os\n",
    "\n",
    "from dotenv import load_dotenv\n",
    "load_dotenv()\n",
    "\n",
    "if os.environ.get(\"OPENAI_API_KEY\") is None:\n",
    "    raise Exception(\"missing OPENAI API KEY...\")"
   ]
  },
  {
   "cell_type": "code",
   "execution_count": 107,
   "metadata": {},
   "outputs": [
    {
     "name": "stdout",
     "output_type": "stream",
     "text": [
      "config.toml loaded: v0.0.2\n"
     ]
    }
   ],
   "source": [
    "# load config file\n",
    "import tomllib\n",
    "\n",
    "config_name = \"config.toml\"\n",
    "config:dict[str, any] = None\n",
    "with open(config_name, \"rb\") as f:\n",
    "    config = tomllib.load(f)\n",
    "\n",
    "print(f\"{config_name} loaded: v{config[\"version\"]}\")"
   ]
  },
  {
   "cell_type": "code",
   "execution_count": 108,
   "metadata": {},
   "outputs": [],
   "source": [
    "# load config\n",
    "from jinja2 import BaseLoader, Environment\n",
    "\n",
    "meta = config.get(\"meta\", None)\n",
    "if meta.get(\"memories\") is None:\n",
    "    meta[\"memories\"] = []\n",
    "\n",
    "current_round = 0\n",
    "messages:dict[str, str] = []\n",
    "\n",
    "def next_round():\n",
    "    global current_round, messages\n",
    "    messages = [] # reset messages\n",
    "    current_round += 1\n",
    "    for msg in config[\"messages\"]:\n",
    "        role = msg.get(\"role\")\n",
    "        raw_content = msg.get(\"content\")\n",
    "        # print(f\"<< {role} >>\")\n",
    "        \n",
    "        template = Environment(loader=BaseLoader()).from_string(raw_content)\n",
    "        content = template.render(meta)\n",
    "        # print(content)\n",
    "\n",
    "        messages.append({\"role\": role, \"content\": content})\n",
    "        # print(\"------\")\n",
    "    \n",
    "    for msg in config[\"rounds\"][current_round - 1][\"messages\"]:\n",
    "        role = msg.get(\"role\")\n",
    "        raw_content = msg.get(\"content\")\n",
    "        # print(f\"<< {role} >>\")\n",
    "\n",
    "        template = Environment(loader=BaseLoader()).from_string(raw_content)\n",
    "        content = template.render(meta)\n",
    "        # print(content)\n",
    "       \n",
    "        messages.append({\"role\": role, \"content\": content})\n",
    "        # print(\"------\")\n",
    "\n",
    "next_round()"
   ]
  },
  {
   "cell_type": "code",
   "execution_count": 109,
   "metadata": {},
   "outputs": [
    {
     "name": "stdout",
     "output_type": "stream",
     "text": [
      "ASSISTANT:\n",
      "You are standing in front of the haunted mansion. \n",
      "The mansion is old and decrepit, with ivy growing up the walls and the windows boarded up. \n",
      "The front door is slightly ajar, inviting you inside. \n",
      "\n",
      "What do you do?\n",
      "\n",
      "possible actions:\n",
      "1. Enter the mansion.\n",
      "2. Take some photos of the mansion's exterior.\n",
      "3. Talk to the butler. (may need a persuasion skill check)\n"
     ]
    },
    {
     "data": {
      "application/vnd.jupyter.widget-view+json": {
       "model_id": "8fa1eefcb24742209b066592fef54434",
       "version_major": 2,
       "version_minor": 0
      },
      "text/plain": [
       "HBox(children=(Button(description='1', style=ButtonStyle()), Button(description='2', style=ButtonStyle()), But…"
      ]
     },
     "metadata": {},
     "output_type": "display_data"
    },
    {
     "name": "stdout",
     "output_type": "stream",
     "text": [
      "USER ACTION: I have chosen action 3. (TURN: 1)\n",
      "\n",
      "ASSISTANT:\n",
      "You approach the mansion's entrance and find the butler waiting by the door, his expression unreadable. He seems wary of strangers but also curious about your intentions.\n",
      "\n",
      "skill: persuasion\n",
      "difficulty: medium"
     ]
    },
    {
     "data": {
      "application/vnd.jupyter.widget-view+json": {
       "model_id": "8a7d27f36e9a41549672376ecbb52832",
       "version_major": 2,
       "version_minor": 0
      },
      "text/plain": [
       "Button(description='SKILL CHECK - PERSUASION', layout=Layout(width='auto'), style=ButtonStyle())"
      ]
     },
     "metadata": {},
     "output_type": "display_data"
    },
    {
     "name": "stdout",
     "output_type": "stream",
     "text": [
      "USER ACTION: I am making a skill check using PERSUASION against a difficulty of MEDIUM.\n",
      "And I rolled a 73 for a result of FAILURE. (TURN: 2)\n",
      "\n",
      "ASSISTANT:\n",
      "The butler listens to your attempt to engage him in conversation, but he remains unimpressed. He curtly tells you that the master of the house is not receiving visitors and advises you to leave the premises immediately. It's clear that your attempt to persuade him has failed, and he is not willing to offer any assistance or information.\n",
      "\n",
      "You are still outside the mansion, with the butler making it clear that he will not be of help.\n",
      "\n",
      "possible actions:\n",
      "1. Enter the mansion despite the butler's warning.\n",
      "2. Take some photos of the mansion's exterior.\n",
      "3. Attempt to sneak around the mansion to find another way in."
     ]
    },
    {
     "data": {
      "application/vnd.jupyter.widget-view+json": {
       "model_id": "53c21b77bbb2429cbc1d78767500fd4a",
       "version_major": 2,
       "version_minor": 0
      },
      "text/plain": [
       "HBox(children=(Button(description='1', style=ButtonStyle()), Button(description='2', style=ButtonStyle()), But…"
      ]
     },
     "metadata": {},
     "output_type": "display_data"
    },
    {
     "name": "stdout",
     "output_type": "stream",
     "text": [
      "USER ACTION: I have chosen action 2. (TURN: 3)\n",
      "\n",
      "ASSISTANT:\n",
      "You decide to take a step back and capture the eerie beauty of the mansion with your camera. The mansion, with its overgrown ivy, boarded-up windows, and an aura of mystery, makes for a compelling subject. You take several photos from different angles, making sure to document its exterior thoroughly. This might come in handy later, either for your investigation or to sell the story to a newspaper or magazine.\n",
      "\n",
      "After finishing with the photography, you realize that the butler has disappeared, leaving the front door even more inviting than before.\n",
      "\n",
      "possible actions:\n",
      "1. Enter the mansion.\n",
      "2. Circle around to the back of the mansion to investigate.\n",
      "3. Review the photos you just took for any clues."
     ]
    },
    {
     "data": {
      "application/vnd.jupyter.widget-view+json": {
       "model_id": "58830038e2fd497785fb051ca4027efa",
       "version_major": 2,
       "version_minor": 0
      },
      "text/plain": [
       "HBox(children=(Button(description='1', style=ButtonStyle()), Button(description='2', style=ButtonStyle()), But…"
      ]
     },
     "metadata": {},
     "output_type": "display_data"
    },
    {
     "name": "stdout",
     "output_type": "stream",
     "text": [
      "USER ACTION: I have chosen action 1. (TURN: 4)\n",
      "\n",
      "ASSISTANT:\n",
      "You gather your courage and step through the front door of the mansion. The air inside is musty, filled with the scent of old wood and a hint of something unidentifiable. The foyer is dimly lit by the light filtering in through the boarded-up windows, casting eerie shadows across the floor. There's a grand staircase leading to the upper floors, and several doors leading to other rooms on the ground floor.\n",
      "\n",
      "As you take in your surroundings, you remember the map you were given. It shows several key areas on the ground floor: the library, the dining room, and the living room, among others.\n",
      "\n",
      "possible actions:\n",
      "1. Explore the library.\n",
      "2. Head towards the dining room. (remember the trigger)\n",
      "3. Investigate the living room."
     ]
    },
    {
     "data": {
      "application/vnd.jupyter.widget-view+json": {
       "model_id": "5693c7ad9d1a41e98ee97e57b785c76f",
       "version_major": 2,
       "version_minor": 0
      },
      "text/plain": [
       "HBox(children=(Button(description='1', style=ButtonStyle()), Button(description='2', style=ButtonStyle()), But…"
      ]
     },
     "metadata": {},
     "output_type": "display_data"
    },
    {
     "name": "stdout",
     "output_type": "stream",
     "text": [
      "USER ACTION: I have chosen action 3. (TURN: 5)\n",
      "\n",
      "ASSISTANT:\n",
      "You decide to investigate the living room, curious about what you might find there. The door creaks loudly as you push it open, revealing a large room filled with antique furniture covered in dust sheets. The air feels colder here, and a sense of unease settles over you.\n",
      "\n",
      "As you walk further into the room, you notice a fireplace at the far end, several old portraits hanging on the walls, and a grand piano covered in dust. There's an air of neglect, as if the room hasn't been used in years. You also spot a bookshelf filled with old books and a few scattered newspapers.\n",
      "\n",
      "Suddenly, as you're about to end your turn in the living room, you hear a faint, eerie sound coming from the direction of the basement. It sounds like a distant whisper or a sigh, chilling you to the bone. It's a reminder of your ultimate goal - to uncover the truth behind the curse of this mansion.\n",
      "\n",
      "round summary: After attempting to persuade the butler without success and taking photos of the mansion's exterior, you decided to enter the mansion. You bypassed the butler's warning and made your way inside, where you chose to explore the living room. In the living room, you encountered a sense of unease and discovered a room filled with antique furniture and old portraits. As your fifth turn concludes, you hear a mysterious sound emanating from the basement, signaling the end of this round and drawing your attention to the deeper mysteries of the mansion."
     ]
    },
    {
     "data": {
      "application/vnd.jupyter.widget-view+json": {
       "model_id": "3697044cf1f44144926366622069c5b1",
       "version_major": 2,
       "version_minor": 0
      },
      "text/plain": [
       "Button(description='NEXT ROUND', style=ButtonStyle())"
      ]
     },
     "metadata": {},
     "output_type": "display_data"
    }
   ],
   "source": [
    "# start interactive chat\n",
    "import re\n",
    "import functools\n",
    "\n",
    "import ipywidgets as widgets\n",
    "from IPython.display import display\n",
    "\n",
    "from openai import OpenAI\n",
    "import d20\n",
    "\n",
    "def count_user_actions():\n",
    "    count = 0\n",
    "    for msg in messages:\n",
    "        if msg[\"role\"] == \"user\":\n",
    "            count += 1\n",
    "    return count\n",
    "\n",
    "def on_custom_input(b, input:widgets.Text):\n",
    "    role = \"user\"\n",
    "    content = f\"{input.value} (TURN: {count_user_actions()+1})\"\n",
    "    messages.append({\"role\":role, \"content\":content})\n",
    "    print(f\"USER ACTION: {content}\")\n",
    "    chat()\n",
    "\n",
    "def on_action(b, index:str):\n",
    "    role = \"user\"\n",
    "    content = f\"I have chosen action {index}. (TURN: {count_user_actions()+1})\"\n",
    "    messages.append({\"role\":role, \"content\":content})\n",
    "    print(f\"USER ACTION: {content}\")\n",
    "    chat()\n",
    "\n",
    "def on_custom_action(b):\n",
    "    hbox = widgets.HBox(layout=widgets.Layout(width=\"100%\"))\n",
    "    action_text = widgets.Text(layout=widgets.Layout(width=\"100%\"))\n",
    "    submit = widgets.Button(description=\"SUBMIT\", layout=widgets.Layout(width=\"fit-content\"))\n",
    "    submit.on_click(functools.partial(on_custom_input, input=action_text))\n",
    "    hbox.children += (action_text, submit) \n",
    "    display(hbox)\n",
    "\n",
    "def on_skill(b, skill:str, difficulty:str):\n",
    "    role = \"user\"\n",
    "    content = f\"I am making a skill check using {skill.upper()} against a difficulty of {difficulty.upper()}.\"\n",
    "\n",
    "    d = difficulty.lower()\n",
    "    dc = 50\n",
    "    if d == \"easy\":\n",
    "        dc = 75\n",
    "    elif d == \"hard\":\n",
    "        dc = 25\n",
    "    roll = d20.roll(\"1d100\").total\n",
    "    result = \"Success\" if roll <= dc else \"Failure\"\n",
    "    if roll == 1:\n",
    "        result = \"Critical Success\"\n",
    "    elif roll == 100:\n",
    "        result = \"Critical Failure\"\n",
    "    content += f\"\\nAnd I rolled a {roll} for a result of {result.upper()}. (TURN: {count_user_actions()+1})\"\n",
    "    messages.append({\"role\":role, \"content\":content})\n",
    "    print(f\"USER ACTION: {content}\")\n",
    "    chat()\n",
    "\n",
    "def on_next_round(b):\n",
    "    next_round()\n",
    "    print(f\"{messages[-1][\"role\"].upper()}:\")\n",
    "    print(messages[-1][\"content\"])\n",
    "    parse_message(messages[-1][\"content\"])\n",
    "\n",
    "# parse message into key-value pairs\n",
    "pattern = re.compile(r\"^([\\w_ *]+)\\:[ \\s]*(.+)*$\")\n",
    "action_pattern = re.compile(r\"(\\d+). *(.+)\")\n",
    "def parse_message(content):\n",
    "    parsed: dict = {}\n",
    "    current_key = None\n",
    "    lines = content.splitlines()\n",
    "    \n",
    "    # parse the content line by line\n",
    "    for line in lines:\n",
    "        res = pattern.search(line)\n",
    "        if res is not None:\n",
    "            current_key = res.group(1)\n",
    "            if res.group(2) is not None:\n",
    "                parsed[current_key] = res.group(2)\n",
    "            else:\n",
    "                parsed[current_key] = \"\"\n",
    "        elif current_key is not None:\n",
    "            parsed[current_key] += \"\\n\" + line\n",
    "    \n",
    "    keys = parsed.keys()\n",
    "    # possible actions\n",
    "    vbox = widgets.HBox()\n",
    "    if \"possible actions\" in keys:\n",
    "        ma = action_pattern.finditer(parsed[\"possible actions\"])\n",
    "        for m in ma:\n",
    "            action_index=m.group(1)\n",
    "            action_button = widgets.Button(description=action_index)\n",
    "            action_button.on_click(functools.partial(on_action, index=action_index))\n",
    "            vbox.children += (action_button,)\n",
    "        custom_action_button = widgets.Button(description=\"CUSTOM\")\n",
    "        custom_action_button.on_click(functools.partial(on_custom_action))\n",
    "        vbox.children += (custom_action_button,)\n",
    "        display(vbox)\n",
    "    \n",
    "    # skill check\n",
    "    if \"skill\" in keys and \"difficulty\" in keys:\n",
    "        skill = parsed.get(\"skill\")\n",
    "        difficulty = parsed.get(\"difficulty\")\n",
    "        skill_button = widgets.Button(description=f\"SKILL CHECK - {skill.upper()}\", layout=widgets.Layout(width=\"auto\"))\n",
    "        skill_button.on_click(functools.partial(on_skill, skill=skill, difficulty=difficulty))\n",
    "        display(skill_button)\n",
    "    \n",
    "    if \"round summary\" in keys:\n",
    "        summary = parsed[\"round summary\"]\n",
    "        next_round_button = widgets.Button(description=\"NEXT ROUND\")\n",
    "        meta[\"memories\"].append(summary)\n",
    "        \n",
    "        next_round_button.on_click(on_next_round)\n",
    "        display(next_round_button)\n",
    "\n",
    "def chat():\n",
    "    client = OpenAI(api_key=os.environ.get(\"OPENAI_API_KEY\"))\n",
    "    stream = client.chat.completions.create(\n",
    "        model=os.environ.get(\"OPENAI_MODEL_NAME\"),\n",
    "        messages=messages,\n",
    "        stream=True,\n",
    "        temperature=float(os.environ.get(\"OPENAI_TEMPERATURE\"))\n",
    "    )\n",
    "    print(\"\\nASSISTANT:\")\n",
    "    generated = \"\"\n",
    "    for chunk in stream:\n",
    "        if chunk.choices[0].delta.content is not None:\n",
    "            delta = chunk.choices[0].delta.content\n",
    "            print(delta, end=\"\")\n",
    "            generated += delta\n",
    "    messages.append({\"role\": \"assistant\", \"content\": generated})\n",
    "    parse_message(messages[-1][\"content\"])\n",
    "\n",
    "print(f\"{messages[-1][\"role\"].upper()}:\")\n",
    "print(messages[-1][\"content\"])\n",
    "# parse the last message\n",
    "parse_message(messages[-1][\"content\"])"
   ]
  }
 ],
 "metadata": {
  "kernelspec": {
   "display_name": ".venv",
   "language": "python",
   "name": "python3"
  },
  "language_info": {
   "codemirror_mode": {
    "name": "ipython",
    "version": 3
   },
   "file_extension": ".py",
   "mimetype": "text/x-python",
   "name": "python",
   "nbconvert_exporter": "python",
   "pygments_lexer": "ipython3",
   "version": "3.12.2"
  }
 },
 "nbformat": 4,
 "nbformat_minor": 2
}
