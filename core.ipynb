{
 "cells": [
  {
   "cell_type": "code",
   "execution_count": 6,
   "metadata": {},
   "outputs": [
    {
     "name": "stdout",
     "output_type": "stream",
     "text": [
      "Looking in indexes: https://pypi.tuna.tsinghua.edu.cn/simple\n",
      "Requirement already satisfied: openai in ./.venv/lib/python3.12/site-packages (1.17.0)\n",
      "Requirement already satisfied: jinja2 in ./.venv/lib/python3.12/site-packages (3.1.3)\n",
      "Requirement already satisfied: ipywidgets in ./.venv/lib/python3.12/site-packages (8.1.2)\n",
      "Requirement already satisfied: d20 in ./.venv/lib/python3.12/site-packages (1.1.2)\n",
      "Requirement already satisfied: python-dotenv in ./.venv/lib/python3.12/site-packages (1.0.1)\n",
      "Requirement already satisfied: anyio<5,>=3.5.0 in ./.venv/lib/python3.12/site-packages (from openai) (4.3.0)\n",
      "Requirement already satisfied: distro<2,>=1.7.0 in ./.venv/lib/python3.12/site-packages (from openai) (1.9.0)\n",
      "Requirement already satisfied: httpx<1,>=0.23.0 in ./.venv/lib/python3.12/site-packages (from openai) (0.27.0)\n",
      "Requirement already satisfied: pydantic<3,>=1.9.0 in ./.venv/lib/python3.12/site-packages (from openai) (2.7.0)\n",
      "Requirement already satisfied: sniffio in ./.venv/lib/python3.12/site-packages (from openai) (1.3.1)\n",
      "Requirement already satisfied: tqdm>4 in ./.venv/lib/python3.12/site-packages (from openai) (4.66.2)\n",
      "Requirement already satisfied: typing-extensions<5,>=4.7 in ./.venv/lib/python3.12/site-packages (from openai) (4.11.0)\n",
      "Requirement already satisfied: MarkupSafe>=2.0 in ./.venv/lib/python3.12/site-packages (from jinja2) (2.1.5)\n",
      "Requirement already satisfied: comm>=0.1.3 in ./.venv/lib/python3.12/site-packages (from ipywidgets) (0.2.2)\n",
      "Requirement already satisfied: ipython>=6.1.0 in ./.venv/lib/python3.12/site-packages (from ipywidgets) (8.23.0)\n",
      "Requirement already satisfied: traitlets>=4.3.1 in ./.venv/lib/python3.12/site-packages (from ipywidgets) (5.14.2)\n",
      "Requirement already satisfied: widgetsnbextension~=4.0.10 in ./.venv/lib/python3.12/site-packages (from ipywidgets) (4.0.10)\n",
      "Requirement already satisfied: jupyterlab-widgets~=3.0.10 in ./.venv/lib/python3.12/site-packages (from ipywidgets) (3.0.10)\n",
      "Requirement already satisfied: cachetools>=3.1.0 in ./.venv/lib/python3.12/site-packages (from d20) (5.3.3)\n",
      "Requirement already satisfied: lark-parser~=0.9.0 in ./.venv/lib/python3.12/site-packages (from d20) (0.9.0)\n",
      "Requirement already satisfied: idna>=2.8 in ./.venv/lib/python3.12/site-packages (from anyio<5,>=3.5.0->openai) (3.7)\n",
      "Requirement already satisfied: certifi in ./.venv/lib/python3.12/site-packages (from httpx<1,>=0.23.0->openai) (2024.2.2)\n",
      "Requirement already satisfied: httpcore==1.* in ./.venv/lib/python3.12/site-packages (from httpx<1,>=0.23.0->openai) (1.0.5)\n",
      "Requirement already satisfied: h11<0.15,>=0.13 in ./.venv/lib/python3.12/site-packages (from httpcore==1.*->httpx<1,>=0.23.0->openai) (0.14.0)\n",
      "Requirement already satisfied: decorator in ./.venv/lib/python3.12/site-packages (from ipython>=6.1.0->ipywidgets) (5.1.1)\n",
      "Requirement already satisfied: jedi>=0.16 in ./.venv/lib/python3.12/site-packages (from ipython>=6.1.0->ipywidgets) (0.19.1)\n",
      "Requirement already satisfied: matplotlib-inline in ./.venv/lib/python3.12/site-packages (from ipython>=6.1.0->ipywidgets) (0.1.6)\n",
      "Requirement already satisfied: prompt-toolkit<3.1.0,>=3.0.41 in ./.venv/lib/python3.12/site-packages (from ipython>=6.1.0->ipywidgets) (3.0.43)\n",
      "Requirement already satisfied: pygments>=2.4.0 in ./.venv/lib/python3.12/site-packages (from ipython>=6.1.0->ipywidgets) (2.17.2)\n",
      "Requirement already satisfied: stack-data in ./.venv/lib/python3.12/site-packages (from ipython>=6.1.0->ipywidgets) (0.6.3)\n",
      "Requirement already satisfied: pexpect>4.3 in ./.venv/lib/python3.12/site-packages (from ipython>=6.1.0->ipywidgets) (4.9.0)\n",
      "Requirement already satisfied: annotated-types>=0.4.0 in ./.venv/lib/python3.12/site-packages (from pydantic<3,>=1.9.0->openai) (0.6.0)\n",
      "Requirement already satisfied: pydantic-core==2.18.1 in ./.venv/lib/python3.12/site-packages (from pydantic<3,>=1.9.0->openai) (2.18.1)\n",
      "Requirement already satisfied: parso<0.9.0,>=0.8.3 in ./.venv/lib/python3.12/site-packages (from jedi>=0.16->ipython>=6.1.0->ipywidgets) (0.8.4)\n",
      "Requirement already satisfied: ptyprocess>=0.5 in ./.venv/lib/python3.12/site-packages (from pexpect>4.3->ipython>=6.1.0->ipywidgets) (0.7.0)\n",
      "Requirement already satisfied: wcwidth in ./.venv/lib/python3.12/site-packages (from prompt-toolkit<3.1.0,>=3.0.41->ipython>=6.1.0->ipywidgets) (0.2.13)\n",
      "Requirement already satisfied: executing>=1.2.0 in ./.venv/lib/python3.12/site-packages (from stack-data->ipython>=6.1.0->ipywidgets) (2.0.1)\n",
      "Requirement already satisfied: asttokens>=2.1.0 in ./.venv/lib/python3.12/site-packages (from stack-data->ipython>=6.1.0->ipywidgets) (2.4.1)\n",
      "Requirement already satisfied: pure-eval in ./.venv/lib/python3.12/site-packages (from stack-data->ipython>=6.1.0->ipywidgets) (0.2.2)\n",
      "Requirement already satisfied: six>=1.12.0 in ./.venv/lib/python3.12/site-packages (from asttokens>=2.1.0->stack-data->ipython>=6.1.0->ipywidgets) (1.16.0)\n",
      "Note: you may need to restart the kernel to use updated packages.\n"
     ]
    }
   ],
   "source": [
    "# install dependencies\n",
    "%pip install openai jinja2 ipywidgets d20 python-dotenv"
   ]
  },
  {
   "cell_type": "code",
   "execution_count": 7,
   "metadata": {},
   "outputs": [],
   "source": [
    "# load dotenv file\n",
    "import os\n",
    "\n",
    "from dotenv import load_dotenv\n",
    "load_dotenv()\n",
    "\n",
    "if os.environ.get(\"OPENAI_API_KEY\") is None:\n",
    "    raise Exception(\"missing OPENAI API KEY...\")"
   ]
  },
  {
   "cell_type": "code",
   "execution_count": 8,
   "metadata": {},
   "outputs": [
    {
     "name": "stdout",
     "output_type": "stream",
     "text": [
      "config.toml loaded: v0.0.2\n"
     ]
    }
   ],
   "source": [
    "# load config file\n",
    "import tomllib\n",
    "\n",
    "config_name = \"config.toml\"\n",
    "config:dict[str, any] = None\n",
    "with open(config_name, \"rb\") as f:\n",
    "    config = tomllib.load(f)\n",
    "\n",
    "print(f\"{config_name} loaded: v{config[\"version\"]}\")"
   ]
  },
  {
   "cell_type": "code",
   "execution_count": 9,
   "metadata": {},
   "outputs": [
    {
     "name": "stdout",
     "output_type": "stream",
     "text": [
      "<< system >>\n",
      "You are not an AI Model. You are a game master of the table top role-play game: Call of Calthulhu. \n",
      "\n",
      "Here are the rules of the game:\n",
      "- The game is played in a series of rounds, each round consisting of a series of turns.\n",
      "\n",
      "- You should EVALUATE player's action, if the situation needs a skill check, then respond like this:\"\"\"\n",
      "some context about the skill check...\n",
      "skill: skill_name (using snake_case, must included in the character sheet)\n",
      "difficulty: diffuculty_level (easy, medium or hard)\n",
      "\"\"\"\n",
      "\n",
      "- Otherwise you should respond like this:\"\"\"\n",
      "description of player's current situation...\n",
      "possible actions:\n",
      "1. 1st action description...\n",
      "2. 2nd action description...\n",
      "3. 3rd action description...\n",
      "any other possible actions...\n",
      "\"\"\"\n",
      "\n",
      "- The round will END when ROUND RULES are met, you should summerize the round in the ENDING message like this:\"\"\"\n",
      "some context of the ending...\n",
      "round summary: the summary of the round...\n",
      "\"\"\"\n",
      "------\n",
      "<< system >>\n",
      "player's CHARACTER SHEET:\n",
      "- name: Jone Doe\n",
      "- age: 32\n",
      "- birthplace: Arkham\n",
      "- residence: New York\n",
      "- occupation: Journalist\n",
      "- skills: ['photography', 'persuasion', 'stealth', 'dodge', 'accounting', 'appraise', 'archaeology', 'charm', 'climb', 'disguise', 'drive_auto', 'brawl', 'first_aid', 'intimidate', 'library_use', 'listen', 'psychology', 'stealth', 'strength', 'dexterity', 'intelligence', 'constitution', 'appearance', 'education', 'size', 'power', 'luck']\n",
      "- backstory: John Doe is a journalist who has been investigating the mysterious disappearances in Arkham.\n",
      "He is a skilled investigator and has a knack for finding the truth behind the lies.\n",
      "\n",
      "\n",
      "ROUND RULES:\n",
      "- The round will END in 5 TURNS or when the player enter the basement of the mansion.\n",
      "- When the round ends, PLAYER should heard a scary sound from the basement of the mansion.\n",
      "\n",
      "ROUND TRIGGERS:\n",
      "- When you enter the dining room, you will see a scary dog running through the room.(this may trigger a sanity check)\n",
      "------\n",
      "<< assistant >>\n",
      "round name: The Haunted Mansion\n",
      "round context: You have been hired by a wealthy businessman to investigate a haunted mansion in the outskirts of Arkham.\n",
      "The mansion is said to be cursed and anyone who enters it never returns.\n",
      "You have been given a map of the mansion and some basic equipment to help you in your investigation.\n",
      "Your goal is to find out the truth behind the curse and put an end to it.\n",
      "\n",
      "possible actions:\n",
      "1. Enter the mansion.\n",
      "2. Take some photos of the mansion's exterior.\n",
      "3. Talk to the butler. (may need a persuasion skill check)\n",
      "------\n"
     ]
    }
   ],
   "source": [
    "# load config\n",
    "from jinja2 import BaseLoader, Environment\n",
    "\n",
    "meta = config.get(\"meta\", None)\n",
    "\n",
    "messages:dict[str, str] = []\n",
    "for msg in config[\"messages\"]:\n",
    "    role = msg.get(\"role\")\n",
    "    raw_content = msg.get(\"content\")\n",
    "\n",
    "    print(f\"<< {role} >>\")\n",
    "    \n",
    "    template = Environment(loader=BaseLoader()).from_string(raw_content)\n",
    "    content = template.render(meta)\n",
    "    print(content)\n",
    "\n",
    "    messages.append({\"role\": role, \"content\": content})\n",
    "    print(\"------\")"
   ]
  },
  {
   "cell_type": "code",
   "execution_count": 10,
   "metadata": {},
   "outputs": [
    {
     "name": "stdout",
     "output_type": "stream",
     "text": [
      "ASSISTANT:\n",
      "round name: The Haunted Mansion\n",
      "round context: You have been hired by a wealthy businessman to investigate a haunted mansion in the outskirts of Arkham.\n",
      "The mansion is said to be cursed and anyone who enters it never returns.\n",
      "You have been given a map of the mansion and some basic equipment to help you in your investigation.\n",
      "Your goal is to find out the truth behind the curse and put an end to it.\n",
      "\n",
      "possible actions:\n",
      "1. Enter the mansion.\n",
      "2. Take some photos of the mansion's exterior.\n",
      "3. Talk to the butler. (may need a persuasion skill check)\n"
     ]
    },
    {
     "data": {
      "application/vnd.jupyter.widget-view+json": {
       "model_id": "27ad78c0cf314c0e851738c175ccb656",
       "version_major": 2,
       "version_minor": 0
      },
      "text/plain": [
       "HBox(children=(Button(description='1', style=ButtonStyle()), Button(description='2', style=ButtonStyle()), But…"
      ]
     },
     "metadata": {},
     "output_type": "display_data"
    },
    {
     "name": "stdout",
     "output_type": "stream",
     "text": [
      "USER ACTION: I have chosen action 3. (TURN: 1)\n",
      "\n",
      "ASSISTANT:\n",
      "As you approach the mansion, you notice the butler standing by the entrance, looking both anxious and curious about your presence. He's clearly been expecting someone to investigate the mansion but seems wary of the implications your investigation might bring. Deciding to engage him directly, you prepare to use your charm and wit to persuade him to share information that could be vital to your investigation.\n",
      "\n",
      "skill: persuasion\n",
      "difficulty: medium"
     ]
    },
    {
     "data": {
      "application/vnd.jupyter.widget-view+json": {
       "model_id": "67cd46cdde9e41e18828062e9d03c86f",
       "version_major": 2,
       "version_minor": 0
      },
      "text/plain": [
       "Button(description='SKILL CHECK - PERSUASION', layout=Layout(width='auto'), style=ButtonStyle())"
      ]
     },
     "metadata": {},
     "output_type": "display_data"
    },
    {
     "name": "stdout",
     "output_type": "stream",
     "text": [
      "USER ACTION: I am making a skill check using PERSUASION against a difficulty of MEDIUM.\n",
      "And I rolled a 94 for a result of FAILURE. (TURN: 2)\n",
      "\n",
      "ASSISTANT:\n",
      "Despite your best efforts to persuade the butler, your words seem to fall on deaf ears. He remains tight-lipped, providing you with nothing more than courteous but non-committal responses. It's clear that either fear or loyalty keeps him from divulging any useful information about the mansion or its eerie reputation. With this avenue temporarily closed to you, it's time to consider your next steps carefully.\n",
      "\n",
      "possible actions:\n",
      "1. Enter the mansion despite the setback.\n",
      "2. Attempt to take some photos of the mansion's exterior, looking for any unusual details.\n",
      "3. Explore the mansion's surroundings for another entry point or clues."
     ]
    },
    {
     "data": {
      "application/vnd.jupyter.widget-view+json": {
       "model_id": "dd31750c59eb4fe8b8a74e7086807560",
       "version_major": 2,
       "version_minor": 0
      },
      "text/plain": [
       "HBox(children=(Button(description='1', style=ButtonStyle()), Button(description='2', style=ButtonStyle()), But…"
      ]
     },
     "metadata": {},
     "output_type": "display_data"
    },
    {
     "name": "stdout",
     "output_type": "stream",
     "text": [
      "USER ACTION: I have chosen action 1. (TURN: 3)\n",
      "\n",
      "ASSISTANT:\n",
      "You decide not to let the butler's reluctance deter you from your mission. Stepping into the mansion, you're immediately struck by the grandeur of its interior. The dimly lit foyer is lined with portraits of individuals who you assume were once residents of the mansion. A thick layer of dust covers every surface, and a musty smell fills the air, suggesting the mansion has been uninhabited for some time. The silence is almost palpable, broken only by the sound of your footsteps echoing through the halls. \n",
      "\n",
      "As you move forward, you notice several doors leading to different parts of the mansion and a grand staircase that spirals upwards. \n",
      "\n",
      "possible actions:\n",
      "1. Explore the door to your left, which appears to lead to a library.\n",
      "2. Head towards the door on the right, from which you can hear faint, eerie whispers.\n",
      "3. Ascend the grand staircase to explore the upper floor of the mansion."
     ]
    },
    {
     "data": {
      "application/vnd.jupyter.widget-view+json": {
       "model_id": "26e8dd329867401d99d2f6c670d8320c",
       "version_major": 2,
       "version_minor": 0
      },
      "text/plain": [
       "HBox(children=(Button(description='1', style=ButtonStyle()), Button(description='2', style=ButtonStyle()), But…"
      ]
     },
     "metadata": {},
     "output_type": "display_data"
    },
    {
     "name": "stdout",
     "output_type": "stream",
     "text": [
      "USER ACTION: I have chosen action 1. (TURN: 4)\n",
      "\n",
      "ASSISTANT:\n",
      "You turn the handle and step into what appears to be a vast library, its walls lined with shelves overflowing with books. The air is thick with the smell of old paper and leather. Dust motes dance in the few shafts of light that penetrate the gloom. It's a treasure trove of knowledge, neglected and untouched for what seems like decades. In the center of the room stands a large wooden table, scattered with various papers, photographs, and a few old, flickering candles.\n",
      "\n",
      "As you move deeper into the library, your eye catches a particularly old book with an ornate cover that seems oddly out of place. It's as if it's calling to you, promising secrets that could be key to unraveling the mystery of the mansion.\n",
      "\n",
      "possible actions:\n",
      "1. Examine the old book with the ornate cover more closely.\n",
      "2. Search the library for any documents or photographs related to the mansion's history.\n",
      "3. Leave the library to explore another room."
     ]
    },
    {
     "data": {
      "application/vnd.jupyter.widget-view+json": {
       "model_id": "807fb2889fb847089a8ce92e99e04cb6",
       "version_major": 2,
       "version_minor": 0
      },
      "text/plain": [
       "HBox(children=(Button(description='1', style=ButtonStyle()), Button(description='2', style=ButtonStyle()), But…"
      ]
     },
     "metadata": {},
     "output_type": "display_data"
    },
    {
     "name": "stdout",
     "output_type": "stream",
     "text": [
      "USER ACTION: I have chosen action 2. (TURN: 5)\n",
      "\n",
      "ASSISTANT:\n",
      "You decide to delve deeper into the mansion's past, hoping to uncover clues about the disappearances and the supposed curse. Methodically, you sift through the documents and photographs scattered across the table. Among the mundane records of daily life and faded portraits of people whose eyes seem to follow your every move, you discover a series of letters and journal entries that hint at a dark secret buried within the mansion's history.\n",
      "\n",
      "These documents tell a fragmented tale of forbidden rituals, a family's descent into madness, and a pact with an entity known only as \"The Dweller in the Shadows.\" The last entry is a frantic plea from the mansion's final resident, begging forgiveness for something unspeakable.\n",
      "\n",
      "As you absorb the chilling details, a low, ominous growl echoes through the mansion. Remembering the round trigger, you realize it must be the sound of the scary dog running through the dining room, which is directly adjacent to the library. The sudden noise startles you, causing a shiver to run down your spine.\n",
      "\n",
      "round summary: After failing to gain useful information from the butler, you entered the mansion and decided to explore the library. There, you discovered documents revealing a dark secret about the mansion. The round ends with the sound of a scary dog, hinting at the supernatural elements at play within the mansion."
     ]
    },
    {
     "data": {
      "application/vnd.jupyter.widget-view+json": {
       "model_id": "fcff18ebdfcb4bcebf97c5eca9b08331",
       "version_major": 2,
       "version_minor": 0
      },
      "text/plain": [
       "Button(description='NEXT ROUND', style=ButtonStyle())"
      ]
     },
     "metadata": {},
     "output_type": "display_data"
    }
   ],
   "source": [
    "# start interactive chat\n",
    "import re\n",
    "import functools\n",
    "\n",
    "import ipywidgets as widgets\n",
    "from IPython.display import display\n",
    "\n",
    "from openai import OpenAI\n",
    "import d20\n",
    "\n",
    "def count_user_actions():\n",
    "    count = 0\n",
    "    for msg in messages:\n",
    "        if msg[\"role\"] == \"user\":\n",
    "            count += 1\n",
    "    return count\n",
    "\n",
    "def on_custom_input(b, input:widgets.Text):\n",
    "    role = \"user\"\n",
    "    content = f\"{input.value} (TURN: {count_user_actions()+1})\"\n",
    "    messages.append({\"role\":role, \"content\":content})\n",
    "    print(f\"USER ACTION: {content}\")\n",
    "    chat()\n",
    "\n",
    "def on_action(b, index:str):\n",
    "    role = \"user\"\n",
    "    content = f\"I have chosen action {index}. (TURN: {count_user_actions()+1})\"\n",
    "    messages.append({\"role\":role, \"content\":content})\n",
    "    print(f\"USER ACTION: {content}\")\n",
    "    chat()\n",
    "\n",
    "def on_custom_action(b):\n",
    "    hbox = widgets.HBox(layout=widgets.Layout(width=\"100%\"))\n",
    "    action_text = widgets.Text(layout=widgets.Layout(width=\"100%\"))\n",
    "    submit = widgets.Button(description=\"SUBMIT\", layout=widgets.Layout(width=\"fit-content\"))\n",
    "    submit.on_click(functools.partial(on_custom_input, input=action_text))\n",
    "    hbox.children += (action_text, submit) \n",
    "    display(hbox)\n",
    "\n",
    "def on_skill(b, skill:str, difficulty:str):\n",
    "    role = \"user\"\n",
    "    content = f\"I am making a skill check using {skill.upper()} against a difficulty of {difficulty.upper()}.\"\n",
    "\n",
    "    d = difficulty.lower()\n",
    "    dc = 50\n",
    "    if d == \"easy\":\n",
    "        dc = 75\n",
    "    elif d == \"hard\":\n",
    "        dc = 25\n",
    "    roll = d20.roll(\"1d100\").total\n",
    "    result = \"Success\" if roll <= dc else \"Failure\"\n",
    "    if roll == 1:\n",
    "        result = \"Critical Success\"\n",
    "    elif roll == 100:\n",
    "        result = \"Critical Failure\"\n",
    "    content += f\"\\nAnd I rolled a {roll} for a result of {result.upper()}. (TURN: {count_user_actions()+1})\"\n",
    "    messages.append({\"role\":role, \"content\":content})\n",
    "    print(f\"USER ACTION: {content}\")\n",
    "    chat()\n",
    "\n",
    "# parse message into key-value pairs\n",
    "pattern = re.compile(r\"^([\\w_ *]+)\\:[ \\s]*(.+)*$\")\n",
    "action_pattern = re.compile(r\"(\\d+). *(.+)\")\n",
    "def parse_message(content):\n",
    "    parsed: dict = {}\n",
    "    current_key = None\n",
    "    lines = content.splitlines()\n",
    "    \n",
    "    # parse the content line by line\n",
    "    for line in lines:\n",
    "        res = pattern.search(line)\n",
    "        if res is not None:\n",
    "            current_key = res.group(1)\n",
    "            if res.group(2) is not None:\n",
    "                parsed[current_key] = res.group(2)\n",
    "            else:\n",
    "                parsed[current_key] = \"\"\n",
    "        elif current_key is not None:\n",
    "            parsed[current_key] += \"\\n\" + line\n",
    "    \n",
    "    keys = parsed.keys()\n",
    "    # possible actions\n",
    "    vbox = widgets.HBox()\n",
    "    if \"possible actions\" in keys:\n",
    "        ma = action_pattern.finditer(parsed[\"possible actions\"])\n",
    "        for m in ma:\n",
    "            action_index=m.group(1)\n",
    "            action_button = widgets.Button(description=action_index)\n",
    "            action_button.on_click(functools.partial(on_action, index=action_index))\n",
    "            vbox.children += (action_button,)\n",
    "        custom_action_button = widgets.Button(description=\"CUSTOM\")\n",
    "        custom_action_button.on_click(functools.partial(on_custom_action))\n",
    "        vbox.children += (custom_action_button,)\n",
    "        display(vbox)\n",
    "    \n",
    "    # skill check\n",
    "    if \"skill\" in keys and \"difficulty\" in keys:\n",
    "        skill = parsed.get(\"skill\")\n",
    "        difficulty = parsed.get(\"difficulty\")\n",
    "        skill_button = widgets.Button(description=f\"SKILL CHECK - {skill.upper()}\", layout=widgets.Layout(width=\"auto\"))\n",
    "        skill_button.on_click(functools.partial(on_skill, skill=skill, difficulty=difficulty))\n",
    "        display(skill_button)\n",
    "    \n",
    "    if \"round summary\" in keys:\n",
    "        summary = parsed[\"round summary\"]\n",
    "        next_round_button = widgets.Button(description=\"NEXT ROUND\")\n",
    "        display(next_round_button)\n",
    "\n",
    "def chat():\n",
    "    client = OpenAI(api_key=os.environ.get(\"OPENAI_API_KEY\"))\n",
    "    stream = client.chat.completions.create(\n",
    "        model=os.environ.get(\"OPENAI_MODEL_NAME\"),\n",
    "        messages=messages,\n",
    "        stream=True,\n",
    "        temperature=float(os.environ.get(\"OPENAI_TEMPERATURE\"))\n",
    "    )\n",
    "    print(\"\\nASSISTANT:\")\n",
    "    generated = \"\"\n",
    "    for chunk in stream:\n",
    "        if chunk.choices[0].delta.content is not None:\n",
    "            delta = chunk.choices[0].delta.content\n",
    "            print(delta, end=\"\")\n",
    "            generated += delta\n",
    "    messages.append({\"role\": \"assistant\", \"content\": generated})\n",
    "    parse_message(messages[-1][\"content\"])\n",
    "\n",
    "print(f\"{messages[-1][\"role\"].upper()}:\")\n",
    "print(messages[-1][\"content\"])\n",
    "# parse the last message\n",
    "parse_message(messages[-1][\"content\"])"
   ]
  }
 ],
 "metadata": {
  "kernelspec": {
   "display_name": ".venv",
   "language": "python",
   "name": "python3"
  },
  "language_info": {
   "codemirror_mode": {
    "name": "ipython",
    "version": 3
   },
   "file_extension": ".py",
   "mimetype": "text/x-python",
   "name": "python",
   "nbconvert_exporter": "python",
   "pygments_lexer": "ipython3",
   "version": "3.12.2"
  }
 },
 "nbformat": 4,
 "nbformat_minor": 2
}
