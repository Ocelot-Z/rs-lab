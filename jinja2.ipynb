{
 "cells": [
  {
   "cell_type": "code",
   "execution_count": null,
   "metadata": {},
   "outputs": [],
   "source": [
    "from jinja2 import Environment, FileSystemLoader\n",
    "\n",
    "MAX_SCORE = 100\n",
    "TEST_NAME = \"Driving Test\"\n",
    "\n",
    "Students = [\n",
    "    {\"name\": \"Mandy\", \"score\":80},\n",
    "    {\"name\": \"Calvin\", \"score\":60},\n",
    "    {\"name\": \"Aspirin\", \"score\":100}, \n",
    "]\n",
    "\n",
    "env= Environment(loader=FileSystemLoader(\"templates/\"))\n",
    "template = env.template(\"good.txt\")\n",
    "\n",
    "for student in Students:\n",
    "    name = student[\"name\"]\n",
    "    filename = f\"output/message_{name.lower()}.txt\"\n",
    "    content= template.render(\n",
    "        student,\n",
    "        max_score=MAX_SCORE,\n",
    "        test_name=TEST_NAME\n",
    "    )\n",
    "    with open(filename, mode=\"w\", encoding=\"utf-8\") as output:\n",
    "        output.write(content)\n",
    "        print(\"...wrote\", filename)"
   ]
  },
  {
   "cell_type": "code",
   "execution_count": null,
   "metadata": {},
   "outputs": [],
   "source": [
    "from jinja2 import Template\n",
    "template = Template('{% if life_span >= 90 %}expired{% elif life_span >= 80 %}expiring{% else %}fresh{% endif %}.')\n",
    "output = template.render(life_span = 70)\n",
    "print(output)"
   ]
  },
  {
   "cell_type": "code",
   "execution_count": null,
   "metadata": {},
   "outputs": [],
   "source": [
    "from jinja2 import Template\n",
    "\n",
    "Template(\"{{var[0]}}\").render(var=[1,2,3])"
   ]
  },
  {
   "cell_type": "code",
   "execution_count": 44,
   "metadata": {},
   "outputs": [
    {
     "data": {
      "text/plain": [
       "'adding 7 and 11 equals 18'"
      ]
     },
     "execution_count": 44,
     "metadata": {},
     "output_type": "execute_result"
    }
   ],
   "source": [
    "from jinja2 import Template\n",
    "\n",
    "Template(\"adding {{x}} and {{y}} equals {{x + y}}\").render(x=7, y=11,)"
   ]
  }
 ],
 "metadata": {
  "kernelspec": {
   "display_name": ".venv",
   "language": "python",
   "name": "python3"
  },
  "language_info": {
   "codemirror_mode": {
    "name": "ipython",
    "version": 3
   },
   "file_extension": ".py",
   "mimetype": "text/x-python",
   "name": "python",
   "nbconvert_exporter": "python",
   "pygments_lexer": "ipython3",
   "version": "3.12.3"
  }
 },
 "nbformat": 4,
 "nbformat_minor": 2
}
