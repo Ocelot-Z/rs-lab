{
 "cells": [
  {
   "cell_type": "code",
   "execution_count": 1,
   "metadata": {},
   "outputs": [
    {
     "name": "stdout",
     "output_type": "stream",
     "text": [
      "Requirement already satisfied: fastapi in c:\\python\\lib\\site-packages (0.110.2)\n",
      "Requirement already satisfied: pydantic in c:\\python\\lib\\site-packages (2.7.0)\n",
      "Requirement already satisfied: toml in c:\\python\\lib\\site-packages (0.10.2)\n",
      "Requirement already satisfied: openai in c:\\python\\lib\\site-packages (1.20.0)\n",
      "Requirement already satisfied: starlette<0.38.0,>=0.37.2 in c:\\python\\lib\\site-packages (from fastapi) (0.37.2)\n",
      "Requirement already satisfied: typing-extensions>=4.8.0 in c:\\python\\lib\\site-packages (from fastapi) (4.11.0)\n",
      "Requirement already satisfied: annotated-types>=0.4.0 in c:\\python\\lib\\site-packages (from pydantic) (0.6.0)\n",
      "Requirement already satisfied: pydantic-core==2.18.1 in c:\\python\\lib\\site-packages (from pydantic) (2.18.1)\n",
      "Requirement already satisfied: anyio<5,>=3.5.0 in c:\\python\\lib\\site-packages (from openai) (4.3.0)\n",
      "Requirement already satisfied: distro<2,>=1.7.0 in c:\\python\\lib\\site-packages (from openai) (1.9.0)\n",
      "Requirement already satisfied: httpx<1,>=0.23.0 in c:\\python\\lib\\site-packages (from openai) (0.27.0)\n",
      "Requirement already satisfied: sniffio in c:\\python\\lib\\site-packages (from openai) (1.3.1)\n",
      "Requirement already satisfied: tqdm>4 in c:\\python\\lib\\site-packages (from openai) (4.66.2)\n",
      "Requirement already satisfied: idna>=2.8 in c:\\python\\lib\\site-packages (from anyio<5,>=3.5.0->openai) (3.7)\n",
      "Requirement already satisfied: certifi in c:\\python\\lib\\site-packages (from httpx<1,>=0.23.0->openai) (2024.2.2)\n",
      "Requirement already satisfied: httpcore==1.* in c:\\python\\lib\\site-packages (from httpx<1,>=0.23.0->openai) (1.0.5)\n",
      "Requirement already satisfied: h11<0.15,>=0.13 in c:\\python\\lib\\site-packages (from httpcore==1.*->httpx<1,>=0.23.0->openai) (0.14.0)\n",
      "Requirement already satisfied: colorama in c:\\users\\calvi\\appdata\\roaming\\python\\python312\\site-packages (from tqdm>4->openai) (0.4.6)\n",
      "Note: you may need to restart the kernel to use updated packages.\n"
     ]
    }
   ],
   "source": [
    "%pip install fastapi pydantic toml openai"
   ]
  },
  {
   "cell_type": "code",
   "execution_count": null,
   "metadata": {},
   "outputs": [
    {
     "name": "stdout",
     "output_type": "stream",
     "text": [
      "context: You arrive at an old self-storage facility by invitation from the manager, who has an storage room up for auction due to the death of its owner. As you and other interested buyers gather around the auctioneer, a worker carrying a bolt cutter snaps off the rusty lock, unveiling a storage room cluttered with various old furniture and antiquities. Without giving any opportunity for the bidders to take a clear look, the auctioneer begins the bid at $50.\n",
      "What's your bid?\n",
      "actions:\n",
      "1. Bid $100\n",
      "2. Bid $150\n",
      "3. Bid $200\n"
     ]
    },
    {
     "data": {
      "application/vnd.jupyter.widget-view+json": {
       "model_id": "30f9b541261540eab1f7ada1e49450b2",
       "version_major": 2,
       "version_minor": 0
      },
      "text/plain": [
       "HBox(children=(Button(description='1', layout=Layout(width='auto'), style=ButtonStyle(), tooltip='Bid $100'), …"
      ]
     },
     "metadata": {},
     "output_type": "display_data"
    },
    {
     "name": "stdout",
     "output_type": "stream",
     "text": [
      "I select option 2. TURN: 1 \n",
      "\n",
      "\n",
      "context: You raise your hand, bidding $150. The auctioneer acknowledges your bid with a nod. Almost immediately, another bidder, a well-dressed woman with a sharp gaze, raises the bid to $200. The room is filled with tension as eyes dart between the two of you, waiting for the next move.\n",
      "actions:\n",
      "1. Bid $250\n",
      "2. Bid $300\n",
      "3. Stay at $150"
     ]
    },
    {
     "data": {
      "application/vnd.jupyter.widget-view+json": {
       "model_id": "7d07acf2c8fc47fb8021ce3baf82ce98",
       "version_major": 2,
       "version_minor": 0
      },
      "text/plain": [
       "HBox(children=(Button(description='1', layout=Layout(width='auto'), style=ButtonStyle(), tooltip='Bid $250'), …"
      ]
     },
     "metadata": {},
     "output_type": "display_data"
    },
    {
     "name": "stdout",
     "output_type": "stream",
     "text": [
      "I select option 1. TURN: 2 \n",
      "\n",
      "\n",
      "context: With a determined look, you bid $250. The woman hesitates for a moment but counters with a bid of $300. The auctioneer's voice rises in excitement, sensing the competition heating up. The other bidders seem to back off, leaving the contest between you and the woman.\n",
      "actions:\n",
      "1. Bid $350\n",
      "2. Bid $400\n",
      "3. Stay at $250"
     ]
    },
    {
     "data": {
      "application/vnd.jupyter.widget-view+json": {
       "model_id": "5620e40a59874ce09f71e93c32c5793e",
       "version_major": 2,
       "version_minor": 0
      },
      "text/plain": [
       "HBox(children=(Button(description='1', layout=Layout(width='auto'), style=ButtonStyle(), tooltip='Bid $350'), …"
      ]
     },
     "metadata": {},
     "output_type": "display_data"
    },
    {
     "name": "stdout",
     "output_type": "stream",
     "text": [
      "I select option 1. TURN: 3 \n",
      "\n",
      "\n",
      "context: You bid $350, pushing the stakes higher. The woman pauses, her expression unreadable, then she surprisingly bows out with a subtle shake of her head. The auctioneer calls out for any more bids, but the room remains silent, all eyes on you.\n",
      "skill: Persuasion\n",
      "difficulty: normal"
     ]
    },
    {
     "data": {
      "application/vnd.jupyter.widget-view+json": {
       "model_id": "e68e0d535a9e454bb049247fa82d86a0",
       "version_major": 2,
       "version_minor": 0
      },
      "text/plain": [
       "HBox(children=(Button(description='PERSUASION [NORMAL]', layout=Layout(width='auto'), style=ButtonStyle()), Bu…"
      ]
     },
     "metadata": {},
     "output_type": "display_data"
    },
    {
     "name": "stdout",
     "output_type": "stream",
     "text": [
      "I am making a skill check using PERSUASION against a difficulty of NORMAL.\n",
      "And I rolled a 20 for a result of SUCCESS. TURN: 4 \n",
      "\n",
      "\n",
      "context: Your confident demeanor and decisive bidding seem to have dissuaded others from challenging you further. The auctioneer, after a brief pause, declares you the winner of the auction at $350. Applause breaks out among the bystanders as you approach the manager to settle the payment and collect the keys to your newly acquired storage room.\n",
      "summary: Winning the storage room auction for $350 after a tense bidding war, you've managed to secure the contents of the mysterious storage room. Your successful persuasion ensured no further bids against you, leaving you victorious. With $100 left in your pocket, you're now the owner of items whose secrets and values are yet to be discovered."
     ]
    },
    {
     "data": {
      "application/vnd.jupyter.widget-view+json": {
       "model_id": "f6be2132fd0d4762a98d4a59fb564edd",
       "version_major": 2,
       "version_minor": 0
      },
      "text/plain": [
       "HBox(children=(Button(description='NEXT ROUND', layout=Layout(width='auto'), style=ButtonStyle()), Button(desc…"
      ]
     },
     "metadata": {},
     "output_type": "display_data"
    },
    {
     "name": "stdout",
     "output_type": "stream",
     "text": [
      "context:\n",
      "You follow the manager through the myriad hallways to his outdated office. The manager takes out an old tin box and places it on his desk and reaches towards you with an open palm, gesturing for you to pay up, which you obliged. Upon handing you a key for your newly owned storage room, he urges you to watch some old security footage...\n",
      "\n",
      "actions:\n",
      "1. Tell him you don't have time\n",
      "2. Reluctantly agree\n",
      "3. Pretend you didn't hear him and attempt to leave\n"
     ]
    },
    {
     "data": {
      "application/vnd.jupyter.widget-view+json": {
       "model_id": "439a410f585540c48cd8d449feb623e8",
       "version_major": 2,
       "version_minor": 0
      },
      "text/plain": [
       "HBox(children=(Button(description='1', layout=Layout(width='auto'), style=ButtonStyle(), tooltip=\"Tell him you…"
      ]
     },
     "metadata": {},
     "output_type": "display_data"
    },
    {
     "name": "stdout",
     "output_type": "stream",
     "text": [
      "I select option 2. TURN: 1 \n",
      "\n",
      "\n",
      "context: The manager nods with a grim expression, leading you to a dusty monitor in the corner of the room. As the grainy footage plays, you see a peculiar individual approaching your storage unit. With a ritualistic precision, they hop three times before entering, each time carrying a paper bag that appears full and leaving with it empty.\n",
      "\n",
      "skill: Spot Hidden\n",
      "difficulty: normal"
     ]
    },
    {
     "data": {
      "application/vnd.jupyter.widget-view+json": {
       "model_id": "b0183f8b4e10461db7e85c0b4cdf69ef",
       "version_major": 2,
       "version_minor": 0
      },
      "text/plain": [
       "HBox(children=(Button(description='SPOT [NORMAL]', layout=Layout(width='auto'), style=ButtonStyle()), Button(d…"
      ]
     },
     "metadata": {},
     "output_type": "display_data"
    },
    {
     "name": "stdout",
     "output_type": "stream",
     "text": [
      "I am making a skill check using SPOT against a difficulty of NORMAL.\n",
      "And I rolled a 72 for a result of FAILURE. TURN: 2 \n",
      "\n",
      "\n",
      "context: Squinting at the fuzzy screen, you struggle to make out any defining features of the individual or discern what might be in the bag. The footage blurs and skips, leaving you with more questions than answers. The manager, observing your frustration, suggests there might be something in the storage room itself that could shed light on these odd occurrences.\n",
      "\n",
      "actions:\n",
      "1. Inspect the storage room closely.\n",
      "2. Ask the manager for more details.\n",
      "3. Decide it's not worth the trouble and leave."
     ]
    },
    {
     "data": {
      "application/vnd.jupyter.widget-view+json": {
       "model_id": "5748bc7c2b6c4ed0b8bd0d30c79a9a00",
       "version_major": 2,
       "version_minor": 0
      },
      "text/plain": [
       "HBox(children=(Button(description='1', layout=Layout(width='auto'), style=ButtonStyle(), tooltip='Inspect the …"
      ]
     },
     "metadata": {},
     "output_type": "display_data"
    },
    {
     "name": "stdout",
     "output_type": "stream",
     "text": [
      "I select option 2. TURN: 3 \n",
      "\n",
      "\n",
      "context: The manager, with a wary glance, leans closer. \"Every time that person came here, the air felt... heavier. Other tenants complained of strange noises at night. But whenever we checked, nothing was out of place,\" he whispers, as if afraid of being overheard. \"I'd be careful if I were you. That storage room... it's not just any room.\"\n",
      "\n",
      "summary: After winning the storage room auction, you were urged by the manager to watch security footage, revealing a previous owner's peculiar ritual. Despite trying, you couldn't spot any significant details in the footage. Seeking answers, you turned to the manager, who shared rumors of strange occurrences linked to your storage room, hinting at its unusual nature."
     ]
    },
    {
     "data": {
      "application/vnd.jupyter.widget-view+json": {
       "model_id": "845db1c41be04c93ba9f5359d0e8d922",
       "version_major": 2,
       "version_minor": 0
      },
      "text/plain": [
       "HBox(children=(Button(description='NEXT ROUND', layout=Layout(width='auto'), style=ButtonStyle()), Button(desc…"
      ]
     },
     "metadata": {},
     "output_type": "display_data"
    },
    {
     "name": "stdout",
     "output_type": "stream",
     "text": [
      "context: Regardless of what happened in the manager's office, you have more important things to worry about. As you make your way to the parking lot to grab your duffle bag, you are intercepted by a middle-aged woman. She begs you to give her access to her old storage you had bid on last month so that she may recover her family’s old silver locket.\n",
      "actions:\n",
      "1. Reject her request\n",
      "2. Accept her request but lose out on potential earnings\n",
      "3. Ignore her completely\n"
     ]
    },
    {
     "data": {
      "application/vnd.jupyter.widget-view+json": {
       "model_id": "2b88eb23f4bb4d3c9b23d1b5ff4f68d1",
       "version_major": 2,
       "version_minor": 0
      },
      "text/plain": [
       "HBox(children=(Button(description='1', layout=Layout(width='auto'), style=ButtonStyle(), tooltip='Reject her r…"
      ]
     },
     "metadata": {},
     "output_type": "display_data"
    },
    {
     "name": "stdout",
     "output_type": "stream",
     "text": [
      "I select option 1. TURN: 1 \n",
      "\n",
      "\n",
      "context: Upon your rejection, the woman's demeanor shifts drastically. Her eyes darken, and with a venomous tone, she curses you, promising that misfortune will shadow your every step. The air around you seems to thicken with her words, a chill running down your spine.\n",
      "skill: Intimidate\n",
      "difficulty: hard"
     ]
    },
    {
     "data": {
      "application/vnd.jupyter.widget-view+json": {
       "model_id": "5b475764d0a747069eca66d63c34f969",
       "version_major": 2,
       "version_minor": 0
      },
      "text/plain": [
       "HBox(children=(Button(description='INTIMIDATE [HARD]', layout=Layout(width='auto'), style=ButtonStyle()), Butt…"
      ]
     },
     "metadata": {},
     "output_type": "display_data"
    },
    {
     "name": "stdout",
     "output_type": "stream",
     "text": [
      "I am making a skill check using INTIMIDATE against a difficulty of HARD.\n",
      "And I rolled a 73 for a result of FAILURE. TURN: 2 \n",
      "\n",
      "\n",
      "context: Your attempt to intimidate the woman backfires spectacularly. Instead of retreating, she laughs, a sound that seems to echo unnaturally in the empty parking lot. The air around you grows colder, and for a moment, you feel a weight on your shoulders, as if her curse has taken an immediate effect.\n",
      "summary: Kyle rejected the middle-aged woman's request to access the old storage room to retrieve her family's silver locket. In response, she cursed him. Kyle attempted to intimidate her in retaliation but failed, possibly making the curse's effects stronger."
     ]
    },
    {
     "data": {
      "application/vnd.jupyter.widget-view+json": {
       "model_id": "075f2e8785d3474b932e12588b416a53",
       "version_major": 2,
       "version_minor": 0
      },
      "text/plain": [
       "HBox(children=(Button(description='NEXT ROUND', layout=Layout(width='auto'), style=ButtonStyle()), Button(desc…"
      ]
     },
     "metadata": {},
     "output_type": "display_data"
    },
    {
     "name": "stdout",
     "output_type": "stream",
     "text": [
      "context: You enter your newly acquired storage and begin rumamging through its contents, placing a few items into your duffle bag, but neither of them feel expensive or valuable. You continue to flip through the mess...\n",
      "actions:\n",
      "1. Go through the old dresser\n",
      "2. Rummage through the pile of junk\n",
      "3. Open the antiquated cabinet\n"
     ]
    },
    {
     "data": {
      "application/vnd.jupyter.widget-view+json": {
       "model_id": "ed928210cf2449d79aedbce9c484dc98",
       "version_major": 2,
       "version_minor": 0
      },
      "text/plain": [
       "HBox(children=(Button(description='1', layout=Layout(width='auto'), style=ButtonStyle(), tooltip='Go through t…"
      ]
     },
     "metadata": {},
     "output_type": "display_data"
    },
    {
     "name": "stdout",
     "output_type": "stream",
     "text": [
      "I select option 2. TURN: 1 \n",
      "\n",
      "\n",
      "context: As you rummage through the pile of junk, your hands encounter various objects—old books with brittle pages, a broken clock, a few rusted tools. Then, your fingers brush against something smooth and round. It's the peculiar round wooden block with intricate carvings and a pentagram inlay. The craftsmanship is exquisite, suggesting significant value.\n",
      "skill: Occult\n",
      "difficulty: normal"
     ]
    },
    {
     "data": {
      "application/vnd.jupyter.widget-view+json": {
       "model_id": "2e8a7cfcede54bd2b574cc95b2d74bd3",
       "version_major": 2,
       "version_minor": 0
      },
      "text/plain": [
       "HBox(children=(Button(description='OCCULT [NORMAL]', layout=Layout(width='auto'), style=ButtonStyle()), Button…"
      ]
     },
     "metadata": {},
     "output_type": "display_data"
    },
    {
     "name": "stdout",
     "output_type": "stream",
     "text": [
      "I am making a skill check using OCCULT against a difficulty of NORMAL.\n",
      "And I rolled a 71 for a result of FAILURE. TURN: 2 \n",
      "\n",
      "\n",
      "context: Despite your efforts, the meanings behind the symbols and the purpose of the pentagram elude you. The craftsmanship is undeniable, but its true purpose or value, beyond being a curious artifact, remains a mystery. You feel an inexplicable draw to the object, as if it's whispering secrets just beyond your comprehension.\n",
      "actions:\n",
      "1. Examine the wooden block further.\n",
      "2. Place the wooden block in your duffle bag.\n",
      "3. Continue exploring the storage room."
     ]
    },
    {
     "data": {
      "application/vnd.jupyter.widget-view+json": {
       "model_id": "5f49eca923dd47c2b49be5cfeb012061",
       "version_major": 2,
       "version_minor": 0
      },
      "text/plain": [
       "HBox(children=(Button(description='1', layout=Layout(width='auto'), style=ButtonStyle(), tooltip='Examine the …"
      ]
     },
     "metadata": {},
     "output_type": "display_data"
    },
    {
     "name": "stdout",
     "output_type": "stream",
     "text": [
      "I select option 2. TURN: 3 \n",
      "\n",
      "\n",
      "context: You decide not to dwell on the mysteries of the wooden block for now. With a sense of caution mixed with curiosity, you carefully place the round wooden block into your duffle bag, feeling its weight settle among the other items. The air in the storage room seems to grow colder, or perhaps it's just your imagination running wild.\n",
      "actions:\n",
      "1. Check the old dresser for anything useful.\n",
      "2. Investigate the antiquated cabinet.\n",
      "3. Leave the storage room and head to your truck."
     ]
    },
    {
     "data": {
      "application/vnd.jupyter.widget-view+json": {
       "model_id": "db97e21c3ffd43f29ff6dcc24f9f1172",
       "version_major": 2,
       "version_minor": 0
      },
      "text/plain": [
       "HBox(children=(Button(description='1', layout=Layout(width='auto'), style=ButtonStyle(), tooltip='Check the ol…"
      ]
     },
     "metadata": {},
     "output_type": "display_data"
    },
    {
     "name": "stdout",
     "output_type": "stream",
     "text": [
      "I select option 2. TURN: 4 \n",
      "\n",
      "\n",
      "context: You approach the antiquated cabinet, its wood darkened by time and use. Opening its creaking doors reveals a collection of faded photographs, a dusty journal with illegible handwriting, and a small box containing what appears to be old coins. None of these items seem as intriguing or potentially valuable as the wooden block in your bag.\n",
      "actions:\n",
      "1. Examine the photographs.\n",
      "2. Read the journal.\n",
      "3. Pack up and head to your truck."
     ]
    },
    {
     "data": {
      "application/vnd.jupyter.widget-view+json": {
       "model_id": "23c5697c0cfd4ab2acb9808ffb6eb358",
       "version_major": 2,
       "version_minor": 0
      },
      "text/plain": [
       "HBox(children=(Button(description='1', layout=Layout(width='auto'), style=ButtonStyle(), tooltip='Examine the …"
      ]
     },
     "metadata": {},
     "output_type": "display_data"
    },
    {
     "name": "stdout",
     "output_type": "stream",
     "text": [
      "I select option 3. TURN: 5 \n",
      "\n",
      "\n",
      "context: Deciding you've spent enough time in the eerie storage room, you sling your duffle bag over your shoulder, the weight of the mysterious wooden block a constant reminder of the day's discoveries. As you lock the storage room behind you, a sense of unease lingers, but the prospect of uncovering more about the wooden block drives you forward.\n",
      "summary: Kyle found a peculiar round wooden block with a pentagram inlay among the items in the storage room. Despite an attempt to understand its purpose through an occult knowledge check, the true nature of the block remained elusive. Choosing to keep the block, Kyle explored further, eventually deciding to leave the storage room with the block safely in his duffle bag, heading back to his truck, marking the end of this round's exploration."
     ]
    },
    {
     "data": {
      "application/vnd.jupyter.widget-view+json": {
       "model_id": "94febe73180c4fb092c5bc9024a0384d",
       "version_major": 2,
       "version_minor": 0
      },
      "text/plain": [
       "HBox(children=(Button(description='NEXT ROUND', layout=Layout(width='auto'), style=ButtonStyle()), Button(desc…"
      ]
     },
     "metadata": {},
     "output_type": "display_data"
    },
    {
     "name": "stdout",
     "output_type": "stream",
     "text": [
      "context: As you carefully load the peculiar wooden block onto your truck and close the tailgates, you suddenly find yourself knocked on the gravel floor. You look up with your lips bloody, and notice Alex towering over you, his fist clenched tight, brows furrowed. You...\n",
      "actions:\n",
      "1. Get up and tackle him\n",
      "2. Tell him that you will get him his money soon\n",
      "3. Begin verbally assaulting him\n"
     ]
    },
    {
     "data": {
      "application/vnd.jupyter.widget-view+json": {
       "model_id": "0ea1c7a98e6040c388efe44fcc465b33",
       "version_major": 2,
       "version_minor": 0
      },
      "text/plain": [
       "HBox(children=(Button(description='1', layout=Layout(width='auto'), style=ButtonStyle(), tooltip='Get up and t…"
      ]
     },
     "metadata": {},
     "output_type": "display_data"
    },
    {
     "name": "stdout",
     "output_type": "stream",
     "text": [
      "I select option 3. TURN: 1 \n",
      "\n",
      "\n",
      "context: Your words, sharp and biting, slice through the tension. However, they seem to fuel Alex's rage further. He grins menacingly, his eyes narrowing. \"Words won't save you,\" he sneers, before launching another punch aimed at your face. You...\n",
      "skill: Fighting\n",
      "difficulty: extreme"
     ]
    },
    {
     "data": {
      "application/vnd.jupyter.widget-view+json": {
       "model_id": "87cbfc1dcaf6439486f255ed3b298187",
       "version_major": 2,
       "version_minor": 0
      },
      "text/plain": [
       "HBox(children=(Button(description='FIGHTING [EXTREME]', layout=Layout(width='auto'), style=ButtonStyle()), But…"
      ]
     },
     "metadata": {},
     "output_type": "display_data"
    },
    {
     "name": "stdout",
     "output_type": "stream",
     "text": [
      "I am making a skill check using FIGHTING against a difficulty of EXTREME.\n",
      "And I rolled a 74 for a result of FAILURE. TURN: 2 \n",
      "\n",
      "\n",
      "context: The punch lands squarely on your jaw, sending a shockwave of pain through your skull. You stagger backward, tasting blood. Alex, unrelenting,"
     ]
    },
    {
     "data": {
      "application/vnd.jupyter.widget-view+json": {
       "model_id": "d079bb83a21c44c8b7cb1a1953fcd9f7",
       "version_major": 2,
       "version_minor": 0
      },
      "text/plain": [
       "HBox(children=(Button(description='CUSTOM', style=ButtonStyle()),))"
      ]
     },
     "metadata": {},
     "output_type": "display_data"
    },
    {
     "data": {
      "application/vnd.jupyter.widget-view+json": {
       "model_id": "5a741744b949487cb874be17935f0ee1",
       "version_major": 2,
       "version_minor": 0
      },
      "text/plain": [
       "HBox(children=(Text(value='', layout=Layout(width='100%')), Button(description='SUBMIT', layout=Layout(width='…"
      ]
     },
     "metadata": {},
     "output_type": "display_data"
    },
    {
     "name": "stdout",
     "output_type": "stream",
     "text": [
      "talk. TURN: 3 \n",
      "\n",
      "\n",
      "context: With a heavy heart and throbbing pain, you attempt to reason with Alex, your voice barely above a whisper due to the swelling. \"I'll get your money,\" you manage to say. Alex pauses, his breath heavy, then leans in close. \"You have until tomorrow. Cash only,\" he hisses, before turning and walking away, leaving you bruised and battered on the ground.\n",
      "\n",
      "summary: After being attacked by Alex over a debt, Kyle tried to retaliate with both words and actions but failed. Despite his attempts to fight back and then reason with Alex, he was overpowered. Alex demanded repayment in cash by the next day before leaving Kyle injured. The round ends with Kyle contemplating his next move, nursing his wounds."
     ]
    },
    {
     "data": {
      "application/vnd.jupyter.widget-view+json": {
       "model_id": "dfbb0ca8ed81425bbc4583aff5594847",
       "version_major": 2,
       "version_minor": 0
      },
      "text/plain": [
       "HBox(children=(Button(description='NEXT ROUND', layout=Layout(width='auto'), style=ButtonStyle()), Button(desc…"
      ]
     },
     "metadata": {},
     "output_type": "display_data"
    },
    {
     "name": "stdout",
     "output_type": "stream",
     "text": [
      "context: The manager hands you some gauze and a bottle of rubbing alcohol as you clean yourself up in the restroom. You focus on the stinging pain of alcohol on your cut lips, reminding yourself how unfair life is, and would relentlessly beat any man down. You... \n",
      "actions:\n",
      "1. Close the wound with a closure strip\n",
      "2. Smash the mirror with a punch\n",
      "3. Scream in anger\n"
     ]
    },
    {
     "data": {
      "application/vnd.jupyter.widget-view+json": {
       "model_id": "13a372f8ba254c4db4969979435edc54",
       "version_major": 2,
       "version_minor": 0
      },
      "text/plain": [
       "HBox(children=(Button(description='1', layout=Layout(width='auto'), style=ButtonStyle(), tooltip='Close the wo…"
      ]
     },
     "metadata": {},
     "output_type": "display_data"
    },
    {
     "name": "stdout",
     "output_type": "stream",
     "text": [
      "I select option 3. TURN: 1 \n",
      "\n",
      "\n",
      "context: Your scream echoes through the tiled bathroom, a primal release of frustration and pain. The sound reverberates off the walls, almost as if carrying your anger and despair through the building. Moments later, there's a knock at the door. The manager's voice, laced with concern, penetrates the room, \"Are you alright in there? I think I can help you with your... situation.\"\n",
      "actions:\n",
      "1. Open the door and speak with the manager.\n",
      "2. Ignore the manager"
     ]
    },
    {
     "data": {
      "application/vnd.jupyter.widget-view+json": {
       "model_id": "c7c57aa4d4af4ca78c141f5821c319e7",
       "version_major": 2,
       "version_minor": 0
      },
      "text/plain": [
       "HBox(children=(Button(description='1', layout=Layout(width='auto'), style=ButtonStyle(), tooltip='Open the doo…"
      ]
     },
     "metadata": {},
     "output_type": "display_data"
    },
    {
     "name": "stdout",
     "output_type": "stream",
     "text": [
      "I select option 1. TURN: 2 \n",
      "\n",
      "\n",
      "context: Opening the door, you find the manager, a middle-aged man with sympathetic eyes. He hands you a piece of paper with an address scribbled on it. \"This is to a dealer who specializes in the esoteric. She might be interested in that peculiar item you found,\" he whispers, hinting at the wooden block with the pentagram.\n",
      "summary: After screaming in frustration, the manager approached you with an offer of assistance, providing an address to a dealer who might be interested in the esoteric item you found in the storage room. This concludes the round, marking a potential new direction in your journey to uncover the mysteries of the peculiar wooden block."
     ]
    },
    {
     "data": {
      "application/vnd.jupyter.widget-view+json": {
       "model_id": "9e74789f860c4369ae38d55ecda462cc",
       "version_major": 2,
       "version_minor": 0
      },
      "text/plain": [
       "HBox(children=(Button(description='NEXT ROUND', layout=Layout(width='auto'), style=ButtonStyle()), Button(desc…"
      ]
     },
     "metadata": {},
     "output_type": "display_data"
    },
    {
     "name": "stdout",
     "output_type": "stream",
     "text": [
      "context: You make your way to the address given by the self-storage facility manager, and soon find yourself before a Victorian style house. As you roll up to the front porch, Ms. Blackwell, the aforementioned dealer greets you courteously with eyes brimming with excitement. It seems the manager notified her on your behalf.\n",
      "\n",
      "She invites you to bring your peculiar objects to her personal library, and place it on the table for her to begin appraising. And you...\n",
      "\n",
      "actions:\n",
      "1. Stay silent and wait for her appraisal\n",
      "2. Make a comment about her property\n",
      "3. Ask if she has seen something similar before\n"
     ]
    },
    {
     "data": {
      "application/vnd.jupyter.widget-view+json": {
       "model_id": "702e08b2960a4f828312a25577060562",
       "version_major": 2,
       "version_minor": 0
      },
      "text/plain": [
       "HBox(children=(Button(description='1', layout=Layout(width='auto'), style=ButtonStyle(), tooltip='Stay silent …"
      ]
     },
     "metadata": {},
     "output_type": "display_data"
    },
    {
     "name": "stdout",
     "output_type": "stream",
     "text": [
      "I select option 1. TURN: 1 \n",
      "\n",
      "\n",
      "context: As you remain silent, Ms. Blackwell's attention focuses solely on the round wooden block. With a gasp of realization, she exclaims, \"This, my dear, is not just any block. It's a seance table!\" With practiced ease, she twists a part of the table, revealing a hidden compartment containing three leather-bound books. \"Ah, these might interest you,\" she murmurs, her voice laced with intrigue.\n",
      "\n",
      "skill: Spot Hidden\n",
      "difficulty: normal"
     ]
    },
    {
     "data": {
      "application/vnd.jupyter.widget-view+json": {
       "model_id": "da24eb02b9a14c9b9d6ecbdcaa1fa563",
       "version_major": 2,
       "version_minor": 0
      },
      "text/plain": [
       "HBox(children=(Button(description='SPOT [NORMAL]', layout=Layout(width='auto'), style=ButtonStyle()), Button(d…"
      ]
     },
     "metadata": {},
     "output_type": "display_data"
    },
    {
     "name": "stdout",
     "output_type": "stream",
     "text": [
      "I am making a skill check using SPOT against a difficulty of NORMAL.\n",
      "And I rolled a 77 for a result of FAILURE. TURN: 2 \n",
      "\n",
      "\n",
      "context: Despite your best efforts, the details of the hidden compartment and its contents elude you, leaving you to rely on Ms. Blackwell's expertise. She notices your struggle and smiles gently, \"These books are quite rare, used in ancient rituals.\" Just then, the doorbell rings, and Ms. Blackwell announces, \"Ah, that must be Professor Dagger, a colleague of mine with a keen interest in such items.\"\n",
      "\n",
      "summary: Kyle, after opting to stay silent, witnessed Ms. Blackwell revealing the true nature of the round wooden block as a seance table and unveiling a hidden compartment with three leather-bound books. Despite trying to spot hidden details, Kyle failed. The round ends with the arrival of Professor Dagger, potentially marking a new chapter in the journey of the peculiar wooden block."
     ]
    },
    {
     "data": {
      "application/vnd.jupyter.widget-view+json": {
       "model_id": "9fdb4384ada54a59afd1cbec782d1a65",
       "version_major": 2,
       "version_minor": 0
      },
      "text/plain": [
       "HBox(children=(Button(description='NEXT ROUND', layout=Layout(width='auto'), style=ButtonStyle()), Button(desc…"
      ]
     },
     "metadata": {},
     "output_type": "display_data"
    },
    {
     "name": "stdout",
     "output_type": "stream",
     "text": [
      "context: Professor Dagger examines the seance table and the three leather bound books with utmost concentration and scrutiny, being as careful as possible to not inflict any damage to the items.\n",
      "The Professor, in a somber tone, asks you about a fourth leather bound book...\n",
      "actions:\n",
      "1. Tell him you have only found three\n",
      "2. Ask him the importance of the fourth book\n",
      "3. Ask him the appraised value of all the items\n"
     ]
    },
    {
     "data": {
      "application/vnd.jupyter.widget-view+json": {
       "model_id": "f9e731f6096b4983adcddfdddefc2037",
       "version_major": 2,
       "version_minor": 0
      },
      "text/plain": [
       "HBox(children=(Button(description='1', layout=Layout(width='auto'), style=ButtonStyle(), tooltip='Tell him you…"
      ]
     },
     "metadata": {},
     "output_type": "display_data"
    },
    {
     "name": "stdout",
     "output_type": "stream",
     "text": [
      "I select option 3. TURN: 1 \n",
      "\n",
      "\n",
      "context: Professor Dagger's eyes gleam with a mix of excitement and seriousness as he addresses your question. \"With the fourth book, the collection's value could soar well above two million dollars,\" he reveals, emphasizing the rarity and power of the complete set.\n",
      "skill: Persuade\n",
      "difficulty: hard"
     ]
    },
    {
     "data": {
      "application/vnd.jupyter.widget-view+json": {
       "model_id": "6ce3e98eb0d1412c8c37a11941530091",
       "version_major": 2,
       "version_minor": 0
      },
      "text/plain": [
       "HBox(children=(Button(description='PERSUADE [HARD]', layout=Layout(width='auto'), style=ButtonStyle()), Button…"
      ]
     },
     "metadata": {},
     "output_type": "display_data"
    },
    {
     "name": "stdout",
     "output_type": "stream",
     "text": [
      "I am making a skill check using PERSUADE against a difficulty of HARD.\n",
      "And I rolled a 81 for a result of FAILURE. TURN: 2 \n",
      "\n",
      "\n",
      "context: Despite your efforts, Professor Dagger remains unmoved by your attempt to sway him. He insists, \"The value I mentioned hinges on the presence of the fourth book. Without it, the deal is off the table.\"\n",
      "actions:\n",
      "1. Express your determination to find the fourth book.\n",
      "2. Ask why the fourth book is so important.\n",
      "3. Suggest splitting the collection to sell individually."
     ]
    },
    {
     "data": {
      "application/vnd.jupyter.widget-view+json": {
       "model_id": "7f36a067aff242f6b7d04bae6823da1f",
       "version_major": 2,
       "version_minor": 0
      },
      "text/plain": [
       "HBox(children=(Button(description='1', layout=Layout(width='auto'), style=ButtonStyle(), tooltip='Express your…"
      ]
     },
     "metadata": {},
     "output_type": "display_data"
    },
    {
     "name": "stdout",
     "output_type": "stream",
     "text": [
      "I select option 2. TURN: 3 \n",
      "\n",
      "\n",
      "context: Professor Dagger leans closer, lowering his voice to a whisper. \"The fourth book is the key to binding a demon to our realm, a power unmatched by any,\" he explains, his eyes scanning the room as if fearing eavesdroppers. \"But it's also the most dangerous and must be handled with extreme caution.\"\n",
      "actions:\n",
      "1. Express skepticism about the demon binding.\n",
      "2. Inquire about the safety of using the book.\n",
      "3. Mention the storage room might still hold the book."
     ]
    },
    {
     "data": {
      "application/vnd.jupyter.widget-view+json": {
       "model_id": "4547ce3775c3475083f8612293cf3f07",
       "version_major": 2,
       "version_minor": 0
      },
      "text/plain": [
       "HBox(children=(Button(description='1', layout=Layout(width='auto'), style=ButtonStyle(), tooltip='Express skep…"
      ]
     },
     "metadata": {},
     "output_type": "display_data"
    },
    {
     "name": "stdout",
     "output_type": "stream",
     "text": [
      "I select option 3. TURN: 4 \n",
      "\n",
      "\n",
      "context: At the mention of the storage room possibly holding the elusive fourth book, Professor Dagger's demeanor shifts from scholarly to almost predatory excitement. \"We must go back to the storage facility immediately,\" he urges, \"Time is of the essence, and this discovery could be groundbreaking.\"\n",
      "summary: Kyle learned from Professor Dagger the immense value and dangerous power of the fourth book, capable of binding a demon to our realm. Despite failing to persuade the Professor about the collection's worth without the book, Kyle's revelation about the storage room's potential treasure sparks a new urgency. The round concludes with plans to return to the storage facility, driven by the promise of uncovering the fourth book and its untold powers."
     ]
    },
    {
     "data": {
      "application/vnd.jupyter.widget-view+json": {
       "model_id": "46145cbdd89e4775abea1115223cb77a",
       "version_major": 2,
       "version_minor": 0
      },
      "text/plain": [
       "HBox(children=(Button(description='NEXT ROUND', layout=Layout(width='auto'), style=ButtonStyle()), Button(desc…"
      ]
     },
     "metadata": {},
     "output_type": "display_data"
    },
    {
     "name": "stdout",
     "output_type": "stream",
     "text": [
      "context: During the ride towards the self-storage facility, Professor Dagger tells you that he has a confession to make. You...\n",
      "actions:\n",
      "1. Listen to his confession\n",
      "2. Ask him to keep what he has to say to himself\n",
      "3. Threaten him that if he lied about the money, you would hurt him real bad\n"
     ]
    },
    {
     "data": {
      "application/vnd.jupyter.widget-view+json": {
       "model_id": "36f46c52fcf84f828298b0578c7d20d2",
       "version_major": 2,
       "version_minor": 0
      },
      "text/plain": [
       "HBox(children=(Button(description='1', layout=Layout(width='auto'), style=ButtonStyle(), tooltip='Listen to hi…"
      ]
     },
     "metadata": {},
     "output_type": "display_data"
    },
    {
     "name": "stdout",
     "output_type": "stream",
     "text": [
      "I select option 1. TURN: 1 \n",
      "\n",
      "\n",
      "context: As the truck hums through the night, Professor Dagger's voice, tinged with a solemn gravity, breaks the silence. He confesses his knowledge of the storage's previous owner, a figure shrouded in the dark tapestry of the occult. This person, alongside their family, delved deep into forbidden realms, culminating in a horrific ritual. Utilizing the fourth book, they summoned a demon into our realm, possessing the owner's sister. The aftermath of this event spiraled into legends, whispers, and unspeakable horrors, leaving a chilling legacy behind.\n",
      "\n",
      "summary: Professor Dagger reveals the dark past of the storage unit's previous owner, involving a demonic summoning that has left a haunting legacy. This turn ends with the revelation setting a grim tone for the journey ahead."
     ]
    },
    {
     "data": {
      "application/vnd.jupyter.widget-view+json": {
       "model_id": "670b769b7b204d40acc44196b8bdd412",
       "version_major": 2,
       "version_minor": 0
      },
      "text/plain": [
       "HBox(children=(Button(description='NEXT ROUND', layout=Layout(width='auto'), style=ButtonStyle()), Button(desc…"
      ]
     },
     "metadata": {},
     "output_type": "display_data"
    },
    {
     "name": "stdout",
     "output_type": "stream",
     "text": [
      "context: You and Professor Dagger begin scouring through the mess, leaving nothing unturned, yet, after two long hours, your hands hold nothing but dust. You sense the Professor’s eyes laced with disappointment, but your desire for a better life fuels your persistence to hunt the fourth book down. You...\n",
      "actions:\n",
      "1. Revisit the drawers for overlooked compartments\n",
      "2. Rummage through the pile of mess once more\n",
      "3. Look behind the large wooden shelf by the wall\n"
     ]
    },
    {
     "data": {
      "application/vnd.jupyter.widget-view+json": {
       "model_id": "d189b1bd49a54aa690c8907d63017a24",
       "version_major": 2,
       "version_minor": 0
      },
      "text/plain": [
       "HBox(children=(Button(description='1', layout=Layout(width='auto'), style=ButtonStyle(), tooltip='Revisit the …"
      ]
     },
     "metadata": {},
     "output_type": "display_data"
    },
    {
     "name": "stdout",
     "output_type": "stream",
     "text": [
      "I select option 1. TURN: 1 \n",
      "\n",
      "\n",
      "context: As you meticulously search through the drawers for the second time, your attention is caught by the intricate designs carved into the wooden shelf by the wall. You recall not giving it much scrutiny earlier. The shelf, standing tall and laden with dust, seems to beckon for a closer look.\n",
      "actions:\n",
      "1. Investigate the wooden shelf's carvings.\n",
      "2. Open a drawer you missed earlier.\n",
      "3. Ask Professor Dagger for his opinion on the shelf."
     ]
    },
    {
     "data": {
      "application/vnd.jupyter.widget-view+json": {
       "model_id": "9b29b314ca4f4318b99b9a29db408f44",
       "version_major": 2,
       "version_minor": 0
      },
      "text/plain": [
       "HBox(children=(Button(description='1', layout=Layout(width='auto'), style=ButtonStyle(), tooltip=\"Investigate …"
      ]
     },
     "metadata": {},
     "output_type": "display_data"
    },
    {
     "name": "stdout",
     "output_type": "stream",
     "text": [
      "I select option 1. TURN: 2 \n",
      "\n",
      "\n",
      "context: Approaching the large wooden shelf, you trace the carvings with your fingers, feeling the history etched into its surface. As you attempt to shift it for a better look, the shelf slips from your grasp and crashes against the wall, revealing a hollow thud behind it. Professor Dagger rushes over, intrigued.\n",
      "actions:\n",
      "1. Apologize to Professor Dagger for the mishap.\n",
      "2. Inspect the wall where the shelf hit.\n",
      "3. Help Professor Dagger examine the shelf."
     ]
    },
    {
     "data": {
      "application/vnd.jupyter.widget-view+json": {
       "model_id": "8a09cdc4c3264a22852e263ebe7028b6",
       "version_major": 2,
       "version_minor": 0
      },
      "text/plain": [
       "HBox(children=(Button(description='1', layout=Layout(width='auto'), style=ButtonStyle(), tooltip='Apologize to…"
      ]
     },
     "metadata": {},
     "output_type": "display_data"
    },
    {
     "name": "stdout",
     "output_type": "stream",
     "text": [
      "I select option 2. TURN: 3 \n",
      "\n",
      "\n",
      "context: With keen interest, you and Professor Dagger inspect the wall where the shelf collided. Dagger places his hands against the false wall, sliding them across its surface until he finds a concealed mechanism. A section of the wall shifts, revealing a dark corridor effluviating a pungent scent, hinting at long-sealed secrets.\n",
      "summary: Kyle, driven by a mix of desperation and hope, first revisited the drawers, finding nothing. His attention then turned to the large wooden shelf by the wall, where an accidental nudge revealed a hidden corridor behind a false wall, thanks to Professor Dagger's keen observation and quick action. This discovery could be the breakthrough they needed in their quest for the fourth book."
     ]
    },
    {
     "data": {
      "application/vnd.jupyter.widget-view+json": {
       "model_id": "a734acaa7aef4f678c6acfdfa2e8a66c",
       "version_major": 2,
       "version_minor": 0
      },
      "text/plain": [
       "HBox(children=(Button(description='NEXT ROUND', layout=Layout(width='auto'), style=ButtonStyle()), Button(desc…"
      ]
     },
     "metadata": {},
     "output_type": "display_data"
    },
    {
     "name": "stdout",
     "output_type": "stream",
     "text": [
      "Context: You follow Professor Dagger down the malodorous corridor behind the false wall, leading you to a door holding back the evil within.\n",
      "Before entering, Professor Dagger warns you not to look or speak to whatever is inside, for you may enter a state of frenzy. With that in mind, you…\n",
      "actions:\n",
      "1. Follow him closely in silence\n",
      "2. Ask him what the foul odour is\n",
      "3. Comment on the surroundings\n"
     ]
    },
    {
     "data": {
      "application/vnd.jupyter.widget-view+json": {
       "model_id": "dc4c29dd664c4fed898586d9a779ab46",
       "version_major": 2,
       "version_minor": 0
      },
      "text/plain": [
       "HBox(children=(Button(description='1', layout=Layout(width='auto'), style=ButtonStyle(), tooltip='Follow him c…"
      ]
     },
     "metadata": {},
     "output_type": "display_data"
    },
    {
     "name": "stdout",
     "output_type": "stream",
     "text": [
      "I select option 2. TURN: 1 \n",
      "\n",
      "\n",
      "context: You ask Professor Dagger about the foul odor as you both enter the hidden room. He whispers, \"Decay... and dark magic.\" The sight of the withered body and the pentagram stops you cold.\n",
      "skill: Sanity\n",
      "difficulty: extreme"
     ]
    },
    {
     "data": {
      "application/vnd.jupyter.widget-view+json": {
       "model_id": "5c09a8d039784b5eb159f9a26f36fa7e",
       "version_major": 2,
       "version_minor": 0
      },
      "text/plain": [
       "HBox(children=(Button(description='SANITY [EXTREME]', layout=Layout(width='auto'), style=ButtonStyle()), Butto…"
      ]
     },
     "metadata": {},
     "output_type": "display_data"
    },
    {
     "name": "stdout",
     "output_type": "stream",
     "text": [
      "I am making a skill check using SANITY against a difficulty of EXTREME.\n",
      "And I rolled a 49 for a result of SUCCESS. TURN: 2 \n",
      "\n",
      "\n",
      "context: Despite the grotesque scene, you maintain your composure, focusing on the task at hand. Professor Dagger points to the fourth book on the podium, its aura palpable.\n",
      "actions:\n",
      "1. Examine the withered body closely.\n",
      "2. Take the fourth book from the podium.\n",
      "3. Ask the Professor for advice."
     ]
    },
    {
     "data": {
      "application/vnd.jupyter.widget-view+json": {
       "model_id": "54f2008ff0d44f3095383f4255300c67",
       "version_major": 2,
       "version_minor": 0
      },
      "text/plain": [
       "HBox(children=(Button(description='1', layout=Layout(width='auto'), style=ButtonStyle(), tooltip='Examine the …"
      ]
     },
     "metadata": {},
     "output_type": "display_data"
    },
    {
     "name": "stdout",
     "output_type": "stream",
     "text": [
      "I select option 2. TURN: 3 \n",
      "\n",
      "\n",
      "context: As you remove the fourth book from the podium, the strange red fluid forming the pentagram evaporates, leaving no trace. Suddenly, tentacles pour out from the withered body, ensnaring Professor Dagger.\n",
      "actions:\n",
      "1. Try to save the Professor.\n",
      "2. Use the book against the creature.\n",
      "3. Flee the room immediately."
     ]
    },
    {
     "data": {
      "application/vnd.jupyter.widget-view+json": {
       "model_id": "e1b23b8cc5514c039aad6490b22ff65c",
       "version_major": 2,
       "version_minor": 0
      },
      "text/plain": [
       "HBox(children=(Button(description='1', layout=Layout(width='auto'), style=ButtonStyle(), tooltip='Try to save …"
      ]
     },
     "metadata": {},
     "output_type": "display_data"
    },
    {
     "name": "stdout",
     "output_type": "stream",
     "text": [
      "I select option 3. TURN: 4 \n",
      "\n",
      "\n",
      "context: You turn and sprint towards the corridor, the sounds of the Professor's screams fading behind you. The withered body, now animated by sinister forces, pursues you relentlessly.\n",
      "actions:\n",
      "1. Barricade the door behind you.\n",
      "2. Continue running without looking back.\n",
      "3. Search for a weapon in the corridor."
     ]
    },
    {
     "data": {
      "application/vnd.jupyter.widget-view+json": {
       "model_id": "278b5763761047c7bece753a2f05b6d4",
       "version_major": 2,
       "version_minor": 0
      },
      "text/plain": [
       "HBox(children=(Button(description='1', layout=Layout(width='auto'), style=ButtonStyle(), tooltip='Barricade th…"
      ]
     },
     "metadata": {},
     "output_type": "display_data"
    },
    {
     "name": "stdout",
     "output_type": "stream",
     "text": [
      "I select option 2. TURN: 5 \n",
      "\n",
      "\n",
      "context: You push your legs to their limit, not daring to glance back as you navigate the twisting corridor. The eerie silence that follows suggests you've outpaced your pursuer.\n",
      "summary: Upon entering the hidden room, you maintained your sanity despite the horror within. Removing the fourth book triggered a deadly transformation in the withered body, leading to Professor Dagger's demise. Your quick decision to flee saved you from a similar fate, escaping the room and the monstrous entity it housed."
     ]
    },
    {
     "data": {
      "application/vnd.jupyter.widget-view+json": {
       "model_id": "44fd145e20324cc5abb4faf03e192ede",
       "version_major": 2,
       "version_minor": 0
      },
      "text/plain": [
       "HBox(children=(Button(description='NEXT ROUND', layout=Layout(width='auto'), style=ButtonStyle()), Button(desc…"
      ]
     },
     "metadata": {},
     "output_type": "display_data"
    },
    {
     "name": "stdout",
     "output_type": "stream",
     "text": [
      "\n",
      "Round memories:\n",
      "- Winning the storage room auction for $350 after a tense bidding war, you've managed to secure the contents of the mysterious storage room. Your successful persuasion ensured no further bids against you, leaving you victorious. With $100 left in your pocket, you're now the owner of items whose secrets and values are yet to be discovered.\n",
      "- You have assited the middle-aged woman in tracking down her family locket.\n",
      "- After winning the storage room auction, you were urged by the manager to watch security footage, revealing a previous owner's peculiar ritual. Despite trying, you couldn't spot any significant details in the footage. Seeking answers, you turned to the manager, who shared rumors of strange occurrences linked to your storage room, hinting at its unusual nature.\n",
      "- You have assited the middle-aged woman in tracking down her family locket.\n",
      "- Kyle rejected the middle-aged woman's request to access the old storage room to retrieve her family's silver locket. In response, she cursed him. Kyle attempted to intimidate her in retaliation but failed, possibly making the curse's effects stronger.\n",
      "- You have assited the middle-aged woman in tracking down her family locket.\n",
      "- Kyle found a peculiar round wooden block with a pentagram inlay among the items in the storage room. Despite an attempt to understand its purpose through an occult knowledge check, the true nature of the block remained elusive. Choosing to keep the block, Kyle explored further, eventually deciding to leave the storage room with the block safely in his duffle bag, heading back to his truck, marking the end of this round's exploration.\n",
      "- You have assited the middle-aged woman in tracking down her family locket.\n",
      "- After being attacked by Alex over a debt, Kyle tried to retaliate with both words and actions but failed. Despite his attempts to fight back and then reason with Alex, he was overpowered. Alex demanded repayment in cash by the next day before leaving Kyle injured. The round ends with Kyle contemplating his next move, nursing his wounds.\n",
      "- You have assited the middle-aged woman in tracking down her family locket.\n",
      "- After screaming in frustration, the manager approached you with an offer of assistance, providing an address to a dealer who might be interested in the esoteric item you found in the storage room. This concludes the round, marking a potential new direction in your journey to uncover the mysteries of the peculiar wooden block.\n",
      "- You have assited the middle-aged woman in tracking down her family locket.\n",
      "- Kyle, after opting to stay silent, witnessed Ms. Blackwell revealing the true nature of the round wooden block as a seance table and unveiling a hidden compartment with three leather-bound books. Despite trying to spot hidden details, Kyle failed. The round ends with the arrival of Professor Dagger, potentially marking a new chapter in the journey of the peculiar wooden block.\n",
      "- You have assited the middle-aged woman in tracking down her family locket.\n",
      "- Kyle learned from Professor Dagger the immense value and dangerous power of the fourth book, capable of binding a demon to our realm. Despite failing to persuade the Professor about the collection's worth without the book, Kyle's revelation about the storage room's potential treasure sparks a new urgency. The round concludes with plans to return to the storage facility, driven by the promise of uncovering the fourth book and its untold powers.\n",
      "- You have assited the middle-aged woman in tracking down her family locket.\n",
      "- Professor Dagger reveals the dark past of the storage unit's previous owner, involving a demonic summoning that has left a haunting legacy. This turn ends with the revelation setting a grim tone for the journey ahead.\n",
      "- You have assited the middle-aged woman in tracking down her family locket.\n",
      "- Kyle, driven by a mix of desperation and hope, first revisited the drawers, finding nothing. His attention then turned to the large wooden shelf by the wall, where an accidental nudge revealed a hidden corridor behind a false wall, thanks to Professor Dagger's keen observation and quick action. This discovery could be the breakthrough they needed in their quest for the fourth book.\n",
      "- You have assited the middle-aged woman in tracking down her family locket.\n",
      "- Upon entering the hidden room, you maintained your sanity despite the horror within. Removing the fourth book triggered a deadly transformation in the withered body, leading to Professor Dagger's demise. Your quick decision to flee saved you from a similar fate, escaping the room and the monstrous entity it housed.\n",
      "- You have assited the middle-aged woman in tracking down her family locket.\n",
      "\n",
      "Context:\n",
      "You ran as fast as you could away from the monstrosity that was awakened. Its tentacles writhing, pulling, and pushing as it chases after you. There is only one exit to this self-storage facility, and you...\n",
      "\n",
      "actions:\n",
      "1. Run as fast as you could towards the exit\n",
      "2. Look for anything sturdy and stand your ground\n",
      "3. Find a place to hide\n"
     ]
    },
    {
     "data": {
      "application/vnd.jupyter.widget-view+json": {
       "model_id": "04b8107509064ce984c6912c584bc8bd",
       "version_major": 2,
       "version_minor": 0
      },
      "text/plain": [
       "HBox(children=(Button(description='1', layout=Layout(width='auto'), style=ButtonStyle(), tooltip='Run as fast …"
      ]
     },
     "metadata": {},
     "output_type": "display_data"
    },
    {
     "name": "stdout",
     "output_type": "stream",
     "text": [
      "I select option 1. TURN: 1 \n",
      "\n",
      "\n",
      "context: You sprint towards the exit, adrenaline pumping through your veins. The eerie sound of the withered body's movements echoes behind you, a chilling reminder of the horror that's on your tail. As you reach the exit, you find it unexpectedly locked, the door unyielding to your desperate tugs.\n",
      "\n",
      "skill: Athletics\n",
      "difficulty: hard"
     ]
    },
    {
     "data": {
      "application/vnd.jupyter.widget-view+json": {
       "model_id": "46282a575e744c9da15421418d33c7df",
       "version_major": 2,
       "version_minor": 0
      },
      "text/plain": [
       "HBox(children=(Button(description='ATHLETICS [HARD]', layout=Layout(width='auto'), style=ButtonStyle()), Butto…"
      ]
     },
     "metadata": {},
     "output_type": "display_data"
    },
    {
     "name": "stdout",
     "output_type": "stream",
     "text": [
      "I am making a skill check using ATHLETICS against a difficulty of HARD.\n",
      "And I rolled a 80 for a result of FAILURE. TURN: 2 \n",
      "\n",
      "\n",
      "context: Your attempts to force the door open fail, leaving you gasping for breath, your muscles aching from the exertion. The relentless pursuit of the"
     ]
    },
    {
     "data": {
      "application/vnd.jupyter.widget-view+json": {
       "model_id": "b1af01e8ec8049ed93b9683773e3c977",
       "version_major": 2,
       "version_minor": 0
      },
      "text/plain": [
       "HBox(children=(Button(description='CUSTOM', style=ButtonStyle()),))"
      ]
     },
     "metadata": {},
     "output_type": "display_data"
    },
    {
     "data": {
      "application/vnd.jupyter.widget-view+json": {
       "model_id": "22653ea1aa7343a5b17e1daa1b158e38",
       "version_major": 2,
       "version_minor": 0
      },
      "text/plain": [
       "HBox(children=(Text(value='', layout=Layout(width='100%')), Button(description='SUBMIT', layout=Layout(width='…"
      ]
     },
     "metadata": {},
     "output_type": "display_data"
    },
    {
     "name": "stdout",
     "output_type": "stream",
     "text": [
      "look for a weapon. TURN: 3 \n",
      "\n",
      "\n",
      "context: Frantically searching your surroundings, you spot a heavy metal pipe lying near some discarded boxes. It's not much, but it's better than facing the creature unarmed. The withered body's grotesque form is now ominously close, its movements a dreadful symphony of unnatural sounds.\n",
      "\n",
      "actions:\n",
      "1. Prepare to fight with the metal pipe.\n",
      "2. Continue trying to open the door.\n",
      "3. Attempt to communicate with the creature."
     ]
    },
    {
     "data": {
      "application/vnd.jupyter.widget-view+json": {
       "model_id": "1a1bafc9a405402aa2190ff3a270b96b",
       "version_major": 2,
       "version_minor": 0
      },
      "text/plain": [
       "HBox(children=(Button(description='1', layout=Layout(width='auto'), style=ButtonStyle(), tooltip='Prepare to f…"
      ]
     },
     "metadata": {},
     "output_type": "display_data"
    },
    {
     "name": "stdout",
     "output_type": "stream",
     "text": [
      "I select option 1. TURN: 4 \n",
      "\n",
      "\n",
      "context: Gripping the metal pipe with determined resolve, you turn to face the nightmarish entity. Its form is a blur of shadows and malice, a testament to the dark rituals that gave it life. The air grows cold, and the very atmosphere seems to thicken with impending doom as it approaches.\n",
      "\n",
      "skill: Fighting (Brawl)\n",
      "difficulty: extreme"
     ]
    },
    {
     "data": {
      "application/vnd.jupyter.widget-view+json": {
       "model_id": "dcffcf4b63994078ae84efb7cda0a1e7",
       "version_major": 2,
       "version_minor": 0
      },
      "text/plain": [
       "HBox(children=(Button(description='FIGHTING [EXTREME]', layout=Layout(width='auto'), style=ButtonStyle()), But…"
      ]
     },
     "metadata": {},
     "output_type": "display_data"
    },
    {
     "name": "stdout",
     "output_type": "stream",
     "text": [
      "I am making a skill check using FIGHTING against a difficulty of EXTREME.\n",
      "And I rolled a 72 for a result of FAILURE. TURN: 5 \n",
      "\n",
      "\n",
      "context: Your swing with the pipe passes through the air, missing the entity as it deftly sidesteps. The creature's counter is swift, a mass of tentacles ensnaring the pipe and wrenching it from your grasp with supernatural strength. You're left defenseless, staring into the abyss of its form, as it looms over you, ready to strike.\n",
      "\n",
      "summary: In a desperate attempt to escape the storage facility, you ran towards the only exit, only to find it locked. A failed attempt to force it open left you vulnerable. Seeking a weapon, you armed yourself with a metal pipe, but your attempt to fight the monstrous entity resulted in failure. Disarmed and overpowered, your final stand against the darkness was futile. The withered body, a relic of forbidden rituals and demonic summoning, claimed you, its wrath unquenched."
     ]
    },
    {
     "data": {
      "application/vnd.jupyter.widget-view+json": {
       "model_id": "10222b061ec4405abf6600b1cac7410e",
       "version_major": 2,
       "version_minor": 0
      },
      "text/plain": [
       "HBox(children=(Button(description='NEXT ROUND', layout=Layout(width='auto'), style=ButtonStyle()), Button(desc…"
      ]
     },
     "metadata": {},
     "output_type": "display_data"
    }
   ],
   "source": [
    "import re\n",
    "import tomllib\n",
    "import functools\n",
    "from typing import Literal\n",
    "\n",
    "import ipywidgets as widgets\n",
    "from IPython.display import display\n",
    "\n",
    "from dotenv import load_dotenv\n",
    "\n",
    "load_dotenv()\n",
    "\n",
    "from rs import Message, Config, chat, skill_check, chat_with_azure\n",
    "import d20\n",
    "\n",
    "action_pattern = re.compile(r\"(\\d+). *(.+)\")\n",
    "skill_pattern = re.compile(r\"[\\w_]+\")\n",
    "skill_difficulty_pattern = re.compile(r\"(easy|medium|hard)\")\n",
    "\n",
    "def next_round(b):\n",
    "    global current_round, initial_messages\n",
    "    current_round += 1\n",
    "    initial_messages = config.initial_messages(current_round, config.metadata)\n",
    "\n",
    "    print(initial_messages[-1].content)\n",
    "    display(get_controls(initial_messages[-1]))\n",
    "\n",
    "def get_user_message_tail():\n",
    "    count = 0\n",
    "    for msg in initial_messages:\n",
    "        if msg.role == \"user\":\n",
    "            count += 1\n",
    "\n",
    "    is_final =  \", FINAL ROUND\" if  current_round == len(config.rounds) else \"\"\n",
    "    return f\"TURN: {count + 1} {is_final}\"\n",
    "    \n",
    "\n",
    "def do_chat(role:Literal[\"user\", \"system\", \"assistant\"], content: str):\n",
    "    print(f\"{content}\\n\\n\")\n",
    "\n",
    "    initial_messages.append(Message(role=role, content=content))\n",
    "    msg = chat_with_azure(initial_messages, lambda delta: print(delta, end=\"\"))\n",
    "\n",
    "    initial_messages.append(msg)\n",
    "    display(get_controls(msg))\n",
    "\n",
    "\n",
    "def on_skill(b, skill:str, difficulty:str):\n",
    "    content = f\"I am making a skill check using {skill.upper()} against a difficulty of {difficulty.upper()}.\"\n",
    "\n",
    "    d = difficulty.lower()\n",
    "    dc = 50\n",
    "    if d == \"easy\":\n",
    "        dc = 75\n",
    "    elif d == \"hard\":\n",
    "        dc = 25\n",
    "    roll = d20.roll(\"1d100\").total\n",
    "    result = \"Success\" if roll <= dc else \"Failure\"\n",
    "    if roll == 1:\n",
    "        result = \"Critical Success\"\n",
    "    elif roll == 100:\n",
    "        result = \"Critical Failure\"\n",
    "\n",
    "    content += f\"\\nAnd I rolled a {roll} for a result of {result.upper()}. {get_user_message_tail()}\"\n",
    "    do_chat(\"user\", content)\n",
    "\n",
    "def on_action(b, index:int):\n",
    "    content = f\"I select option {index}. {get_user_message_tail()}\"\n",
    "    do_chat(\"user\", content)\n",
    "\n",
    "def on_custom_input(b, input:widgets.Text):\n",
    "    content = f\"{input.value}. {get_user_message_tail()}\"\n",
    "    do_chat(\"user\", content)\n",
    "\n",
    "def on_custom_action(b):\n",
    "    hbox = widgets.HBox(layout=widgets.Layout(width=\"100%\"))\n",
    "    action_text = widgets.Text(layout=widgets.Layout(width=\"100%\"))\n",
    "    submit = widgets.Button(description=\"SUBMIT\", layout=widgets.Layout(width=\"fit-content\"))\n",
    "    submit.on_click(functools.partial(on_custom_input, input=action_text))\n",
    "    hbox.children += (action_text, submit) \n",
    "    display(hbox)\n",
    "\n",
    "def get_controls(msg:Message) -> widgets.Box:\n",
    "    dict = msg.dict()\n",
    "    buttons = []\n",
    "    if \"actions\" in dict.keys():\n",
    "        matches = action_pattern.finditer(dict[\"actions\"])\n",
    "        for match in matches:\n",
    "            btn = widgets.Button(description=match.group(1), tooltip=match.group(2), layout=widgets.Layout(width=\"auto\"))\n",
    "            btn.on_click(functools.partial(on_action, index=int(match.group(1))))\n",
    "            buttons.append(btn)\n",
    "    elif \"skill\" in dict.keys() and \"difficulty\" in dict.keys():\n",
    "        match = skill_pattern.match(dict[\"skill\"])\n",
    "        skill = match.group(0)\n",
    "        difficulty = dict[\"difficulty\"]\n",
    "        skill_button = widgets.Button(description=f\"{skill.upper()} [{difficulty.upper()}]\", layout=widgets.Layout(width=\"auto\"))\n",
    "        skill_button.on_click(functools.partial(on_skill, skill=skill, difficulty=difficulty))\n",
    "        buttons.append(skill_button)\n",
    "    elif \"summary\" in dict.keys():\n",
    "        # add round summary as a memory to the metadata\n",
    "        # it will be used in the next round.\n",
    "        # config.metadata[\"memories\"] = []\n",
    "        if (\"memories\" not in config.metadata):\n",
    "            config.metadata[\"memories\"] = []\n",
    "            \n",
    "        config.metadata[\"memories\"].append(dict[\"summary\"])\n",
    "        next_btn = widgets.Button(description=\"NEXT ROUND\", layout=widgets.Layout(width=\"auto\"))\n",
    "        next_btn.on_click(next_round)\n",
    "        buttons.append(next_btn)\n",
    "    elif \"ending\" in dict.keys():\n",
    "        ending_btn = widgets.Button(description=\"END\", layout=widgets.Layout(width=\"auto\"))\n",
    "        buttons.append(ending_btn)\n",
    "    \n",
    "    custom_action_button = widgets.Button(description=\"CUSTOM\")\n",
    "    custom_action_button.on_click(on_custom_action)\n",
    "    buttons.append(custom_action_button)\n",
    "\n",
    "    return widgets.HBox(buttons)\n",
    "\n",
    "# open config file\n",
    "config_name = \"data/coc_lot_66_4.toml\"\n",
    "config: Config | None = None\n",
    "with open(config_name, \"rb\") as f:\n",
    "    data = tomllib.load(f)\n",
    "    config = Config(**data)\n",
    "\n",
    "current_round =0\n",
    "initial_messages = config.initial_messages(current_round, config.metadata)\n",
    "\n",
    "print(initial_messages[-1].content)\n",
    "display(get_controls(initial_messages[-1]))\n"
   ]
  },
  {
   "cell_type": "code",
   "execution_count": null,
   "metadata": {},
   "outputs": [],
   "source": []
  }
 ],
 "metadata": {
  "kernelspec": {
   "display_name": ".venv",
   "language": "python",
   "name": "python3"
  },
  "language_info": {
   "codemirror_mode": {
    "name": "ipython",
    "version": 3
   },
   "file_extension": ".py",
   "mimetype": "text/x-python",
   "name": "python",
   "nbconvert_exporter": "python",
   "pygments_lexer": "ipython3",
   "version": "3.12.3"
  }
 },
 "nbformat": 4,
 "nbformat_minor": 2
}
