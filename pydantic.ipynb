{
 "cells": [
  {
   "cell_type": "code",
   "execution_count": 1,
   "metadata": {},
   "outputs": [
    {
     "name": "stdout",
     "output_type": "stream",
     "text": [
      "Requirement already satisfied: fastapi in c:\\python\\lib\\site-packages (0.110.2)\n",
      "Requirement already satisfied: pydantic in c:\\python\\lib\\site-packages (2.7.0)\n",
      "Requirement already satisfied: toml in c:\\python\\lib\\site-packages (0.10.2)\n",
      "Requirement already satisfied: starlette<0.38.0,>=0.37.2 in c:\\python\\lib\\site-packages (from fastapi) (0.37.2)\n",
      "Requirement already satisfied: typing-extensions>=4.8.0 in c:\\python\\lib\\site-packages (from fastapi) (4.11.0)\n",
      "Requirement already satisfied: annotated-types>=0.4.0 in c:\\python\\lib\\site-packages (from pydantic) (0.6.0)\n",
      "Requirement already satisfied: pydantic-core==2.18.1 in c:\\python\\lib\\site-packages (from pydantic) (2.18.1)\n",
      "Requirement already satisfied: anyio<5,>=3.4.0 in c:\\python\\lib\\site-packages (from starlette<0.38.0,>=0.37.2->fastapi) (4.3.0)\n",
      "Requirement already satisfied: idna>=2.8 in c:\\python\\lib\\site-packages (from anyio<5,>=3.4.0->starlette<0.38.0,>=0.37.2->fastapi) (3.7)\n",
      "Requirement already satisfied: sniffio>=1.1 in c:\\python\\lib\\site-packages (from anyio<5,>=3.4.0->starlette<0.38.0,>=0.37.2->fastapi) (1.3.1)\n",
      "Note: you may need to restart the kernel to use updated packages.\n"
     ]
    }
   ],
   "source": [
    "%pip install fastapi pydantic toml"
   ]
  },
  {
   "cell_type": "code",
   "execution_count": null,
   "metadata": {},
   "outputs": [],
   "source": []
  },
  {
   "cell_type": "code",
   "execution_count": 2,
   "metadata": {},
   "outputs": [
    {
     "name": "stdout",
     "output_type": "stream",
     "text": [
      "You arrived at an old self-storage facility by invitation from the manager, who has an storage room up for auction due to the death of its owner. It is not your first rodeo with these forms of auctions, like a box of chocolate, no one knows of the potential treasure that hides behind the cold roller shutter. As you and other interested buyers gathered around the auctioneer, a worker carrying a bolt cutter snapped off the rusty lock, unveiling a storage room cluttered with various old furniture and antiquities. Without any opportunity for the bidders to take a clear look, the auctioneer began the bid at $50. \n",
      "\n",
      "What is your bid?\n",
      "\n",
      "possible actions:\n",
      "1. $100.\n",
      "2. $150.\n",
      "3. $200.\n"
     ]
    },
    {
     "data": {
      "application/vnd.jupyter.widget-view+json": {
       "model_id": "209c403009b841e98a9d21da7ab8b0b5",
       "version_major": 2,
       "version_minor": 0
      },
      "text/plain": [
       "HBox(children=(Button(description='1', layout=Layout(width='auto'), style=ButtonStyle(), tooltip='$100.'), But…"
      ]
     },
     "metadata": {},
     "output_type": "display_data"
    },
    {
     "name": "stdout",
     "output_type": "stream",
     "text": [
      "I select option 2. TURN: 1 \n",
      "\n",
      "\n",
      "You confidently raise your hand, announcing a bid of $150. The auctioneer nods in your direction, acknowledging your bid. The crowd murmurs among themselves, some nodding in approval while others seem hesitant, scanning the visible items in the storage room for anything that might justify a higher bid. \n",
      "\n",
      "The auctioneer calls out, \"We have $150! Do I hear more?\" \n",
      "\n",
      "Your heart races as you wait for the next bid, hoping your gamble pays off.\n",
      "\n",
      "possible actions:\n",
      "1. Increase your bid to assert dominance.\n",
      "2. Wait and see if anyone outbids you.\n",
      "3. Try to get a better look at the items in the storage from where you stand, to see if there's anything of particular value."
     ]
    },
    {
     "data": {
      "application/vnd.jupyter.widget-view+json": {
       "model_id": "b77d935321d34522a3c1739330a088fb",
       "version_major": 2,
       "version_minor": 0
      },
      "text/plain": [
       "HBox(children=(Button(description='1', layout=Layout(width='auto'), style=ButtonStyle(), tooltip='Increase you…"
      ]
     },
     "metadata": {},
     "output_type": "display_data"
    },
    {
     "name": "stdout",
     "output_type": "stream",
     "text": [
      "I select option 3. TURN: 2 \n",
      "\n",
      "\n",
      "skill: spot_hidden\n",
      "difficulty: medium"
     ]
    },
    {
     "data": {
      "application/vnd.jupyter.widget-view+json": {
       "model_id": "83224bae3eca4cd18b9d708e41a3878f",
       "version_major": 2,
       "version_minor": 0
      },
      "text/plain": [
       "HBox(children=(Button(description='SPOT_HIDDEN [MEDIUM]', layout=Layout(width='auto'), style=ButtonStyle()), B…"
      ]
     },
     "metadata": {},
     "output_type": "display_data"
    },
    {
     "name": "stdout",
     "output_type": "stream",
     "text": [
      "I am making a skill check using SPOT_HIDDEN against a difficulty of MEDIUM.\n",
      "And I rolled a 75 for a result of FAILURE. TURN: 3 \n",
      "\n",
      "\n",
      "From where you stand, you strain your eyes to make out the details of the items within the storage unit, but the angle and distance make it difficult to discern anything of clear value. The shadows cast by the overhead lights further obscure your view, leaving you uncertain about the potential treasures or junk that might be hidden among the clutter.\n",
      "\n",
      "As you're trying to get a better look, another bidder, a well-dressed woman standing at the back, raises her hand and bids $200. The auctioneer's voice cuts through the air, \"We have $200! Can I get $250?\"\n",
      "\n",
      "Your attempt to spot something valuable has not yielded any advantage, and the bid has now increased.\n",
      "\n",
      "possible actions:\n",
      "1. Bid $250 to stay in the game.\n",
      "2. Hold your current position and wait to see if the price goes even higher.\n",
      "3. Engage in a bit of fast talk to dissuade others from bidding higher."
     ]
    },
    {
     "data": {
      "application/vnd.jupyter.widget-view+json": {
       "model_id": "415a685a44594ff5901c29116d95dda5",
       "version_major": 2,
       "version_minor": 0
      },
      "text/plain": [
       "HBox(children=(Button(description='1', layout=Layout(width='auto'), style=ButtonStyle(), tooltip='Bid $250 to …"
      ]
     },
     "metadata": {},
     "output_type": "display_data"
    },
    {
     "name": "stdout",
     "output_type": "stream",
     "text": [
      "I select option 1. TURN: 4 \n",
      "\n",
      "\n",
      "With determination, you step back into the fray, raising your hand to bid $250. The auctioneer's eyes light up as he sees your bid, \"We have $250 from the gentleman over here! Do I hear $300?\"\n",
      "\n",
      "Your bid injects a moment of hesitation among the crowd. You can see the calculations running through their minds, weighing the risk and potential reward. The well-dressed woman who previously outbid you narrows her eyes, contemplating her next move.\n",
      "\n",
      "The auctioneer continues to scan the crowd for any sign of further interest, his voice echoing off the walls of the storage facility.\n",
      "\n",
      "possible actions:\n",
      "1. Prepare to increase your bid if challenged.\n",
      "2. Stand firm with your current bid, hoping no one dares to go higher.\n",
      "3. Try to read the body language of the other bidders to gauge their interest."
     ]
    },
    {
     "data": {
      "application/vnd.jupyter.widget-view+json": {
       "model_id": "db55690fc38a4a50b98e6bf29f4103ce",
       "version_major": 2,
       "version_minor": 0
      },
      "text/plain": [
       "HBox(children=(Button(description='1', layout=Layout(width='auto'), style=ButtonStyle(), tooltip='Prepare to i…"
      ]
     },
     "metadata": {},
     "output_type": "display_data"
    },
    {
     "name": "stdout",
     "output_type": "stream",
     "text": [
      "I select option 1. TURN: 5 \n",
      "\n",
      "\n",
      "You brace yourself, ready to escalate your bid if necessary. The tension in the air is palpable as the auctioneer calls out for higher bids. \"We're at $250! Do I hear $300? Anyone for $300?\"\n",
      "\n",
      "The crowd seems hesitant, murmuring amongst themselves. The well-dressed woman who previously outbid you holds her gaze for a moment longer, then, with a slight shake of her head, steps back, deciding not to pursue further. It seems your willingness to go higher has made others reconsider their limits.\n",
      "\n",
      "After a few tense seconds that feel like hours, the auctioneer's hammer comes down. \"Sold to the gentleman for $250! Congratulations, sir!\"\n",
      "\n",
      "You've won the bid at $250, securing the contents of the storage room. The thrill of victory washes over you, mixed with the anxiety of the unknown. What lies within the cluttered space could either be a treasure trove or a collection of worthless items. Only time will tell.\n",
      "\n",
      "round summary: Kyle Jackson entered a storage room auction, bidding against other potential buyers. After a series of strategic bids and a failed attempt to spot hidden treasures from a distance, Kyle successfully secured the storage room for $250, beating out the competition and ending the round with the anticipation of uncovering what lies within."
     ]
    },
    {
     "data": {
      "application/vnd.jupyter.widget-view+json": {
       "model_id": "a95318207f2d459fb192d47b4e2bec7d",
       "version_major": 2,
       "version_minor": 0
      },
      "text/plain": [
       "HBox(children=(Button(description='NEXT ROUND', layout=Layout(width='auto'), style=ButtonStyle()), Button(desc…"
      ]
     },
     "metadata": {},
     "output_type": "display_data"
    },
    {
     "name": "stdout",
     "output_type": "stream",
     "text": [
      "You follow the manager through the myriad hallways to his dimly lit office, where the furnishings and appliances remain unchanged since the 90’s. He often reminds you that the facility is in fact even older, and has been here since the 60’s. You made a quick phone call to Alex, a man you owe money to, and explained to him that you will pay him back in a few days once you have it, to which he responded with distasteful threats. The manager took out an old tin box and placed it on his desk and reached towards you with an open palm, gesturing for you to pay up, which you obliged. Upon handing you a key for your newly owned storage room, he urged you to watch some old security footage.\n",
      "\n",
      "Through his CRT screen, he explains to you that the previous owner visited the storage room every day for as long as he can remember. What’s even stranger is that he would hop 3 times towards the storage before entering, and would always bring a paper bag with him, and it would always be empty when he leaves. \n",
      "\n",
      "Regardless of the strange footage and information, you went to the parking lot to grab your duffle bag so that you may start clearing the storage and look for things valuable to sell. As you are walking back, you are confronted by a middle-aged hispanic women, she requests that you give her access to her lot, which you purchased last time so that she may recover her old family silver locket.\n",
      "\n",
      "What is your next step?\n",
      "\n",
      "possible actions:\n",
      "1. Reject her\n",
      "2. Accept her request but lose out on potential earnings\n",
      "3. Ignore her completely\n"
     ]
    },
    {
     "data": {
      "application/vnd.jupyter.widget-view+json": {
       "model_id": "9721f72d8adf4a66863796943e54290c",
       "version_major": 2,
       "version_minor": 0
      },
      "text/plain": [
       "HBox(children=(Button(description='1', layout=Layout(width='auto'), style=ButtonStyle(), tooltip='Reject her')…"
      ]
     },
     "metadata": {},
     "output_type": "display_data"
    },
    {
     "name": "stdout",
     "output_type": "stream",
     "text": [
      "I select option 2. TURN: 1 \n",
      "\n",
      "\n",
      "You decide to accept the woman's request, understanding the sentimental value the locket holds for her. You nod, telling her that she can retrieve her family's silver locket from the storage unit. She thanks you profusely, her eyes welling up with tears of gratitude. She quickly goes to the unit, retrieves the small, ornate locket, and shows it to you. It's an old piece, with intricate designs and a photo of a young couple from a bygone era inside. She explains it belonged to her grandparents and has been passed down through generations. After a heartfelt thank you, she leaves, leaving you with a sense of having done something good amidst the chaos of your life.\n",
      "\n",
      "As you turn back to the task at hand, the storage room awaits. The door creaks open, revealing a space filled with dust-covered items that hint at the previous owner's eccentric tastes and possibly secretive life. The room is packed with old furniture, boxes stacked high, and peculiar artifacts that catch your eye.\n",
      "\n",
      "possible actions:\n",
      "1. Start by examining the boxes, looking for anything of value.\n",
      "2. Investigate the peculiar artifacts more closely to uncover their secrets.\n",
      "3. Look for any personal documents of the previous owner that might explain the daily visits and peculiar behavior."
     ]
    },
    {
     "data": {
      "application/vnd.jupyter.widget-view+json": {
       "model_id": "6d629e7f36134bfdabde5f6685b01546",
       "version_major": 2,
       "version_minor": 0
      },
      "text/plain": [
       "HBox(children=(Button(description='1', layout=Layout(width='auto'), style=ButtonStyle(), tooltip='Start by exa…"
      ]
     },
     "metadata": {},
     "output_type": "display_data"
    },
    {
     "name": "stdout",
     "output_type": "stream",
     "text": [
      "I select option 1. TURN: 2 \n",
      "\n",
      "\n",
      "You decide to start with the boxes, hoping to find something valuable among the mundane. The first box you open seems to contain nothing but old books with worn-out covers, their pages yellowed by time. However, as you dig deeper, you uncover a small, leather-bound journal. Its pages are filled with frantic handwriting, sketches of strange symbols, and mentions of places you've never heard of, possibly related to the Cthulhu Mythos. The journal speaks of rituals, otherworldly beings, and the pursuit of forbidden knowledge. It's unsettling, and you can't shake off the feeling of being watched.\n",
      "\n",
      "possible actions:\n",
      "1. Continue reading the journal to uncover more about its contents.\n",
      "2. Put the journal aside and open another box, hoping to find something less disturbing.\n",
      "3. Take a break from the boxes and examine the peculiar artifacts instead, to see if they're connected to the journal."
     ]
    },
    {
     "data": {
      "application/vnd.jupyter.widget-view+json": {
       "model_id": "39c7de0ca5f646d6ac2d9f6b9b2dac97",
       "version_major": 2,
       "version_minor": 0
      },
      "text/plain": [
       "HBox(children=(Button(description='1', layout=Layout(width='auto'), style=ButtonStyle(), tooltip='Continue rea…"
      ]
     },
     "metadata": {},
     "output_type": "display_data"
    },
    {
     "name": "stdout",
     "output_type": "stream",
     "text": [
      "I select option 1. TURN: 3 \n",
      "\n",
      "\n",
      "skill: sanity\n",
      "difficulty: medium"
     ]
    },
    {
     "data": {
      "application/vnd.jupyter.widget-view+json": {
       "model_id": "4db9cf6fe59043619ae62c44500c24ae",
       "version_major": 2,
       "version_minor": 0
      },
      "text/plain": [
       "HBox(children=(Button(description='SANITY [MEDIUM]', layout=Layout(width='auto'), style=ButtonStyle()), Button…"
      ]
     },
     "metadata": {},
     "output_type": "display_data"
    },
    {
     "name": "stdout",
     "output_type": "stream",
     "text": [
      "I am making a skill check using SANITY against a difficulty of MEDIUM.\n",
      "And I rolled a 54 for a result of FAILURE. TURN: 4 \n",
      "\n",
      "\n",
      "As you delve deeper into the journal, the writings become increasingly erratic and desperate. The author describes their descent into madness, driven by an obsession with an entity known as \"The Great Dreamer.\" The sketches of the symbols start to move in your peripheral vision, a trick of the mind surely, but unnerving nonetheless. Your heart races, and the room seems to close in on you. The words blur together, forming messages that seem directed at you, promising knowledge and power at a terrible cost. The air grows colder, and a whispering voice fills the room, though you're alone. The failure to maintain your sanity in the face of these revelations leaves you shaken, questioning the nature of reality itself.\n",
      "\n",
      "You close the journal, trying to shake off the feeling of dread that has settled over you. The experience has left you deeply unsettled, and you can't help but feel that you've touched upon something that should have remained hidden.\n",
      "\n",
      "possible actions:\n",
      "1. Take a moment to collect yourself and try to regain some semblance of normalcy.\n",
      "2. Move on and open another box, trying to distract yourself with the task at hand.\n",
      "3. Investigate the peculiar artifacts, hoping to find a rational explanation for what you've just experienced."
     ]
    },
    {
     "data": {
      "application/vnd.jupyter.widget-view+json": {
       "model_id": "3cb968df91dc4a169274152250ce902e",
       "version_major": 2,
       "version_minor": 0
      },
      "text/plain": [
       "HBox(children=(Button(description='1', layout=Layout(width='auto'), style=ButtonStyle(), tooltip='Take a momen…"
      ]
     },
     "metadata": {},
     "output_type": "display_data"
    },
    {
     "name": "stdout",
     "output_type": "stream",
     "text": [
      "I select option 3. TURN: 5 \n",
      "\n",
      "\n",
      "You turn your attention to the peculiar artifacts, hoping to ground yourself in the tangible after the unsettling experience with the journal. Among the artifacts, you find a statuette that immediately draws your eye. It's an odd figure, carved from a dark, almost absorbing material. The figure is neither human nor animal, but a grotesque amalgamation of both, with too many limbs and eyes that seem to follow you as you move. It's unlike anything you've ever seen, and despite your recent scare, you're drawn to it with a mix of fear and fascination.\n",
      "\n",
      "As you examine the statuette, the air around you grows heavy, and a low hum begins to fill the room, emanating from nowhere and everywhere at once. The sensation of being watched intensifies, and you realize that the artifacts in this room might hold more than just monetary value—they could be objects of significant power, possibly dangerous and certainly mysterious.\n",
      "\n",
      "Suddenly, from the far corner of the storage unit, a faint scratching noise breaks the silence, followed by a soft, muffled whisper. It's unclear whether it's a trick of the mind, a consequence of the failed sanity check, or something truly sinister lurking in the shadows.\n",
      "\n",
      "round summary: Kyle decided to help the woman retrieve her family locket, showing kindness. He then explored the storage unit, uncovering a disturbing journal that led to a loss of sanity. Seeking to understand more, he examined a peculiar statuette, only to be met with strange, possibly supernatural occurrences, culminating in a mysterious scratching noise and whisper from the shadows."
     ]
    },
    {
     "data": {
      "application/vnd.jupyter.widget-view+json": {
       "model_id": "a1e80372626d45e781fce9436b6dc771",
       "version_major": 2,
       "version_minor": 0
      },
      "text/plain": [
       "HBox(children=(Button(description='NEXT ROUND', layout=Layout(width='auto'), style=ButtonStyle()), Button(desc…"
      ]
     },
     "metadata": {},
     "output_type": "display_data"
    },
    {
     "ename": "IndexError",
     "evalue": "list index out of range",
     "output_type": "error",
     "traceback": [
      "\u001b[1;31m---------------------------------------------------------------------------\u001b[0m",
      "\u001b[1;31mIndexError\u001b[0m                                Traceback (most recent call last)",
      "Cell \u001b[1;32mIn[2], line 22\u001b[0m, in \u001b[0;36mnext_round\u001b[1;34m(b)\u001b[0m\n\u001b[0;32m     20\u001b[0m \u001b[38;5;28;01mglobal\u001b[39;00m current_round, initial_messages\n\u001b[0;32m     21\u001b[0m current_round \u001b[38;5;241m+\u001b[39m\u001b[38;5;241m=\u001b[39m \u001b[38;5;241m1\u001b[39m\n\u001b[1;32m---> 22\u001b[0m initial_messages \u001b[38;5;241m=\u001b[39m \u001b[43mconfig\u001b[49m\u001b[38;5;241;43m.\u001b[39;49m\u001b[43minitial_messages\u001b[49m\u001b[43m(\u001b[49m\u001b[43mcurrent_round\u001b[49m\u001b[43m,\u001b[49m\u001b[43m \u001b[49m\u001b[43mconfig\u001b[49m\u001b[38;5;241;43m.\u001b[39;49m\u001b[43mmetadata\u001b[49m\u001b[43m)\u001b[49m\n\u001b[0;32m     24\u001b[0m \u001b[38;5;28mprint\u001b[39m(initial_messages[\u001b[38;5;241m-\u001b[39m\u001b[38;5;241m1\u001b[39m]\u001b[38;5;241m.\u001b[39mcontent)\n\u001b[0;32m     25\u001b[0m display(get_controls(initial_messages[\u001b[38;5;241m-\u001b[39m\u001b[38;5;241m1\u001b[39m]))\n",
      "File \u001b[1;32mc:\\Users\\calvi\\Desktop\\Git\\rs-lab\\rs\\config.py:17\u001b[0m, in \u001b[0;36mConfig.initial_messages\u001b[1;34m(self, round_index, metadata)\u001b[0m\n\u001b[0;32m     15\u001b[0m \u001b[38;5;28;01mdef\u001b[39;00m \u001b[38;5;21minitial_messages\u001b[39m(\u001b[38;5;28mself\u001b[39m, round_index:\u001b[38;5;28mint\u001b[39m, metadata:\u001b[38;5;28mdict\u001b[39m\u001b[38;5;241m=\u001b[39m{}) \u001b[38;5;241m-\u001b[39m\u001b[38;5;241m>\u001b[39m \u001b[38;5;28mlist\u001b[39m[Message]:\n\u001b[0;32m     16\u001b[0m     result:\u001b[38;5;28mlist\u001b[39m[Message] \u001b[38;5;241m=\u001b[39m []\n\u001b[1;32m---> 17\u001b[0m     \u001b[38;5;28;01mfor\u001b[39;00m message \u001b[38;5;129;01min\u001b[39;00m \u001b[38;5;28;43mself\u001b[39;49m\u001b[38;5;241;43m.\u001b[39;49m\u001b[43mrounds\u001b[49m\u001b[43m[\u001b[49m\u001b[43mround_index\u001b[49m\u001b[43m]\u001b[49m\u001b[38;5;241m.\u001b[39mmessages:\n\u001b[0;32m     18\u001b[0m         template \u001b[38;5;241m=\u001b[39m Template(message\u001b[38;5;241m.\u001b[39mcontent)\n\u001b[0;32m     19\u001b[0m         content \u001b[38;5;241m=\u001b[39m template\u001b[38;5;241m.\u001b[39mrender(metadata)\n",
      "\u001b[1;31mIndexError\u001b[0m: list index out of range"
     ]
    }
   ],
   "source": [
    "import re\n",
    "import tomllib\n",
    "import functools\n",
    "from typing import Literal\n",
    "\n",
    "import ipywidgets as widgets\n",
    "from IPython.display import display\n",
    "\n",
    "from dotenv import load_dotenv\n",
    "load_dotenv()\n",
    "\n",
    "from rs import Message, Config, chat\n",
    "import d20\n",
    "\n",
    "action_pattern = re.compile(r\"(\\d+). *(.+)\")\n",
    "skill_pattern = re.compile(r\"[\\w_]+\")\n",
    "skill_difficulty_pattern = re.compile(r\"(easy|medium|hard)\")\n",
    "\n",
    "def next_round(b):\n",
    "    global current_round, initial_messages\n",
    "    current_round += 1\n",
    "    initial_messages = config.initial_messages(current_round, config.metadata)\n",
    "\n",
    "    print(initial_messages[-1].content)\n",
    "    display(get_controls(initial_messages[-1]))\n",
    "\n",
    "def get_user_message_tail():\n",
    "    count = 0\n",
    "    for msg in initial_messages:\n",
    "        if msg.role == \"user\":\n",
    "            count += 1\n",
    "\n",
    "    is_final =  \", FINAL ROUND\" if  current_round == len(config.rounds) else \"\"\n",
    "    return f\"TURN: {count + 1} {is_final}\"\n",
    "    \n",
    "\n",
    "def do_chat(role:Literal[\"user\", \"system\", \"assistant\"], content: str):\n",
    "    print(f\"{content}\\n\\n\")\n",
    "\n",
    "    initial_messages.append(Message(role=role, content=content))\n",
    "    msg = chat(initial_messages, lambda delta: print(delta, end=\"\"))\n",
    "\n",
    "    initial_messages.append(msg)\n",
    "    display(get_controls(msg))\n",
    "\n",
    "def on_skill(b, skill:str, difficulty:str):\n",
    "    content = f\"I am making a skill check using {skill.upper()} against a difficulty of {difficulty.upper()}.\"\n",
    "\n",
    "    d = difficulty.lower()\n",
    "    dc = 50\n",
    "    if d == \"easy\":\n",
    "        dc = 75\n",
    "    elif d == \"hard\":\n",
    "        dc = 25\n",
    "    roll = d20.roll(\"1d100\").total\n",
    "    result = \"Success\" if roll <= dc else \"Failure\"\n",
    "    if roll == 1:\n",
    "        result = \"Critical Success\"\n",
    "    elif roll == 100:\n",
    "        result = \"Critical Failure\"\n",
    "    \n",
    "    content += f\"\\nAnd I rolled a {roll} for a result of {result.upper()}. {get_user_message_tail()}\"\n",
    "    do_chat(\"user\", content)\n",
    "\n",
    "def on_action(b, index:int):\n",
    "    content = f\"I select option {index}. {get_user_message_tail()}\"\n",
    "    do_chat(\"user\", content)\n",
    "\n",
    "def on_custom_input(b, input:widgets.Text):\n",
    "    content = f\"{input.value}. {get_user_message_tail()}\"\n",
    "    do_chat(\"user\", content)\n",
    "\n",
    "def on_custom_action(b):\n",
    "    hbox = widgets.HBox(layout=widgets.Layout(width=\"100%\"))\n",
    "    action_text = widgets.Text(layout=widgets.Layout(width=\"100%\"))\n",
    "    submit = widgets.Button(description=\"SUBMIT\", layout=widgets.Layout(width=\"fit-content\"))\n",
    "    submit.on_click(functools.partial(on_custom_input, input=action_text))\n",
    "    hbox.children += (action_text, submit) \n",
    "    display(hbox)\n",
    "\n",
    "def get_controls(msg:Message) -> widgets.Box:\n",
    "    dict = msg.dict()\n",
    "    buttons = []\n",
    "    if \"possible actions\" in dict.keys():\n",
    "        matches = action_pattern.finditer(dict[\"possible actions\"])\n",
    "        for match in matches:\n",
    "            btn = widgets.Button(description=match.group(1), tooltip=match.group(2), layout=widgets.Layout(width=\"auto\"))\n",
    "            btn.on_click(functools.partial(on_action, index=int(match.group(1))))\n",
    "            buttons.append(btn)\n",
    "    elif \"skill\" in dict.keys() and \"difficulty\" in dict.keys():\n",
    "        match = skill_pattern.match(dict[\"skill\"])\n",
    "        skill = match.group(0)\n",
    "        match = skill_difficulty_pattern.match(dict[\"difficulty\"])\n",
    "        difficulty = match.group(0)\n",
    "        skill_button = widgets.Button(description=f\"{skill.upper()} [{difficulty.upper()}]\", layout=widgets.Layout(width=\"auto\"))\n",
    "        skill_button.on_click(functools.partial(on_skill, skill=skill, difficulty=difficulty))\n",
    "        buttons.append(skill_button)\n",
    "    elif \"round summary\" in dict.keys():\n",
    "        next_btn = widgets.Button(description=\"NEXT ROUND\", layout=widgets.Layout(width=\"auto\"))\n",
    "        next_btn.on_click(next_round)\n",
    "        buttons.append(next_btn)\n",
    "    \n",
    "    custom_action_button = widgets.Button(description=\"CUSTOM\")\n",
    "    custom_action_button.on_click(on_custom_action)\n",
    "    buttons.append(custom_action_button)\n",
    "\n",
    "    return widgets.HBox(buttons)\n",
    "\n",
    "# open config file\n",
    "config_name = \"data/coc_lot_36.toml\"\n",
    "config: Config | None = None\n",
    "with open(config_name, \"rb\") as f:\n",
    "    data = tomllib.load(f)\n",
    "    config = Config(**data)\n",
    "\n",
    "current_round = 0\n",
    "initial_messages = config.initial_messages(current_round, config.metadata)\n",
    "\n",
    "print(initial_messages[-1].content)\n",
    "display(get_controls(initial_messages[-1]))\n"
   ]
  }
 ],
 "metadata": {
  "kernelspec": {
   "display_name": ".venv",
   "language": "python",
   "name": "python3"
  },
  "language_info": {
   "codemirror_mode": {
    "name": "ipython",
    "version": 3
   },
   "file_extension": ".py",
   "mimetype": "text/x-python",
   "name": "python",
   "nbconvert_exporter": "python",
   "pygments_lexer": "ipython3",
   "version": "3.12.3"
  }
 },
 "nbformat": 4,
 "nbformat_minor": 2
}
