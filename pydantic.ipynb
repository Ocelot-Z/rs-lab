{
 "cells": [
  {
   "cell_type": "code",
   "execution_count": 5,
   "metadata": {},
   "outputs": [
    {
     "name": "stdout",
     "output_type": "stream",
     "text": [
      "Looking in indexes: https://pypi.tuna.tsinghua.edu.cn/simple\n",
      "Requirement already satisfied: fastapi in ./.venv/lib/python3.12/site-packages (0.110.2)\n",
      "Requirement already satisfied: pydantic in ./.venv/lib/python3.12/site-packages (2.7.0)\n",
      "Requirement already satisfied: toml in ./.venv/lib/python3.12/site-packages (0.10.2)\n",
      "Requirement already satisfied: starlette<0.38.0,>=0.37.2 in ./.venv/lib/python3.12/site-packages (from fastapi) (0.37.2)\n",
      "Requirement already satisfied: typing-extensions>=4.8.0 in ./.venv/lib/python3.12/site-packages (from fastapi) (4.11.0)\n",
      "Requirement already satisfied: annotated-types>=0.4.0 in ./.venv/lib/python3.12/site-packages (from pydantic) (0.6.0)\n",
      "Requirement already satisfied: pydantic-core==2.18.1 in ./.venv/lib/python3.12/site-packages (from pydantic) (2.18.1)\n",
      "Requirement already satisfied: anyio<5,>=3.4.0 in ./.venv/lib/python3.12/site-packages (from starlette<0.38.0,>=0.37.2->fastapi) (4.3.0)\n",
      "Requirement already satisfied: idna>=2.8 in ./.venv/lib/python3.12/site-packages (from anyio<5,>=3.4.0->starlette<0.38.0,>=0.37.2->fastapi) (3.7)\n",
      "Requirement already satisfied: sniffio>=1.1 in ./.venv/lib/python3.12/site-packages (from anyio<5,>=3.4.0->starlette<0.38.0,>=0.37.2->fastapi) (1.3.1)\n",
      "Note: you may need to restart the kernel to use updated packages.\n"
     ]
    }
   ],
   "source": [
    "%pip install fastapi pydantic toml"
   ]
  },
  {
   "cell_type": "code",
   "execution_count": 6,
   "metadata": {},
   "outputs": [
    {
     "name": "stdout",
     "output_type": "stream",
     "text": [
      "你被一位富商雇佣，调查阿卡姆郊外的一座闹鬼的豪宅。\n",
      "传说这座豪宅被诅咒，任何进入的人都不会再回来。\n",
      "你已经得到了豪宅的地图和一些基本装备，以帮助你的调查。\n",
      "你的目标是找出诅咒背后的真相，并结束它。\n",
      "\n",
      "你站在闹鬼的豪宅前。\n",
      "这座豪宅古老而破旧，墙上爬满了爬山虎，窗户被钉上了木板。\n",
      "前门微微敞开，邀请你进入。\n",
      "\n",
      "你要做什么？\n",
      "\n",
      "possible actions:\n",
      "1. 进入豪宅。\n",
      "2. 拍摄豪宅外部的照片。\n",
      "3. 与管家交谈。(可能需要一些说服力，以便让你获取更多信息)\n"
     ]
    },
    {
     "data": {
      "application/vnd.jupyter.widget-view+json": {
       "model_id": "1f6838fb6f8f450f87dda7769390fca5",
       "version_major": 2,
       "version_minor": 0
      },
      "text/plain": [
       "HBox(children=(Button(description='1', layout=Layout(width='auto'), style=ButtonStyle(), tooltip='进入豪宅。'), But…"
      ]
     },
     "metadata": {},
     "output_type": "display_data"
    },
    {
     "name": "stdout",
     "output_type": "stream",
     "text": [
      "I select option 1. TURN: 1 \n",
      "\n",
      "\n",
      "你深呼吸一口气，决定进入这座诅咒的豪宅。门吱嘎作响，随着你的推动缓缓开启，仿佛是对你的到来表示欢迎。门后是一个昏暗的大厅，一盏吊灯发出微弱的光芒，四周的空气中弥漫着一种让人不安的气息。\n",
      "\n",
      "正当你准备进一步探索大厅时，你听到了餐厅方向传来的低沉咆哮声。你意识到，这可能是某种动物，而且听起来并不友好。你小心翼翼地朝声音的方向走去，突然，一只巨大的、满是斑点的狗以惊人的速度向你冲来，它的眼睛里闪烁着恶意的光芒。\n",
      "\n",
      "你必须迅速做出反应来避开这次攻击。\n",
      "\n",
      "skill: dodge\n",
      "difficulty: medium"
     ]
    },
    {
     "data": {
      "application/vnd.jupyter.widget-view+json": {
       "model_id": "51f95e09f08b45048c620a771ee6deab",
       "version_major": 2,
       "version_minor": 0
      },
      "text/plain": [
       "HBox(children=(Button(description='DODGE [MEDIUM]', layout=Layout(width='auto'), style=ButtonStyle()), Button(…"
      ]
     },
     "metadata": {},
     "output_type": "display_data"
    },
    {
     "name": "stdout",
     "output_type": "stream",
     "text": [
      "I am making a skill check using DODGE against a difficulty of MEDIUM.\n",
      "And I rolled a 36 for a result of SUCCESS. TURN: 2 \n",
      "\n",
      "\n",
      "你敏捷地一跃而起，巧妙地避开了这只狂暴狗的攻击。它呼啸着飞过你的头顶，撞击在身后的墙上，随后迅速调转方向，准备再次发起攻击。你意识到，这只狗的攻击力非常强大，而且它看起来并不会轻易放弃。\n",
      "\n",
      "在这紧急的情况下，你需要迅速做出决定。\n",
      "\n",
      "possible actions:\n",
      "1. 尝试再次躲避，并寻找逃跑的路线。\n",
      "2. 用身边的物品（如椅子或桌子）试图阻挡或打晕这只狗。\n",
      "3. 尝试安抚这只狗，看看它是否会冷静下来。"
     ]
    },
    {
     "data": {
      "application/vnd.jupyter.widget-view+json": {
       "model_id": "4883af2568b6489c8ab486a669a585db",
       "version_major": 2,
       "version_minor": 0
      },
      "text/plain": [
       "HBox(children=(Button(description='1', layout=Layout(width='auto'), style=ButtonStyle(), tooltip='尝试再次躲避，并寻找逃跑…"
      ]
     },
     "metadata": {},
     "output_type": "display_data"
    },
    {
     "name": "stdout",
     "output_type": "stream",
     "text": [
      "I select option 3. TURN: 3 \n",
      "\n",
      "\n",
      "你决定尝试安抚这只看起来狂暴的狗，希望能够找到和它和平相处的方法。你小心翼翼地放低你的声音，尽量让自己看起来不那么威胁，开始轻声地对它说话，希望能够安抚它的情绪。\n",
      "\n",
      "尽管这是一个冒险的选择，但你意识到，如果成功了，你不仅避免了潜在的伤害，还可能发现这只狗背后隐藏的秘密或者它的存在可能指示着豪宅中的某种线索。\n",
      "\n",
      "skill: psychology\n",
      "difficulty: hard"
     ]
    },
    {
     "data": {
      "application/vnd.jupyter.widget-view+json": {
       "model_id": "a1e7018a37da44f383427b5d2c61eb2b",
       "version_major": 2,
       "version_minor": 0
      },
      "text/plain": [
       "HBox(children=(Button(description='PSYCHOLOGY [HARD]', layout=Layout(width='auto'), style=ButtonStyle()), Butt…"
      ]
     },
     "metadata": {},
     "output_type": "display_data"
    },
    {
     "name": "stdout",
     "output_type": "stream",
     "text": [
      "I am making a skill check using PSYCHOLOGY against a difficulty of HARD.\n",
      "And I rolled a 22 for a result of SUCCESS. TURN: 4 \n",
      "\n",
      "\n",
      "你的冷静和直觉让你成功地安抚了这只原本狂暴的狗。随着你的声音渐渐安抚它，你注意到它那充满敌意的眼神开始软化，尾巴也缓缓摇动起来。最终，它不再显示出攻击的意图，反而是用鼻子轻轻地触碰你的手，似乎在表示感谢你没有选择用暴力对待它。\n",
      "\n",
      "这时，你注意到它的颈部挂着一个破旧的项圈，上面有些字迹，但因为磨损已经难以辨认。这只狗似乎对豪宅很熟悉，它开始向一扇半开的门引导你，那扇门通往豪宅的深处。\n",
      "\n",
      "你跟随这只狗，走进了一条长长的走廊，走廊的尽头有一扇通向地下室的门。门半敞开，里面黑暗而深邃。你听到了来自地下的声音，那是一种低沉而又不寻常的嗡嗡声，似乎隐藏着某种秘密。\n",
      "\n",
      "正当你准备探索地下室时，你意识到这个回合即将结束。你的心跳加速，知道豪宅中的秘密即将被揭开。\n",
      "\n",
      "summary: 成功安抚了狂暴的狗之后，你发现这只狗似乎对豪宅中的某些部分非常熟悉，并且引导你到达了通往地下室的门口。嗡嗡声的源头就在地下室内，你正准备揭开豪宅中隐藏的秘密。"
     ]
    },
    {
     "data": {
      "application/vnd.jupyter.widget-view+json": {
       "model_id": "d8f2ca4a9c0543d7a53ba90a018792ad",
       "version_major": 2,
       "version_minor": 0
      },
      "text/plain": [
       "HBox(children=(Button(description='CUSTOM', style=ButtonStyle()),))"
      ]
     },
     "metadata": {},
     "output_type": "display_data"
    }
   ],
   "source": [
    "import re\n",
    "import tomllib\n",
    "import functools\n",
    "from typing import Literal\n",
    "\n",
    "import ipywidgets as widgets\n",
    "from IPython.display import display\n",
    "\n",
    "from dotenv import load_dotenv\n",
    "load_dotenv()\n",
    "\n",
    "from rs import Message, Config, chat\n",
    "import d20\n",
    "\n",
    "action_pattern = re.compile(r\"(\\d+). *(.+)\")\n",
    "skill_pattern = re.compile(r\"[\\w_]+\")\n",
    "skill_difficulty_pattern = re.compile(r\"(easy|medium|hard)\")\n",
    "\n",
    "def get_user_message_tail():\n",
    "    count = 0\n",
    "    for msg in initial_messages:\n",
    "        if msg.role == \"user\":\n",
    "            count += 1\n",
    "\n",
    "    is_final =  \", FINAL ROUND\" if  current_round == len(config.rounds) else \"\"\n",
    "    return f\"TURN: {count + 1} {is_final}\"\n",
    "    \n",
    "\n",
    "def do_chat(role:Literal[\"user\", \"system\", \"assistant\"], content: str):\n",
    "    print(f\"{content}\\n\\n\")\n",
    "\n",
    "    initial_messages.append(Message(role=role, content=content))\n",
    "    msg = chat(initial_messages, lambda delta: print(delta, end=\"\"))\n",
    "\n",
    "    initial_messages.append(msg)\n",
    "    display(get_controls(msg))\n",
    "\n",
    "def on_skill(b, skill:str, difficulty:str):\n",
    "    content = f\"I am making a skill check using {skill.upper()} against a difficulty of {difficulty.upper()}.\"\n",
    "\n",
    "    d = difficulty.lower()\n",
    "    dc = 50\n",
    "    if d == \"easy\":\n",
    "        dc = 75\n",
    "    elif d == \"hard\":\n",
    "        dc = 25\n",
    "    roll = d20.roll(\"1d100\").total\n",
    "    result = \"Success\" if roll <= dc else \"Failure\"\n",
    "    if roll == 1:\n",
    "        result = \"Critical Success\"\n",
    "    elif roll == 100:\n",
    "        result = \"Critical Failure\"\n",
    "    \n",
    "    content += f\"\\nAnd I rolled a {roll} for a result of {result.upper()}. {get_user_message_tail()}\"\n",
    "    do_chat(\"user\", content)\n",
    "\n",
    "def on_action(b, index:int):\n",
    "    content = f\"I select option {index}. {get_user_message_tail()}\"\n",
    "    do_chat(\"user\", content)\n",
    "\n",
    "def on_custom_input(b, input:widgets.Text):\n",
    "    content = f\"{input.value}. {get_user_message_tail()}\"\n",
    "    do_chat(\"user\", content)\n",
    "\n",
    "def on_custom_action(b):\n",
    "    hbox = widgets.HBox(layout=widgets.Layout(width=\"100%\"))\n",
    "    action_text = widgets.Text(layout=widgets.Layout(width=\"100%\"))\n",
    "    submit = widgets.Button(description=\"SUBMIT\", layout=widgets.Layout(width=\"fit-content\"))\n",
    "    submit.on_click(functools.partial(on_custom_input, input=action_text))\n",
    "    hbox.children += (action_text, submit) \n",
    "    display(hbox)\n",
    "\n",
    "def get_controls(msg:Message) -> widgets.Box:\n",
    "    dict = msg.dict()\n",
    "    buttons = []\n",
    "    if \"possible actions\" in dict.keys():\n",
    "        matches = action_pattern.finditer(dict[\"possible actions\"])\n",
    "        for match in matches:\n",
    "            btn = widgets.Button(description=match.group(1), tooltip=match.group(2), layout=widgets.Layout(width=\"auto\"))\n",
    "            btn.on_click(functools.partial(on_action, index=int(match.group(1))))\n",
    "            buttons.append(btn)\n",
    "    elif \"skill\" in dict.keys() and \"difficulty\" in dict.keys():\n",
    "        match = skill_pattern.match(dict[\"skill\"])\n",
    "        skill = match.group(0)\n",
    "        match = skill_difficulty_pattern.match(dict[\"difficulty\"])\n",
    "        difficulty = match.group(0)\n",
    "        skill_button = widgets.Button(description=f\"{skill.upper()} [{difficulty.upper()}]\", layout=widgets.Layout(width=\"auto\"))\n",
    "        skill_button.on_click(functools.partial(on_skill, skill=skill, difficulty=difficulty))\n",
    "        buttons.append(skill_button)\n",
    "    elif \"summary\" in dict.keys():\n",
    "        match = skill_pattern.match(dict[\"skill\"])\n",
    "        skill = match.group(0)\n",
    "        match = skill_difficulty_pattern.match(dict[\"difficulty\"])\n",
    "        difficulty = match.group(0)\n",
    "        skill_button = widgets.Button(description=f\"{skill.upper()} [{difficulty.upper()}]\", layout=widgets.Layout(width=\"auto\"))\n",
    "        skill_button.on_click(functools.partial(on_skill, skill=skill, difficulty=difficulty))\n",
    "        buttons.append(skill_button)\n",
    "    \n",
    "    custom_action_button = widgets.Button(description=\"CUSTOM\")\n",
    "    custom_action_button.on_click(on_custom_action)\n",
    "    buttons.append(custom_action_button)\n",
    "\n",
    "    return widgets.HBox(buttons)\n",
    "\n",
    "# open config file\n",
    "config_name = \"data/config_cn.toml\"\n",
    "config: Config | None = None\n",
    "with open(config_name, \"rb\") as f:\n",
    "    data = tomllib.load(f)\n",
    "    config = Config(**data)\n",
    "\n",
    "current_round = 0\n",
    "initial_messages = config.initial_messages(current_round, config.metadata)\n",
    "\n",
    "print(initial_messages[-1].content)\n",
    "display(get_controls(initial_messages[-1]))\n"
   ]
  }
 ],
 "metadata": {
  "kernelspec": {
   "display_name": ".venv",
   "language": "python",
   "name": "python3"
  },
  "language_info": {
   "codemirror_mode": {
    "name": "ipython",
    "version": 3
   },
   "file_extension": ".py",
   "mimetype": "text/x-python",
   "name": "python",
   "nbconvert_exporter": "python",
   "pygments_lexer": "ipython3",
   "version": "3.12.2"
  }
 },
 "nbformat": 4,
 "nbformat_minor": 2
}
