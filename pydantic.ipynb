{
 "cells": [
  {
   "cell_type": "code",
   "execution_count": 1,
   "metadata": {},
   "outputs": [
    {
     "name": "stdout",
     "output_type": "stream",
     "text": [
      "Requirement already satisfied: fastapi in c:\\python\\lib\\site-packages (0.110.2)\n",
      "Requirement already satisfied: pydantic in c:\\python\\lib\\site-packages (2.7.0)\n",
      "Requirement already satisfied: toml in c:\\python\\lib\\site-packages (0.10.2)\n",
      "Requirement already satisfied: starlette<0.38.0,>=0.37.2 in c:\\python\\lib\\site-packages (from fastapi) (0.37.2)\n",
      "Requirement already satisfied: typing-extensions>=4.8.0 in c:\\python\\lib\\site-packages (from fastapi) (4.11.0)\n",
      "Requirement already satisfied: annotated-types>=0.4.0 in c:\\python\\lib\\site-packages (from pydantic) (0.6.0)\n",
      "Requirement already satisfied: pydantic-core==2.18.1 in c:\\python\\lib\\site-packages (from pydantic) (2.18.1)\n",
      "Requirement already satisfied: anyio<5,>=3.4.0 in c:\\python\\lib\\site-packages (from starlette<0.38.0,>=0.37.2->fastapi) (4.3.0)\n",
      "Requirement already satisfied: idna>=2.8 in c:\\python\\lib\\site-packages (from anyio<5,>=3.4.0->starlette<0.38.0,>=0.37.2->fastapi) (3.7)\n",
      "Requirement already satisfied: sniffio>=1.1 in c:\\python\\lib\\site-packages (from anyio<5,>=3.4.0->starlette<0.38.0,>=0.37.2->fastapi) (1.3.1)\n",
      "Note: you may need to restart the kernel to use updated packages.\n"
     ]
    }
   ],
   "source": [
    "%pip install fastapi pydantic toml"
   ]
  },
  {
   "cell_type": "code",
   "execution_count": null,
   "metadata": {},
   "outputs": [],
   "source": []
  },
  {
   "cell_type": "code",
   "execution_count": 1,
   "metadata": {},
   "outputs": [
    {
     "name": "stdout",
     "output_type": "stream",
     "text": [
      "The year is 1925, under a dark moonless night, you are riding on a bus towards Port Irimare with two other passengers. The road is flooded by a thick fog, yet, the old man behind the wheel zip through the winding road as if he had done this a thousand times. \n",
      "The danger worries you slightly but you can’t help enjoying the thrill of it. Suddenly, you felt the old man slam on the brakes. You jerked forward and back after you felt the entire vehicle collide with something. \n",
      "The sound of the crash was loud, and the screeching noise of metal tearing through metal was just all too familiar, and that moment you knew the old man had collided with another vehicle. \n",
      "You and the other two passengers climbed out from the window of the wrecked bus and investigated the wreckage. \n",
      "The front of the bus had crumpled inwards and had completely crushed the old bus driver. What was once recognizable could only now be described as pounded flesh. \n",
      "The other vehicle was a police car, but there was nobody inside. Given that Port Irimare was not too far away and could be reached by foot, the three of you had decided to make your way to the town to report the incident. \n",
      "As you near the town entrance, the thick fog continued to linger, and it wasn’t until you were around five meters away from the map board did the three of you notice a police officer.\n",
      "After explaining the situation, the four of you decided to establish contact so that you may all call for help and not be stranded in this isolated fishing town, all the while trying to uncover the potential gold hidden in Port Irimare. \n",
      "\n",
      "What is your next step?\n",
      "\n",
      "possible actions:\n",
      "1. Examine the town map.\n",
      "2. Introduce yourselves to everyone else.\n",
      "3. Enter the fog covered town.\n"
     ]
    },
    {
     "data": {
      "application/vnd.jupyter.widget-view+json": {
       "model_id": "c7693779d5ed4be1ac67ad4414407e2a",
       "version_major": 2,
       "version_minor": 0
      },
      "text/plain": [
       "HBox(children=(Button(description='1', layout=Layout(width='auto'), style=ButtonStyle(), tooltip='Examine the …"
      ]
     },
     "metadata": {},
     "output_type": "display_data"
    },
    {
     "name": "stdout",
     "output_type": "stream",
     "text": [
      "I select option 2. TURN: 1 \n",
      "\n",
      "\n",
      "你决定勇敢地进入豪宅，门吱嘎地开了更大，好像在欢迎你的到来。\n",
      "豪宅内部昏暗而阴森，走廊两侧挂满了古老的油画，其中一些画像的眼睛似乎在跟随着你的动作。\n",
      "你走着走着，来到了一扇通向餐厅的门前。\n",
      "\n",
      "当你推开餐厅的门，突然，一只看起来极为恐怖的狗从房间的另一边向你狂奔而来。\n",
      "它的眼睛冒火，牙齿锋利，看起来不像是普通的狗。\n",
      "\n",
      "你必须迅速做出反应来躲避它的攻击。\n",
      "\n",
      "你需要进行一次\"dodge\"技能检定。\n",
      "\n",
      "possible actions:\n",
      "1. Suggest heading to the nearest building for shelter and to find a phone.\n",
      "2. Propose splitting up to cover more ground in search of help or a working phone.\n",
      "3. Ask Officer Harland about the town and any peculiarities you should be aware of."
     ]
    },
    {
     "data": {
      "application/vnd.jupyter.widget-view+json": {
       "model_id": "933f1b4ab3d7483eae22a24ba7029d09",
       "version_major": 2,
       "version_minor": 0
      },
      "text/plain": [
       "HBox(children=(Button(description='1', layout=Layout(width='auto'), style=ButtonStyle(), tooltip='Suggest head…"
      ]
     },
     "metadata": {},
     "output_type": "display_data"
    },
    {
     "name": "stdout",
     "output_type": "stream",
     "text": [
      "I select option 1. TURN: 2 \n",
      "\n",
      "\n",
      "With the introductions behind you and a sense of urgency creeping in, you suggest to the group that finding shelter and a working phone should be the priority. \"We should stick together and find a place to hunker down for the night. Maybe there's a phone we can use to call for help,\" you propose, hoping to steer the group towards the potential gold without raising suspicion.\n",
      "\n",
      "Mandy nods in agreement, her detective's mind calculating the best course of action. Drew, ever the peacemaker, supports your suggestion, emphasizing the importance of sticking together in unfamiliar territory. Aspirin, though anxious, seems relieved at the idea of not venturing alone into the fog-shrouded town. Officer Harland, taking charge, points towards what appears to be the main street, suggesting it might have a local inn or police station that could serve as a temporary base.\n",
      "\n",
      "The group, now with a plan, moves cautiously into the town, the fog thickening with every step. The silence is eerie, with only the sound of your footsteps on the cobblestone streets breaking the quiet. The buildings loom like silent sentinels, their windows dark and unwelcoming. \n",
      "\n",
      "As you proceed, you notice a building that seems less foreboding than the others, with a sign that's hard to read in the dim light but appears to be an inn. Officer Harland suggests it's the best place to start, and the group agrees. As you approach the door, you notice it's slightly ajar, a dark gap inviting you in. The idea of entering an unknown building in such a mysterious town is daunting, but the need for shelter and a working phone outweighs the fear.\n",
      "\n",
      "possible actions:\n",
      "1. Enter the inn cautiously, looking for a phone or someone who can help.\n",
      "2. Suggest searching the exterior of the inn first, checking for any signs of danger.\n",
      "3. Ask Officer Harland to lead the way into the inn, given his familiarity with the town."
     ]
    },
    {
     "data": {
      "application/vnd.jupyter.widget-view+json": {
       "model_id": "df1108fe6c9b4254af98871a5c2d8e5a",
       "version_major": 2,
       "version_minor": 0
      },
      "text/plain": [
       "HBox(children=(Button(description='1', layout=Layout(width='auto'), style=ButtonStyle(), tooltip='Enter the in…"
      ]
     },
     "metadata": {},
     "output_type": "display_data"
    },
    {
     "name": "stdout",
     "output_type": "stream",
     "text": [
      "I select option 2. TURN: 3 \n",
      "\n",
      "\n",
      "Opting for caution, you suggest to the group that searching the exterior of the inn first might be wise, to ensure there are no immediate dangers lurking in the shadows. \"Let's take a quick look around the building. It's better to know what we're walking into,\" you say, your instincts as a criminal guiding your caution.\n",
      "\n",
      "Mandy, with her detective's eye for detail, agrees, pointing out that it's essential to assess the situation fully before proceeding. Drew, though anxious to find shelter, nods in understanding, his faith in the group's decision evident. Aspirin clings a bit closer to the group, his eyes darting around nervously, clearly comforted by the idea of a thorough check. Officer Harland gives a curt nod, acknowledging the wisdom in the approach.\n",
      "\n",
      "The group splits up slightly, each taking a side of the inn to inspect. The building is old, with weathered wood and peeling paint, but it seems solid enough. The windows are dark, and there's no movement inside that you can see. Around the back, you find a rusty fire escape leading to the upper floors and a back entrance that's securely locked. \n",
      "\n",
      "There are no immediate signs of danger, but the silence and the fog make everything seem more ominous. The group reconvenes at the front of the inn, reporting that nothing seems amiss, though the overall atmosphere of the town has everyone on edge.\n",
      "\n",
      "Feeling somewhat reassured but still cautious, you all agree that entering the inn is the next logical step. The need for shelter and a working phone to call for help is paramount, and with no immediate threats detected, the risk seems worth taking.\n",
      "\n",
      "possible actions:\n",
      "1. Enter the inn through the front door, keeping an eye out for any signs of life or a phone.\n",
      "2. Attempt to open the back entrance, thinking it might be safer or less noticeable.\n",
      "3. Suggest using the fire escape to check the upper floors before entering the main part of the inn."
     ]
    },
    {
     "data": {
      "application/vnd.jupyter.widget-view+json": {
       "model_id": "7e205419af174dc08437100f862ec067",
       "version_major": 2,
       "version_minor": 0
      },
      "text/plain": [
       "HBox(children=(Button(description='1', layout=Layout(width='auto'), style=ButtonStyle(), tooltip='Enter the in…"
      ]
     },
     "metadata": {},
     "output_type": "display_data"
    },
    {
     "name": "stdout",
     "output_type": "stream",
     "text": [
      "I select option 2. TURN: 4 \n",
      "\n",
      "\n",
      "Deciding that the back entrance might offer a safer or less conspicuous entry point, you suggest to the group that attempting to open it could be beneficial. \"The back door might be less obvious, and if there's any trouble, we won't be trapped at the front,\" you explain, your strategic mind assessing the situation.\n",
      "\n",
      "Mandy nods, her detective instincts kicking in as she evaluates the security of the back door. Drew, though hesitant about sneaking around, trusts the group's judgment. Aspirin seems relieved at the idea of a discreet entry, his anxious demeanor slightly eased by the thought of avoiding any potential threats. Officer Harland, though reserved, agrees to the plan, understanding the tactical advantage it might provide.\n",
      "\n",
      "As you approach the back door, you notice it's sturdy, with a heavy lock that seems daunting. However, your skills as a criminal come to the forefront, and you recall your proficiency with locks. \"Let me have a go at it,\" you offer, pulling out a small set of lockpicking tools you've kept hidden for just such an occasion.\n",
      "\n",
      "skill: locksmith\n",
      "difficulty: medium"
     ]
    },
    {
     "data": {
      "application/vnd.jupyter.widget-view+json": {
       "model_id": "b733ed7ce9ed4d34b3b2dbfdd97c9ac6",
       "version_major": 2,
       "version_minor": 0
      },
      "text/plain": [
       "HBox(children=(Button(description='LOCKSMITH [MEDIUM]', layout=Layout(width='auto'), style=ButtonStyle()), But…"
      ]
     },
     "metadata": {},
     "output_type": "display_data"
    }
   ],
   "source": [
    "import re\n",
    "import tomllib\n",
    "import functools\n",
    "from typing import Literal\n",
    "\n",
    "import ipywidgets as widgets\n",
    "from IPython.display import display\n",
    "\n",
    "from dotenv import load_dotenv\n",
    "load_dotenv()\n",
    "\n",
    "from rs import Message, Config, chat\n",
    "import d20\n",
    "\n",
    "action_pattern = re.compile(r\"(\\d+). *(.+)\")\n",
    "skill_pattern = re.compile(r\"[\\w_]+\")\n",
    "skill_difficulty_pattern = re.compile(r\"(easy|medium|hard)\")\n",
    "\n",
    "def next_round(b):\n",
    "    global current_round, initial_messages\n",
    "    current_round += 1\n",
    "    initial_messages = config.initial_messages(current_round, config.metadata)\n",
    "\n",
    "    print(initial_messages[-1].content)\n",
    "    display(get_controls(initial_messages[-1]))\n",
    "\n",
    "def get_user_message_tail():\n",
    "    count = 0\n",
    "    for msg in initial_messages:\n",
    "        if msg.role == \"user\":\n",
    "            count += 1\n",
    "\n",
    "    is_final =  \", FINAL ROUND\" if  current_round == len(config.rounds) else \"\"\n",
    "    return f\"TURN: {count + 1} {is_final}\"\n",
    "    \n",
    "\n",
    "def do_chat(role:Literal[\"user\", \"system\", \"assistant\"], content: str):\n",
    "    print(f\"{content}\\n\\n\")\n",
    "\n",
    "    initial_messages.append(Message(role=role, content=content))\n",
    "    msg = chat(initial_messages, lambda delta: print(delta, end=\"\"))\n",
    "\n",
    "    initial_messages.append(msg)\n",
    "    display(get_controls(msg))\n",
    "\n",
    "def on_skill(b, skill:str, difficulty:str):\n",
    "    content = f\"I am making a skill check using {skill.upper()} against a difficulty of {difficulty.upper()}.\"\n",
    "\n",
    "    d = difficulty.lower()\n",
    "    dc = 50\n",
    "    if d == \"easy\":\n",
    "        dc = 75\n",
    "    elif d == \"hard\":\n",
    "        dc = 25\n",
    "    roll = d20.roll(\"1d100\").total\n",
    "    result = \"Success\" if roll <= dc else \"Failure\"\n",
    "    if roll == 1:\n",
    "        result = \"Critical Success\"\n",
    "    elif roll == 100:\n",
    "        result = \"Critical Failure\"\n",
    "    \n",
    "    content += f\"\\nAnd I rolled a {roll} for a result of {result.upper()}. {get_user_message_tail()}\"\n",
    "    do_chat(\"user\", content)\n",
    "\n",
    "def on_action(b, index:int):\n",
    "    content = f\"I select option {index}. {get_user_message_tail()}\"\n",
    "    do_chat(\"user\", content)\n",
    "\n",
    "def on_custom_input(b, input:widgets.Text):\n",
    "    content = f\"{input.value}. {get_user_message_tail()}\"\n",
    "    do_chat(\"user\", content)\n",
    "\n",
    "def on_custom_action(b):\n",
    "    hbox = widgets.HBox(layout=widgets.Layout(width=\"100%\"))\n",
    "    action_text = widgets.Text(layout=widgets.Layout(width=\"100%\"))\n",
    "    submit = widgets.Button(description=\"SUBMIT\", layout=widgets.Layout(width=\"fit-content\"))\n",
    "    submit.on_click(functools.partial(on_custom_input, input=action_text))\n",
    "    hbox.children += (action_text, submit) \n",
    "    display(hbox)\n",
    "\n",
    "def get_controls(msg:Message) -> widgets.Box:\n",
    "    dict = msg.dict()\n",
    "    buttons = []\n",
    "    if \"possible actions\" in dict.keys():\n",
    "        matches = action_pattern.finditer(dict[\"possible actions\"])\n",
    "        for match in matches:\n",
    "            btn = widgets.Button(description=match.group(1), tooltip=match.group(2), layout=widgets.Layout(width=\"auto\"))\n",
    "            btn.on_click(functools.partial(on_action, index=int(match.group(1))))\n",
    "            buttons.append(btn)\n",
    "    elif \"skill\" in dict.keys() and \"difficulty\" in dict.keys():\n",
    "        match = skill_pattern.match(dict[\"skill\"])\n",
    "        skill = match.group(0)\n",
    "        match = skill_difficulty_pattern.match(dict[\"difficulty\"])\n",
    "        difficulty = match.group(0)\n",
    "        skill_button = widgets.Button(description=f\"{skill.upper()} [{difficulty.upper()}]\", layout=widgets.Layout(width=\"auto\"))\n",
    "        skill_button.on_click(functools.partial(on_skill, skill=skill, difficulty=difficulty))\n",
    "        buttons.append(skill_button)\n",
    "    elif \"summary\" in dict.keys():\n",
    "        next_btn = widgets.Button(description=\"NEXT ROUND\", layout=widgets.Layout(width=\"auto\"))\n",
    "        next_btn.on_click(next_round)\n",
    "        buttons.append(next_btn)\n",
    "    \n",
    "    custom_action_button = widgets.Button(description=\"CUSTOM\")\n",
    "    custom_action_button.on_click(on_custom_action)\n",
    "    buttons.append(custom_action_button)\n",
    "\n",
    "    return widgets.HBox(buttons)\n",
    "\n",
    "# open config file\n",
    "config_name = \"data/port_irimare_no_locations.toml\"\n",
    "config: Config | None = None\n",
    "with open(config_name, \"rb\") as f:\n",
    "    data = tomllib.load(f)\n",
    "    config = Config(**data)\n",
    "\n",
    "current_round = 0\n",
    "initial_messages = config.initial_messages(current_round, config.metadata)\n",
    "\n",
    "print(initial_messages[-1].content)\n",
    "display(get_controls(initial_messages[-1]))\n"
   ]
  }
 ],
 "metadata": {
  "kernelspec": {
   "display_name": ".venv",
   "language": "python",
   "name": "python3"
  },
  "language_info": {
   "codemirror_mode": {
    "name": "ipython",
    "version": 3
   },
   "file_extension": ".py",
   "mimetype": "text/x-python",
   "name": "python",
   "nbconvert_exporter": "python",
   "pygments_lexer": "ipython3",
   "version": "3.12.3"
  }
 },
 "nbformat": 4,
 "nbformat_minor": 2
}
