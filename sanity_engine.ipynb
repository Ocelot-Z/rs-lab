{
 "cells": [
  {
   "cell_type": "code",
   "execution_count": 1,
   "metadata": {},
   "outputs": [
    {
     "name": "stdout",
     "output_type": "stream",
     "text": [
      "Requirement already satisfied: openai in c:\\python\\lib\\site-packages (1.20.0)\n",
      "Requirement already satisfied: pydantic in c:\\python\\lib\\site-packages (2.7.0)\n",
      "Requirement already satisfied: jinja2 in c:\\python\\lib\\site-packages (3.1.3)\n",
      "Requirement already satisfied: python_dotenv in c:\\python\\lib\\site-packages (1.0.1)\n",
      "Requirement already satisfied: ipywidgets in c:\\python\\lib\\site-packages (8.1.2)\n",
      "Requirement already satisfied: d20 in c:\\python\\lib\\site-packages (1.1.2)\n",
      "Requirement already satisfied: anyio<5,>=3.5.0 in c:\\python\\lib\\site-packages (from openai) (4.3.0)\n",
      "Requirement already satisfied: distro<2,>=1.7.0 in c:\\python\\lib\\site-packages (from openai) (1.9.0)\n",
      "Requirement already satisfied: httpx<1,>=0.23.0 in c:\\python\\lib\\site-packages (from openai) (0.27.0)\n",
      "Requirement already satisfied: sniffio in c:\\python\\lib\\site-packages (from openai) (1.3.1)\n",
      "Requirement already satisfied: tqdm>4 in c:\\python\\lib\\site-packages (from openai) (4.66.2)\n",
      "Requirement already satisfied: typing-extensions<5,>=4.7 in c:\\python\\lib\\site-packages (from openai) (4.11.0)\n",
      "Requirement already satisfied: annotated-types>=0.4.0 in c:\\python\\lib\\site-packages (from pydantic) (0.6.0)\n",
      "Requirement already satisfied: pydantic-core==2.18.1 in c:\\python\\lib\\site-packages (from pydantic) (2.18.1)\n",
      "Requirement already satisfied: MarkupSafe>=2.0 in c:\\python\\lib\\site-packages (from jinja2) (2.1.5)\n",
      "Requirement already satisfied: comm>=0.1.3 in c:\\users\\calvi\\appdata\\roaming\\python\\python312\\site-packages (from ipywidgets) (0.2.2)\n",
      "Requirement already satisfied: ipython>=6.1.0 in c:\\users\\calvi\\appdata\\roaming\\python\\python312\\site-packages (from ipywidgets) (8.23.0)\n",
      "Requirement already satisfied: traitlets>=4.3.1 in c:\\users\\calvi\\appdata\\roaming\\python\\python312\\site-packages (from ipywidgets) (5.14.2)\n",
      "Requirement already satisfied: widgetsnbextension~=4.0.10 in c:\\python\\lib\\site-packages (from ipywidgets) (4.0.10)\n",
      "Requirement already satisfied: jupyterlab-widgets~=3.0.10 in c:\\python\\lib\\site-packages (from ipywidgets) (3.0.10)\n",
      "Requirement already satisfied: cachetools>=3.1.0 in c:\\python\\lib\\site-packages (from d20) (5.3.3)\n",
      "Requirement already satisfied: lark-parser~=0.9.0 in c:\\python\\lib\\site-packages (from d20) (0.9.0)\n",
      "Requirement already satisfied: idna>=2.8 in c:\\python\\lib\\site-packages (from anyio<5,>=3.5.0->openai) (3.7)\n",
      "Requirement already satisfied: certifi in c:\\python\\lib\\site-packages (from httpx<1,>=0.23.0->openai) (2024.2.2)\n",
      "Requirement already satisfied: httpcore==1.* in c:\\python\\lib\\site-packages (from httpx<1,>=0.23.0->openai) (1.0.5)\n",
      "Requirement already satisfied: h11<0.15,>=0.13 in c:\\python\\lib\\site-packages (from httpcore==1.*->httpx<1,>=0.23.0->openai) (0.14.0)\n",
      "Requirement already satisfied: decorator in c:\\users\\calvi\\appdata\\roaming\\python\\python312\\site-packages (from ipython>=6.1.0->ipywidgets) (5.1.1)\n",
      "Requirement already satisfied: jedi>=0.16 in c:\\users\\calvi\\appdata\\roaming\\python\\python312\\site-packages (from ipython>=6.1.0->ipywidgets) (0.19.1)\n",
      "Requirement already satisfied: matplotlib-inline in c:\\users\\calvi\\appdata\\roaming\\python\\python312\\site-packages (from ipython>=6.1.0->ipywidgets) (0.1.7)\n",
      "Requirement already satisfied: prompt-toolkit<3.1.0,>=3.0.41 in c:\\users\\calvi\\appdata\\roaming\\python\\python312\\site-packages (from ipython>=6.1.0->ipywidgets) (3.0.43)\n",
      "Requirement already satisfied: pygments>=2.4.0 in c:\\users\\calvi\\appdata\\roaming\\python\\python312\\site-packages (from ipython>=6.1.0->ipywidgets) (2.17.2)\n",
      "Requirement already satisfied: stack-data in c:\\users\\calvi\\appdata\\roaming\\python\\python312\\site-packages (from ipython>=6.1.0->ipywidgets) (0.6.3)\n",
      "Requirement already satisfied: colorama in c:\\users\\calvi\\appdata\\roaming\\python\\python312\\site-packages (from ipython>=6.1.0->ipywidgets) (0.4.6)\n",
      "Requirement already satisfied: parso<0.9.0,>=0.8.3 in c:\\users\\calvi\\appdata\\roaming\\python\\python312\\site-packages (from jedi>=0.16->ipython>=6.1.0->ipywidgets) (0.8.4)\n",
      "Requirement already satisfied: wcwidth in c:\\users\\calvi\\appdata\\roaming\\python\\python312\\site-packages (from prompt-toolkit<3.1.0,>=3.0.41->ipython>=6.1.0->ipywidgets) (0.2.13)\n",
      "Requirement already satisfied: executing>=1.2.0 in c:\\users\\calvi\\appdata\\roaming\\python\\python312\\site-packages (from stack-data->ipython>=6.1.0->ipywidgets) (2.0.1)\n",
      "Requirement already satisfied: asttokens>=2.1.0 in c:\\users\\calvi\\appdata\\roaming\\python\\python312\\site-packages (from stack-data->ipython>=6.1.0->ipywidgets) (2.4.1)\n",
      "Requirement already satisfied: pure-eval in c:\\users\\calvi\\appdata\\roaming\\python\\python312\\site-packages (from stack-data->ipython>=6.1.0->ipywidgets) (0.2.2)\n",
      "Requirement already satisfied: six>=1.12.0 in c:\\users\\calvi\\appdata\\roaming\\python\\python312\\site-packages (from asttokens>=2.1.0->stack-data->ipython>=6.1.0->ipywidgets) (1.16.0)\n",
      "Note: you may need to restart the kernel to use updated packages.\n"
     ]
    }
   ],
   "source": [
    "%pip install openai pydantic jinja2 python_dotenv ipywidgets d20"
   ]
  },
  {
   "cell_type": "code",
   "execution_count": 2,
   "metadata": {},
   "outputs": [
    {
     "name": "stdout",
     "output_type": "stream",
     "text": [
      "Version: 0.0.3, Chapters: 7\n"
     ]
    }
   ],
   "source": [
    "import os\n",
    "import re\n",
    "import tomllib\n",
    "import functools\n",
    "import random\n",
    "import d20\n",
    "\n",
    "from jinja2 import Template\n",
    "from pydantic import BaseModel\n",
    "from openai import OpenAI, AzureOpenAI\n",
    "from dotenv import load_dotenv\n",
    "from d20 import roll\n",
    "\n",
    "import ipywidgets as widgets\n",
    "from IPython.display import display, clear_output\n",
    "\n",
    "from typing import Literal, Union\n",
    "\n",
    "load_dotenv()\n",
    "\n",
    "with open(\"data/fight_club_2.toml\", \"rb\") as f:\n",
    "    config = tomllib.load(f)\n",
    "\n",
    "message_pattern = re.compile(r\"^([\\w_ *]+)\\:[ \\s]*(.+)*$\")\n",
    "class Message(BaseModel):\n",
    "    # Message from chatbot\n",
    "    role: Literal[\"system\", \"assistant\", \"user\"]\n",
    "    content: str   \n",
    "\n",
    "    # parse the content into dictionary\n",
    "    def dict(self) -> dict:\n",
    "        current_key = None\n",
    "        parsed = {}\n",
    "        lines = self.content.splitlines()\n",
    "        # parse the content line by line\n",
    "        for line in lines:\n",
    "            res = message_pattern.search(line)\n",
    "            if res is not None:\n",
    "                current_key = res.group(1)\n",
    "                if res.group(2) is not None:\n",
    "                    parsed[current_key] = res.group(2).strip()\n",
    "                else:\n",
    "                    parsed[current_key] = \"\"\n",
    "            elif current_key is not None and line.strip() != \"\":\n",
    "                parsed[current_key] += \"\\n\" + line.strip()\n",
    "        return parsed\n",
    "\n",
    "class Chapter(BaseModel):\n",
    "    id: str\n",
    "    next: str|None = None\n",
    "    max_turns: int\n",
    "    backgrounds: list[str]\n",
    "    rules: list[str]\n",
    "    initial: str\n",
    "    \n",
    "    def __init__(self, **kargs):\n",
    "        super().__init__(**kargs)\n",
    "    \n",
    "    def get_messages(self) -> list[Message]:\n",
    "        rendered_rules = render_rules(self.rules)\n",
    "        system_content = Template(system).render({\"rules\": rendered_rules, \"backgrounds\":self.backgrounds, \"character\": character})\n",
    "        initial_content = Template(self.initial).render({\"rules\": self.rules, \"character\": character})\n",
    "        return [\n",
    "            Message(role=\"system\", content=system_content),\n",
    "            Message(role=\"assistant\", content=initial_content)\n",
    "        ]\n",
    "\n",
    "version = config[\"version\"] # version of the config\n",
    "system = config[\"system\"] # system prompt template message\n",
    "character = config[\"character\"] # character information\n",
    "chapters = config[\"chapters\"] # chapters list\n",
    "item_list = config[\"list\"][\"items\"] # items list\n",
    "enemy_list = config[\"list\"][\"enemies\"] # items list\n",
    "\n",
    "messages:list[Message] =[] # chat messages\n",
    "\n",
    "tags = [] # tags list\n",
    "items = character[\"items\"] # items list\n",
    "\n",
    "print(f\"Version: {version}, Chapters: {len(chapters)}\")\n",
    "\n",
    "# find the chapter by id\n",
    "def getChapterById(id:str) -> Chapter:\n",
    "    for r in chapters:\n",
    "        if r[\"id\"] == id:\n",
    "            return Chapter(**r) \n",
    "    return None\n",
    "\n",
    "# next chapter find and initialize\n",
    "def choose_next_chapter():\n",
    "    global current_chapter, messages\n",
    "    if current_chapter.next is not None:\n",
    "        next = Template(current_chapter.next).render({\"items\": items, \"tags\": tags})\n",
    "        print(\"Next round: \", next)\n",
    "        next_chapter = getChapterById(next)\n",
    "        if next_chapter is not None:\n",
    "            current_chapter = next_chapter\n",
    "            initials = current_chapter.get_messages()\n",
    "            print(initials[1].content)\n",
    "            show_controls(initials[1])\n",
    "            messages = []\n",
    "        else:\n",
    "            print(f\"Chapter '{next}' not found.\")\n",
    "    else:\n",
    "        print(\"No next chapter found.\")\n",
    "\n",
    "# cout the messages by role, used for chapter's max_turns check\n",
    "def count_messages(messages, role):\n",
    "    return sum(1 for message in messages if message.role == role)\n",
    "\n",
    "# chat with Azure OpenAI\n",
    "def chat_with_azure(messages:list[Message], on_message: Union[callable, None] = None) -> Message:\n",
    "    client = AzureOpenAI(api_key=os.environ.get(\"AZURE_OPENAI_API_KEY\"), \n",
    "                         azure_endpoint=os.environ.get(\"AZURE_OPENAI_ENDPOINT\"),\n",
    "                         api_version=os.environ.get(\"AZURE_OPENAI_API_VERSION\")\n",
    "                         )\n",
    "    stream = client.chat.completions.create(\n",
    "        model=os.environ.get(\"AZURE_OPENAI_MODEL_NAME\"),\n",
    "        messages=messages,\n",
    "        stream=True,\n",
    "        max_tokens=4000,\n",
    "        temperature=float(os.environ.get(\"OPENAI_TEMPERATURE\"))\n",
    "    )\n",
    "\n",
    "    generated = \"\"\n",
    "    for chunk in stream:\n",
    "        if len(chunk.choices) > 0 and chunk.choices[0].delta.content is not None:\n",
    "            delta = chunk.choices[0].delta.content\n",
    "            if (on_message is not None):\n",
    "                on_message(chunk.choices[0].delta.content)\n",
    "            generated += delta\n",
    "    return Message(role=\"assistant\", content=generated)\n",
    "\n",
    "def sanity_check(current_sanity, difficulty=1):\n",
    "    \"\"\"\n",
    "    Perform a sanity check in Call of Cthulhu.\n",
    "\n",
    "    Parameters:\n",
    "    current_sanity (int): The current sanity level of the character.\n",
    "    difficulty (int): The difficulty level of the sanity check. Defaults to 1.\n",
    "\n",
    "    Returns:\n",
    "    dict: The result of the sanity check, including new sanity level and madness if any.\n",
    "    \"\"\"\n",
    "    # Define a list of bouts of madness\n",
    "    madness_list = [\n",
    "        \"Katsaridaphobia, Hallucination\",\n",
    "        \"Cynophobia, Hallucination\",\n",
    "        \"Hysterical, Screaming\",\n",
    "        \"Paranoid, Conspiracy\",\n",
    "        \"Rhinotillexomania, Compulsion\",\n",
    "        \"Katsaridaphobia, Hallucination\",\n",
    "        \"Haemaphobia, Hallucination\",\n",
    "        \"Teratophobia, Hallucination\",\n",
    "        \"Coulrophobia, Hallucination\",\n",
    "        \"Paranoid, Gaslighting\",\n",
    "        \"Hyterical, Biting Fingers\",\n",
    "        \"Hysterical, Scratching\",\n",
    "\n",
    "    ]\n",
    "    \n",
    "    result = {\n",
    "        'success': None,\n",
    "        'roll': None,\n",
    "        'threshold': None,\n",
    "        'sanity_loss': 0,\n",
    "        'new_sanity': current_sanity,\n",
    "        'madness': None\n",
    "    }\n",
    "    \n",
    "    # Roll a 100-sided die (percentile roll)\n",
    "    roll = random.randint(1, 100)\n",
    "    result['roll'] = roll\n",
    "\n",
    "    # Calculate the effective sanity threshold\n",
    "    threshold = max(1, min(99, current_sanity - (difficulty - 1) * 5))\n",
    "    result['threshold'] = threshold\n",
    "\n",
    "    # Determine the result of the sanity check\n",
    "    if roll <= threshold:\n",
    "        result['success'] = True\n",
    "    else:\n",
    "        result['success'] = False\n",
    "        # Determine the sanity loss (for simplicity, a fixed amount is subtracted)\n",
    "        sanity_loss = random.randint(6, 14)  # Roll a 1d10 for sanity loss\n",
    "        result['sanity_loss'] = sanity_loss\n",
    "        new_sanity = current_sanity - sanity_loss\n",
    "        result['new_sanity'] = new_sanity\n",
    "        \n",
    "        if sanity_loss >= 5:\n",
    "            # Assign a random bout of madness\n",
    "            madness = random.choice(madness_list)\n",
    "            result['madness'] = madness\n",
    "    \n",
    "    return result\n",
    "\n",
    "current_sanity = character[\"stats\"][\"sanity\"]\n",
    "difficulty = 3\n",
    "\n",
    "result = sanity_check(current_sanity, difficulty)\n",
    "\n",
    "# do chat with the chatbot, and show the message with control buttons...\n",
    "def do_chat(content: str = None, on_message: Union[callable, None] = None):\n",
    "    if content is not None:\n",
    "        turn = count_messages(messages, 'user') + 1\n",
    "        if turn >= current_chapter.max_turns:\n",
    "            content += f\"\\nwhisper: MAX_TURNS is reached.\"\n",
    "        messages.append(Message(role=\"user\", content=content))\n",
    "        print(content)\n",
    "\n",
    "    # change it to chat_with_azure to use Azure OpenAI\n",
    "    concat = current_chapter.get_messages() + messages\n",
    "    msg = chat_with_azure(concat, on_message)\n",
    "\n",
    "    # print all the messages:\n",
    "    show_controls(msg)\n",
    "    messages.append(msg)\n",
    "\n",
    "# render each rule from the chapter\n",
    "def render_rules(rules:list[str]) -> str:\n",
    "    lists = []\n",
    "    for rule in rules:\n",
    "        res = Template(rule).render({\"character\": character, \"tags\":tags, \"items\": items})\n",
    "        if res is not None and res != \"\":\n",
    "            lists.append(res)\n",
    "    return lists\n",
    "\n",
    "# handle player's action\n",
    "def on_action(b, index:int):\n",
    "    user_msg = f\"I select '{index}'.\"\n",
    "    do_chat(user_msg, lambda x: print(x, end=\"\"))\n",
    "\n",
    "# handle player's skill check\n",
    "def on_skill(b, skill:str, difficulty:str):\n",
    "    roll_num = roll(\"1d100\").total\n",
    "    if roll_num < 5:\n",
    "        user_msg = f\"i roll the dice for '{roll_num}' and get a CRITICAL SUCCESS!\"\n",
    "        do_chat(user_msg, lambda x: print(x, end=\"\"))\n",
    "        return\n",
    "    if roll_num >= 95:\n",
    "        user_msg = f\"i roll the dice for '{roll_num}' and get a CRITICAL FAILURE!\"\n",
    "        do_chat(user_msg, lambda x: print(x, end=\"\"))\n",
    "        return\n",
    "    \n",
    "    difficulty_num = 15 if skill not in character[\"skills\"] else character[\"skills\"][skill]\n",
    "    if difficulty == \"hard\":\n",
    "        difficulty_num = int(difficulty_num * 0.5)\n",
    "    if difficulty == \"extreme\":\n",
    "        difficulty_num = int(difficulty_num * 0.2)\n",
    "    \n",
    "    print(f\"rolled {roll_num} against {difficulty_num} on skill '{skill}'...\")\n",
    "    \n",
    "    if roll_num <= difficulty_num:\n",
    "        user_msg = f\"i roll the dice for '{skill.upper()}' and get a success!\"\n",
    "    else:\n",
    "        user_msg = f\"i roll the dice for '{skill.upper()}' and get a failure.\"\n",
    "\n",
    "    do_chat(user_msg, lambda x: print(x, end=\"\"))\n",
    "\n",
    "    difficulty_map = {\"normal\":50, \"hard\":25, \"extreme\": 10}\n",
    "    success = roll_num <= character[\"skills\"][skill] - difficulty_map[difficulty]\n",
    "    user_msg = f\"i roll the dice for '{roll_num}' and get a {'SUCCESS' if success else 'FAILURE'}!\"\n",
    "    do_chat(user_msg, lambda x: print(x, end=\"\"))\n",
    "\n",
    "# handle sanity check\n",
    "def on_sanity_check(b, sanity:str, difficulty:str):\n",
    "    global character\n",
    "    result = sanity_check(character[\"stats\"][\"sanity\"])\n",
    "    if result['success']:\n",
    "        msg = f\"Sanity check SUCCESS! Roll: {result['roll']} <= Threshold: {result['threshold']}. No sanity loss.\"\n",
    "        do_chat(msg, lambda x: print(x, end=\"\"))\n",
    "    else:\n",
    "        msg = f\"Sanity check FAILURE! Roll: {result['roll']} > Threshold: {result['threshold']}. Sanity loss: {result['sanity_loss']}. New sanity: {result['new_sanity']}.\"\n",
    "        character[\"stats\"][\"sanity\"] = result['new_sanity']\n",
    "        if result['madness']:\n",
    "            msg += f\" Madness: {result['madness']}\"\n",
    "            do_chat(msg, lambda x: print(x, end=\"\"))\n",
    "\n",
    "\n",
    "            # Whisper the bout of madness\n",
    "            whisper_msg = f\"whisper: {result['madness']}.\"\n",
    "            do_chat(whisper_msg, lambda x: print(x, end=\"\"))\n",
    "\n",
    "    do_chat(msg, lambda x: print(x, end=\"\"))\n",
    "\n",
    "\n",
    "# handle continue\n",
    "def on_continue(b):\n",
    "    user_msg = f\"Continue...\"\n",
    "    do_chat(user_msg, lambda x: print(x, end=\"\"))\n",
    "\n",
    "# handle chapter's ending, and show next chapter\n",
    "def on_next(b):\n",
    "    choose_next_chapter()\n",
    "        \n",
    "# handle player's retry, it will remove the last assistant message,\n",
    "# and re-ask the chatbot\n",
    "def on_retry(b):\n",
    "    # delete last assistant message\n",
    "    messages.pop()\n",
    "    do_chat(None, lambda x: print(x, end=\"\"))\n",
    "\n",
    "# handle player's item usage\n",
    "def on_item(b, item:dict):\n",
    "    user_msg = Template(item[\"description\"]).render({\"character\": character, \"tags\":tags, \"items\": items})\n",
    "    user_msg = f\"I use '{item['id']}' - {user_msg}\"\n",
    "    do_chat(user_msg, lambda x: print(x, end=\"\"))\n",
    "\n",
    "# handle player's attack\n",
    "def on_attack(b, target:dict):\n",
    "    # player attack target\n",
    "    hit = roll(\"1d6\").total\n",
    "    target[\"stats\"][\"hp\"] -= hit\n",
    "\n",
    "    if target[\"stats\"][\"hp\"] <= 0:\n",
    "        user_msg = f\"I hit {target['name']}, and {target['name']} is dead...\"\n",
    "        do_chat(user_msg, lambda x: print(x, end=\"\"))\n",
    "        return\n",
    "\n",
    "    user_msg = f\"I hit {target['name']}, and {target['name']} lost some hp...\"\n",
    "\n",
    "    # target attack player\n",
    "    hit = roll(target[\"stats\"][\"attack\"]).total\n",
    "    character[\"stats\"][\"hp\"] -= hit\n",
    "\n",
    "    if character[\"stats\"][\"hp\"] <= 0:\n",
    "        user_msg = f\"I got hit by {target['name']}, and player is dead...\\nWHISPER: GAME_OVER\"\n",
    "        do_chat(user_msg, lambda x: print(x, end=\"\"))\n",
    "        return\n",
    "\n",
    "    user_msg += f\"\\nand I got hit by {target['name']}, lost some hp...\"\n",
    "    do_chat(user_msg, lambda x: print(x, end=\"\"))\n",
    "\n",
    "\n",
    "\n",
    "action_pattern = re.compile(r\"(\\d+). *(.+)\")\n",
    "# the main function to show the controls\n",
    "def show_controls(msg:Message):\n",
    "    dict = msg.dict()\n",
    "    buttons = []\n",
    "\n",
    "    if \"choices\" in dict.keys():\n",
    "        # handle player's choices\n",
    "        matches = action_pattern.finditer(dict[\"choices\"])\n",
    "        for match in matches:\n",
    "            btn = widgets.Button(description=match.group(0), layout=widgets.Layout(width=\"fit-content\"))\n",
    "            btn.on_click(functools.partial(on_action, index=int(match.group(1))))\n",
    "            buttons.append(btn)\n",
    "    elif \"skill_check\" in dict.keys() and \"difficulty\" in dict.keys():\n",
    "        # handle skill check\n",
    "        btn = widgets.Button(description=f\"{dict['skill_check']} - {dict['difficulty']}\", layout=widgets.Layout(width=\"fit-content\"))\n",
    "        btn.on_click(functools.partial(on_skill, skill=dict['skill_check'], difficulty=dict['difficulty']))\n",
    "        buttons.append(btn)\n",
    "    elif \"sanity_check\" in dict.keys() and \"difficulty\" in dict.keys():\n",
    "        btn = widgets.Button(description=f\"{dict['sanity_check']} - {dict['difficulty']}\", layout=widgets.Layout(width=\"fit-content\"))\n",
    "        btn.on_click(functools.partial(on_sanity_check, sanity=dict['sanity_check'], difficulty=dict['difficulty']))\n",
    "        buttons.append(btn)\n",
    "    elif \"battle_with\" in dict.keys():\n",
    "        enemy = next((x for x in enemy_list if x['id'] == dict[\"battle_with\"]), None)\n",
    "        # print(\"start battle with:\", enemy.name)\n",
    "        btn = widgets.Button(description=f\"Attack\", layout=widgets.Layout(width=\"fit-content\"))\n",
    "        btn.on_click(functools.partial(on_attack, target=enemy))\n",
    "        buttons.append(btn)\n",
    "        pass\n",
    "    elif \"ending\" in dict.keys():\n",
    "        # handle chapter ending, show next chapter button\n",
    "        btn = widgets.Button(description=f\"NEXT\", layout=widgets.Layout(width=\"fit-content\"))\n",
    "        btn.on_click(on_next)\n",
    "        buttons.append(btn)\n",
    "    elif \"game_over\" in dict.keys():\n",
    "        # handle game over\n",
    "        print(\"\\nGame Over - Hit 'Run All' button to restart again.\")\n",
    "    else:\n",
    "        # If there is no choices or endings, show continue button\n",
    "        btn = widgets.Button(description=\"Continue\", layout=widgets.Layout(width=\"fit-content\"))\n",
    "        btn.on_click(on_continue)\n",
    "        buttons.append(btn)\n",
    "    \n",
    "    # add tag from generated message\n",
    "    if \"add_tag\" in dict.keys() and dict[\"add_tag\"] not in tags:\n",
    "        tags.append(dict[\"add_tag\"])\n",
    "\n",
    "    # remove tag from generated message\n",
    "    if \"remove_tag\" in dict.keys() and dict[\"remove_tag\"] in tags:\n",
    "        tags.remove(dict[\"remove_tag\"])\n",
    "    \n",
    "    # add item from generated message\n",
    "    if \"add_item\" in dict.keys() and dict[\"add_item\"] not in item_list:\n",
    "        item = dict[\"add_item\"]\n",
    "        found = next((x for x in item_list if x['id'] == item), None)\n",
    "        if (found is None):\n",
    "            print(f\"\\nItem '{dict['add_item']}' not found.\")\n",
    "        else:\n",
    "            items.append(item)\n",
    "    \n",
    "    # remove item from generated message\n",
    "    if \"remove_item\" in dict.keys() and dict[\"remove_item\"] in items:\n",
    "        items.remove(dict[\"remove_item\"])\n",
    "    \n",
    "    controls = []\n",
    "\n",
    "    # retry buttons\n",
    "    if len(messages) > 0:\n",
    "        retry_btn = widgets.Button(description=\"Retry\", layout=widgets.Layout(width=\"fit-content\"))\n",
    "        retry_btn.on_click(on_retry)\n",
    "        controls.append(retry_btn)\n",
    "\n",
    "    # show tag list\n",
    "    if len(tags) > 0:\n",
    "        tags_lbl = widgets.Label(value=f\"Tags: {', '.join(tags)}\")\n",
    "        controls.append(tags_lbl)\n",
    "\n",
    "    # inventory buttons\n",
    "    inventory = [widgets.Label(value=\"Inventory:\")]\n",
    "    if len(items) > 0:\n",
    "        for item in items:\n",
    "            found = next((x for x in item_list if x['id'] == item), None)\n",
    "            if found:\n",
    "                item_btn = widgets.Button(description=found[\"id\"], layout=widgets.Layout(width=\"fit-content\"))\n",
    "                item_btn.on_click(functools.partial(on_item, item=found))\n",
    "                inventory.append(item_btn)\n",
    "            else:\n",
    "                print(f\"\\nItem '{item}' not found in the list.\")\n",
    "        controls.append(widgets.HBox(inventory))\n",
    "    \n",
    "    display(widgets.VBox(buttons))\n",
    "\n",
    "    if (len(controls) > 0):\n",
    "        display(widgets.HBox(controls))\n",
    "\n",
    "current_chapter = getChapterById(\"r1\")"
   ]
  },
  {
   "cell_type": "code",
   "execution_count": null,
   "metadata": {},
   "outputs": [
    {
     "name": "stdout",
     "output_type": "stream",
     "text": [
      "background: ground_floor\n",
      "narration: \n",
      "You are Jack, a samurai warrior that has been transported into the future in the year 2678.\n",
      "\n",
      "You arrived at the battle tower after hearing rumors that the fourth floor has portals that could transport you back into your timeline. As you enter the building, a battle robot stands between you and the stairs to the next floor. The robot's eyes glow red and is ready to fight.\n",
      "choices:\n",
      "1. Fight the robot\n",
      "2. Convince the robot to let you pass\n",
      "3. Run\n",
      "4. Look for additional equipment nearby\n"
     ]
    },
    {
     "data": {
      "application/vnd.jupyter.widget-view+json": {
       "model_id": "1d199343f5cf4d0baa6b11dda207b630",
       "version_major": 2,
       "version_minor": 0
      },
      "text/plain": [
       "VBox(children=(Button(description='1. Fight the robot', layout=Layout(width='fit-content'), style=ButtonStyle(…"
      ]
     },
     "metadata": {},
     "output_type": "display_data"
    },
    {
     "data": {
      "application/vnd.jupyter.widget-view+json": {
       "model_id": "6c1cc24558824b8abe23f104b5588f9d",
       "version_major": 2,
       "version_minor": 0
      },
      "text/plain": [
       "HBox(children=(HBox(children=(Label(value='Inventory:'), Button(description='blazing_katana', layout=Layout(wi…"
      ]
     },
     "metadata": {},
     "output_type": "display_data"
    },
    {
     "name": "stdout",
     "output_type": "stream",
     "text": [
      "I select '1'.\n",
      "narration: \n",
      "You unsheathe your katana, ready to face the mechanical menace. The robot charges towards you with its metallic arms swinging wildly.\n",
      "\n",
      "battle_with: robot"
     ]
    },
    {
     "data": {
      "application/vnd.jupyter.widget-view+json": {
       "model_id": "514fbd09e114421a907187078f5bba04",
       "version_major": 2,
       "version_minor": 0
      },
      "text/plain": [
       "VBox(children=(Button(description='Attack', layout=Layout(width='fit-content'), style=ButtonStyle()),))"
      ]
     },
     "metadata": {},
     "output_type": "display_data"
    },
    {
     "data": {
      "application/vnd.jupyter.widget-view+json": {
       "model_id": "6763a297007349bea1af90803d3546d7",
       "version_major": 2,
       "version_minor": 0
      },
      "text/plain": [
       "HBox(children=(Button(description='Retry', layout=Layout(width='fit-content'), style=ButtonStyle()), HBox(chil…"
      ]
     },
     "metadata": {},
     "output_type": "display_data"
    },
    {
     "name": "stdout",
     "output_type": "stream",
     "text": [
      "I hit super bot, and super bot lost some hp...\n",
      "and I got hit by super bot, lost some hp...\n",
      "narration: \n",
      "As your katana slices through the air, you manage to land a significant hit on the robot, causing sparks to fly from its chassis. However, the robot retaliates with a powerful punch that sends you staggering back.\n",
      "\n",
      "sanity_check: sanity\n",
      "difficulty: normal"
     ]
    },
    {
     "data": {
      "application/vnd.jupyter.widget-view+json": {
       "model_id": "bd7b22538dbd45eda17832fed10a7a7a",
       "version_major": 2,
       "version_minor": 0
      },
      "text/plain": [
       "VBox(children=(Button(description='sanity - normal', layout=Layout(width='fit-content'), style=ButtonStyle()),…"
      ]
     },
     "metadata": {},
     "output_type": "display_data"
    },
    {
     "data": {
      "application/vnd.jupyter.widget-view+json": {
       "model_id": "a0e20c8212584f6cbd43ad659bd4793b",
       "version_major": 2,
       "version_minor": 0
      },
      "text/plain": [
       "HBox(children=(Button(description='Retry', layout=Layout(width='fit-content'), style=ButtonStyle()), HBox(chil…"
      ]
     },
     "metadata": {},
     "output_type": "display_data"
    },
    {
     "name": "stdout",
     "output_type": "stream",
     "text": [
      "Sanity check FAILURE! Roll: 67 > Threshold: 30. Sanity loss: 13. New sanity: 17. Madness: Katsaridaphobia, Hallucination\n",
      "narration: \n",
      "The impact of the robot's punch not only wounds you physically but also shakes your mental resolve. You start to experience intense hallucinations, seeing giant cockroaches crawling over your skin, which isn't real. This phobia grips you as you struggle to focus on the real threat in front of you.\n",
      "\n",
      "add_tag: katsaridaphobia\n",
      "add_tag: hallucination"
     ]
    },
    {
     "data": {
      "application/vnd.jupyter.widget-view+json": {
       "model_id": "60f8b366fa654d959ab7d7d1e2cd7191",
       "version_major": 2,
       "version_minor": 0
      },
      "text/plain": [
       "VBox(children=(Button(description='Continue', layout=Layout(width='fit-content'), style=ButtonStyle()),))"
      ]
     },
     "metadata": {},
     "output_type": "display_data"
    },
    {
     "data": {
      "application/vnd.jupyter.widget-view+json": {
       "model_id": "c9aea2be318a4840ae3668ff8d2794ab",
       "version_major": 2,
       "version_minor": 0
      },
      "text/plain": [
       "HBox(children=(Button(description='Retry', layout=Layout(width='fit-content'), style=ButtonStyle()), Label(val…"
      ]
     },
     "metadata": {},
     "output_type": "display_data"
    },
    {
     "name": "stdout",
     "output_type": "stream",
     "text": [
      "whisper: Katsaridaphobia, Hallucination.\n",
      "narration: \n",
      "Your mind is in turmoil as you grapple with the hallucinations. The room seems to distort, and the robot in front of you intermittently transforms into a giant cockroach. Despite the confusion, you know you must continue the fight or perish.\n",
      "\n",
      "choices:\n",
      "1. Attempt to focus and strike the robot again.\n",
      "2. Try to calm yourself and clear the hallucinations.\n",
      "3. Use the environment to your advantage.\n",
      "4. Retreat and find cover to regroup."
     ]
    },
    {
     "data": {
      "application/vnd.jupyter.widget-view+json": {
       "model_id": "94363424c581464b9f9c248b6e4af880",
       "version_major": 2,
       "version_minor": 0
      },
      "text/plain": [
       "VBox(children=(Button(description='1. Attempt to focus and strike the robot again.', layout=Layout(width='fit-…"
      ]
     },
     "metadata": {},
     "output_type": "display_data"
    },
    {
     "data": {
      "application/vnd.jupyter.widget-view+json": {
       "model_id": "43694805246445b593c44b38746905ff",
       "version_major": 2,
       "version_minor": 0
      },
      "text/plain": [
       "HBox(children=(Button(description='Retry', layout=Layout(width='fit-content'), style=ButtonStyle()), Label(val…"
      ]
     },
     "metadata": {},
     "output_type": "display_data"
    },
    {
     "name": "stdout",
     "output_type": "stream",
     "text": [
      "Sanity check FAILURE! Roll: 67 > Threshold: 30. Sanity loss: 13. New sanity: 17. Madness: Katsaridaphobia, Hallucination\n",
      "narration: \n",
      "The impact of the robot's punch not only wounds you physically but also shakes your mental resolve. You start to experience intense hallucinations, seeing giant cockroaches crawling over your skin, which isn't real. This phobia grips you as you struggle to focus on the real threat in front of you.\n",
      "\n",
      "add_tag: katsaridaphobia\n",
      "add_tag: hallucination"
     ]
    },
    {
     "data": {
      "application/vnd.jupyter.widget-view+json": {
       "model_id": "8fa8d972c38e45508ba3161aa7013454",
       "version_major": 2,
       "version_minor": 0
      },
      "text/plain": [
       "VBox(children=(Button(description='Continue', layout=Layout(width='fit-content'), style=ButtonStyle()),))"
      ]
     },
     "metadata": {},
     "output_type": "display_data"
    },
    {
     "data": {
      "application/vnd.jupyter.widget-view+json": {
       "model_id": "355a30000c1d47df82a15ff54aa30165",
       "version_major": 2,
       "version_minor": 0
      },
      "text/plain": [
       "HBox(children=(Button(description='Retry', layout=Layout(width='fit-content'), style=ButtonStyle()), Label(val…"
      ]
     },
     "metadata": {},
     "output_type": "display_data"
    },
    {
     "name": "stdout",
     "output_type": "stream",
     "text": [
      "Continue...\n",
      "narration: \n",
      "Despite the terrifying hallucinations, you muster your courage and continue the battle. With each swing of your katana, you try to focus on the real form of the robot amidst the horrifying images of cockroaches overlaying it.\n",
      "\n",
      "battle_with: robot"
     ]
    },
    {
     "data": {
      "application/vnd.jupyter.widget-view+json": {
       "model_id": "d8e1de20269745aa83a986439a0a7343",
       "version_major": 2,
       "version_minor": 0
      },
      "text/plain": [
       "VBox(children=(Button(description='Attack', layout=Layout(width='fit-content'), style=ButtonStyle()),))"
      ]
     },
     "metadata": {},
     "output_type": "display_data"
    },
    {
     "data": {
      "application/vnd.jupyter.widget-view+json": {
       "model_id": "40a16c25c818411782448544cef2bc9f",
       "version_major": 2,
       "version_minor": 0
      },
      "text/plain": [
       "HBox(children=(Button(description='Retry', layout=Layout(width='fit-content'), style=ButtonStyle()), Label(val…"
      ]
     },
     "metadata": {},
     "output_type": "display_data"
    },
    {
     "name": "stdout",
     "output_type": "stream",
     "text": [
      "I hit super bot, and super bot is dead...\n",
      "narration: \n",
      "With a final, powerful slash, your katana cleaves through the robot, causing it to shut down and collapse into a heap of twisted metal. The threat is neutralized, and the path to the next floor is now clear.\n",
      "\n",
      "ending: You have defeated the robot and can now proceed to the second floor of the battle tower."
     ]
    },
    {
     "data": {
      "application/vnd.jupyter.widget-view+json": {
       "model_id": "d86f1c598f95430fab51a8f20f9a0c66",
       "version_major": 2,
       "version_minor": 0
      },
      "text/plain": [
       "VBox(children=(Button(description='NEXT', layout=Layout(width='fit-content'), style=ButtonStyle()),))"
      ]
     },
     "metadata": {},
     "output_type": "display_data"
    },
    {
     "data": {
      "application/vnd.jupyter.widget-view+json": {
       "model_id": "191279d7ca6942109e6facb4e492eefb",
       "version_major": 2,
       "version_minor": 0
      },
      "text/plain": [
       "HBox(children=(Button(description='Retry', layout=Layout(width='fit-content'), style=ButtonStyle()), Label(val…"
      ]
     },
     "metadata": {},
     "output_type": "display_data"
    },
    {
     "name": "stdout",
     "output_type": "stream",
     "text": [
      "Next round:  r2\n",
      "background: second_floor\n",
      "narration: \n",
      "You arrive at the second floor, and you immediately find yourself surrounded by walls except for 1 single hallway. As you tread deeper into the hallway, you realize it is a maze, and it seems the only way up is out of this maze.\n",
      "\n",
      "choices:\n",
      "1. Make a left\n",
      "2. Make a right\n",
      "3. Look for items\n",
      "4. Examine the dragon spear on the ground\n"
     ]
    },
    {
     "data": {
      "application/vnd.jupyter.widget-view+json": {
       "model_id": "073da9dca4b84b869261262d2de746b5",
       "version_major": 2,
       "version_minor": 0
      },
      "text/plain": [
       "VBox(children=(Button(description='1. Make a left', layout=Layout(width='fit-content'), style=ButtonStyle()), …"
      ]
     },
     "metadata": {},
     "output_type": "display_data"
    },
    {
     "data": {
      "application/vnd.jupyter.widget-view+json": {
       "model_id": "f725d84d70ac49c1aa48884dc9258ddf",
       "version_major": 2,
       "version_minor": 0
      },
      "text/plain": [
       "HBox(children=(Button(description='Retry', layout=Layout(width='fit-content'), style=ButtonStyle()), Label(val…"
      ]
     },
     "metadata": {},
     "output_type": "display_data"
    },
    {
     "name": "stdout",
     "output_type": "stream",
     "text": [
      "I select '4'.\n",
      "narration: \n",
      "You examine the dragon spear closely. It's beautifully crafted, with scales etched along its shaft and a sharp, gleaming point that looks lethal. As you pick it up, it feels perfectly balanced in your hands.\n",
      "\n",
      "add_item: dragon_spear"
     ]
    },
    {
     "data": {
      "application/vnd.jupyter.widget-view+json": {
       "model_id": "fb4d6460e3b54cc9aef3562c25bf6e9f",
       "version_major": 2,
       "version_minor": 0
      },
      "text/plain": [
       "VBox(children=(Button(description='Continue', layout=Layout(width='fit-content'), style=ButtonStyle()),))"
      ]
     },
     "metadata": {},
     "output_type": "display_data"
    },
    {
     "data": {
      "application/vnd.jupyter.widget-view+json": {
       "model_id": "6c7695d78aa0498e98f00c9457c7d967",
       "version_major": 2,
       "version_minor": 0
      },
      "text/plain": [
       "HBox(children=(Button(description='Retry', layout=Layout(width='fit-content'), style=ButtonStyle()), Label(val…"
      ]
     },
     "metadata": {},
     "output_type": "display_data"
    },
    {
     "name": "stdout",
     "output_type": "stream",
     "text": [
      "Continue...\n",
      "narration: \n",
      "With the dragon spear in hand, you feel a surge of confidence. The maze stretches out before you with multiple paths. You need to decide your next move carefully.\n",
      "\n",
      "choices:\n",
      "1. Continue straight ahead.\n",
      "2. Turn back and try another path.\n",
      "3. Make a left at the next intersection.\n",
      "4. Make a right at the next intersection."
     ]
    },
    {
     "data": {
      "application/vnd.jupyter.widget-view+json": {
       "model_id": "acda9da37e9f453facdda1b3e5b38142",
       "version_major": 2,
       "version_minor": 0
      },
      "text/plain": [
       "VBox(children=(Button(description='1. Continue straight ahead.', layout=Layout(width='fit-content'), style=But…"
      ]
     },
     "metadata": {},
     "output_type": "display_data"
    },
    {
     "data": {
      "application/vnd.jupyter.widget-view+json": {
       "model_id": "29e18190c3704e69be0efa0dd581ce4f",
       "version_major": 2,
       "version_minor": 0
      },
      "text/plain": [
       "HBox(children=(Button(description='Retry', layout=Layout(width='fit-content'), style=ButtonStyle()), Label(val…"
      ]
     },
     "metadata": {},
     "output_type": "display_data"
    },
    {
     "name": "stdout",
     "output_type": "stream",
     "text": [
      "I select '3'.\n",
      "narration: \n",
      "You make a left at the next intersection. The corridor twists and turns, leading you deeper into the maze. The walls are lined with ancient carvings that seem to tell a story of a great battle.\n",
      "\n",
      "choices:\n",
      "1. Continue following the path.\n",
      "2. Turn back and try another route.\n",
      "3. Examine the carvings more closely.\n",
      "4. Listen for any sounds that might indicate the exit."
     ]
    },
    {
     "data": {
      "application/vnd.jupyter.widget-view+json": {
       "model_id": "17da685ff80343098c9676cb5b501d3d",
       "version_major": 2,
       "version_minor": 0
      },
      "text/plain": [
       "VBox(children=(Button(description='1. Continue following the path.', layout=Layout(width='fit-content'), style…"
      ]
     },
     "metadata": {},
     "output_type": "display_data"
    },
    {
     "data": {
      "application/vnd.jupyter.widget-view+json": {
       "model_id": "f4183303037545e381318e3c7780d83b",
       "version_major": 2,
       "version_minor": 0
      },
      "text/plain": [
       "HBox(children=(Button(description='Retry', layout=Layout(width='fit-content'), style=ButtonStyle()), Label(val…"
      ]
     },
     "metadata": {},
     "output_type": "display_data"
    },
    {
     "name": "stdout",
     "output_type": "stream",
     "text": [
      "I select '3'.\n",
      "narration: \n",
      "You take a closer look at the carvings on the walls. They depict a fierce battle between samurai warriors and mythical creatures. As you trace the lines with your fingers, a small section of the wall shifts slightly under your touch.\n",
      "\n",
      "choices:\n",
      "1. Push on the section of the wall that moved.\n",
      "2. Ignore it and continue on the path.\n",
      "3. Call out to see if anyone else is in the maze.\n",
      "4. Retrace your steps to explore another path."
     ]
    },
    {
     "data": {
      "application/vnd.jupyter.widget-view+json": {
       "model_id": "343287dcb43244568ef69042781f8cd7",
       "version_major": 2,
       "version_minor": 0
      },
      "text/plain": [
       "VBox(children=(Button(description='1. Push on the section of the wall that moved.', layout=Layout(width='fit-c…"
      ]
     },
     "metadata": {},
     "output_type": "display_data"
    },
    {
     "data": {
      "application/vnd.jupyter.widget-view+json": {
       "model_id": "0f41f61b5a8642d1833cc2d894087272",
       "version_major": 2,
       "version_minor": 0
      },
      "text/plain": [
       "HBox(children=(Button(description='Retry', layout=Layout(width='fit-content'), style=ButtonStyle()), Label(val…"
      ]
     },
     "metadata": {},
     "output_type": "display_data"
    },
    {
     "name": "stdout",
     "output_type": "stream",
     "text": [
      "I select '1'.\n",
      "narration: \n",
      "You push on the section of the wall, and it gives way with a low rumble, revealing a hidden chamber. Inside, you find a small cache of items including a medkit and a few shotgun shells.\n",
      "\n",
      "add_item: medkit\n",
      "add_item: shotgun_shells\n",
      "\n",
      "choices:\n",
      "1. Take the items and continue exploring the maze.\n",
      "2. Leave the items and search for the exit.\n",
      "3. Set up a temporary camp in the hidden chamber.\n",
      "4. Go back and explore the previous path you were on.\n",
      "Item 'shotgun_shells' not found.\n"
     ]
    },
    {
     "data": {
      "application/vnd.jupyter.widget-view+json": {
       "model_id": "f316d3ae53994741b1c4340db788159a",
       "version_major": 2,
       "version_minor": 0
      },
      "text/plain": [
       "VBox(children=(Button(description='1. Take the items and continue exploring the maze.', layout=Layout(width='f…"
      ]
     },
     "metadata": {},
     "output_type": "display_data"
    },
    {
     "data": {
      "application/vnd.jupyter.widget-view+json": {
       "model_id": "f57c3f59a99b47738db1ae830d52c05b",
       "version_major": 2,
       "version_minor": 0
      },
      "text/plain": [
       "HBox(children=(Button(description='Retry', layout=Layout(width='fit-content'), style=ButtonStyle()), Label(val…"
      ]
     },
     "metadata": {},
     "output_type": "display_data"
    },
    {
     "name": "stdout",
     "output_type": "stream",
     "text": [
      "I select '1'.\n",
      "narration: \n",
      "You gather the medkit and shotgun shells, feeling better prepared for whatever lies ahead. Exiting the hidden chamber, you continue navigating the maze, the walls seeming to close in around you as you delve deeper.\n",
      "\n",
      "choices:\n",
      "1. Make a right at the next intersection.\n",
      "2. Keep moving straight ahead.\n",
      "3. Make a left at the next intersection.\n",
      "4. Double back to explore a different route."
     ]
    },
    {
     "data": {
      "application/vnd.jupyter.widget-view+json": {
       "model_id": "dca59efebc2f4ef7a811c80487b307ed",
       "version_major": 2,
       "version_minor": 0
      },
      "text/plain": [
       "VBox(children=(Button(description='1. Make a right at the next intersection.', layout=Layout(width='fit-conten…"
      ]
     },
     "metadata": {},
     "output_type": "display_data"
    },
    {
     "data": {
      "application/vnd.jupyter.widget-view+json": {
       "model_id": "c0d9210dea464438b7618f2c11c712f4",
       "version_major": 2,
       "version_minor": 0
      },
      "text/plain": [
       "HBox(children=(Button(description='Retry', layout=Layout(width='fit-content'), style=ButtonStyle()), Label(val…"
      ]
     },
     "metadata": {},
     "output_type": "display_data"
    },
    {
     "name": "stdout",
     "output_type": "stream",
     "text": [
      "I select '2'.\n",
      "narration: \n",
      "You decide to keep moving straight ahead. The corridor extends for a good length before opening into a larger area with three different exits.\n",
      "\n",
      "choices:\n",
      "1. Take the left exit.\n",
      "2. Take the middle exit.\n",
      "3. Take the right exit.\n",
      "4. Go back and choose a different path."
     ]
    },
    {
     "data": {
      "application/vnd.jupyter.widget-view+json": {
       "model_id": "5c10bb8482594ba6a49d6e5f3f0ba72a",
       "version_major": 2,
       "version_minor": 0
      },
      "text/plain": [
       "VBox(children=(Button(description='1. Take the left exit.', layout=Layout(width='fit-content'), style=ButtonSt…"
      ]
     },
     "metadata": {},
     "output_type": "display_data"
    },
    {
     "data": {
      "application/vnd.jupyter.widget-view+json": {
       "model_id": "f407f68819494100a2cf851294965af8",
       "version_major": 2,
       "version_minor": 0
      },
      "text/plain": [
       "HBox(children=(Button(description='Retry', layout=Layout(width='fit-content'), style=ButtonStyle()), Label(val…"
      ]
     },
     "metadata": {},
     "output_type": "display_data"
    },
    {
     "name": "stdout",
     "output_type": "stream",
     "text": [
      "I select '1'.\n",
      "narration: \n",
      "You take the left exit and find yourself in a narrower passage that spirals upward. The air grows colder as you ascend, and you sense that you might be nearing the end of the maze.\n",
      "\n",
      "choices:\n",
      "1. Continue climbing the spiral passage.\n",
      "2. Go back and try the middle exit.\n",
      "3. Go back and try the right exit.\n",
      "4. Search the area for any hidden items or traps."
     ]
    },
    {
     "data": {
      "application/vnd.jupyter.widget-view+json": {
       "model_id": "0341b036446047e8ab57effd4934b25c",
       "version_major": 2,
       "version_minor": 0
      },
      "text/plain": [
       "VBox(children=(Button(description='1. Continue climbing the spiral passage.', layout=Layout(width='fit-content…"
      ]
     },
     "metadata": {},
     "output_type": "display_data"
    },
    {
     "data": {
      "application/vnd.jupyter.widget-view+json": {
       "model_id": "abe9b92fcaee4efa97bd0654adc38531",
       "version_major": 2,
       "version_minor": 0
      },
      "text/plain": [
       "HBox(children=(Button(description='Retry', layout=Layout(width='fit-content'), style=ButtonStyle()), Label(val…"
      ]
     },
     "metadata": {},
     "output_type": "display_data"
    },
    {
     "name": "stdout",
     "output_type": "stream",
     "text": [
      "I select '1'.\n",
      "narration: \n",
      "You continue climbing the spiral passage. As you ascend, the air becomes chillier, and a faint light begins to filter through from above. You realize you're approaching the third floor of the tower.\n",
      "\n",
      "ending: You successfully navigate through the maze of the second floor and reach the entrance to the third floor, ready to face new challenges that await."
     ]
    },
    {
     "data": {
      "application/vnd.jupyter.widget-view+json": {
       "model_id": "0480657b6e6f463fa58c01dbc70b7289",
       "version_major": 2,
       "version_minor": 0
      },
      "text/plain": [
       "VBox(children=(Button(description='NEXT', layout=Layout(width='fit-content'), style=ButtonStyle()),))"
      ]
     },
     "metadata": {},
     "output_type": "display_data"
    },
    {
     "data": {
      "application/vnd.jupyter.widget-view+json": {
       "model_id": "2066ca2328954748a2d5bc869d523e5c",
       "version_major": 2,
       "version_minor": 0
      },
      "text/plain": [
       "HBox(children=(Button(description='Retry', layout=Layout(width='fit-content'), style=ButtonStyle()), Label(val…"
      ]
     },
     "metadata": {},
     "output_type": "display_data"
    },
    {
     "name": "stdout",
     "output_type": "stream",
     "text": [
      "Next round:  r3\n",
      "background: third_floor\n",
      "narration: \n",
      "As you enter the 3rd floor, two strange creatures immediately lunge at you with swords and claws. Luckily, you managed to avoid them with your reflexes, but you may not be so lucky next time. It appears that you must defeat these two opponents before accessing the fourth floor.\n",
      "\n",
      "choices:\n",
      "1. Attack the octopus monster first\n",
      "2. Attack the Lion monster first\n",
      "3. Position yourself better in the room\n",
      "4. Talk them out of fighting\n"
     ]
    },
    {
     "data": {
      "application/vnd.jupyter.widget-view+json": {
       "model_id": "cd3ddb96b3374adc98f3bc128c43e2f9",
       "version_major": 2,
       "version_minor": 0
      },
      "text/plain": [
       "VBox(children=(Button(description='1. Attack the octopus monster first', layout=Layout(width='fit-content'), s…"
      ]
     },
     "metadata": {},
     "output_type": "display_data"
    },
    {
     "data": {
      "application/vnd.jupyter.widget-view+json": {
       "model_id": "d895f200e6344715a411c66f3cd61d74",
       "version_major": 2,
       "version_minor": 0
      },
      "text/plain": [
       "HBox(children=(Button(description='Retry', layout=Layout(width='fit-content'), style=ButtonStyle()), Label(val…"
      ]
     },
     "metadata": {},
     "output_type": "display_data"
    },
    {
     "name": "stdout",
     "output_type": "stream",
     "text": [
      "I select '2'.\n",
      "narration: \n",
      "You swiftly draw your katana and charge towards the Lion monster, striking it with precision and agility. The Lion roars in pain as your blade slices through its mane, causing it to stagger backwards.\n",
      "\n",
      "battle_with: lion"
     ]
    },
    {
     "data": {
      "application/vnd.jupyter.widget-view+json": {
       "model_id": "0ae30b51cd7a4621b8b5143b2864a20b",
       "version_major": 2,
       "version_minor": 0
      },
      "text/plain": [
       "VBox(children=(Button(description='Attack', layout=Layout(width='fit-content'), style=ButtonStyle()),))"
      ]
     },
     "metadata": {},
     "output_type": "display_data"
    },
    {
     "data": {
      "application/vnd.jupyter.widget-view+json": {
       "model_id": "1bd23eb984f94b0cb07e4b10aa0f0936",
       "version_major": 2,
       "version_minor": 0
      },
      "text/plain": [
       "HBox(children=(Button(description='Retry', layout=Layout(width='fit-content'), style=ButtonStyle()), Label(val…"
      ]
     },
     "metadata": {},
     "output_type": "display_data"
    },
    {
     "name": "stdout",
     "output_type": "stream",
     "text": [
      "I hit Simba, and Simba lost some hp...\n",
      "and I got hit by Simba, lost some hp...\n",
      "narration: \n",
      "As you recover from your strike, Simba the Lion, furious and wounded, lunges at you with a powerful swipe of its claws, catching you off-guard. You feel the sharp pain as the claws dig into your armor.\n",
      "\n",
      "sanity_check: sanity\n",
      "difficulty: normal\n",
      "\n",
      "add_tag: injured"
     ]
    },
    {
     "data": {
      "application/vnd.jupyter.widget-view+json": {
       "model_id": "b221ce30ba6a4a879899054f49342e98",
       "version_major": 2,
       "version_minor": 0
      },
      "text/plain": [
       "VBox(children=(Button(description='sanity - normal', layout=Layout(width='fit-content'), style=ButtonStyle()),…"
      ]
     },
     "metadata": {},
     "output_type": "display_data"
    },
    {
     "data": {
      "application/vnd.jupyter.widget-view+json": {
       "model_id": "0643dc4530e94f27b837de2a417e9a00",
       "version_major": 2,
       "version_minor": 0
      },
      "text/plain": [
       "HBox(children=(Button(description='Retry', layout=Layout(width='fit-content'), style=ButtonStyle()), Label(val…"
      ]
     },
     "metadata": {},
     "output_type": "display_data"
    },
    {
     "name": "stdout",
     "output_type": "stream",
     "text": [
      "Sanity check SUCCESS! Roll: 16 <= Threshold: 17. No sanity loss.\n",
      "narration: \n",
      "Despite the pain and the ferocity of the attack, you maintain your composure and readiness. Your training as a samurai warrior holds your sanity intact, allowing you to focus on the fight ahead without losing your grip on reality.\n",
      "\n",
      "choices:\n",
      "1. Strike back at the Lion with a powerful overhead slash.\n",
      "2. Use a defensive stance and prepare for its next attack.\n",
      "3. Attempt a quick sidestep and counterattack.\n",
      "4. Call upon your samurai spirit to intimidate the Lion."
     ]
    },
    {
     "data": {
      "application/vnd.jupyter.widget-view+json": {
       "model_id": "8696e6b394de413abcc61fd5e83bf837",
       "version_major": 2,
       "version_minor": 0
      },
      "text/plain": [
       "VBox(children=(Button(description='1. Strike back at the Lion with a powerful overhead slash.', layout=Layout(…"
      ]
     },
     "metadata": {},
     "output_type": "display_data"
    },
    {
     "data": {
      "application/vnd.jupyter.widget-view+json": {
       "model_id": "1eb63f03240245b9979743a2dba3c8f0",
       "version_major": 2,
       "version_minor": 0
      },
      "text/plain": [
       "HBox(children=(Button(description='Retry', layout=Layout(width='fit-content'), style=ButtonStyle()), Label(val…"
      ]
     },
     "metadata": {},
     "output_type": "display_data"
    },
    {
     "name": "stdout",
     "output_type": "stream",
     "text": [
      "Sanity check SUCCESS! Roll: 16 <= Threshold: 17. No sanity loss.\n",
      "narration: \n",
      "Despite the pain and the ferocity of the attack, you maintain your composure and readiness. Your training as a samurai warrior holds your sanity intact, allowing you to focus on the fight ahead without losing your grip on reality.\n",
      "\n",
      "choices:\n",
      "1. Strike back at the Lion with a powerful overhead slash.\n",
      "2. Use a defensive stance and prepare for its next attack.\n",
      "3. Attempt a quick sidestep and counterattack.\n",
      "4. Call upon your samurai spirit to intimidate the Lion."
     ]
    },
    {
     "data": {
      "application/vnd.jupyter.widget-view+json": {
       "model_id": "1af053aaa5d840209cf018cb9c268d3b",
       "version_major": 2,
       "version_minor": 0
      },
      "text/plain": [
       "VBox(children=(Button(description='1. Strike back at the Lion with a powerful overhead slash.', layout=Layout(…"
      ]
     },
     "metadata": {},
     "output_type": "display_data"
    },
    {
     "data": {
      "application/vnd.jupyter.widget-view+json": {
       "model_id": "98722b974f654ce19b3f5f44a2b2dd10",
       "version_major": 2,
       "version_minor": 0
      },
      "text/plain": [
       "HBox(children=(Button(description='Retry', layout=Layout(width='fit-content'), style=ButtonStyle()), Label(val…"
      ]
     },
     "metadata": {},
     "output_type": "display_data"
    },
    {
     "name": "stdout",
     "output_type": "stream",
     "text": [
      "I select '2'.\n",
      "narration: \n",
      "You adopt a defensive stance, your katana held steady and your eyes locked on the Lion. As it charges towards you again, you're ready to deflect its attacks and look for an opening to strike back.\n",
      "\n",
      "battle_with: lion"
     ]
    },
    {
     "data": {
      "application/vnd.jupyter.widget-view+json": {
       "model_id": "e48d3452039042eba946f16b79f036fb",
       "version_major": 2,
       "version_minor": 0
      },
      "text/plain": [
       "VBox(children=(Button(description='Attack', layout=Layout(width='fit-content'), style=ButtonStyle()),))"
      ]
     },
     "metadata": {},
     "output_type": "display_data"
    },
    {
     "data": {
      "application/vnd.jupyter.widget-view+json": {
       "model_id": "fa145c17c7494b698cdc426cafb02c8e",
       "version_major": 2,
       "version_minor": 0
      },
      "text/plain": [
       "HBox(children=(Button(description='Retry', layout=Layout(width='fit-content'), style=ButtonStyle()), Label(val…"
      ]
     },
     "metadata": {},
     "output_type": "display_data"
    },
    {
     "name": "stdout",
     "output_type": "stream",
     "text": [
      "I select '1'.\n",
      "narration: \n",
      "With a fierce battle cry, you raise your katana and deliver a powerful overhead slash aimed directly at the Lion. The blade cuts through the air with deadly precision, striking the beast and causing it to howl in agony.\n",
      "\n",
      "battle_with: lion"
     ]
    },
    {
     "data": {
      "application/vnd.jupyter.widget-view+json": {
       "model_id": "842c72dd2df546379a7a96a97095a8f6",
       "version_major": 2,
       "version_minor": 0
      },
      "text/plain": [
       "VBox(children=(Button(description='Attack', layout=Layout(width='fit-content'), style=ButtonStyle()),))"
      ]
     },
     "metadata": {},
     "output_type": "display_data"
    },
    {
     "data": {
      "application/vnd.jupyter.widget-view+json": {
       "model_id": "69da6ca980134b6ea7f2782ca032f740",
       "version_major": 2,
       "version_minor": 0
      },
      "text/plain": [
       "HBox(children=(Button(description='Retry', layout=Layout(width='fit-content'), style=ButtonStyle()), Label(val…"
      ]
     },
     "metadata": {},
     "output_type": "display_data"
    },
    {
     "name": "stdout",
     "output_type": "stream",
     "text": [
      "I hit Simba, and Simba lost some hp...\n",
      "and I got hit by Simba, lost some hp...\n",
      "narration: \n",
      "As you recover from your powerful strike, Simba the Lion, despite being severely wounded, retaliates with a desperate claw attack. You attempt to dodge, but the claws graze your side, causing more pain and injury.\n",
      "\n",
      "sanity_check: sanity\n",
      "difficulty: normal\n",
      "\n",
      "add_tag: injured"
     ]
    },
    {
     "data": {
      "application/vnd.jupyter.widget-view+json": {
       "model_id": "9405bce44c7b4ad1adf022fafad74b42",
       "version_major": 2,
       "version_minor": 0
      },
      "text/plain": [
       "VBox(children=(Button(description='sanity - normal', layout=Layout(width='fit-content'), style=ButtonStyle()),…"
      ]
     },
     "metadata": {},
     "output_type": "display_data"
    },
    {
     "data": {
      "application/vnd.jupyter.widget-view+json": {
       "model_id": "1d2433cd287a4dc4ab330631a3986465",
       "version_major": 2,
       "version_minor": 0
      },
      "text/plain": [
       "HBox(children=(Button(description='Retry', layout=Layout(width='fit-content'), style=ButtonStyle()), Label(val…"
      ]
     },
     "metadata": {},
     "output_type": "display_data"
    },
    {
     "name": "stdout",
     "output_type": "stream",
     "text": [
      "I hit Simba, and Simba lost some hp...\n",
      "and I got hit by Simba, lost some hp...\n",
      "narration: \n",
      "As you recover from your powerful strike, Simba the Lion, despite being severely wounded, retaliates with a desperate claw attack. You attempt to dodge, but the claws graze your side, causing more pain and injury.\n",
      "\n",
      "sanity_check: sanity\n",
      "difficulty: normal\n",
      "\n",
      "add_tag: injured"
     ]
    },
    {
     "data": {
      "application/vnd.jupyter.widget-view+json": {
       "model_id": "6d92fc0913ba406d85f95f6b6b2e2d89",
       "version_major": 2,
       "version_minor": 0
      },
      "text/plain": [
       "VBox(children=(Button(description='sanity - normal', layout=Layout(width='fit-content'), style=ButtonStyle()),…"
      ]
     },
     "metadata": {},
     "output_type": "display_data"
    },
    {
     "data": {
      "application/vnd.jupyter.widget-view+json": {
       "model_id": "f8935270a3f948ebb810588466eb99f1",
       "version_major": 2,
       "version_minor": 0
      },
      "text/plain": [
       "HBox(children=(Button(description='Retry', layout=Layout(width='fit-content'), style=ButtonStyle()), Label(val…"
      ]
     },
     "metadata": {},
     "output_type": "display_data"
    },
    {
     "name": "stdout",
     "output_type": "stream",
     "text": [
      "Sanity check FAILURE! Roll: 62 > Threshold: 17. Sanity loss: 12. New sanity: 5. Madness: Katsaridaphobia, Hallucination\n",
      "narration: \n",
      "The pain and stress from the battle begin to take their toll on your mind. As you glance around, the shadows on the walls seem to move and morph into giant cockroaches, crawling towards you. Your heart races as you struggle to distinguish reality from hallucination, gripped by a sudden fear of these creeping insects.\n",
      "\n",
      "choices:\n",
      "1. Focus and try to calm your mind, ignoring the hallucinations.\n",
      "2. Frantically attack the perceived threat of cockroaches.\n",
      "3. Shout for help, hoping someone might hear you.\n",
      "4. Continue fighting the Lion, trying to ignore your fear."
     ]
    },
    {
     "data": {
      "application/vnd.jupyter.widget-view+json": {
       "model_id": "65a09179570841d89ef3236b589a797b",
       "version_major": 2,
       "version_minor": 0
      },
      "text/plain": [
       "VBox(children=(Button(description='1. Focus and try to calm your mind, ignoring the hallucinations.', layout=L…"
      ]
     },
     "metadata": {},
     "output_type": "display_data"
    },
    {
     "data": {
      "application/vnd.jupyter.widget-view+json": {
       "model_id": "0885893195494f91b42ecaf6d3b56214",
       "version_major": 2,
       "version_minor": 0
      },
      "text/plain": [
       "HBox(children=(Button(description='Retry', layout=Layout(width='fit-content'), style=ButtonStyle()), Label(val…"
      ]
     },
     "metadata": {},
     "output_type": "display_data"
    },
    {
     "name": "stdout",
     "output_type": "stream",
     "text": [
      "whisper: Katsaridaphobia, Hallucination.\n",
      "narration: \n",
      "Caught in the grip of your hallucinations and overwhelming fear of cockroaches, your mind races as you perceive threats all around you. The battle with the Lion becomes even more challenging as you struggle to maintain focus.\n",
      "\n",
      "choices:\n",
      "1. Focus and try to calm your mind, ignoring the hallucinations.\n",
      "2. Frantically attack the perceived threat of cockroaches.\n",
      "3. Shout for help, hoping someone might hear you.\n",
      "4. Continue fighting the Lion, trying to ignore your fear."
     ]
    },
    {
     "data": {
      "application/vnd.jupyter.widget-view+json": {
       "model_id": "bae304f9b59645548ea37ffe4285ce98",
       "version_major": 2,
       "version_minor": 0
      },
      "text/plain": [
       "VBox(children=(Button(description='1. Focus and try to calm your mind, ignoring the hallucinations.', layout=L…"
      ]
     },
     "metadata": {},
     "output_type": "display_data"
    },
    {
     "data": {
      "application/vnd.jupyter.widget-view+json": {
       "model_id": "6824d2c970ea4e2e8e9c715b899cfa4a",
       "version_major": 2,
       "version_minor": 0
      },
      "text/plain": [
       "HBox(children=(Button(description='Retry', layout=Layout(width='fit-content'), style=ButtonStyle()), Label(val…"
      ]
     },
     "metadata": {},
     "output_type": "display_data"
    },
    {
     "name": "stdout",
     "output_type": "stream",
     "text": [
      "Sanity check FAILURE! Roll: 62 > Threshold: 17. Sanity loss: 12. New sanity: 5. Madness: Katsaridaphobia, Hallucination\n",
      "narration: \n",
      "The pain and stress from the battle begin to take their toll on your mind. As you glance around, the shadows on the walls seem to move and morph into giant cockroaches, crawling towards you. Your heart races as you struggle to distinguish reality from hallucination, gripped by a sudden fear of these creeping insects.\n",
      "\n",
      "choices:\n",
      "1. Focus and try to calm your mind, ignoring the hallucinations.\n",
      "2. Frantically attack the perceived threat of cockroaches.\n",
      "3. Shout for help, hoping someone might hear you.\n",
      "4. Continue fighting the Lion, trying to ignore your fear."
     ]
    },
    {
     "data": {
      "application/vnd.jupyter.widget-view+json": {
       "model_id": "96dd8bfbda9e4b3d97010d668470a70a",
       "version_major": 2,
       "version_minor": 0
      },
      "text/plain": [
       "VBox(children=(Button(description='1. Focus and try to calm your mind, ignoring the hallucinations.', layout=L…"
      ]
     },
     "metadata": {},
     "output_type": "display_data"
    },
    {
     "data": {
      "application/vnd.jupyter.widget-view+json": {
       "model_id": "bbc79679e1564df1a1d1a8388bd1ffcf",
       "version_major": 2,
       "version_minor": 0
      },
      "text/plain": [
       "HBox(children=(Button(description='Retry', layout=Layout(width='fit-content'), style=ButtonStyle()), Label(val…"
      ]
     },
     "metadata": {},
     "output_type": "display_data"
    },
    {
     "name": "stdout",
     "output_type": "stream",
     "text": [
      "I select '2'.\n",
      "narration: \n",
      "In a frenzied state, you swing your katana wildly at the imaginary cockroaches that seem to swarm around you. The air whistles as your blade cuts through nothing but hallucinations, leaving you vulnerable to the real threat.\n",
      "\n",
      "battle_with: lion"
     ]
    },
    {
     "data": {
      "application/vnd.jupyter.widget-view+json": {
       "model_id": "4a91f0b8ea3645499fd770c972c6b079",
       "version_major": 2,
       "version_minor": 0
      },
      "text/plain": [
       "VBox(children=(Button(description='Attack', layout=Layout(width='fit-content'), style=ButtonStyle()),))"
      ]
     },
     "metadata": {},
     "output_type": "display_data"
    },
    {
     "data": {
      "application/vnd.jupyter.widget-view+json": {
       "model_id": "eed8ba39cfaf41889c334252b47ae641",
       "version_major": 2,
       "version_minor": 0
      },
      "text/plain": [
       "HBox(children=(Button(description='Retry', layout=Layout(width='fit-content'), style=ButtonStyle()), Label(val…"
      ]
     },
     "metadata": {},
     "output_type": "display_data"
    },
    {
     "name": "stdout",
     "output_type": "stream",
     "text": [
      "I hit Simba, and Simba lost some hp...\n",
      "and I got hit by Simba, lost some hp...\n",
      "narration: \n",
      "Your wild swings inadvertently strike Simba the Lion, causing it further injury. However, in your distracted state, Simba takes advantage of your confusion and lands a heavy blow, causing you significant pain and further injury.\n",
      "\n",
      "sanity_check: sanity\n",
      "difficulty: normal\n",
      "\n",
      "add_tag: injured"
     ]
    },
    {
     "data": {
      "application/vnd.jupyter.widget-view+json": {
       "model_id": "e4bf7db9261c48de81176e05d5b3e8db",
       "version_major": 2,
       "version_minor": 0
      },
      "text/plain": [
       "VBox(children=(Button(description='sanity - normal', layout=Layout(width='fit-content'), style=ButtonStyle()),…"
      ]
     },
     "metadata": {},
     "output_type": "display_data"
    },
    {
     "data": {
      "application/vnd.jupyter.widget-view+json": {
       "model_id": "6f3700cdeea74a19ada2dca7d010c89d",
       "version_major": 2,
       "version_minor": 0
      },
      "text/plain": [
       "HBox(children=(Button(description='Retry', layout=Layout(width='fit-content'), style=ButtonStyle()), Label(val…"
      ]
     },
     "metadata": {},
     "output_type": "display_data"
    },
    {
     "name": "stdout",
     "output_type": "stream",
     "text": [
      "Sanity check FAILURE! Roll: 41 > Threshold: 5. Sanity loss: 11. New sanity: -6. Madness: Katsaridaphobia, Hallucination\n",
      "narration: \n",
      "Your grip on reality slips further as the shadows morph and twist into ever more terrifying forms. The pain from your wounds and the overwhelming fear render you incapable of coherent thought or action. Your mind breaks under the strain, lost to the madness.\n",
      "\n",
      "game_over: Your descent into madness is complete, and you are no longer able to continue the battle or ascend the tower.\n",
      "Game Over - Hit 'Run All' button to restart again.\n"
     ]
    },
    {
     "data": {
      "application/vnd.jupyter.widget-view+json": {
       "model_id": "1fea4dc9eb2643fc8e589b5340b8b9e7",
       "version_major": 2,
       "version_minor": 0
      },
      "text/plain": [
       "VBox()"
      ]
     },
     "metadata": {},
     "output_type": "display_data"
    },
    {
     "data": {
      "application/vnd.jupyter.widget-view+json": {
       "model_id": "71597adc33a14d9a8643255f5c3794df",
       "version_major": 2,
       "version_minor": 0
      },
      "text/plain": [
       "HBox(children=(Button(description='Retry', layout=Layout(width='fit-content'), style=ButtonStyle()), Label(val…"
      ]
     },
     "metadata": {},
     "output_type": "display_data"
    },
    {
     "name": "stdout",
     "output_type": "stream",
     "text": [
      "whisper: Katsaridaphobia, Hallucination.\n",
      "whisper: MAX_TURNS is reached.\n",
      "narration: \n",
      "As the hallucinations consume your mind and the battle rages on, you lose track of time and purpose. The tower's challenges have proven too much, and your journey ends here in the clutches of madness and defeat.\n",
      "\n",
      "game_over: The tower remains unconquered as your mind succumbs to the darkness.\n",
      "Game Over - Hit 'Run All' button to restart again.\n"
     ]
    },
    {
     "data": {
      "application/vnd.jupyter.widget-view+json": {
       "model_id": "8e82c80238324fafaf225fd2f02edf5c",
       "version_major": 2,
       "version_minor": 0
      },
      "text/plain": [
       "VBox()"
      ]
     },
     "metadata": {},
     "output_type": "display_data"
    },
    {
     "data": {
      "application/vnd.jupyter.widget-view+json": {
       "model_id": "485f03024d47498388fb33d6667dc42f",
       "version_major": 2,
       "version_minor": 0
      },
      "text/plain": [
       "HBox(children=(Button(description='Retry', layout=Layout(width='fit-content'), style=ButtonStyle()), Label(val…"
      ]
     },
     "metadata": {},
     "output_type": "display_data"
    },
    {
     "name": "stdout",
     "output_type": "stream",
     "text": [
      "Sanity check FAILURE! Roll: 41 > Threshold: 5. Sanity loss: 11. New sanity: -6. Madness: Katsaridaphobia, Hallucination\n",
      "whisper: MAX_TURNS is reached.\n",
      "narration: \n",
      "Your grip on reality slips further as the shadows morph and twist into ever more terrifying forms. The pain from your wounds and the overwhelming fear render you incapable of coherent thought or action. Your mind breaks under the strain, lost to the madness.\n",
      "\n",
      "game_over: Your descent into madness"
     ]
    }
   ],
   "source": [
    "initials = current_chapter.get_messages()\n",
    "print(initials[1].content)\n",
    "show_controls(initials[1])"
   ]
  }
 ],
 "metadata": {
  "kernelspec": {
   "display_name": ".venv",
   "language": "python",
   "name": "python3"
  },
  "language_info": {
   "codemirror_mode": {
    "name": "ipython",
    "version": 3
   },
   "file_extension": ".py",
   "mimetype": "text/x-python",
   "name": "python",
   "nbconvert_exporter": "python",
   "pygments_lexer": "ipython3",
   "version": "3.12.3"
  }
 },
 "nbformat": 4,
 "nbformat_minor": 2
}
